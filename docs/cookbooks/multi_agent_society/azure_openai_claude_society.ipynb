{
  "nbformat": 4,
  "nbformat_minor": 0,
  "metadata": {
    "colab": {
      "provenance": []
    },
    "kernelspec": {
      "name": "python3",
      "display_name": "Python 3"
    },
    "language_info": {
      "name": "python"
    }
  },
  "cells": [
    {
      "cell_type": "markdown",
      "source": [
        "# 🍳 CAMEL Cookbook: Building a Collaborative AI Research Society\n",
        "## Claude 4 + Azure OpenAI Collaboration for ARENA AI Alignment Research"
      ],
      "metadata": {
        "id": "oHO_dChM-Ykl"
      }
    },
    {
      "cell_type": "markdown",
      "source": [
        "<div class=\"align-center\">\n",
        "  <a href=\"https://www.camel-ai.org/\"><img src=\"https://i.postimg.cc/KzQ5rfBC/button.png\"width=\"150\"></a>\n",
        "  <a href=\"https://discord.camel-ai.org\"><img src=\"https://i.postimg.cc/L4wPdG9N/join-2.png\"  width=\"150\"></a></a>\n",
        "  \n",
        "⭐ <i>Star us on [*Github*](https://github.com/camel-ai/camel), join our [*Discord*](https://discord.camel-ai.org) or follow our [*X*](https://x.com/camelaiorg)\n",
        "</div>"
      ],
      "metadata": {
        "id": "jHGN9nIv-bIf"
      }
    },
    {
      "cell_type": "markdown",
      "source": [
        "## 📋 Overview\n",
        "\n",
        "This cookbook demonstrates how to create a collaborative multi-agent society using CAMEL-AI, bringing together Claude 4 and Azure OpenAI models to research AI alignment topics from the ARENA curriculum.\n",
        "\n",
        "Our society consists of 4 specialized AI researchers with distinct personas and expertise areas."
      ],
      "metadata": {
        "id": "QSGuiwh--6ce"
      }
    },
    {
      "cell_type": "markdown",
      "source": [
        "## So, Let's catapault our way right in 🧚"
      ],
      "metadata": {
        "id": "fy_Q2Vp3_RgL"
      }
    },
    {
      "cell_type": "markdown",
      "source": [
        "## 🛠️ Dependencies and Setup\n",
        "First, let's install the required dependencies and handle the notebook environment:"
      ],
      "metadata": {
        "id": "XxC8Xe40_f6x"
      }
    },
    {
      "cell_type": "code",
      "source": [
        "import textwrap\n",
        "import os\n",
        "import asyncio\n",
        "from getpass import getpass\n",
        "from typing import Dict, Any\n",
        "\n",
        "from camel.agents import ChatAgent\n",
        "from camel.messages import BaseMessage\n",
        "from camel.models import ModelFactory\n",
        "from camel.models.azure_openai_model import AzureOpenAIModel\n",
        "from camel.tasks import Task\n",
        "from camel.toolkits import FunctionTool, SearchToolkit\n",
        "from camel.types import ModelPlatformType, ModelType\n",
        "from camel.societies.workforce import Workforce\n",
        "\n",
        "# Handle notebook environment if needed\n",
        "try:\n",
        "    import nest_asyncio\n",
        "    nest_asyncio.apply()\n",
        "except ImportError:\n",
        "    pass"
      ],
      "metadata": {
        "id": "oZlcerEn_jtz"
      },
      "execution_count": null,
      "outputs": []
    },
    {
      "cell_type": "markdown",
      "source": [
        "### What this does:\n",
        "\n",
        "- Imports all necessary CAMEL-AI components\n",
        "- Handles async operations for notebook environments\n",
        "- Sets up typing hints for better code clarity\n"
      ],
      "metadata": {
        "id": "EXBs1Cy-_nRM"
      }
    },
    {
      "cell_type": "markdown",
      "source": [
        "## 🏗️ Core Society Class Structure\n",
        "Let's define our main research society class:"
      ],
      "metadata": {
        "id": "bNK_5jFi_rUe"
      }
    },
    {
      "cell_type": "code",
      "source": [
        "class ARENAResearchSociety:\n",
        "    \"\"\"\n",
        "    A collaborative CAMEL society between Claude 4 and Azure OpenAI\n",
        "    for researching the ARENA AI alignment curriculum.\n",
        "    \"\"\"\n",
        "\n",
        "    def __init__(self):\n",
        "        self.workforce = None\n",
        "        self.setup_api_keys()"
      ],
      "metadata": {
        "id": "A_SEy-2i_t1j"
      },
      "execution_count": null,
      "outputs": []
    },
    {
      "cell_type": "markdown",
      "source": [
        "### What this does:\n",
        "\n",
        "- Creates the main class that will orchestrate our AI research society\n",
        "- Initializes with API key setup to ensure proper authentication\n",
        "- Prepares the workforce variable for later agent assignment"
      ],
      "metadata": {
        "id": "mfO3_w-n_wp7"
      }
    },
    {
      "cell_type": "markdown",
      "source": [
        "## 🔑 API Configuration Management\n",
        "Configure all necessary API keys and endpoints:"
      ],
      "metadata": {
        "id": "9XnEUVeq_z2N"
      }
    },
    {
      "cell_type": "code",
      "source": [
        "def setup_api_keys(self):\n",
        "    \"\"\"Setup API keys for Azure OpenAI and Claude\"\"\"\n",
        "    print(\"🔧 Setting up API keys...\")\n",
        "\n",
        "    # Azure OpenAI configuration\n",
        "    if not os.getenv(\"AZURE_OPENAI_API_KEY\"):\n",
        "        azure_api_key = getpass(\"Please input your Azure OpenAI API key: \")\n",
        "        os.environ[\"AZURE_OPENAI_API_KEY\"] = azure_api_key\n",
        "\n",
        "    if not os.getenv(\"AZURE_OPENAI_ENDPOINT\"):\n",
        "        azure_endpoint = getpass(\"Please input your Azure OpenAI endpoint: \")\n",
        "        os.environ[\"AZURE_OPENAI_ENDPOINT\"] = azure_endpoint\n",
        "\n",
        "    if not os.getenv(\"AZURE_DEPLOYMENT_NAME\"):\n",
        "        deployment_name = getpass(\"Please input your Azure deployment name (e.g., div-o4-mini): \")\n",
        "        os.environ[\"AZURE_DEPLOYMENT_NAME\"] = deployment_name\n",
        "\n",
        "    # Set OPENAI_API_KEY for compatibility (use Azure key)\n",
        "    os.environ[\"OPENAI_API_KEY\"] = os.getenv(\"AZURE_OPENAI_API_KEY\")\n",
        "\n",
        "    # Claude API configuration\n",
        "    if not os.getenv(\"ANTHROPIC_API_KEY\"):\n",
        "        claude_api_key = getpass(\"Please input your Claude API key: \")\n",
        "        os.environ[\"ANTHROPIC_API_KEY\"] = claude_api_key\n",
        "\n",
        "    # Optional: Google Search for research capabilities\n",
        "    if not os.getenv(\"GOOGLE_API_KEY\"):\n",
        "        try:\n",
        "            google_api_key = getpass(\"Please input your Google API key (optional, press Enter to skip): \")\n",
        "            if google_api_key:\n",
        "                os.environ[\"GOOGLE_API_KEY\"] = google_api_key\n",
        "                search_engine_id = getpass(\"Please input your Search Engine ID: \")\n",
        "                if search_engine_id:  # Only set if provided\n",
        "                    os.environ[\"SEARCH_ENGINE_ID\"] = search_engine_id\n",
        "                else:\n",
        "                    print(\"⚠️ Search Engine ID not provided. Search functionality will be disabled.\")\n",
        "        except KeyboardInterrupt:\n",
        "            print(\"Skipping Google Search setup...\")\n",
        "\n",
        "    print(\"✅ API keys configured!\")"
      ],
      "metadata": {
        "id": "LRIpFZkg_2Dh"
      },
      "execution_count": null,
      "outputs": []
    },
    {
      "cell_type": "markdown",
      "source": [
        "### What this does:\n",
        "\n",
        "- Securely collects API credentials using getpass (hidden input)\n",
        "- Supports Azure OpenAI, Claude (Anthropic), and optional Google Search\n",
        "- Sets environment variables for seamless integration\n",
        "- Provides graceful fallbacks for optional components"
      ],
      "metadata": {
        "id": "vWpYeU01_5PY"
      }
    },
    {
      "cell_type": "markdown",
      "source": [
        "## 🤖 Azure OpenAI Agent Creation\n",
        "Create specialized Azure OpenAI agents with custom personas:"
      ],
      "metadata": {
        "id": "N4oDHnlN_-OL"
      }
    },
    {
      "cell_type": "code",
      "source": [
        "def create_azure_agent(self, role_name: str, persona: str, specialization: str) -> ChatAgent:\n",
        "    \"\"\"Create an Azure OpenAI agent with specific role and persona\"\"\"\n",
        "\n",
        "    msg_content = textwrap.dedent(f\"\"\"\n",
        "    You are {role_name}, a researcher specializing in AI alignment and safety.\n",
        "\n",
        "    Your persona: {persona}\n",
        "\n",
        "    Your specialization: {specialization}\n",
        "\n",
        "    You are part of a collaborative research team studying the ARENA AI alignment curriculum.\n",
        "    ARENA focuses on practical AI safety skills including:\n",
        "    - Mechanistic interpretability\n",
        "    - Reinforcement learning from human feedback (RLHF)\n",
        "    - AI governance and policy\n",
        "    - Robustness and adversarial examples\n",
        "\n",
        "    When collaborating:\n",
        "    1. Provide detailed, technical analysis\n",
        "    2. Reference specific ARENA modules when relevant\n",
        "    3. Build upon other agents' findings\n",
        "    4. Maintain academic rigor while being accessible\n",
        "    5. Always cite sources and provide evidence for claims\n",
        "    \"\"\").strip()\n",
        "\n",
        "    sys_msg = BaseMessage.make_assistant_message(\n",
        "        role_name=role_name,\n",
        "        content=msg_content,\n",
        "    )\n",
        "\n",
        "    # Configure Azure OpenAI model with correct API version for o4-mini\n",
        "    model = AzureOpenAIModel(\n",
        "        model_type=ModelType.GPT_4O_MINI,\n",
        "        api_key=os.getenv(\"AZURE_OPENAI_API_KEY\"),\n",
        "        url=os.getenv(\"AZURE_OPENAI_ENDPOINT\"),\n",
        "        api_version=\"2025-01-01-preview\",  # Updated to support o4-mini\n",
        "        azure_deployment_name=os.getenv(\"AZURE_DEPLOYMENT_NAME\") or \"div-o4-mini\"\n",
        "    )\n",
        "\n",
        "    return ChatAgent(\n",
        "        system_message=sys_msg,\n",
        "        model=model,\n",
        "    )"
      ],
      "metadata": {
        "id": "jZrn1AutACkN"
      },
      "execution_count": null,
      "outputs": []
    },
    {
      "cell_type": "markdown",
      "source": [
        "### What this does:\n",
        "\n",
        "- Creates customizable Azure OpenAI agents with specific roles and expertise\n",
        "- Embeds ARENA curriculum knowledge into each agent's system prompt\n",
        "- Uses the latest API version compatible with o4-mini model\n",
        "- Returns a fully configured ChatAgent ready for collaboration"
      ],
      "metadata": {
        "id": "H6WJouBHAFp3"
      }
    },
    {
      "cell_type": "markdown",
      "source": [
        "## 🧠 Claude Agent Creation\n",
        "Create Claude agents with complementary capabilities:"
      ],
      "metadata": {
        "id": "ZrGBBCAZAIsx"
      }
    },
    {
      "cell_type": "code",
      "source": [
        "def create_claude_agent(self, role_name: str, persona: str, specialization: str, tools=None) -> ChatAgent:\n",
        "    \"\"\"Create a Claude agent with specific role and persona\"\"\"\n",
        "\n",
        "    msg_content = textwrap.dedent(f\"\"\"\n",
        "    You are {role_name}, a researcher specializing in AI alignment and safety.\n",
        "\n",
        "    Your persona: {persona}\n",
        "\n",
        "    Your specialization: {specialization}\n",
        "\n",
        "    You are part of a collaborative research team studying the ARENA AI alignment curriculum.\n",
        "    ARENA focuses on practical AI safety skills including:\n",
        "    - Mechanistic interpretability\n",
        "    - Reinforcement learning from human feedback (RLHF)\n",
        "    - AI governance and policy\n",
        "    - Robustness and adversarial examples\n",
        "\n",
        "    When collaborating:\n",
        "    1. Provide thorough, nuanced analysis\n",
        "    2. Consider ethical implications and long-term consequences\n",
        "    3. Synthesize information from multiple perspectives\n",
        "    4. Ask probing questions to deepen understanding\n",
        "    5. Connect concepts across different AI safety domains\n",
        "    \"\"\").strip()  # Remove trailing whitespace\n",
        "\n",
        "    sys_msg = BaseMessage.make_assistant_message(\n",
        "        role_name=role_name,\n",
        "        content=msg_content,\n",
        "    )\n",
        "\n",
        "    # Configure Claude model\n",
        "    model = ModelFactory.create(\n",
        "        model_platform=ModelPlatformType.ANTHROPIC,\n",
        "        model_type=ModelType.CLAUDE_3_5_SONNET,\n",
        "    )\n",
        "\n",
        "    agent = ChatAgent(\n",
        "        system_message=sys_msg,\n",
        "        model=model,\n",
        "        tools=tools or [],\n",
        "    )\n",
        "\n",
        "    return agent"
      ],
      "metadata": {
        "id": "PKA9hwsmALdj"
      },
      "execution_count": null,
      "outputs": []
    },
    {
      "cell_type": "markdown",
      "source": [
        "### What this does:\n",
        "\n",
        "- Creates Claude agents with nuanced, philosophical thinking capabilities\n",
        "- Emphasizes ethical considerations and long-term thinking\n",
        "- Supports optional tool integration (like search capabilities)\n",
        "- Uses Claude 3.5 Sonnet for advanced reasoning\n"
      ],
      "metadata": {
        "id": "fN9_ic0lANV3"
      }
    },
    {
      "cell_type": "markdown",
      "source": [
        "## 👥 Workforce Assembly\n",
        "Bring together all agents into a collaborative workforce:\n",
        "\n"
      ],
      "metadata": {
        "id": "JvxlJ7RjARi5"
      }
    },
    {
      "cell_type": "code",
      "source": [
        "def create_research_workforce(self):\n",
        "    \"\"\"Create the collaborative research workforce\"\"\"\n",
        "    print(\"🏗️ Creating ARENA Research Society...\")\n",
        "\n",
        "    # Setup search tools for the lead researcher (only if properly configured)\n",
        "    search_tools = []\n",
        "    if os.getenv(\"GOOGLE_API_KEY\") and os.getenv(\"SEARCH_ENGINE_ID\"):\n",
        "        try:\n",
        "            search_toolkit = SearchToolkit()\n",
        "            search_tools = [\n",
        "                FunctionTool(search_toolkit.search_google),\n",
        "            ]\n",
        "            print(\"🔍 Search tools enabled for lead researcher\")\n",
        "        except Exception as e:\n",
        "            print(f\"⚠️ Search tools disabled due to configuration issue: {e}\")\n",
        "            search_tools = []\n",
        "    else:\n",
        "        print(\"🔍 Search tools disabled - missing API keys\")\n",
        "\n",
        "    # Create Claude agents\n",
        "    claude_lead = self.create_claude_agent(\n",
        "        role_name=\"Dr. Claude Alignment\",\n",
        "        persona=\"A thoughtful, methodical researcher who excels at synthesizing complex information and identifying key insights. Known for asking the right questions and seeing the bigger picture. Works with existing knowledge when search tools are unavailable.\",\n",
        "        specialization=\"AI safety frameworks, mechanistic interpretability, and curriculum analysis\",\n",
        "        tools=search_tools\n",
        "    )\n",
        "\n",
        "    claude_ethicist = self.create_claude_agent(\n",
        "        role_name=\"Prof. Claude Ethics\",\n",
        "        persona=\"A philosophical thinker who deeply considers the ethical implications and long-term consequences of AI development. Bridges technical concepts with societal impact.\",\n",
        "        specialization=\"AI governance, policy implications, and ethical frameworks in AI alignment\"\n",
        "    )\n",
        "\n",
        "    # Create Azure OpenAI agents\n",
        "    azure_technical = self.create_azure_agent(\n",
        "        role_name=\"Dr. Azure Technical\",\n",
        "        persona=\"A detail-oriented technical expert who dives deep into implementation specifics and mathematical foundations. Excellent at breaking down complex algorithms.\",\n",
        "        specialization=\"RLHF implementation, robustness techniques, and technical deep-dives\"\n",
        "    )\n",
        "\n",
        "    azure_practical = self.create_azure_agent(\n",
        "        role_name=\"Dr. Azure Practical\",\n",
        "        persona=\"A pragmatic researcher focused on real-world applications and practical implementation. Bridges theory with practice.\",\n",
        "        specialization=\"Practical AI safety applications, training methodologies, and hands-on exercises\"\n",
        "    )\n",
        "\n",
        "    # Configure coordinator and task agents to use Azure OpenAI with correct API version\n",
        "    coordinator_agent_kwargs = {\n",
        "        'model': AzureOpenAIModel(\n",
        "            model_type=ModelType.GPT_4O_MINI,\n",
        "            api_key=os.getenv(\"AZURE_OPENAI_API_KEY\"),\n",
        "            url=os.getenv(\"AZURE_OPENAI_ENDPOINT\"),\n",
        "            api_version=\"2025-01-01-preview\",\n",
        "            azure_deployment_name=os.getenv(\"AZURE_DEPLOYMENT_NAME\") or \"div-o4-mini\"\n",
        "        ),\n",
        "        'token_limit': 8000\n",
        "    }\n",
        "\n",
        "    task_agent_kwargs = {\n",
        "        'model': AzureOpenAIModel(\n",
        "            model_type=ModelType.GPT_4O_MINI,\n",
        "            api_key=os.getenv(\"AZURE_OPENAI_API_KEY\"),\n",
        "            url=os.getenv(\"AZURE_OPENAI_ENDPOINT\"),\n",
        "            api_version=\"2025-01-01-preview\",\n",
        "            azure_deployment_name=os.getenv(\"AZURE_DEPLOYMENT_NAME\") or \"div-o4-mini\"\n",
        "        ),\n",
        "        'token_limit': 16000\n",
        "    }\n",
        "\n",
        "    # Create the workforce with proper configuration\n",
        "    self.workforce = Workforce(\n",
        "        'ARENA AI Alignment Research Society',\n",
        "        coordinator_agent_kwargs=coordinator_agent_kwargs,\n",
        "        task_agent_kwargs=task_agent_kwargs\n",
        "    )\n",
        "\n",
        "    # Add agents with descriptive roles\n",
        "    self.workforce.add_single_agent_worker(\n",
        "        'Dr. Claude Alignment (Lead Researcher) - Synthesizes information, leads research direction, and provides comprehensive analysis based on existing knowledge',\n",
        "        worker=claude_lead,\n",
        "    ).add_single_agent_worker(\n",
        "        'Prof. Claude Ethics (Ethics & Policy Specialist) - Analyzes ethical implications, policy considerations, and societal impact of AI alignment research',\n",
        "        worker=claude_ethicist,\n",
        "    ).add_single_agent_worker(\n",
        "        'Dr. Azure Technical (Technical Deep-Dive Specialist) - Provides detailed technical analysis, mathematical foundations, and implementation specifics',\n",
        "        worker=azure_technical,\n",
        "    ).add_single_agent_worker(\n",
        "        'Dr. Azure Practical (Applied Research Specialist) - Focuses on practical applications, training methodologies, and hands-on implementation guidance',\n",
        "        worker=azure_practical,\n",
        "    )\n",
        "\n",
        "    print(\"✅ ARENA Research Society created with 4 specialized agents!\")\n",
        "    return self.workforce"
      ],
      "metadata": {
        "id": "X_u3REt4ATk9"
      },
      "execution_count": null,
      "outputs": []
    },
    {
      "cell_type": "markdown",
      "source": [
        "### What this does:\n",
        "\n",
        "- Creates 4 specialized researchers: 2 Claude agents + 2 Azure OpenAI agents\n",
        "- Each agent has distinct personalities and expertise areas\n",
        "- Configures search tools for the lead researcher (when available)\n",
        "- Sets up proper workforce coordination using Azure OpenAI models\n",
        "- Creates a balanced team covering technical, practical, and ethical perspectives"
      ],
      "metadata": {
        "id": "PVUoO9qgAXqH"
      }
    },
    {
      "cell_type": "markdown",
      "source": [
        "## 📋 Research Task Creation\n",
        "Define structured research tasks for the collaborative team:"
      ],
      "metadata": {
        "id": "ewoOVtG1AbHk"
      }
    },
    {
      "cell_type": "code",
      "source": [
        "def create_research_task(self, research_topic: str, specific_questions: str = None) -> Task:\n",
        "    \"\"\"Create a research task for the ARENA curriculum\"\"\"\n",
        "\n",
        "    arena_context = {\n",
        "        \"curriculum_info\": \"ARENA (AI Research and Education Nexus for Alignment) is a comprehensive AI safety curriculum\",\n",
        "        \"focus_areas\": [\n",
        "            \"Mechanistic Interpretability - Understanding how neural networks work internally\",\n",
        "            \"Reinforcement Learning from Human Feedback (RLHF) - Training AI systems to be helpful and harmless\",\n",
        "            \"AI Governance - Policy, regulation, and coordination for AI safety\",\n",
        "            \"Robustness & Adversarial Examples - Making AI systems robust to attacks and edge cases\"\n",
        "        ],\n",
        "        \"emphasis\": \"practical skills, hands-on exercises, and real-world applications\",\n",
        "        \"website\": \"https://www.arena.education/curriculum\"\n",
        "    }\n",
        "\n",
        "    # Check if search tools are available\n",
        "    has_search = bool(os.getenv(\"GOOGLE_API_KEY\") and os.getenv(\"SEARCH_ENGINE_ID\"))\n",
        "\n",
        "    base_content = f\"\"\"\n",
        "    Research Topic: {research_topic}\n",
        "\n",
        "    Please conduct a comprehensive collaborative research analysis on this topic in relation to the ARENA AI alignment curriculum.\n",
        "\n",
        "    {'Note: Search tools are available for gathering latest information.' if has_search else 'Note: Analysis will be based on existing knowledge as search tools are not available.'}\n",
        "\n",
        "    Research Process:\n",
        "    1. **Information Gathering** - {'Collect relevant information about the topic, including latest developments' if has_search else 'Analyze the topic based on existing knowledge and understanding'}\n",
        "    2. **Technical Analysis** - Provide detailed technical breakdown and mathematical foundations\n",
        "    3. **Practical Applications** - Explore how this relates to hands-on ARENA exercises and real-world implementation\n",
        "    4. **Ethical Considerations** - Analyze policy implications and ethical frameworks\n",
        "    5. **Synthesis** - Combine all perspectives into actionable insights and recommendations\n",
        "\n",
        "    Expected Deliverables:\n",
        "    - Comprehensive analysis from each specialist perspective\n",
        "    - Identification of key concepts and their relationships\n",
        "    - Practical implementation guidance\n",
        "    - Policy and ethical considerations\n",
        "    - Recommendations for further research or curriculum development\n",
        "    \"\"\"\n",
        "\n",
        "    if specific_questions:\n",
        "        base_content += f\"\\n\\nSpecific Research Questions:\\n{specific_questions}\"\n",
        "\n",
        "    return Task(\n",
        "        content=base_content.strip(),\n",
        "        additional_info=arena_context,\n",
        "        id=\"arena_research_001\",\n",
        "    )"
      ],
      "metadata": {
        "id": "qBX8N-ZrAd7j"
      },
      "execution_count": null,
      "outputs": []
    },
    {
      "cell_type": "markdown",
      "source": [
        "### What this does:\n",
        "\n",
        "- Creates structured research tasks with clear objectives and deliverables\n",
        "- Adapts task content based on available tools (search vs. knowledge-based)\n",
        "- Includes ARENA curriculum context for focused analysis\n",
        "- Supports custom research questions for specialized investigations"
      ],
      "metadata": {
        "id": "GpuXTYOkAhOi"
      }
    },
    {
      "cell_type": "markdown",
      "source": [
        "## 🔬 Research Execution\n",
        "Execute collaborative research sessions:"
      ],
      "metadata": {
        "id": "ktGiQU9PAkL9"
      }
    },
    {
      "cell_type": "code",
      "source": [
        "def run_research(self, research_topic: str, specific_questions: str = None):\n",
        "    \"\"\"Run a collaborative research session\"\"\"\n",
        "    if not self.workforce:\n",
        "        self.create_research_workforce()\n",
        "\n",
        "    print(f\"🔬 Starting collaborative research on: {research_topic}\")\n",
        "    print(\"=\" * 60)\n",
        "\n",
        "    task = self.create_research_task(research_topic, specific_questions)\n",
        "    processed_task = self.workforce.process_task(task)\n",
        "\n",
        "    print(\"\\n\" + \"=\" * 60)\n",
        "    print(\"📊 RESEARCH RESULTS\")\n",
        "    print(\"=\" * 60)\n",
        "    print(processed_task.result)\n",
        "\n",
        "    return processed_task.result"
      ],
      "metadata": {
        "id": "32IPUR3iAmVY"
      },
      "execution_count": null,
      "outputs": []
    },
    {
      "cell_type": "markdown",
      "source": [
        "## What this does:\n",
        "\n",
        "- Orchestrates the entire research process\n",
        "- Creates the workforce if not already initialized\n",
        "- Processes tasks through the collaborative agent network\n",
        "- Returns formatted research results\n"
      ],
      "metadata": {
        "id": "CNGecl-jAp2L"
      }
    },
    {
      "cell_type": "markdown",
      "source": [
        " ## 🎯 Interactive Demo Interface\n",
        "Create an interactive interface for easy topic selection:"
      ],
      "metadata": {
        "id": "yoB1-obIAsBA"
      }
    },
    {
      "cell_type": "code",
      "source": [
        "def main():\n",
        "    \"\"\"Main function demonstrating the ARENA Research Society\"\"\"\n",
        "    society = ARENAResearchSociety()\n",
        "\n",
        "    # Example research topics related to ARENA curriculum\n",
        "    sample_topics = {\n",
        "        1: {\n",
        "            \"topic\": \"Mechanistic Interpretability in Large Language Models\",\n",
        "            \"questions\": \"\"\"\n",
        "            - How do the latest mechanistic interpretability techniques apply to understanding LLM behavior?\n",
        "            - What are the most effective methods for interpreting attention patterns and residual streams?\n",
        "            - How can mechanistic interpretability inform AI alignment strategies?\n",
        "            - What are the current limitations and future directions in this field?\n",
        "            \"\"\"\n",
        "        },\n",
        "        2: {\n",
        "            \"topic\": \"RLHF Implementation Challenges and Best Practices\",\n",
        "            \"questions\": \"\"\"\n",
        "            - What are the main technical challenges in implementing RLHF at scale?\n",
        "            - How do different reward modeling approaches compare in effectiveness?\n",
        "            - What are the alignment implications of various RLHF techniques?\n",
        "            - How can we address issues like reward hacking and distributional shift?\n",
        "            \"\"\"\n",
        "        },\n",
        "        3: {\n",
        "            \"topic\": \"AI Governance Frameworks for Emerging Technologies\",\n",
        "            \"questions\": \"\"\"\n",
        "            - What governance frameworks are most suitable for rapidly advancing AI capabilities?\n",
        "            - How can policy makers balance innovation with safety considerations?\n",
        "            - What role should technical AI safety research play in policy development?\n",
        "            - How can international coordination on AI governance be improved?\n",
        "            \"\"\"\n",
        "        }\n",
        "    }\n",
        "\n",
        "    print(\"🎯 ARENA AI Alignment Research Society\")\n",
        "    print(\"Choose a research topic or provide your own:\")\n",
        "    print()\n",
        "\n",
        "    for num, info in sample_topics.items():\n",
        "        print(f\"{num}. {info['topic']}\")\n",
        "    print(\"4. Custom research topic\")\n",
        "    print()\n",
        "\n",
        "    try:\n",
        "        choice = input(\"Enter your choice (1-4): \").strip()\n",
        "\n",
        "        if choice in ['1', '2', '3']:\n",
        "            topic_info = sample_topics[int(choice)]\n",
        "            result = society.run_research(\n",
        "                topic_info[\"topic\"],\n",
        "                topic_info[\"questions\"]\n",
        "            )\n",
        "        elif choice == '4':\n",
        "            custom_topic = input(\"Enter your research topic: \").strip()\n",
        "            custom_questions = input(\"Enter specific questions (optional): \").strip()\n",
        "            result = society.run_research(\n",
        "                custom_topic,\n",
        "                custom_questions if custom_questions else None\n",
        "            )\n",
        "        else:\n",
        "            print(\"Invalid choice. Running default research...\")\n",
        "            result = society.run_research(sample_topics[1][\"topic\"], sample_topics[1][\"questions\"])\n",
        "\n",
        "    except KeyboardInterrupt:\n",
        "        print(\"\\n👋 Research session interrupted.\")\n",
        "    except Exception as e:\n",
        "        print(f\"❌ Error during research: {e}\")\n",
        "\n",
        "if __name__ == \"__main__\":\n",
        "    main()"
      ],
      "metadata": {
        "id": "luftv50cAy10"
      },
      "execution_count": null,
      "outputs": []
    },
    {
      "cell_type": "markdown",
      "source": [
        "## What this does:\n",
        "\n",
        "- Provides pre-defined research topics relevant to ARENA curriculum\n",
        "- Offers custom topic input for flexible research\n",
        "- Handles user interaction gracefully with error handling\n",
        "- Demonstrates the full capabilities of the collaborative AI society"
      ],
      "metadata": {
        "id": "tIjwx8qaA16N"
      }
    },
    {
      "cell_type": "markdown",
      "source": [
        "## 🚀 Running the Cookbook\n",
        "To run this collaborative AI research society:\n"
      ],
      "metadata": {
        "id": "pJ101gxnA4fY"
      }
    },
    {
      "cell_type": "markdown",
      "source": [
        "Install dependencies:\n",
        "\n"
      ],
      "metadata": {
        "id": "_uSyBFZ4A9Ny"
      }
    },
    {
      "cell_type": "code",
      "source": [
        "pip install camel-ai nest-asyncio\n",
        "\n"
      ],
      "metadata": {
        "id": "n7jLuLUnBC_G"
      },
      "execution_count": null,
      "outputs": []
    },
    {
      "cell_type": "markdown",
      "source": [
        "Prepare API keys: Azure OpenAI, Claude (Anthropic), and optionally Google Search\n"
      ],
      "metadata": {
        "id": "RxjGhKuqBE5b"
      }
    },
    {
      "cell_type": "code",
      "source": [
        "export AZURE_OPENAI_API_KEY = \"your_azure_openai_api_key\"\n",
        "export AZURE_OPENAI_ENDPOINT = \"your _azure_openai_endpoint\"\n",
        "export ANTHROPIC_API_KEY = \"your_anthropic_api_key\"\n",
        "\n",
        "# Option for google search\n",
        "export GOOGLE_API_KEY = \"your_google_api_key\" # get it via google cloud\n",
        "export SEARCH_ENGINE_ID = \"your_search_engine_id\""
      ],
      "metadata": {
        "id": "8rnLuhP4BJ1w"
      },
      "execution_count": null,
      "outputs": []
    },
    {
      "cell_type": "markdown",
      "source": [
        "Execute:"
      ],
      "metadata": {
        "id": "6cO2bYKQBoHS"
      }
    },
    {
      "cell_type": "code",
      "source": [
        "python agent_society_research.py"
      ],
      "metadata": {
        "id": "ewGkjED5Bq9l"
      },
      "execution_count": null,
      "outputs": []
    },
    {
      "cell_type": "markdown",
      "source": [
        "Follow prompts: Enter your API credentials and select research topics"
      ],
      "metadata": {
        "id": "YyCoe0zXBvVY"
      }
    },
    {
      "cell_type": "markdown",
      "source": [
        "The system will create a collaborative research environment where Claude and Azure OpenAI agents work together to produce comprehensive analysis on AI alignment topics!"
      ],
      "metadata": {
        "id": "3iQSGaVhBxLR"
      }
    },
    {
      "cell_type": "markdown",
      "source": [
        "## 🎯 Conclusion\n",
        "The future of AI collaboration is here, and this CAMEL-powered society demonstrates the incredible potential of multi-agent systems working across different AI platforms.\n",
        "\n",
        "In this cookbook, you've learned how to:\n",
        "\n",
        "- Build cross-platform AI collaboration between Claude 4 and Azure OpenAI models\n",
        "- Create specialized AI researchers with distinct personas and expertise areas\n",
        "- Implement robust workforce management using CAMEL's advanced orchestration\n",
        "- Handle complex API configurations for multiple AI providers seamlessly\n",
        "- Design structured research workflows for AI alignment and safety topics\n",
        "- Create scalable agent societies that can tackle complex, multi-faceted problems\n",
        "\n",
        "This collaborative approach showcases how different AI models can complement each other - Claude's nuanced reasoning and ethical considerations paired with Azure OpenAI's technical precision creates a powerful research dynamic. The ARENA AI alignment focus demonstrates how these societies can be specialized for cutting-edge domains like mechanistic interpretability, RLHF, and AI governance.\n",
        "\n",
        "As the field of multi-agent AI systems continues to evolve, frameworks like CAMEL are paving the way for increasingly sophisticated collaborations. Whether you're researching AI safety, exploring complex technical topics, or building specialized knowledge teams, the patterns and techniques in this cookbook provide a solid foundation for the next generation of AI-powered research.\n",
        "\n",
        "The possibilities are endless when AI agents work together. Keep experimenting, keep collaborating, and keep pushing the boundaries of what's possible.\n",
        "\n",
        "Happy researching! 🔬✨\n",
        "\n",
        "\n",
        "\n"
      ],
      "metadata": {
        "id": "wMYMfaZ9Bzdl"
      }
    },
    {
      "cell_type": "markdown",
      "source": [
        "That's everything: Got questions about 🐫 CAMEL-AI? Join us on [Discord](https://discord.camel-ai.org)! Whether you want to share feedback, explore the latest in multi-agent systems, get support, or connect with others on exciting projects, we’d love to have you in the community! 🤝\n",
        "\n",
        "Check out some of our other work:\n",
        "\n",
        "1. 🐫 Creating Your First CAMEL Agent [free Colab](https://docs.camel-ai.org/cookbooks/create_your_first_agent.html)\n",
        "\n",
        "2.  Graph RAG Cookbook [free Colab](https://colab.research.google.com/drive/1uZKQSuu0qW6ukkuSv9TukLB9bVaS1H0U?usp=sharing)\n",
        "\n",
        "3. 🧑‍⚖️ Create A Hackathon Judge Committee with Workforce [free Colab](https://colab.research.google.com/drive/18ajYUMfwDx3WyrjHow3EvUMpKQDcrLtr?usp=sharing)\n",
        "\n",
        "4. 🔥 3 ways to ingest data from websites with Firecrawl & CAMEL [free Colab](https://colab.research.google.com/drive/1lOmM3VmgR1hLwDKdeLGFve_75RFW0R9I?usp=sharing)\n",
        "\n",
        "5. 🦥 Agentic SFT Data Generation with CAMEL and Mistral Models, Fine-Tuned with Unsloth [free Colab](https://colab.research.google.com/drive/1lYgArBw7ARVPSpdwgKLYnp_NEXiNDOd-?usp=sharingg)\n",
        "\n",
        "Thanks from everyone at 🐫 CAMEL-AI\n",
        "\n",
        "\n",
        "<div class=\"align-center\">\n",
        "  <a href=\"https://www.camel-ai.org/\"><img src=\"https://i.postimg.cc/KzQ5rfBC/button.png\"width=\"150\"></a>\n",
        "  <a href=\"https://discord.camel-ai.org\"><img src=\"https://i.postimg.cc/L4wPdG9N/join-2.png\"  width=\"150\"></a></a>\n",
        "  \n",
        "⭐ <i>Star us on [*Github*](https://github.com/camel-ai/camel), join our [*Discord*](https://discord.camel-ai.org) or follow our [*X*](https://x.com/camelaiorg)\n",
        "</div>\n"
      ],
      "metadata": {
        "id": "PxVgp-zXB9Hj"
      }
    }
  ]
}