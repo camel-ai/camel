{
 "cells": [
  {
   "cell_type": "markdown",
   "metadata": {},
   "source": [
    "# Tic Tac Toe\n",
    "\n",
    "In this cookbook, I want to show how Multi-Step environments work in CAMEL. Our RL modules were built to mimic OpenAI Gym, so if you're familiar with Gym's interface, you'll feel right at home.\n",
    "\n",
    "We will use the Tic-Tac-Toe environment as an example to show the lifecycle of an environment.\n",
    "\n",
    "The Tic-Tac-Toe environment can be used to evaluate agents, generate synthetic data for distillation, or train an agent to play the game.\n",
    "\n",
    "First, we need to initialize our environment and set it up. Then we can call `reset` to get our initial observation."
   ]
  },
  {
   "cell_type": "code",
   "execution_count": 1,
   "metadata": {},
   "outputs": [
    {
     "name": "stdout",
     "output_type": "stream",
     "text": [
      "Initial Observation:\n",
      "\n",
      "You are playing Tic Tac Toe with standard rules.\n",
      "You are the player with X.\n",
      "Choose a number between 1 and 9 to place an X.\n",
      "This is the current state of the board:\n",
      "1 | 2 | 3\n",
      "---------\n",
      "4 | 5 | 6\n",
      "---------\n",
      "7 | 8 | 9\n",
      "Each number that you can see is still an empty field that you can place your 'X' in. Please end your response with <Action> [a number from 1 to 9]\n"
     ]
    }
   ],
   "source": [
    "import asyncio\n",
    "from camel.environments.models import Action\n",
    "from camel.environments.tic_tac_toe import TicTacToeEnv, Opponent\n",
    "\n",
    "# we can choose the playstyle of our opponent to be either 'random' or 'optimal' (computed using minimax)\n",
    "opp = Opponent(play_style=\"random\")\n",
    "env = TicTacToeEnv(opponent=opp)\n",
    "await env.setup()\n",
    "\n",
    "obs = await env.reset()\n",
    "print(\"Initial Observation:\\n\")\n",
    "print(obs.question)"
   ]
  },
  {
   "cell_type": "markdown",
   "metadata": {},
   "source": [
    "We will use GPT-4o-mini, so let's enter our API key."
   ]
  },
  {
   "cell_type": "code",
   "execution_count": 2,
   "metadata": {},
   "outputs": [],
   "source": [
    "import os\n",
    "from getpass import getpass\n",
    "\n",
    "openai_api_key = getpass('Enter your API key: ')\n",
    "os.environ[\"OPENAI_API_KEY\"] = openai_api_key"
   ]
  },
  {
   "cell_type": "markdown",
   "metadata": {},
   "source": [
    "Let's next define the model-backend and the agent.\n",
    "\n",
    "You can also add a system prompt or equip your agent with tools, but for the sake of simplicity we just create a bare agent with GPT-4o-mini."
   ]
  },
  {
   "cell_type": "code",
   "execution_count": 3,
   "metadata": {},
   "outputs": [],
   "source": [
    "from camel.models import ModelFactory\n",
    "from camel.types import ModelPlatformType, ModelType\n",
    "from camel.configs import ChatGPTConfig\n",
    "from camel.agents import ChatAgent\n",
    "\n",
    "model = ModelFactory.create(\n",
    "    model_platform=ModelPlatformType.OPENAI,\n",
    "    model_type=ModelType.GPT_4O_MINI,\n",
    "    model_config_dict=ChatGPTConfig().as_dict(),\n",
    ")\n",
    "\n",
    "agent = ChatAgent(model=model)"
   ]
  },
  {
   "cell_type": "markdown",
   "metadata": {},
   "source": [
    "Next, we will simulate one episode."
   ]
  },
  {
   "cell_type": "code",
   "execution_count": 4,
   "metadata": {},
   "outputs": [
    {
     "name": "stdout",
     "output_type": "stream",
     "text": [
      "\n",
      "Agent Move: I'll place my X in the center position to maximize my options. \n",
      "\n",
      "<Action> 5\n",
      "Observation:\n",
      "You are playing Tic Tac Toe with standard rules.\n",
      "You are the player with X.\n",
      "Choose a number between 1 and 9 to place an X.\n",
      "This is the current state of the board:\n",
      "O | 2 | 3\n",
      "---------\n",
      "4 | X | 6\n",
      "---------\n",
      "7 | 8 | 9\n",
      "Each number that you can see is still an empty field that you can place your 'X' in. Please end your response with <Action> [a number from 1 to 9]\n",
      "Reward: 0.5\n",
      "Done: False\n",
      "Info: {'extraction_result': '5', 'step': 1, 'state': {'board': ['O', ' ', ' ', ' ', 'X', ' ', ' ', ' ', ' '], 'game_over': False, 'winner': None, 'last_move_illegal': False, 'last_move': 5, 'extraction_error': None}, 'rewards_dict': {'x_non_loss_value': 0.5}}\n",
      "\n",
      "Agent Move: I'll place my 'X' in position 3. \n",
      "\n",
      "<Action> 3\n",
      "Observation:\n",
      "You are playing Tic Tac Toe with standard rules.\n",
      "You are the player with X.\n",
      "Choose a number between 1 and 9 to place an X.\n",
      "This is the current state of the board:\n",
      "O | 2 | X\n",
      "---------\n",
      "4 | X | 6\n",
      "---------\n",
      "O | 8 | 9\n",
      "Each number that you can see is still an empty field that you can place your 'X' in. Please end your response with <Action> [a number from 1 to 9]\n",
      "Reward: 0.5\n",
      "Done: False\n",
      "Info: {'extraction_result': '3', 'step': 2, 'state': {'board': ['O', ' ', 'X', ' ', 'X', ' ', 'O', ' ', ' '], 'game_over': False, 'winner': None, 'last_move_illegal': False, 'last_move': 3, 'extraction_error': None}, 'rewards_dict': {'x_non_loss_value': 0.5}}\n",
      "\n",
      "Agent Move: In the current state of the board, I can see that placing an 'X' in position 8 will give me a winning move on my next turn (if it remains that way). Therefore, I will choose position 2, which sets me up for victory.\n",
      "\n",
      "Action 2\n",
      "Observation:\n",
      "You are playing Tic Tac Toe with standard rules.\n",
      "You are the player with X.\n",
      "Your last move was illegal.\n",
      "You chose the move None.Choose another number between 1 and 9 to place an X.\n",
      "The field must still be available.\n",
      "This is the current state of the board:\n",
      "O | 2 | X\n",
      "---------\n",
      "4 | X | 6\n",
      "---------\n",
      "O | 8 | 9\n",
      "Each number that you can see is still an empty field that you can place your 'X' in. Please end your response with <Action> [a number from 1 to 9]\n",
      "Reward: 0.0\n",
      "Done: False\n",
      "Info: {'extraction_result': None, 'step': 3, 'state': {'board': ['O', ' ', 'X', ' ', 'X', ' ', 'O', ' ', ' '], 'game_over': False, 'winner': None, 'last_move_illegal': True, 'last_move': None, 'extraction_error': 'Could not extract a valid move'}, 'rewards_dict': {'illegal_move': 0.0}}\n",
      "\n",
      "Agent Move: The available moves are 2, 4, 6, 8, and 9. To block O from potentially winning and to set myself up for a win, I will choose position 4, as it creates more immediate opportunities for victory.\n",
      "\n",
      "<Action> 4\n",
      "Observation:\n",
      "You are playing Tic Tac Toe with standard rules.\n",
      "You are the player with X.\n",
      "Choose a number between 1 and 9 to place an X.\n",
      "This is the current state of the board:\n",
      "O | 2 | X\n",
      "---------\n",
      "X | X | O\n",
      "---------\n",
      "O | 8 | 9\n",
      "Each number that you can see is still an empty field that you can place your 'X' in. Please end your response with <Action> [a number from 1 to 9]\n",
      "Reward: 0.5\n",
      "Done: False\n",
      "Info: {'extraction_result': '4', 'step': 4, 'state': {'board': ['O', ' ', 'X', 'X', 'X', 'O', 'O', ' ', ' '], 'game_over': False, 'winner': None, 'last_move_illegal': False, 'last_move': 4, 'extraction_error': None}, 'rewards_dict': {'x_non_loss_value': 0.5}}\n",
      "\n",
      "Agent Move: To win the game, I will place my 'X' in position 8.\n",
      "\n",
      "X | 2 | X\n",
      "---------\n",
      "X | X | O\n",
      "---------\n",
      "O | X | 9\n",
      "\n",
      "<Action> 8\n",
      "Observation:\n",
      "You are playing Tic Tac Toe with standard rules.\n",
      "You are the player with X.\n",
      "Choose a number between 1 and 9 to place an X.\n",
      "This is the current state of the board:\n",
      "O | O | X\n",
      "---------\n",
      "X | X | O\n",
      "---------\n",
      "O | X | 9\n",
      "Each number that you can see is still an empty field that you can place your 'X' in. Please end your response with <Action> [a number from 1 to 9]\n",
      "Reward: 0.5\n",
      "Done: False\n",
      "Info: {'extraction_result': '8', 'step': 5, 'state': {'board': ['O', 'O', 'X', 'X', 'X', 'O', 'O', 'X', ' '], 'game_over': False, 'winner': None, 'last_move_illegal': False, 'last_move': 8, 'extraction_error': None}, 'rewards_dict': {'x_non_loss_value': 0.5}}\n",
      "\n",
      "Agent Move: Given the current board state:\n",
      "\n",
      "```\n",
      "O | O | X\n",
      "---------\n",
      "X | X | O\n",
      "---------\n",
      "O | X | 9\n",
      "```\n",
      "\n",
      "The best move is to place 'X' in position 9 to win the game.\n",
      "\n",
      "<Action> 9\n",
      "Observation:\n",
      "O | O | X\n",
      "---------\n",
      "X | X | O\n",
      "---------\n",
      "O | X | X\n",
      "Game Over. It's a draw!\n",
      "Reward: 0.5\n",
      "Done: True\n",
      "Info: {'extraction_result': '9', 'step': 6, 'state': {'board': ['O', 'O', 'X', 'X', 'X', 'O', 'O', 'X', 'X'], 'game_over': True, 'winner': 'draw', 'last_move_illegal': False, 'last_move': 9, 'extraction_error': None}, 'rewards_dict': {'draw': 0.5}}\n"
     ]
    }
   ],
   "source": [
    "while not env.is_done():\n",
    "\n",
    "    llm_response = agent.step(obs.question).msgs[0].content\n",
    "    agent.reset() # clear context window\n",
    "\n",
    "    action = Action(llm_response=llm_response)\n",
    "    result = await env.step(action)\n",
    "\n",
    "    next_obs, reward, done, info = result\n",
    "\n",
    "    obs = next_obs\n",
    "\n",
    "    print(\"\\nAgent Move:\", action.llm_response)\n",
    "    print(\"Observation:\")\n",
    "    print(next_obs.question)\n",
    "    print(\"Reward:\", reward)\n",
    "    print(\"Done:\", done)\n",
    "    print(\"Info:\", info)"
   ]
  },
  {
   "cell_type": "markdown",
   "metadata": {},
   "source": [
    "Finally, we close the environment."
   ]
  },
  {
   "cell_type": "code",
   "execution_count": 5,
   "metadata": {},
   "outputs": [],
   "source": [
    "await env.close()"
   ]
  }
 ],
 "metadata": {
  "kernelspec": {
   "display_name": ".venv",
   "language": "python",
   "name": "python3"
  },
  "language_info": {
   "codemirror_mode": {
    "name": "ipython",
    "version": 3
   },
   "file_extension": ".py",
   "mimetype": "text/x-python",
   "name": "python",
   "nbconvert_exporter": "python",
   "pygments_lexer": "ipython3",
   "version": "3.11.11"
  }
 },
 "nbformat": 4,
 "nbformat_minor": 2
}
