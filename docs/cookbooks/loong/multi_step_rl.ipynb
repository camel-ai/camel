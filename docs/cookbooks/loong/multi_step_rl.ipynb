{
 "cells": [
  {
   "cell_type": "markdown",
   "metadata": {},
   "source": [
    "# Tic Tac Toe\n",
    "\n",
    "In this cookbook, I want to show how Multi-Step environments work in CAMEL. We will use the Tic-Tac-Toe environment as an example.\n",
    "\n",
    "The Tic-Tac-Toe environment can be used to evaluate agents in Tic-Tac-Toe, generate synthetic data for distilliation or, of course, to train an agent to play Tic-Tac-Toe!\n",
    "\n",
    "First, we need to define our environment and set it up. Then we can call `reset` to get our initial observation."
   ]
  },
  {
   "cell_type": "code",
   "execution_count": 1,
   "metadata": {},
   "outputs": [
    {
     "name": "stderr",
     "output_type": "stream",
     "text": [
      "/home/student/true-gnosis/Code/camel/.venv/lib/python3.11/site-packages/tqdm/auto.py:21: TqdmWarning: IProgress not found. Please update jupyter and ipywidgets. See https://ipywidgets.readthedocs.io/en/stable/user_install.html\n",
      "  from .autonotebook import tqdm as notebook_tqdm\n"
     ]
    },
    {
     "name": "stdout",
     "output_type": "stream",
     "text": [
      "Initial Observation:\n",
      "\n",
      "You are playing Tic Tac Toe with standard rules.\n",
      "You are the player with X.\n",
      "Choose a number between 1 and 9 to place an X.\n",
      "This is the current state of the board:\n",
      "1 | 2 | 3\n",
      "---------\n",
      "4 | 5 | 6\n",
      "---------\n",
      "7 | 8 | 9\n",
      "Each number that you can see is still an empty field that you can place your 'X' in. Please end your response with <Action> [a number from 1 to 9]\n"
     ]
    }
   ],
   "source": [
    "import asyncio\n",
    "from camel.environments.models import Action\n",
    "from camel.environments.tic_tac_toe import TicTacToeEnv, Opponent\n",
    "\n",
    "# Initialize and set up the environment\n",
    "env = TicTacToeEnv(opponent=Opponent(play_style=\"random\"))\n",
    "await env.setup()\n",
    "\n",
    "# Reset environment and get initial observation\n",
    "observation = await env.reset()\n",
    "print(\"Initial Observation:\\n\")\n",
    "print(observation.question)"
   ]
  },
  {
   "cell_type": "markdown",
   "metadata": {},
   "source": [
    "We will use GPT-4o-mini, so let's enter our API key."
   ]
  },
  {
   "cell_type": "code",
   "execution_count": 2,
   "metadata": {},
   "outputs": [],
   "source": [
    "import os\n",
    "from getpass import getpass\n",
    "\n",
    "openai_api_key = getpass('Enter your API key: ')\n",
    "os.environ[\"OPENAI_API_KEY\"] = openai_api_key"
   ]
  },
  {
   "cell_type": "markdown",
   "metadata": {},
   "source": [
    "Let's next define the model-backend and the agent.\n",
    "\n",
    "You can also add a system prompt or equip your agent with tools, but for the sake of simplicity we just create a bare agent."
   ]
  },
  {
   "cell_type": "code",
   "execution_count": 3,
   "metadata": {},
   "outputs": [],
   "source": [
    "from camel.models import ModelFactory\n",
    "from camel.types import ModelPlatformType, ModelType\n",
    "from camel.configs import ChatGPTConfig\n",
    "from camel.agents import ChatAgent\n",
    "\n",
    "model = ModelFactory.create(\n",
    "    model_platform=ModelPlatformType.OPENAI,\n",
    "    model_type=ModelType.GPT_4O_MINI,\n",
    "    model_config_dict=ChatGPTConfig().as_dict(),\n",
    ")\n",
    "\n",
    "agent = ChatAgent(model=model)"
   ]
  },
  {
   "cell_type": "markdown",
   "metadata": {},
   "source": [
    "Next, we will simulate one episode."
   ]
  },
  {
   "cell_type": "code",
   "execution_count": 4,
   "metadata": {},
   "outputs": [
    {
     "name": "stdout",
     "output_type": "stream",
     "text": [
      "\n",
      "Agent Move: index=0 llm_response=\"I'll place my X in position 5. \\n\\n<Action> 5\" metadata={} timestamp=datetime.datetime(2025, 4, 8, 22, 46, 49, 501898, tzinfo=datetime.timezone.utc)\n",
      "Observation:\n",
      "You are playing Tic Tac Toe with standard rules.\n",
      "You are the player with X.\n",
      "Choose a number between 1 and 9 to place an X.\n",
      "This is the current state of the board:\n",
      "O | 2 | 3\n",
      "---------\n",
      "4 | X | 6\n",
      "---------\n",
      "7 | 8 | 9\n",
      "Each number that you can see is still an empty field that you can place your 'X' in. Please end your response with <Action> [a number from 1 to 9]\n",
      "Reward: 0.5\n",
      "Done: False\n",
      "Info: {'extraction_result': '5', 'step': 1, 'state': {'board': ['O', ' ', ' ', ' ', 'X', ' ', ' ', ' ', ' '], 'game_over': False, 'winner': None, 'last_move_illegal': False, 'last_move': 5, 'extraction_error': None}, 'rewards_dict': {'x_non_loss_value': 0.5}}\n",
      "\n",
      "Agent Move: index=0 llm_response=\"I'll place my X in position 3.\\n\\nAction 3\" metadata={} timestamp=datetime.datetime(2025, 4, 8, 22, 46, 50, 241265, tzinfo=datetime.timezone.utc)\n",
      "Observation:\n",
      "You are playing Tic Tac Toe with standard rules.\n",
      "You are the player with X.\n",
      "Your last move was illegal.\n",
      "You chose the move None.Choose another number between 1 and 9 to place an X.\n",
      "The field must still be available.\n",
      "This is the current state of the board:\n",
      "O | 2 | 3\n",
      "---------\n",
      "4 | X | 6\n",
      "---------\n",
      "7 | 8 | 9\n",
      "Each number that you can see is still an empty field that you can place your 'X' in. Please end your response with <Action> [a number from 1 to 9]\n",
      "Reward: 0.0\n",
      "Done: False\n",
      "Info: {'extraction_result': None, 'step': 2, 'state': {'board': ['O', ' ', ' ', ' ', 'X', ' ', ' ', ' ', ' '], 'game_over': False, 'winner': None, 'last_move_illegal': True, 'last_move': None, 'extraction_error': 'Could not extract a valid move'}, 'rewards_dict': {'illegal_move': 0.0}}\n",
      "\n",
      "Agent Move: index=0 llm_response=\"Let's see the available moves. You can place your X in positions 2, 3, 4, 6, 7, 8, or 9. \\n\\nI'll choose position 2 to place my X. \\n\\n<Action> 2\" metadata={} timestamp=datetime.datetime(2025, 4, 8, 22, 46, 51, 349530, tzinfo=datetime.timezone.utc)\n",
      "Observation:\n",
      "You are playing Tic Tac Toe with standard rules.\n",
      "You are the player with X.\n",
      "Choose a number between 1 and 9 to place an X.\n",
      "This is the current state of the board:\n",
      "O | X | 3\n",
      "---------\n",
      "4 | X | 6\n",
      "---------\n",
      "7 | O | 9\n",
      "Each number that you can see is still an empty field that you can place your 'X' in. Please end your response with <Action> [a number from 1 to 9]\n",
      "Reward: 0.5\n",
      "Done: False\n",
      "Info: {'extraction_result': '2', 'step': 3, 'state': {'board': ['O', 'X', ' ', ' ', 'X', ' ', ' ', 'O', ' '], 'game_over': False, 'winner': None, 'last_move_illegal': False, 'last_move': 2, 'extraction_error': None}, 'rewards_dict': {'x_non_loss_value': 0.5}}\n",
      "\n",
      "Agent Move: index=0 llm_response=\"To win the game, I will place my 'X' in position 3 to complete a vertical line. \\n\\n<Action> 3\" metadata={} timestamp=datetime.datetime(2025, 4, 8, 22, 46, 52, 801362, tzinfo=datetime.timezone.utc)\n",
      "Observation:\n",
      "You are playing Tic Tac Toe with standard rules.\n",
      "You are the player with X.\n",
      "Choose a number between 1 and 9 to place an X.\n",
      "This is the current state of the board:\n",
      "O | X | X\n",
      "---------\n",
      "4 | X | 6\n",
      "---------\n",
      "O | O | 9\n",
      "Each number that you can see is still an empty field that you can place your 'X' in. Please end your response with <Action> [a number from 1 to 9]\n",
      "Reward: 0.0\n",
      "Done: False\n",
      "Info: {'extraction_result': '3', 'step': 4, 'state': {'board': ['O', 'X', 'X', ' ', 'X', ' ', 'O', 'O', ' '], 'game_over': False, 'winner': None, 'last_move_illegal': False, 'last_move': 3, 'extraction_error': None}, 'rewards_dict': {'x_non_loss_value': 0.0}}\n",
      "\n",
      "Agent Move: index=0 llm_response='To win the game, I will place my X in position 4. \\n\\n<X> [4]' metadata={} timestamp=datetime.datetime(2025, 4, 8, 22, 46, 53, 612849, tzinfo=datetime.timezone.utc)\n",
      "Observation:\n",
      "You are playing Tic Tac Toe with standard rules.\n",
      "You are the player with X.\n",
      "Your last move was illegal.\n",
      "You chose the move None.Choose another number between 1 and 9 to place an X.\n",
      "The field must still be available.\n",
      "This is the current state of the board:\n",
      "O | X | X\n",
      "---------\n",
      "4 | X | 6\n",
      "---------\n",
      "O | O | 9\n",
      "Each number that you can see is still an empty field that you can place your 'X' in. Please end your response with <Action> [a number from 1 to 9]\n",
      "Reward: 0.0\n",
      "Done: False\n",
      "Info: {'extraction_result': None, 'step': 5, 'state': {'board': ['O', 'X', 'X', ' ', 'X', ' ', 'O', 'O', ' '], 'game_over': False, 'winner': None, 'last_move_illegal': True, 'last_move': None, 'extraction_error': 'Could not extract a valid move'}, 'rewards_dict': {'illegal_move': 0.0}}\n",
      "\n",
      "Agent Move: index=0 llm_response=\"Given the current state of the board, the available positions are 4, 6, and 9. I will choose position 9 to place my 'X'.\\n\\nO | X | X  \\n---------  \\n4 | X | 6  \\n---------  \\nO | O | X  \\n\\n<Action> 9\" metadata={} timestamp=datetime.datetime(2025, 4, 8, 22, 46, 56, 179631, tzinfo=datetime.timezone.utc)\n",
      "Observation:\n",
      "O | X | X\n",
      "---------\n",
      "O | X | 6\n",
      "---------\n",
      "O | O | X\n",
      "Game Over. Sorry, you lost!\n",
      "Reward: 0.0\n",
      "Done: True\n",
      "Info: {'extraction_result': '9', 'step': 6, 'state': {'board': ['O', 'X', 'X', 'O', 'X', ' ', 'O', 'O', 'X'], 'game_over': True, 'winner': 'O', 'last_move_illegal': False, 'last_move': 9, 'extraction_error': None}, 'rewards_dict': {'loss': 0.0}}\n"
     ]
    }
   ],
   "source": [
    "while not env.is_done():\n",
    "\n",
    "    llm_response = agent.step(observation.question).msgs[0].content\n",
    "    agent.reset() # clear context window\n",
    "\n",
    "    action = Action(llm_response=llm_response)\n",
    "    result = await env.step(action)\n",
    "\n",
    "    observation, reward, done, info = result\n",
    "\n",
    "    print(\"\\nAgent Move:\", action)\n",
    "    print(\"Observation:\")\n",
    "    print(observation.question)\n",
    "    print(\"Reward:\", reward)\n",
    "    print(\"Done:\", done)\n",
    "    print(\"Info:\", info)\n"
   ]
  },
  {
   "cell_type": "markdown",
   "metadata": {},
   "source": [
    "Finally, we close the environment."
   ]
  },
  {
   "cell_type": "code",
   "execution_count": 5,
   "metadata": {},
   "outputs": [],
   "source": [
    "await env.close()"
   ]
  },
  {
   "cell_type": "code",
   "execution_count": null,
   "metadata": {},
   "outputs": [],
   "source": []
  }
 ],
 "metadata": {
  "kernelspec": {
   "display_name": ".venv",
   "language": "python",
   "name": "python3"
  },
  "language_info": {
   "codemirror_mode": {
    "name": "ipython",
    "version": 3
   },
   "file_extension": ".py",
   "mimetype": "text/x-python",
   "name": "python",
   "nbconvert_exporter": "python",
   "pygments_lexer": "ipython3",
   "version": "3.11.11"
  }
 },
 "nbformat": 4,
 "nbformat_minor": 2
}
