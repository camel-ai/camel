{
  "cells": [
    {
      "attachments": {},
      "cell_type": "markdown",
      "metadata": {
        "id": "ssX_map8c6mx"
      },
      "source": [
        "# Tools Cookbook"
      ]
    },
    {
      "cell_type": "markdown",
      "metadata": {
        "id": "9S0pePjZkwUz"
      },
      "source": [
        "You can also check this cookbook in colab [here](https://colab.research.google.com/drive/1f1jYwDy6pB8QB6c_UdoBvFx6wr6kA5xq?usp=sharing)\n",
        "\n",
        "⭐ <i>Star us on [*Github*](https://github.com/camel-ai/camel), join our [*Discord*](https://discord.camel-ai.org) or follow our [*X*](https://x.com/camelaiorg)"
      ]
    },
    {
      "cell_type": "markdown",
      "metadata": {
        "id": "u1K3dKYUdMqJ"
      },
      "source": [
        "## *TLDR:*\n",
        "*CAMEL allows AI agents to extend their capabilities by integrating custom tools, similar to how humans use tools to surpass natural limits. This tutorial shows how to set up and customize tools within CAMEL, from basic functions like calculators to creating multi-agent systems that collaborate on tasks. You’ll learn to equip AI agents with the ability to use tools for various tasks, making them more powerful and versatile. Engage with the CAMEL-AI community and explore extensive resources to push the boundaries of AI development. Ready to enhance your AI agents? Dive into the tutorial and start building.*"
      ]
    },
    {
      "cell_type": "markdown",
      "metadata": {
        "id": "eIT3wf4E3_Al"
      },
      "source": [
        "## ‍Table of Content:\n",
        "\n",
        "* Introduction\n",
        "* Tool Usage of a Single Agent (Customize Your Own Tools)\n",
        "* AI Society with Tool Usage\n",
        "* Conclusion"
      ]
    },
    {
      "cell_type": "markdown",
      "metadata": {
        "id": "3hEOpgXI4NZg"
      },
      "source": [
        "## Introduction\n",
        "The key difference between humans and animals lies in the human ability to create and use tools, allowing us to shape the world beyond natural limits. Similarly, in AI, Large Language Models (LLMs) enable agents to utilize external tools, acting as extensions of their capabilities. These tools, each with a specific name, purpose, input, and output, empower agents to perform tasks otherwise impossible.\n",
        "\n",
        "This tutorial will show you how to use tools integrated by CAMEL and how to customize your own tools."
      ]
    },
    {
      "cell_type": "markdown",
      "metadata": {
        "id": "_5Xjj24c4VAV"
      },
      "source": [
        "## Tool Usage of a Single Agent\n",
        "A single agent can utilize multiple tools to answer questions, take actions, or perform complex tasks. Here you will build an agent using both the supported toolkit in CAMEL and the tool customized by you.\n",
        "\n",
        "First we are going to take the search tool as an example for utilizing existing tools but you can also see some of the other tools supported by CAMEL below.\n",
        "\n"
      ]
    },
    {
      "cell_type": "code",
      "execution_count": 2,
      "metadata": {
        "collapsed": true,
        "id": "1W4sgCoEdEpg"
      },
      "outputs": [
        {
          "name": "stdout",
          "output_type": "stream",
          "text": [
            "Requirement already satisfied: camel-ai==0.2.36 in /home/mi/miniforge3/envs/camel/lib/python3.10/site-packages (from camel-ai[all]==0.2.36) (0.2.36)\n",
            "Requirement already satisfied: colorama<0.5,>=0.4.6 in /home/mi/miniforge3/envs/camel/lib/python3.10/site-packages (from camel-ai==0.2.36->camel-ai[all]==0.2.36) (0.4.6)\n",
            "Requirement already satisfied: docstring-parser<0.16,>=0.15 in /home/mi/miniforge3/envs/camel/lib/python3.10/site-packages (from camel-ai==0.2.36->camel-ai[all]==0.2.36) (0.15)\n",
            "Requirement already satisfied: httpx<1.0.0dev,>=0.28.0 in /home/mi/miniforge3/envs/camel/lib/python3.10/site-packages (from camel-ai==0.2.36->camel-ai[all]==0.2.36) (0.28.1)\n",
            "Requirement already satisfied: jsonschema<5,>=4 in /home/mi/miniforge3/envs/camel/lib/python3.10/site-packages (from camel-ai==0.2.36->camel-ai[all]==0.2.36) (4.23.0)\n",
            "Requirement already satisfied: numpy~=1.26 in /home/mi/miniforge3/envs/camel/lib/python3.10/site-packages (from camel-ai==0.2.36->camel-ai[all]==0.2.36) (1.26.4)\n",
            "Requirement already satisfied: openai<2,>=1.59.7 in /home/mi/miniforge3/envs/camel/lib/python3.10/site-packages (from camel-ai==0.2.36->camel-ai[all]==0.2.36) (1.69.0)\n",
            "Requirement already satisfied: psutil<6,>=5.9.8 in /home/mi/miniforge3/envs/camel/lib/python3.10/site-packages (from camel-ai==0.2.36->camel-ai[all]==0.2.36) (5.9.8)\n",
            "Requirement already satisfied: pydantic<2.10,>=1.9 in /home/mi/miniforge3/envs/camel/lib/python3.10/site-packages (from camel-ai==0.2.36->camel-ai[all]==0.2.36) (2.9.2)\n",
            "Requirement already satisfied: pyyaml<7,>=6.0.2 in /home/mi/miniforge3/envs/camel/lib/python3.10/site-packages (from camel-ai==0.2.36->camel-ai[all]==0.2.36) (6.0.2)\n",
            "Requirement already satisfied: tiktoken<0.8,>=0.7.0 in /home/mi/miniforge3/envs/camel/lib/python3.10/site-packages (from camel-ai==0.2.36->camel-ai[all]==0.2.36) (0.7.0)\n",
            "Requirement already satisfied: accelerate<0.27,>=0.26.0 in /home/mi/miniforge3/envs/camel/lib/python3.10/site-packages (from camel-ai[all]==0.2.36) (0.26.1)\n",
            "Requirement already satisfied: agentops<0.4,>=0.3.21 in /home/mi/miniforge3/envs/camel/lib/python3.10/site-packages (from camel-ai[all]==0.2.36) (0.3.26)\n",
            "Requirement already satisfied: aiosqlite<0.21,>=0.20.0 in /home/mi/miniforge3/envs/camel/lib/python3.10/site-packages (from camel-ai[all]==0.2.36) (0.20.0)\n",
            "Requirement already satisfied: anthropic<0.50.0,>=0.47.0 in /home/mi/miniforge3/envs/camel/lib/python3.10/site-packages (from camel-ai[all]==0.2.36) (0.49.0)\n",
            "Requirement already satisfied: apify-client<2,>=1.8.1 in /home/mi/miniforge3/envs/camel/lib/python3.10/site-packages (from camel-ai[all]==0.2.36) (1.9.2)\n",
            "Requirement already satisfied: arxiv2text<0.2,>=0.1.14 in /home/mi/miniforge3/envs/camel/lib/python3.10/site-packages (from camel-ai[all]==0.2.36) (0.1.14)\n",
            "Requirement already satisfied: arxiv<3,>=2.1.3 in /home/mi/miniforge3/envs/camel/lib/python3.10/site-packages (from camel-ai[all]==0.2.36) (2.1.3)\n",
            "Requirement already satisfied: azure-storage-blob<13,>=12.21.0 in /home/mi/miniforge3/envs/camel/lib/python3.10/site-packages (from camel-ai[all]==0.2.36) (12.25.1)\n",
            "Requirement already satisfied: beautifulsoup4<5,>=4 in /home/mi/miniforge3/envs/camel/lib/python3.10/site-packages (from camel-ai[all]==0.2.36) (4.13.3)\n",
            "Requirement already satisfied: botocore<2,>=1.35.3 in /home/mi/miniforge3/envs/camel/lib/python3.10/site-packages (from camel-ai[all]==0.2.36) (1.37.22)\n",
            "Requirement already satisfied: cohere<6,>=5.11.0 in /home/mi/miniforge3/envs/camel/lib/python3.10/site-packages (from camel-ai[all]==0.2.36) (5.14.0)\n",
            "Requirement already satisfied: dappier<0.4,>=0.3.3 in /home/mi/miniforge3/envs/camel/lib/python3.10/site-packages (from camel-ai[all]==0.2.36) (0.3.4)\n",
            "Requirement already satisfied: datacommons-pandas<0.0.4,>=0.0.3 in /home/mi/miniforge3/envs/camel/lib/python3.10/site-packages (from camel-ai[all]==0.2.36) (0.0.3)\n",
            "Requirement already satisfied: datacommons<2,>=1.4.3 in /home/mi/miniforge3/envs/camel/lib/python3.10/site-packages (from camel-ai[all]==0.2.36) (1.4.3)\n",
            "Requirement already satisfied: datasets<4,>=3 in /home/mi/miniforge3/envs/camel/lib/python3.10/site-packages (from camel-ai[all]==0.2.36) (3.5.0)\n",
            "Requirement already satisfied: diffusers<0.26,>=0.25.0 in /home/mi/miniforge3/envs/camel/lib/python3.10/site-packages (from camel-ai[all]==0.2.36) (0.25.1)\n",
            "Requirement already satisfied: discord-py<3,>=2.3.2 in /home/mi/miniforge3/envs/camel/lib/python3.10/site-packages (from camel-ai[all]==0.2.36) (2.5.2)\n",
            "Requirement already satisfied: docker<8,>=7.1.0 in /home/mi/miniforge3/envs/camel/lib/python3.10/site-packages (from camel-ai[all]==0.2.36) (7.1.0)\n",
            "Requirement already satisfied: docx2txt<0.9,>=0.8 in /home/mi/miniforge3/envs/camel/lib/python3.10/site-packages (from camel-ai[all]==0.2.36) (0.8)\n",
            "Requirement already satisfied: docx>=0.2.4 in /home/mi/miniforge3/envs/camel/lib/python3.10/site-packages (from camel-ai[all]==0.2.36) (0.2.4)\n",
            "Requirement already satisfied: duckduckgo-search<7,>=6.3.5 in /home/mi/miniforge3/envs/camel/lib/python3.10/site-packages (from camel-ai[all]==0.2.36) (6.4.2)\n",
            "Requirement already satisfied: e2b-code-interpreter<2,>=1.0.3 in /home/mi/miniforge3/envs/camel/lib/python3.10/site-packages (from camel-ai[all]==0.2.36) (1.2.0)\n",
            "Requirement already satisfied: fastapi>=0.115.11 in /home/mi/miniforge3/envs/camel/lib/python3.10/site-packages (from camel-ai[all]==0.2.36) (0.115.12)\n",
            "Requirement already satisfied: ffmpeg-python<0.3,>=0.2.0 in /home/mi/miniforge3/envs/camel/lib/python3.10/site-packages (from camel-ai[all]==0.2.36) (0.2.0)\n",
            "Requirement already satisfied: firecrawl-py<2,>=1.0.0 in /home/mi/miniforge3/envs/camel/lib/python3.10/site-packages (from camel-ai[all]==0.2.36) (1.6.8)\n",
            "Requirement already satisfied: fish-audio-sdk<2025,>=2024.12.5 in /home/mi/miniforge3/envs/camel/lib/python3.10/site-packages (from camel-ai[all]==0.2.36) (2024.12.5)\n",
            "Requirement already satisfied: fpdf>=1.7.2 in /home/mi/miniforge3/envs/camel/lib/python3.10/site-packages (from camel-ai[all]==0.2.36) (1.7.2)\n",
            "Requirement already satisfied: google-cloud-storage<3,>=2.18.0 in /home/mi/miniforge3/envs/camel/lib/python3.10/site-packages (from camel-ai[all]==0.2.36) (2.19.0)\n",
            "Requirement already satisfied: googlemaps<5,>=4.10.0 in /home/mi/miniforge3/envs/camel/lib/python3.10/site-packages (from camel-ai[all]==0.2.36) (4.10.0)\n",
            "Requirement already satisfied: gradio<4,>=3 in /home/mi/miniforge3/envs/camel/lib/python3.10/site-packages (from camel-ai[all]==0.2.36) (3.36.1)\n",
            "Requirement already satisfied: html2text>=2024.2.26 in /home/mi/miniforge3/envs/camel/lib/python3.10/site-packages (from camel-ai[all]==0.2.36) (2024.2.26)\n",
            "Requirement already satisfied: imageio<3,>=2.34.2 in /home/mi/miniforge3/envs/camel/lib/python3.10/site-packages (from imageio[pyav]<3,>=2.34.2; extra == \"all\"->camel-ai[all]==0.2.36) (2.37.0)\n",
            "Requirement already satisfied: ipykernel<7,>=6.0.0 in /home/mi/miniforge3/envs/camel/lib/python3.10/site-packages (from camel-ai[all]==0.2.36) (6.29.5)\n",
            "Requirement already satisfied: jupyter-client<9,>=8.6.2 in /home/mi/miniforge3/envs/camel/lib/python3.10/site-packages (from camel-ai[all]==0.2.36) (8.6.3)\n",
            "Requirement already satisfied: linkup-sdk<0.3,>=0.2.1 in /home/mi/miniforge3/envs/camel/lib/python3.10/site-packages (from camel-ai[all]==0.2.36) (0.2.4)\n",
            "Requirement already satisfied: litellm<2,>=1.38.1 in /home/mi/miniforge3/envs/camel/lib/python3.10/site-packages (from camel-ai[all]==0.2.36) (1.64.1)\n",
            "Requirement already satisfied: mcp>=1.3.0 in /home/mi/miniforge3/envs/camel/lib/python3.10/site-packages (from camel-ai[all]==0.2.36) (1.6.0)\n",
            "Requirement already satisfied: mem0ai>=0.1.67 in /home/mi/miniforge3/envs/camel/lib/python3.10/site-packages (from camel-ai[all]==0.2.36) (0.1.77)\n",
            "Requirement already satisfied: mistralai<2,>=1.1.0 in /home/mi/miniforge3/envs/camel/lib/python3.10/site-packages (from camel-ai[all]==0.2.36) (1.5.2)\n",
            "Requirement already satisfied: mock<6,>=5 in /home/mi/miniforge3/envs/camel/lib/python3.10/site-packages (from camel-ai[all]==0.2.36) (5.2.0)\n",
            "Requirement already satisfied: mypy<2,>=1.5.1 in /home/mi/miniforge3/envs/camel/lib/python3.10/site-packages (from camel-ai[all]==0.2.36) (1.15.0)\n",
            "Requirement already satisfied: nebula3-python==3.8.2 in /home/mi/miniforge3/envs/camel/lib/python3.10/site-packages (from camel-ai[all]==0.2.36) (3.8.2)\n",
            "Requirement already satisfied: neo4j<6,>=5.18.0 in /home/mi/miniforge3/envs/camel/lib/python3.10/site-packages (from camel-ai[all]==0.2.36) (5.28.1)\n",
            "Requirement already satisfied: networkx<4,>=3.4.2 in /home/mi/miniforge3/envs/camel/lib/python3.10/site-packages (from camel-ai[all]==0.2.36) (3.4.2)\n",
            "Requirement already satisfied: newspaper3k<0.3,>=0.2.8 in /home/mi/miniforge3/envs/camel/lib/python3.10/site-packages (from camel-ai[all]==0.2.36) (0.2.8)\n",
            "Requirement already satisfied: notion-client<3,>=2.2.1 in /home/mi/miniforge3/envs/camel/lib/python3.10/site-packages (from camel-ai[all]==0.2.36) (2.3.0)\n",
            "Requirement already satisfied: openapi-spec-validator<0.8,>=0.7.1 in /home/mi/miniforge3/envs/camel/lib/python3.10/site-packages (from camel-ai[all]==0.2.36) (0.7.1)\n",
            "Requirement already satisfied: opencv-python<5,>=4 in /home/mi/miniforge3/envs/camel/lib/python3.10/site-packages (from camel-ai[all]==0.2.36) (4.11.0.86)\n",
            "Requirement already satisfied: openpyxl>=3.1.5 in /home/mi/miniforge3/envs/camel/lib/python3.10/site-packages (from camel-ai[all]==0.2.36) (3.1.5)\n",
            "Requirement already satisfied: outlines<0.2,>=0.1.7 in /home/mi/miniforge3/envs/camel/lib/python3.10/site-packages (from camel-ai[all]==0.2.36) (0.1.14)\n",
            "Requirement already satisfied: pandas<2,>=1.5.3 in /home/mi/miniforge3/envs/camel/lib/python3.10/site-packages (from camel-ai[all]==0.2.36) (1.5.3)\n",
            "Requirement already satisfied: pandasai<3,>=2.3.0 in /home/mi/miniforge3/envs/camel/lib/python3.10/site-packages (from camel-ai[all]==0.2.36) (2.4.2)\n",
            "Requirement already satisfied: pillow<11.0.0,>=10.1.0 in /home/mi/miniforge3/envs/camel/lib/python3.10/site-packages (from camel-ai[all]==0.2.36) (10.4.0)\n",
            "Requirement already satisfied: playwright>=1.50.0 in /home/mi/miniforge3/envs/camel/lib/python3.10/site-packages (from camel-ai[all]==0.2.36) (1.51.0)\n",
            "Requirement already satisfied: prance<24,>=23.6.21.0 in /home/mi/miniforge3/envs/camel/lib/python3.10/site-packages (from camel-ai[all]==0.2.36) (23.6.21.0)\n",
            "Requirement already satisfied: praw<8,>=7.7.1 in /home/mi/miniforge3/envs/camel/lib/python3.10/site-packages (from camel-ai[all]==0.2.36) (7.8.1)\n",
            "Requirement already satisfied: pre-commit<4,>=3 in /home/mi/miniforge3/envs/camel/lib/python3.10/site-packages (from camel-ai[all]==0.2.36) (3.8.0)\n",
            "Requirement already satisfied: pydub<0.26,>=0.25.1 in /home/mi/miniforge3/envs/camel/lib/python3.10/site-packages (from camel-ai[all]==0.2.36) (0.25.1)\n",
            "Requirement already satisfied: pygithub<3,>=2.3.0 in /home/mi/miniforge3/envs/camel/lib/python3.10/site-packages (from camel-ai[all]==0.2.36) (2.6.1)\n",
            "Requirement already satisfied: pymilvus<3,>=2.4.0 in /home/mi/miniforge3/envs/camel/lib/python3.10/site-packages (from camel-ai[all]==0.2.36) (2.5.6)\n",
            "Requirement already satisfied: pymupdf<2,>=1.22.5 in /home/mi/miniforge3/envs/camel/lib/python3.10/site-packages (from camel-ai[all]==0.2.36) (1.25.4)\n",
            "Requirement already satisfied: pyowm<4,>=3.3.0 in /home/mi/miniforge3/envs/camel/lib/python3.10/site-packages (from camel-ai[all]==0.2.36) (3.3.0)\n",
            "Requirement already satisfied: pytelegrambotapi<5,>=4.18.0 in /home/mi/miniforge3/envs/camel/lib/python3.10/site-packages (from camel-ai[all]==0.2.36) (4.26.0)\n",
            "Requirement already satisfied: pytest-asyncio<0.24,>=0.23.0 in /home/mi/miniforge3/envs/camel/lib/python3.10/site-packages (from camel-ai[all]==0.2.36) (0.23.8)\n",
            "Requirement already satisfied: pytest-cov<5,>=4 in /home/mi/miniforge3/envs/camel/lib/python3.10/site-packages (from camel-ai[all]==0.2.36) (4.1.0)\n",
            "Requirement already satisfied: pytest<8,>=7 in /home/mi/miniforge3/envs/camel/lib/python3.10/site-packages (from camel-ai[all]==0.2.36) (7.4.4)\n",
            "Requirement already satisfied: qdrant-client<2,>=1.9.0 in /home/mi/miniforge3/envs/camel/lib/python3.10/site-packages (from camel-ai[all]==0.2.36) (1.13.3)\n",
            "Requirement already satisfied: rank-bm25<0.3,>=0.2.2 in /home/mi/miniforge3/envs/camel/lib/python3.10/site-packages (from camel-ai[all]==0.2.36) (0.2.2)\n",
            "Requirement already satisfied: redis<6,>=5.0.6 in /home/mi/miniforge3/envs/camel/lib/python3.10/site-packages (from camel-ai[all]==0.2.36) (5.2.1)\n",
            "Requirement already satisfied: reka-api<4,>=3.0.8 in /home/mi/miniforge3/envs/camel/lib/python3.10/site-packages (from camel-ai[all]==0.2.36) (3.2.0)\n",
            "Requirement already satisfied: requests-oauthlib<2,>=1.3.1 in /home/mi/miniforge3/envs/camel/lib/python3.10/site-packages (from camel-ai[all]==0.2.36) (1.3.1)\n",
            "Requirement already satisfied: rouge<2,>=1.0.1 in /home/mi/miniforge3/envs/camel/lib/python3.10/site-packages (from camel-ai[all]==0.2.36) (1.0.1)\n",
            "Requirement already satisfied: scenedetect>=0.6.5.2 in /home/mi/miniforge3/envs/camel/lib/python3.10/site-packages (from camel-ai[all]==0.2.36) (0.6.6)\n",
            "Requirement already satisfied: scholarly==1.7.11 in /home/mi/miniforge3/envs/camel/lib/python3.10/site-packages (from scholarly[tor]==1.7.11; extra == \"all\"->camel-ai[all]==0.2.36) (1.7.11)\n",
            "Requirement already satisfied: sentence-transformers<4,>=3.0.1 in /home/mi/miniforge3/envs/camel/lib/python3.10/site-packages (from camel-ai[all]==0.2.36) (3.4.1)\n",
            "Requirement already satisfied: sentencepiece<0.3,>=0.2 in /home/mi/miniforge3/envs/camel/lib/python3.10/site-packages (from camel-ai[all]==0.2.36) (0.2.0)\n",
            "Requirement already satisfied: slack-bolt<2,>=1.20.1 in /home/mi/miniforge3/envs/camel/lib/python3.10/site-packages (from camel-ai[all]==0.2.36) (1.23.0)\n",
            "Requirement already satisfied: slack-sdk<4,>=3.27.2 in /home/mi/miniforge3/envs/camel/lib/python3.10/site-packages (from camel-ai[all]==0.2.36) (3.35.0)\n",
            "Requirement already satisfied: soundfile<0.14,>=0.13 in /home/mi/miniforge3/envs/camel/lib/python3.10/site-packages (from camel-ai[all]==0.2.36) (0.13.1)\n",
            "Requirement already satisfied: stripe<12,>=11.3.0 in /home/mi/miniforge3/envs/camel/lib/python3.10/site-packages (from camel-ai[all]==0.2.36) (11.6.0)\n",
            "Requirement already satisfied: sympy<2,>=1.13.3 in /home/mi/miniforge3/envs/camel/lib/python3.10/site-packages (from camel-ai[all]==0.2.36) (1.13.3)\n",
            "Requirement already satisfied: tabulate>=0.9.0 in /home/mi/miniforge3/envs/camel/lib/python3.10/site-packages (from camel-ai[all]==0.2.36) (0.9.0)\n",
            "Requirement already satisfied: tavily-python<0.6,>=0.5.0 in /home/mi/miniforge3/envs/camel/lib/python3.10/site-packages (from camel-ai[all]==0.2.36) (0.5.2)\n",
            "Requirement already satisfied: textblob<0.18,>=0.17.1 in /home/mi/miniforge3/envs/camel/lib/python3.10/site-packages (from camel-ai[all]==0.2.36) (0.17.1)\n",
            "Requirement already satisfied: torch in /home/mi/miniforge3/envs/camel/lib/python3.10/site-packages (from camel-ai[all]==0.2.36) (2.4.1)\n",
            "Requirement already satisfied: transformers<5,>=4 in /home/mi/miniforge3/envs/camel/lib/python3.10/site-packages (from camel-ai[all]==0.2.36) (4.50.2)\n",
            "Requirement already satisfied: tree-sitter-python<0.24,>=0.23.6 in /home/mi/miniforge3/envs/camel/lib/python3.10/site-packages (from camel-ai[all]==0.2.36) (0.23.6)\n",
            "Requirement already satisfied: tree-sitter<0.24,>=0.23.2 in /home/mi/miniforge3/envs/camel/lib/python3.10/site-packages (from camel-ai[all]==0.2.36) (0.23.2)\n",
            "Requirement already satisfied: typer>=0.15.2 in /home/mi/miniforge3/envs/camel/lib/python3.10/site-packages (from camel-ai[all]==0.2.36) (0.15.2)\n",
            "Requirement already satisfied: types-colorama<0.5,>=0.4.15 in /home/mi/miniforge3/envs/camel/lib/python3.10/site-packages (from camel-ai[all]==0.2.36) (0.4.15.20240311)\n",
            "Requirement already satisfied: types-mock<6,>=5.1.0 in /home/mi/miniforge3/envs/camel/lib/python3.10/site-packages (from camel-ai[all]==0.2.36) (5.2.0.20250306)\n",
            "Requirement already satisfied: types-pyyaml<7,>=6.0.12 in /home/mi/miniforge3/envs/camel/lib/python3.10/site-packages (from camel-ai[all]==0.2.36) (6.0.12.20250326)\n",
            "Requirement already satisfied: types-requests<3,>=2.31.0 in /home/mi/miniforge3/envs/camel/lib/python3.10/site-packages (from camel-ai[all]==0.2.36) (2.32.0.20250328)\n",
            "Requirement already satisfied: types-setuptools<70,>=69.2.0 in /home/mi/miniforge3/envs/camel/lib/python3.10/site-packages (from camel-ai[all]==0.2.36) (69.5.0.20240522)\n",
            "Requirement already satisfied: types-tqdm<5,>=4.66.0 in /home/mi/miniforge3/envs/camel/lib/python3.10/site-packages (from camel-ai[all]==0.2.36) (4.67.0.20250319)\n",
            "Requirement already satisfied: unstructured==0.16.20 in /home/mi/miniforge3/envs/camel/lib/python3.10/site-packages (from camel-ai[all]==0.2.36) (0.16.20)\n",
            "Requirement already satisfied: wikipedia<2,>=1 in /home/mi/miniforge3/envs/camel/lib/python3.10/site-packages (from camel-ai[all]==0.2.36) (1.4.0)\n",
            "Requirement already satisfied: wolframalpha<6,>=5.0.0 in /home/mi/miniforge3/envs/camel/lib/python3.10/site-packages (from camel-ai[all]==0.2.36) (5.1.3)\n",
            "Requirement already satisfied: xls2xlsx>=0.2.0 in /home/mi/miniforge3/envs/camel/lib/python3.10/site-packages (from camel-ai[all]==0.2.36) (0.2.0)\n",
            "Requirement already satisfied: yt-dlp<2025,>=2024.11.4 in /home/mi/miniforge3/envs/camel/lib/python3.10/site-packages (from camel-ai[all]==0.2.36) (2024.12.23)\n",
            "Requirement already satisfied: future>=0.18.0 in /home/mi/miniforge3/envs/camel/lib/python3.10/site-packages (from nebula3-python==3.8.2->camel-ai[all]==0.2.36) (1.0.0)\n",
            "Requirement already satisfied: httplib2>=0.20.0 in /home/mi/miniforge3/envs/camel/lib/python3.10/site-packages (from nebula3-python==3.8.2->camel-ai[all]==0.2.36) (0.22.0)\n",
            "Requirement already satisfied: pytz>=2021.1 in /home/mi/miniforge3/envs/camel/lib/python3.10/site-packages (from nebula3-python==3.8.2->camel-ai[all]==0.2.36) (2024.2)\n",
            "Requirement already satisfied: six>=1.16.0 in /home/mi/miniforge3/envs/camel/lib/python3.10/site-packages (from nebula3-python==3.8.2->camel-ai[all]==0.2.36) (1.17.0)\n",
            "Requirement already satisfied: arrow in /home/mi/miniforge3/envs/camel/lib/python3.10/site-packages (from scholarly==1.7.11->scholarly[tor]==1.7.11; extra == \"all\"->camel-ai[all]==0.2.36) (1.3.0)\n",
            "Requirement already satisfied: bibtexparser in /home/mi/miniforge3/envs/camel/lib/python3.10/site-packages (from scholarly==1.7.11->scholarly[tor]==1.7.11; extra == \"all\"->camel-ai[all]==0.2.36) (1.4.3)\n",
            "Requirement already satisfied: deprecated in /home/mi/miniforge3/envs/camel/lib/python3.10/site-packages (from scholarly==1.7.11->scholarly[tor]==1.7.11; extra == \"all\"->camel-ai[all]==0.2.36) (1.2.18)\n",
            "Requirement already satisfied: fake-useragent in /home/mi/miniforge3/envs/camel/lib/python3.10/site-packages (from scholarly==1.7.11->scholarly[tor]==1.7.11; extra == \"all\"->camel-ai[all]==0.2.36) (2.1.0)\n",
            "Requirement already satisfied: free-proxy in /home/mi/miniforge3/envs/camel/lib/python3.10/site-packages (from scholarly==1.7.11->scholarly[tor]==1.7.11; extra == \"all\"->camel-ai[all]==0.2.36) (1.1.3)\n",
            "Requirement already satisfied: python-dotenv in /home/mi/miniforge3/envs/camel/lib/python3.10/site-packages (from scholarly==1.7.11->scholarly[tor]==1.7.11; extra == \"all\"->camel-ai[all]==0.2.36) (1.1.0)\n",
            "Requirement already satisfied: requests[socks] in /home/mi/miniforge3/envs/camel/lib/python3.10/site-packages (from scholarly==1.7.11->scholarly[tor]==1.7.11; extra == \"all\"->camel-ai[all]==0.2.36) (2.32.3)\n",
            "Requirement already satisfied: selenium in /home/mi/miniforge3/envs/camel/lib/python3.10/site-packages (from scholarly==1.7.11->scholarly[tor]==1.7.11; extra == \"all\"->camel-ai[all]==0.2.36) (4.30.0)\n",
            "Requirement already satisfied: sphinx-rtd-theme in /home/mi/miniforge3/envs/camel/lib/python3.10/site-packages (from scholarly==1.7.11->scholarly[tor]==1.7.11; extra == \"all\"->camel-ai[all]==0.2.36) (3.0.2)\n",
            "Requirement already satisfied: typing-extensions in /home/mi/miniforge3/envs/camel/lib/python3.10/site-packages (from scholarly==1.7.11->scholarly[tor]==1.7.11; extra == \"all\"->camel-ai[all]==0.2.36) (4.12.2)\n",
            "Requirement already satisfied: stem in /home/mi/miniforge3/envs/camel/lib/python3.10/site-packages (from scholarly[tor]==1.7.11; extra == \"all\"->camel-ai[all]==0.2.36) (1.8.2)\n",
            "Requirement already satisfied: chardet in /home/mi/miniforge3/envs/camel/lib/python3.10/site-packages (from unstructured==0.16.20->camel-ai[all]==0.2.36) (5.2.0)\n",
            "Requirement already satisfied: filetype in /home/mi/miniforge3/envs/camel/lib/python3.10/site-packages (from unstructured==0.16.20->camel-ai[all]==0.2.36) (1.2.0)\n",
            "Requirement already satisfied: python-magic in /home/mi/miniforge3/envs/camel/lib/python3.10/site-packages (from unstructured==0.16.20->camel-ai[all]==0.2.36) (0.4.27)\n",
            "Requirement already satisfied: lxml in /home/mi/miniforge3/envs/camel/lib/python3.10/site-packages (from unstructured==0.16.20->camel-ai[all]==0.2.36) (5.3.1)\n",
            "Requirement already satisfied: nltk in /home/mi/miniforge3/envs/camel/lib/python3.10/site-packages (from unstructured==0.16.20->camel-ai[all]==0.2.36) (3.9.1)\n",
            "Requirement already satisfied: emoji in /home/mi/miniforge3/envs/camel/lib/python3.10/site-packages (from unstructured==0.16.20->camel-ai[all]==0.2.36) (2.14.1)\n",
            "Requirement already satisfied: dataclasses-json in /home/mi/miniforge3/envs/camel/lib/python3.10/site-packages (from unstructured==0.16.20->camel-ai[all]==0.2.36) (0.6.7)\n",
            "Requirement already satisfied: python-iso639 in /home/mi/miniforge3/envs/camel/lib/python3.10/site-packages (from unstructured==0.16.20->camel-ai[all]==0.2.36) (2025.2.18)\n",
            "Requirement already satisfied: langdetect in /home/mi/miniforge3/envs/camel/lib/python3.10/site-packages (from unstructured==0.16.20->camel-ai[all]==0.2.36) (1.0.9)\n",
            "Requirement already satisfied: rapidfuzz in /home/mi/miniforge3/envs/camel/lib/python3.10/site-packages (from unstructured==0.16.20->camel-ai[all]==0.2.36) (3.12.2)\n",
            "Requirement already satisfied: backoff in /home/mi/miniforge3/envs/camel/lib/python3.10/site-packages (from unstructured==0.16.20->camel-ai[all]==0.2.36) (2.2.1)\n",
            "Requirement already satisfied: unstructured-client in /home/mi/miniforge3/envs/camel/lib/python3.10/site-packages (from unstructured==0.16.20->camel-ai[all]==0.2.36) (0.28.1)\n",
            "Requirement already satisfied: wrapt in /home/mi/miniforge3/envs/camel/lib/python3.10/site-packages (from unstructured==0.16.20->camel-ai[all]==0.2.36) (1.17.2)\n",
            "Requirement already satisfied: tqdm in /home/mi/miniforge3/envs/camel/lib/python3.10/site-packages (from unstructured==0.16.20->camel-ai[all]==0.2.36) (4.67.1)\n",
            "Requirement already satisfied: python-oxmsg in /home/mi/miniforge3/envs/camel/lib/python3.10/site-packages (from unstructured==0.16.20->camel-ai[all]==0.2.36) (0.0.2)\n",
            "Requirement already satisfied: html5lib in /home/mi/miniforge3/envs/camel/lib/python3.10/site-packages (from unstructured==0.16.20->camel-ai[all]==0.2.36) (1.1)\n",
            "Requirement already satisfied: packaging>=20.0 in /home/mi/miniforge3/envs/camel/lib/python3.10/site-packages (from accelerate<0.27,>=0.26.0->camel-ai[all]==0.2.36) (24.2)\n",
            "Requirement already satisfied: huggingface-hub in /home/mi/miniforge3/envs/camel/lib/python3.10/site-packages (from accelerate<0.27,>=0.26.0->camel-ai[all]==0.2.36) (0.29.3)\n",
            "Requirement already satisfied: safetensors>=0.3.1 in /home/mi/miniforge3/envs/camel/lib/python3.10/site-packages (from accelerate<0.27,>=0.26.0->camel-ai[all]==0.2.36) (0.5.3)\n",
            "Requirement already satisfied: opentelemetry-api>=1.27.0 in /home/mi/miniforge3/envs/camel/lib/python3.10/site-packages (from agentops<0.4,>=0.3.21->camel-ai[all]==0.2.36) (1.31.1)\n",
            "Requirement already satisfied: opentelemetry-exporter-otlp-proto-http>=1.27.0 in /home/mi/miniforge3/envs/camel/lib/python3.10/site-packages (from agentops<0.4,>=0.3.21->camel-ai[all]==0.2.36) (1.31.1)\n",
            "Requirement already satisfied: opentelemetry-sdk>=1.27.0 in /home/mi/miniforge3/envs/camel/lib/python3.10/site-packages (from agentops<0.4,>=0.3.21->camel-ai[all]==0.2.36) (1.31.1)\n",
            "Requirement already satisfied: termcolor<2.5.0,>=2.3.0 in /home/mi/miniforge3/envs/camel/lib/python3.10/site-packages (from agentops<0.4,>=0.3.21->camel-ai[all]==0.2.36) (2.4.0)\n",
            "Requirement already satisfied: anyio<5,>=3.5.0 in /home/mi/miniforge3/envs/camel/lib/python3.10/site-packages (from anthropic<0.50.0,>=0.47.0->camel-ai[all]==0.2.36) (4.9.0)\n",
            "Requirement already satisfied: distro<2,>=1.7.0 in /home/mi/miniforge3/envs/camel/lib/python3.10/site-packages (from anthropic<0.50.0,>=0.47.0->camel-ai[all]==0.2.36) (1.9.0)\n",
            "Requirement already satisfied: jiter<1,>=0.4.0 in /home/mi/miniforge3/envs/camel/lib/python3.10/site-packages (from anthropic<0.50.0,>=0.47.0->camel-ai[all]==0.2.36) (0.9.0)\n",
            "Requirement already satisfied: sniffio in /home/mi/miniforge3/envs/camel/lib/python3.10/site-packages (from anthropic<0.50.0,>=0.47.0->camel-ai[all]==0.2.36) (1.3.1)\n",
            "Requirement already satisfied: apify-shared>=1.1.2 in /home/mi/miniforge3/envs/camel/lib/python3.10/site-packages (from apify-client<2,>=1.8.1->camel-ai[all]==0.2.36) (1.3.2)\n",
            "Requirement already satisfied: more_itertools>=10.0.0 in /home/mi/miniforge3/envs/camel/lib/python3.10/site-packages (from apify-client<2,>=1.8.1->camel-ai[all]==0.2.36) (10.6.0)\n",
            "Requirement already satisfied: feedparser~=6.0.10 in /home/mi/miniforge3/envs/camel/lib/python3.10/site-packages (from arxiv<3,>=2.1.3->camel-ai[all]==0.2.36) (6.0.11)\n",
            "Requirement already satisfied: pdfminer-six in /home/mi/miniforge3/envs/camel/lib/python3.10/site-packages (from arxiv2text<0.2,>=0.1.14->camel-ai[all]==0.2.36) (20250327)\n",
            "Requirement already satisfied: scikit-learn in /home/mi/miniforge3/envs/camel/lib/python3.10/site-packages (from arxiv2text<0.2,>=0.1.14->camel-ai[all]==0.2.36) (1.6.1)\n",
            "Requirement already satisfied: PyPDF2 in /home/mi/miniforge3/envs/camel/lib/python3.10/site-packages (from arxiv2text<0.2,>=0.1.14->camel-ai[all]==0.2.36) (3.0.1)\n",
            "Requirement already satisfied: azure-core>=1.30.0 in /home/mi/miniforge3/envs/camel/lib/python3.10/site-packages (from azure-storage-blob<13,>=12.21.0->camel-ai[all]==0.2.36) (1.32.0)\n",
            "Requirement already satisfied: cryptography>=2.1.4 in /home/mi/miniforge3/envs/camel/lib/python3.10/site-packages (from azure-storage-blob<13,>=12.21.0->camel-ai[all]==0.2.36) (44.0.2)\n",
            "Requirement already satisfied: isodate>=0.6.1 in /home/mi/miniforge3/envs/camel/lib/python3.10/site-packages (from azure-storage-blob<13,>=12.21.0->camel-ai[all]==0.2.36) (0.7.2)\n",
            "Requirement already satisfied: soupsieve>1.2 in /home/mi/miniforge3/envs/camel/lib/python3.10/site-packages (from beautifulsoup4<5,>=4->camel-ai[all]==0.2.36) (2.6)\n",
            "Requirement already satisfied: jmespath<2.0.0,>=0.7.1 in /home/mi/miniforge3/envs/camel/lib/python3.10/site-packages (from botocore<2,>=1.35.3->camel-ai[all]==0.2.36) (1.0.1)\n",
            "Requirement already satisfied: python-dateutil<3.0.0,>=2.1 in /home/mi/miniforge3/envs/camel/lib/python3.10/site-packages (from botocore<2,>=1.35.3->camel-ai[all]==0.2.36) (2.8.2)\n",
            "Requirement already satisfied: urllib3!=2.2.0,<3,>=1.25.4 in /home/mi/miniforge3/envs/camel/lib/python3.10/site-packages (from botocore<2,>=1.35.3->camel-ai[all]==0.2.36) (2.3.0)\n",
            "Requirement already satisfied: fastavro<2.0.0,>=1.9.4 in /home/mi/miniforge3/envs/camel/lib/python3.10/site-packages (from cohere<6,>=5.11.0->camel-ai[all]==0.2.36) (1.10.0)\n",
            "Requirement already satisfied: httpx-sse==0.4.0 in /home/mi/miniforge3/envs/camel/lib/python3.10/site-packages (from cohere<6,>=5.11.0->camel-ai[all]==0.2.36) (0.4.0)\n",
            "Requirement already satisfied: pydantic-core<3.0.0,>=2.18.2 in /home/mi/miniforge3/envs/camel/lib/python3.10/site-packages (from cohere<6,>=5.11.0->camel-ai[all]==0.2.36) (2.23.4)\n",
            "Requirement already satisfied: tokenizers<1,>=0.15 in /home/mi/miniforge3/envs/camel/lib/python3.10/site-packages (from cohere<6,>=5.11.0->camel-ai[all]==0.2.36) (0.21.1)\n",
            "Requirement already satisfied: asyncio<4.0.0,>=3.4.3 in /home/mi/miniforge3/envs/camel/lib/python3.10/site-packages (from dappier<0.4,>=0.3.3->camel-ai[all]==0.2.36) (3.4.3)\n",
            "Requirement already satisfied: filelock in /home/mi/miniforge3/envs/camel/lib/python3.10/site-packages (from datasets<4,>=3->camel-ai[all]==0.2.36) (3.18.0)\n",
            "Requirement already satisfied: pyarrow>=15.0.0 in /home/mi/miniforge3/envs/camel/lib/python3.10/site-packages (from datasets<4,>=3->camel-ai[all]==0.2.36) (19.0.1)\n",
            "Requirement already satisfied: dill<0.3.9,>=0.3.0 in /home/mi/miniforge3/envs/camel/lib/python3.10/site-packages (from datasets<4,>=3->camel-ai[all]==0.2.36) (0.3.8)\n",
            "Requirement already satisfied: xxhash in /home/mi/miniforge3/envs/camel/lib/python3.10/site-packages (from datasets<4,>=3->camel-ai[all]==0.2.36) (3.5.0)\n",
            "Requirement already satisfied: multiprocess<0.70.17 in /home/mi/miniforge3/envs/camel/lib/python3.10/site-packages (from datasets<4,>=3->camel-ai[all]==0.2.36) (0.70.16)\n",
            "Requirement already satisfied: fsspec<=2024.12.0,>=2023.1.0 in /home/mi/miniforge3/envs/camel/lib/python3.10/site-packages (from fsspec[http]<=2024.12.0,>=2023.1.0->datasets<4,>=3->camel-ai[all]==0.2.36) (2024.12.0)\n",
            "Requirement already satisfied: aiohttp in /home/mi/miniforge3/envs/camel/lib/python3.10/site-packages (from datasets<4,>=3->camel-ai[all]==0.2.36) (3.11.14)\n",
            "Requirement already satisfied: importlib-metadata in /home/mi/miniforge3/envs/camel/lib/python3.10/site-packages (from diffusers<0.26,>=0.25.0->camel-ai[all]==0.2.36) (8.6.1)\n",
            "Requirement already satisfied: regex!=2019.12.17 in /home/mi/miniforge3/envs/camel/lib/python3.10/site-packages (from diffusers<0.26,>=0.25.0->camel-ai[all]==0.2.36) (2024.11.6)\n",
            "Requirement already satisfied: click>=8.1.7 in /home/mi/miniforge3/envs/camel/lib/python3.10/site-packages (from duckduckgo-search<7,>=6.3.5->camel-ai[all]==0.2.36) (8.1.8)\n",
            "Requirement already satisfied: primp>=0.9.1 in /home/mi/miniforge3/envs/camel/lib/python3.10/site-packages (from duckduckgo-search<7,>=6.3.5->camel-ai[all]==0.2.36) (0.14.0)\n",
            "Requirement already satisfied: attrs>=21.3.0 in /home/mi/miniforge3/envs/camel/lib/python3.10/site-packages (from e2b-code-interpreter<2,>=1.0.3->camel-ai[all]==0.2.36) (25.3.0)\n",
            "Requirement already satisfied: e2b<2.0.0,>=1.3.1 in /home/mi/miniforge3/envs/camel/lib/python3.10/site-packages (from e2b-code-interpreter<2,>=1.0.3->camel-ai[all]==0.2.36) (1.3.2)\n",
            "Requirement already satisfied: starlette<0.47.0,>=0.40.0 in /home/mi/miniforge3/envs/camel/lib/python3.10/site-packages (from fastapi>=0.115.11->camel-ai[all]==0.2.36) (0.46.1)\n",
            "Requirement already satisfied: websockets in /home/mi/miniforge3/envs/camel/lib/python3.10/site-packages (from firecrawl-py<2,>=1.0.0->camel-ai[all]==0.2.36) (11.0.3)\n",
            "Requirement already satisfied: nest-asyncio in /home/mi/miniforge3/envs/camel/lib/python3.10/site-packages (from firecrawl-py<2,>=1.0.0->camel-ai[all]==0.2.36) (1.6.0)\n",
            "Requirement already satisfied: ormsgpack>=1.5.0 in /home/mi/miniforge3/envs/camel/lib/python3.10/site-packages (from fish-audio-sdk<2025,>=2024.12.5->camel-ai[all]==0.2.36) (1.9.0)\n",
            "Requirement already satisfied: httpx-ws>=0.6.2 in /home/mi/miniforge3/envs/camel/lib/python3.10/site-packages (from fish-audio-sdk<2025,>=2024.12.5->camel-ai[all]==0.2.36) (0.7.1)\n",
            "Requirement already satisfied: google-auth<3.0dev,>=2.26.1 in /home/mi/miniforge3/envs/camel/lib/python3.10/site-packages (from google-cloud-storage<3,>=2.18.0->camel-ai[all]==0.2.36) (2.38.0)\n",
            "Requirement already satisfied: google-api-core<3.0.0dev,>=2.15.0 in /home/mi/miniforge3/envs/camel/lib/python3.10/site-packages (from google-cloud-storage<3,>=2.18.0->camel-ai[all]==0.2.36) (2.24.2)\n",
            "Requirement already satisfied: google-cloud-core<3.0dev,>=2.3.0 in /home/mi/miniforge3/envs/camel/lib/python3.10/site-packages (from google-cloud-storage<3,>=2.18.0->camel-ai[all]==0.2.36) (2.4.3)\n",
            "Requirement already satisfied: google-resumable-media>=2.7.2 in /home/mi/miniforge3/envs/camel/lib/python3.10/site-packages (from google-cloud-storage<3,>=2.18.0->camel-ai[all]==0.2.36) (2.7.2)\n",
            "Requirement already satisfied: google-crc32c<2.0dev,>=1.0 in /home/mi/miniforge3/envs/camel/lib/python3.10/site-packages (from google-cloud-storage<3,>=2.18.0->camel-ai[all]==0.2.36) (1.7.1)\n",
            "Requirement already satisfied: aiofiles in /home/mi/miniforge3/envs/camel/lib/python3.10/site-packages (from gradio<4,>=3->camel-ai[all]==0.2.36) (24.1.0)\n",
            "Requirement already satisfied: altair>=4.2.0 in /home/mi/miniforge3/envs/camel/lib/python3.10/site-packages (from gradio<4,>=3->camel-ai[all]==0.2.36) (5.5.0)\n",
            "Requirement already satisfied: ffmpy in /home/mi/miniforge3/envs/camel/lib/python3.10/site-packages (from gradio<4,>=3->camel-ai[all]==0.2.36) (0.5.0)\n",
            "Requirement already satisfied: gradio-client>=0.2.7 in /home/mi/miniforge3/envs/camel/lib/python3.10/site-packages (from gradio<4,>=3->camel-ai[all]==0.2.36) (0.6.1)\n",
            "Requirement already satisfied: jinja2 in /home/mi/miniforge3/envs/camel/lib/python3.10/site-packages (from gradio<4,>=3->camel-ai[all]==0.2.36) (3.1.6)\n",
            "Requirement already satisfied: markdown-it-py>=2.0.0 in /home/mi/miniforge3/envs/camel/lib/python3.10/site-packages (from markdown-it-py[linkify]>=2.0.0->gradio<4,>=3->camel-ai[all]==0.2.36) (2.2.0)\n",
            "Requirement already satisfied: markupsafe in /home/mi/miniforge3/envs/camel/lib/python3.10/site-packages (from gradio<4,>=3->camel-ai[all]==0.2.36) (2.1.5)\n",
            "Requirement already satisfied: matplotlib in /home/mi/miniforge3/envs/camel/lib/python3.10/site-packages (from gradio<4,>=3->camel-ai[all]==0.2.36) (3.10.1)\n",
            "Requirement already satisfied: mdit-py-plugins<=0.3.3 in /home/mi/miniforge3/envs/camel/lib/python3.10/site-packages (from gradio<4,>=3->camel-ai[all]==0.2.36) (0.3.3)\n",
            "Requirement already satisfied: orjson in /home/mi/miniforge3/envs/camel/lib/python3.10/site-packages (from gradio<4,>=3->camel-ai[all]==0.2.36) (3.10.16)\n",
            "Requirement already satisfied: pygments>=2.12.0 in /home/mi/miniforge3/envs/camel/lib/python3.10/site-packages (from gradio<4,>=3->camel-ai[all]==0.2.36) (2.19.1)\n",
            "Requirement already satisfied: python-multipart in /home/mi/miniforge3/envs/camel/lib/python3.10/site-packages (from gradio<4,>=3->camel-ai[all]==0.2.36) (0.0.20)\n",
            "Requirement already satisfied: semantic-version in /home/mi/miniforge3/envs/camel/lib/python3.10/site-packages (from gradio<4,>=3->camel-ai[all]==0.2.36) (2.10.0)\n",
            "Requirement already satisfied: uvicorn>=0.14.0 in /home/mi/miniforge3/envs/camel/lib/python3.10/site-packages (from gradio<4,>=3->camel-ai[all]==0.2.36) (0.34.0)\n",
            "Requirement already satisfied: certifi in /home/mi/miniforge3/envs/camel/lib/python3.10/site-packages (from httpx<1.0.0dev,>=0.28.0->camel-ai==0.2.36->camel-ai[all]==0.2.36) (2025.1.31)\n",
            "Requirement already satisfied: httpcore==1.* in /home/mi/miniforge3/envs/camel/lib/python3.10/site-packages (from httpx<1.0.0dev,>=0.28.0->camel-ai==0.2.36->camel-ai[all]==0.2.36) (1.0.7)\n",
            "Requirement already satisfied: idna in /home/mi/miniforge3/envs/camel/lib/python3.10/site-packages (from httpx<1.0.0dev,>=0.28.0->camel-ai==0.2.36->camel-ai[all]==0.2.36) (3.10)\n",
            "Requirement already satisfied: h11<0.15,>=0.13 in /home/mi/miniforge3/envs/camel/lib/python3.10/site-packages (from httpcore==1.*->httpx<1.0.0dev,>=0.28.0->camel-ai==0.2.36->camel-ai[all]==0.2.36) (0.14.0)\n",
            "Requirement already satisfied: av in /home/mi/miniforge3/envs/camel/lib/python3.10/site-packages (from imageio[pyav]<3,>=2.34.2; extra == \"all\"->camel-ai[all]==0.2.36) (14.2.0)\n",
            "Requirement already satisfied: comm>=0.1.1 in /home/mi/miniforge3/envs/camel/lib/python3.10/site-packages (from ipykernel<7,>=6.0.0->camel-ai[all]==0.2.36) (0.2.2)\n",
            "Requirement already satisfied: debugpy>=1.6.5 in /home/mi/miniforge3/envs/camel/lib/python3.10/site-packages (from ipykernel<7,>=6.0.0->camel-ai[all]==0.2.36) (1.8.13)\n",
            "Requirement already satisfied: ipython>=7.23.1 in /home/mi/miniforge3/envs/camel/lib/python3.10/site-packages (from ipykernel<7,>=6.0.0->camel-ai[all]==0.2.36) (8.34.0)\n",
            "Requirement already satisfied: jupyter-core!=5.0.*,>=4.12 in /home/mi/miniforge3/envs/camel/lib/python3.10/site-packages (from ipykernel<7,>=6.0.0->camel-ai[all]==0.2.36) (5.7.2)\n",
            "Requirement already satisfied: matplotlib-inline>=0.1 in /home/mi/miniforge3/envs/camel/lib/python3.10/site-packages (from ipykernel<7,>=6.0.0->camel-ai[all]==0.2.36) (0.1.7)\n",
            "Requirement already satisfied: pyzmq>=24 in /home/mi/miniforge3/envs/camel/lib/python3.10/site-packages (from ipykernel<7,>=6.0.0->camel-ai[all]==0.2.36) (26.3.0)\n",
            "Requirement already satisfied: tornado>=6.1 in /home/mi/miniforge3/envs/camel/lib/python3.10/site-packages (from ipykernel<7,>=6.0.0->camel-ai[all]==0.2.36) (6.4.2)\n",
            "Requirement already satisfied: traitlets>=5.4.0 in /home/mi/miniforge3/envs/camel/lib/python3.10/site-packages (from ipykernel<7,>=6.0.0->camel-ai[all]==0.2.36) (5.14.3)\n",
            "Requirement already satisfied: jsonschema-specifications>=2023.03.6 in /home/mi/miniforge3/envs/camel/lib/python3.10/site-packages (from jsonschema<5,>=4->camel-ai==0.2.36->camel-ai[all]==0.2.36) (2024.10.1)\n",
            "Requirement already satisfied: referencing>=0.28.4 in /home/mi/miniforge3/envs/camel/lib/python3.10/site-packages (from jsonschema<5,>=4->camel-ai==0.2.36->camel-ai[all]==0.2.36) (0.36.2)\n",
            "Requirement already satisfied: rpds-py>=0.7.1 in /home/mi/miniforge3/envs/camel/lib/python3.10/site-packages (from jsonschema<5,>=4->camel-ai==0.2.36->camel-ai[all]==0.2.36) (0.24.0)\n",
            "Requirement already satisfied: pydantic-settings>=2.5.2 in /home/mi/miniforge3/envs/camel/lib/python3.10/site-packages (from mcp>=1.3.0->camel-ai[all]==0.2.36) (2.8.1)\n",
            "Requirement already satisfied: sse-starlette>=1.6.1 in /home/mi/miniforge3/envs/camel/lib/python3.10/site-packages (from mcp>=1.3.0->camel-ai[all]==0.2.36) (2.2.1)\n",
            "Requirement already satisfied: azure-search-documents<12.0.0,>=11.5.0 in /home/mi/miniforge3/envs/camel/lib/python3.10/site-packages (from mem0ai>=0.1.67->camel-ai[all]==0.2.36) (11.5.2)\n",
            "Requirement already satisfied: posthog<4.0.0,>=3.5.0 in /home/mi/miniforge3/envs/camel/lib/python3.10/site-packages (from mem0ai>=0.1.67->camel-ai[all]==0.2.36) (3.23.0)\n",
            "Requirement already satisfied: psycopg2-binary<3.0.0,>=2.9.10 in /home/mi/miniforge3/envs/camel/lib/python3.10/site-packages (from mem0ai>=0.1.67->camel-ai[all]==0.2.36) (2.9.10)\n",
            "Requirement already satisfied: sqlalchemy<3.0.0,>=2.0.31 in /home/mi/miniforge3/envs/camel/lib/python3.10/site-packages (from mem0ai>=0.1.67->camel-ai[all]==0.2.36) (2.0.40)\n",
            "Requirement already satisfied: eval-type-backport>=0.2.0 in /home/mi/miniforge3/envs/camel/lib/python3.10/site-packages (from mistralai<2,>=1.1.0->camel-ai[all]==0.2.36) (0.2.2)\n",
            "Requirement already satisfied: jsonpath-python>=1.0.6 in /home/mi/miniforge3/envs/camel/lib/python3.10/site-packages (from mistralai<2,>=1.1.0->camel-ai[all]==0.2.36) (1.0.6)\n",
            "Requirement already satisfied: typing-inspect>=0.9.0 in /home/mi/miniforge3/envs/camel/lib/python3.10/site-packages (from mistralai<2,>=1.1.0->camel-ai[all]==0.2.36) (0.9.0)\n",
            "Requirement already satisfied: mypy_extensions>=1.0.0 in /home/mi/miniforge3/envs/camel/lib/python3.10/site-packages (from mypy<2,>=1.5.1->camel-ai[all]==0.2.36) (1.0.0)\n",
            "Requirement already satisfied: tomli>=1.1.0 in /home/mi/miniforge3/envs/camel/lib/python3.10/site-packages (from mypy<2,>=1.5.1->camel-ai[all]==0.2.36) (2.2.1)\n",
            "Requirement already satisfied: cssselect>=0.9.2 in /home/mi/miniforge3/envs/camel/lib/python3.10/site-packages (from newspaper3k<0.3,>=0.2.8->camel-ai[all]==0.2.36) (1.3.0)\n",
            "Requirement already satisfied: tldextract>=2.0.1 in /home/mi/miniforge3/envs/camel/lib/python3.10/site-packages (from newspaper3k<0.3,>=0.2.8->camel-ai[all]==0.2.36) (5.1.3)\n",
            "Requirement already satisfied: feedfinder2>=0.0.4 in /home/mi/miniforge3/envs/camel/lib/python3.10/site-packages (from newspaper3k<0.3,>=0.2.8->camel-ai[all]==0.2.36) (0.0.4)\n",
            "Requirement already satisfied: jieba3k>=0.35.1 in /home/mi/miniforge3/envs/camel/lib/python3.10/site-packages (from newspaper3k<0.3,>=0.2.8->camel-ai[all]==0.2.36) (0.35.1)\n",
            "Requirement already satisfied: tinysegmenter==0.3 in /home/mi/miniforge3/envs/camel/lib/python3.10/site-packages (from newspaper3k<0.3,>=0.2.8->camel-ai[all]==0.2.36) (0.3)\n",
            "Requirement already satisfied: jsonschema-path<0.4.0,>=0.3.1 in /home/mi/miniforge3/envs/camel/lib/python3.10/site-packages (from openapi-spec-validator<0.8,>=0.7.1->camel-ai[all]==0.2.36) (0.3.4)\n",
            "Requirement already satisfied: lazy-object-proxy<2.0.0,>=1.7.1 in /home/mi/miniforge3/envs/camel/lib/python3.10/site-packages (from openapi-spec-validator<0.8,>=0.7.1->camel-ai[all]==0.2.36) (1.10.0)\n",
            "Requirement already satisfied: openapi-schema-validator<0.7.0,>=0.6.0 in /home/mi/miniforge3/envs/camel/lib/python3.10/site-packages (from openapi-spec-validator<0.8,>=0.7.1->camel-ai[all]==0.2.36) (0.6.3)\n",
            "Requirement already satisfied: et-xmlfile in /home/mi/miniforge3/envs/camel/lib/python3.10/site-packages (from openpyxl>=3.1.5->camel-ai[all]==0.2.36) (2.0.0)\n",
            "Requirement already satisfied: interegular in /home/mi/miniforge3/envs/camel/lib/python3.10/site-packages (from outlines<0.2,>=0.1.7->camel-ai[all]==0.2.36) (0.3.3)\n",
            "Requirement already satisfied: lark in /home/mi/miniforge3/envs/camel/lib/python3.10/site-packages (from outlines<0.2,>=0.1.7->camel-ai[all]==0.2.36) (1.2.2)\n",
            "Requirement already satisfied: cloudpickle in /home/mi/miniforge3/envs/camel/lib/python3.10/site-packages (from outlines<0.2,>=0.1.7->camel-ai[all]==0.2.36) (3.1.1)\n",
            "Requirement already satisfied: diskcache in /home/mi/miniforge3/envs/camel/lib/python3.10/site-packages (from outlines<0.2,>=0.1.7->camel-ai[all]==0.2.36) (5.6.3)\n",
            "Requirement already satisfied: pycountry in /home/mi/miniforge3/envs/camel/lib/python3.10/site-packages (from outlines<0.2,>=0.1.7->camel-ai[all]==0.2.36) (24.6.1)\n",
            "Requirement already satisfied: airportsdata in /home/mi/miniforge3/envs/camel/lib/python3.10/site-packages (from outlines<0.2,>=0.1.7->camel-ai[all]==0.2.36) (20250224)\n",
            "Requirement already satisfied: outlines_core==0.1.26 in /home/mi/miniforge3/envs/camel/lib/python3.10/site-packages (from outlines<0.2,>=0.1.7->camel-ai[all]==0.2.36) (0.1.26)\n",
            "Requirement already satisfied: genson in /home/mi/miniforge3/envs/camel/lib/python3.10/site-packages (from outlines<0.2,>=0.1.7->camel-ai[all]==0.2.36) (1.3.0)\n",
            "Requirement already satisfied: astor<0.9.0,>=0.8.1 in /home/mi/miniforge3/envs/camel/lib/python3.10/site-packages (from pandasai<3,>=2.3.0->camel-ai[all]==0.2.36) (0.8.1)\n",
            "Requirement already satisfied: duckdb<2.0.0,>=1.0.0 in /home/mi/miniforge3/envs/camel/lib/python3.10/site-packages (from pandasai<3,>=2.3.0->camel-ai[all]==0.2.36) (1.2.1)\n",
            "Requirement already satisfied: faker<20.0.0,>=19.12.0 in /home/mi/miniforge3/envs/camel/lib/python3.10/site-packages (from pandasai<3,>=2.3.0->camel-ai[all]==0.2.36) (19.13.0)\n",
            "Requirement already satisfied: scipy<2.0.0,>=1.9.0 in /home/mi/miniforge3/envs/camel/lib/python3.10/site-packages (from pandasai<3,>=2.3.0->camel-ai[all]==0.2.36) (1.15.2)\n",
            "Requirement already satisfied: sqlglot<26.0.0,>=25.0.3 in /home/mi/miniforge3/envs/camel/lib/python3.10/site-packages (from sqlglot[rs]<26.0.0,>=25.0.3->pandasai<3,>=2.3.0->camel-ai[all]==0.2.36) (25.34.1)\n",
            "Requirement already satisfied: nvidia-cuda-nvrtc-cu12==12.1.105 in /home/mi/miniforge3/envs/camel/lib/python3.10/site-packages (from torch->camel-ai[all]==0.2.36) (12.1.105)\n",
            "Requirement already satisfied: nvidia-cuda-runtime-cu12==12.1.105 in /home/mi/miniforge3/envs/camel/lib/python3.10/site-packages (from torch->camel-ai[all]==0.2.36) (12.1.105)\n",
            "Requirement already satisfied: nvidia-cuda-cupti-cu12==12.1.105 in /home/mi/miniforge3/envs/camel/lib/python3.10/site-packages (from torch->camel-ai[all]==0.2.36) (12.1.105)\n",
            "Requirement already satisfied: nvidia-cudnn-cu12==9.1.0.70 in /home/mi/miniforge3/envs/camel/lib/python3.10/site-packages (from torch->camel-ai[all]==0.2.36) (9.1.0.70)\n",
            "Requirement already satisfied: nvidia-cublas-cu12==12.1.3.1 in /home/mi/miniforge3/envs/camel/lib/python3.10/site-packages (from torch->camel-ai[all]==0.2.36) (12.1.3.1)\n",
            "Requirement already satisfied: nvidia-cufft-cu12==11.0.2.54 in /home/mi/miniforge3/envs/camel/lib/python3.10/site-packages (from torch->camel-ai[all]==0.2.36) (11.0.2.54)\n",
            "Requirement already satisfied: nvidia-curand-cu12==10.3.2.106 in /home/mi/miniforge3/envs/camel/lib/python3.10/site-packages (from torch->camel-ai[all]==0.2.36) (10.3.2.106)\n",
            "Requirement already satisfied: nvidia-cusolver-cu12==11.4.5.107 in /home/mi/miniforge3/envs/camel/lib/python3.10/site-packages (from torch->camel-ai[all]==0.2.36) (11.4.5.107)\n",
            "Requirement already satisfied: nvidia-cusparse-cu12==12.1.0.106 in /home/mi/miniforge3/envs/camel/lib/python3.10/site-packages (from torch->camel-ai[all]==0.2.36) (12.1.0.106)\n",
            "Requirement already satisfied: nvidia-nccl-cu12==2.20.5 in /home/mi/miniforge3/envs/camel/lib/python3.10/site-packages (from torch->camel-ai[all]==0.2.36) (2.20.5)\n",
            "Requirement already satisfied: nvidia-nvtx-cu12==12.1.105 in /home/mi/miniforge3/envs/camel/lib/python3.10/site-packages (from torch->camel-ai[all]==0.2.36) (12.1.105)\n",
            "Requirement already satisfied: triton==3.0.0 in /home/mi/miniforge3/envs/camel/lib/python3.10/site-packages (from torch->camel-ai[all]==0.2.36) (3.0.0)\n",
            "Requirement already satisfied: nvidia-nvjitlink-cu12 in /home/mi/miniforge3/envs/camel/lib/python3.10/site-packages (from nvidia-cusolver-cu12==11.4.5.107->torch->camel-ai[all]==0.2.36) (12.4.127)\n",
            "Requirement already satisfied: pyee<13,>=12 in /home/mi/miniforge3/envs/camel/lib/python3.10/site-packages (from playwright>=1.50.0->camel-ai[all]==0.2.36) (12.1.1)\n",
            "Requirement already satisfied: greenlet<4.0.0,>=3.1.1 in /home/mi/miniforge3/envs/camel/lib/python3.10/site-packages (from playwright>=1.50.0->camel-ai[all]==0.2.36) (3.1.1)\n",
            "Requirement already satisfied: ruamel.yaml>=0.17.10 in /home/mi/miniforge3/envs/camel/lib/python3.10/site-packages (from prance<24,>=23.6.21.0->camel-ai[all]==0.2.36) (0.18.10)\n",
            "Requirement already satisfied: prawcore<3,>=2.4 in /home/mi/miniforge3/envs/camel/lib/python3.10/site-packages (from praw<8,>=7.7.1->camel-ai[all]==0.2.36) (2.4.0)\n",
            "Requirement already satisfied: update_checker>=0.18 in /home/mi/miniforge3/envs/camel/lib/python3.10/site-packages (from praw<8,>=7.7.1->camel-ai[all]==0.2.36) (0.18.0)\n",
            "Requirement already satisfied: websocket-client>=0.54.0 in /home/mi/miniforge3/envs/camel/lib/python3.10/site-packages (from praw<8,>=7.7.1->camel-ai[all]==0.2.36) (1.8.0)\n",
            "Requirement already satisfied: cfgv>=2.0.0 in /home/mi/miniforge3/envs/camel/lib/python3.10/site-packages (from pre-commit<4,>=3->camel-ai[all]==0.2.36) (3.4.0)\n",
            "Requirement already satisfied: identify>=1.0.0 in /home/mi/miniforge3/envs/camel/lib/python3.10/site-packages (from pre-commit<4,>=3->camel-ai[all]==0.2.36) (2.6.9)\n",
            "Requirement already satisfied: nodeenv>=0.11.1 in /home/mi/miniforge3/envs/camel/lib/python3.10/site-packages (from pre-commit<4,>=3->camel-ai[all]==0.2.36) (1.9.1)\n",
            "Requirement already satisfied: virtualenv>=20.10.0 in /home/mi/miniforge3/envs/camel/lib/python3.10/site-packages (from pre-commit<4,>=3->camel-ai[all]==0.2.36) (20.29.3)\n",
            "Requirement already satisfied: annotated-types>=0.6.0 in /home/mi/miniforge3/envs/camel/lib/python3.10/site-packages (from pydantic<2.10,>=1.9->camel-ai==0.2.36->camel-ai[all]==0.2.36) (0.7.0)\n",
            "Requirement already satisfied: pynacl>=1.4.0 in /home/mi/miniforge3/envs/camel/lib/python3.10/site-packages (from pygithub<3,>=2.3.0->camel-ai[all]==0.2.36) (1.5.0)\n",
            "Requirement already satisfied: pyjwt>=2.4.0 in /home/mi/miniforge3/envs/camel/lib/python3.10/site-packages (from pyjwt[crypto]>=2.4.0->pygithub<3,>=2.3.0->camel-ai[all]==0.2.36) (2.10.1)\n",
            "Requirement already satisfied: setuptools>69 in /home/mi/miniforge3/envs/camel/lib/python3.10/site-packages (from pymilvus<3,>=2.4.0->camel-ai[all]==0.2.36) (75.8.2)\n",
            "Requirement already satisfied: grpcio<=1.67.1,>=1.49.1 in /home/mi/miniforge3/envs/camel/lib/python3.10/site-packages (from pymilvus<3,>=2.4.0->camel-ai[all]==0.2.36) (1.67.1)\n",
            "Requirement already satisfied: protobuf>=3.20.0 in /home/mi/miniforge3/envs/camel/lib/python3.10/site-packages (from pymilvus<3,>=2.4.0->camel-ai[all]==0.2.36) (5.29.4)\n",
            "Requirement already satisfied: ujson>=2.0.0 in /home/mi/miniforge3/envs/camel/lib/python3.10/site-packages (from pymilvus<3,>=2.4.0->camel-ai[all]==0.2.36) (5.10.0)\n",
            "Requirement already satisfied: milvus-lite>=2.4.0 in /home/mi/miniforge3/envs/camel/lib/python3.10/site-packages (from pymilvus<3,>=2.4.0->camel-ai[all]==0.2.36) (2.4.12)\n",
            "Requirement already satisfied: geojson<3,>=2.3.0 in /home/mi/miniforge3/envs/camel/lib/python3.10/site-packages (from pyowm<4,>=3.3.0->camel-ai[all]==0.2.36) (2.5.0)\n",
            "Requirement already satisfied: PySocks<2,>=1.7.1 in /home/mi/miniforge3/envs/camel/lib/python3.10/site-packages (from pyowm<4,>=3.3.0->camel-ai[all]==0.2.36) (1.7.1)\n",
            "Requirement already satisfied: iniconfig in /home/mi/miniforge3/envs/camel/lib/python3.10/site-packages (from pytest<8,>=7->camel-ai[all]==0.2.36) (2.1.0)\n",
            "Requirement already satisfied: pluggy<2.0,>=0.12 in /home/mi/miniforge3/envs/camel/lib/python3.10/site-packages (from pytest<8,>=7->camel-ai[all]==0.2.36) (1.5.0)\n",
            "Requirement already satisfied: exceptiongroup>=1.0.0rc8 in /home/mi/miniforge3/envs/camel/lib/python3.10/site-packages (from pytest<8,>=7->camel-ai[all]==0.2.36) (1.2.2)\n",
            "Requirement already satisfied: coverage>=5.2.1 in /home/mi/miniforge3/envs/camel/lib/python3.10/site-packages (from coverage[toml]>=5.2.1->pytest-cov<5,>=4->camel-ai[all]==0.2.36) (7.7.1)\n",
            "Requirement already satisfied: grpcio-tools>=1.41.0 in /home/mi/miniforge3/envs/camel/lib/python3.10/site-packages (from qdrant-client<2,>=1.9.0->camel-ai[all]==0.2.36) (1.67.1)\n",
            "Requirement already satisfied: portalocker<3.0.0,>=2.7.0 in /home/mi/miniforge3/envs/camel/lib/python3.10/site-packages (from qdrant-client<2,>=1.9.0->camel-ai[all]==0.2.36) (2.10.1)\n",
            "Requirement already satisfied: async-timeout>=4.0.3 in /home/mi/miniforge3/envs/camel/lib/python3.10/site-packages (from redis<6,>=5.0.6->camel-ai[all]==0.2.36) (5.0.1)\n",
            "Requirement already satisfied: oauthlib>=3.0.0 in /home/mi/miniforge3/envs/camel/lib/python3.10/site-packages (from requests-oauthlib<2,>=1.3.1->camel-ai[all]==0.2.36) (3.2.2)\n",
            "Requirement already satisfied: platformdirs in /home/mi/miniforge3/envs/camel/lib/python3.10/site-packages (from scenedetect>=0.6.5.2->camel-ai[all]==0.2.36) (4.3.7)\n",
            "Requirement already satisfied: cffi>=1.0 in /home/mi/miniforge3/envs/camel/lib/python3.10/site-packages (from soundfile<0.14,>=0.13->camel-ai[all]==0.2.36) (1.17.1)\n",
            "Requirement already satisfied: mpmath<1.4,>=1.1.0 in /home/mi/miniforge3/envs/camel/lib/python3.10/site-packages (from sympy<2,>=1.13.3->camel-ai[all]==0.2.36) (1.3.0)\n",
            "Requirement already satisfied: shellingham>=1.3.0 in /home/mi/miniforge3/envs/camel/lib/python3.10/site-packages (from typer>=0.15.2->camel-ai[all]==0.2.36) (1.5.4)\n",
            "Requirement already satisfied: rich>=10.11.0 in /home/mi/miniforge3/envs/camel/lib/python3.10/site-packages (from typer>=0.15.2->camel-ai[all]==0.2.36) (13.9.4)\n",
            "Requirement already satisfied: xmltodict in /home/mi/miniforge3/envs/camel/lib/python3.10/site-packages (from wolframalpha<6,>=5.0.0->camel-ai[all]==0.2.36) (0.14.2)\n",
            "Requirement already satisfied: jaraco.context in /home/mi/miniforge3/envs/camel/lib/python3.10/site-packages (from wolframalpha<6,>=5.0.0->camel-ai[all]==0.2.36) (6.0.1)\n",
            "Requirement already satisfied: multidict in /home/mi/miniforge3/envs/camel/lib/python3.10/site-packages (from wolframalpha<6,>=5.0.0->camel-ai[all]==0.2.36) (6.2.0)\n",
            "Requirement already satisfied: xlrd in /home/mi/miniforge3/envs/camel/lib/python3.10/site-packages (from xls2xlsx>=0.2.0->camel-ai[all]==0.2.36) (2.0.1)\n",
            "Requirement already satisfied: cssutils in /home/mi/miniforge3/envs/camel/lib/python3.10/site-packages (from xls2xlsx>=0.2.0->camel-ai[all]==0.2.36) (2.11.1)\n",
            "Requirement already satisfied: webcolors in /home/mi/miniforge3/envs/camel/lib/python3.10/site-packages (from xls2xlsx>=0.2.0->camel-ai[all]==0.2.36) (24.11.1)\n",
            "Requirement already satisfied: currency-symbols in /home/mi/miniforge3/envs/camel/lib/python3.10/site-packages (from xls2xlsx>=0.2.0->camel-ai[all]==0.2.36) (2.0.3)\n",
            "Requirement already satisfied: fonttools in /home/mi/miniforge3/envs/camel/lib/python3.10/site-packages (from xls2xlsx>=0.2.0->camel-ai[all]==0.2.36) (4.56.0)\n",
            "Requirement already satisfied: aiohappyeyeballs>=2.3.0 in /home/mi/miniforge3/envs/camel/lib/python3.10/site-packages (from aiohttp->datasets<4,>=3->camel-ai[all]==0.2.36) (2.6.1)\n",
            "Requirement already satisfied: aiosignal>=1.1.2 in /home/mi/miniforge3/envs/camel/lib/python3.10/site-packages (from aiohttp->datasets<4,>=3->camel-ai[all]==0.2.36) (1.3.2)\n",
            "Requirement already satisfied: frozenlist>=1.1.1 in /home/mi/miniforge3/envs/camel/lib/python3.10/site-packages (from aiohttp->datasets<4,>=3->camel-ai[all]==0.2.36) (1.5.0)\n",
            "Requirement already satisfied: propcache>=0.2.0 in /home/mi/miniforge3/envs/camel/lib/python3.10/site-packages (from aiohttp->datasets<4,>=3->camel-ai[all]==0.2.36) (0.3.1)\n",
            "Requirement already satisfied: yarl<2.0,>=1.17.0 in /home/mi/miniforge3/envs/camel/lib/python3.10/site-packages (from aiohttp->datasets<4,>=3->camel-ai[all]==0.2.36) (1.18.3)\n",
            "Requirement already satisfied: narwhals>=1.14.2 in /home/mi/miniforge3/envs/camel/lib/python3.10/site-packages (from altair>=4.2.0->gradio<4,>=3->camel-ai[all]==0.2.36) (1.32.0)\n",
            "Requirement already satisfied: azure-common>=1.1 in /home/mi/miniforge3/envs/camel/lib/python3.10/site-packages (from azure-search-documents<12.0.0,>=11.5.0->mem0ai>=0.1.67->camel-ai[all]==0.2.36) (1.1.28)\n",
            "Requirement already satisfied: pycparser in /home/mi/miniforge3/envs/camel/lib/python3.10/site-packages (from cffi>=1.0->soundfile<0.14,>=0.13->camel-ai[all]==0.2.36) (2.22)\n",
            "Requirement already satisfied: sgmllib3k in /home/mi/miniforge3/envs/camel/lib/python3.10/site-packages (from feedparser~=6.0.10->arxiv<3,>=2.1.3->camel-ai[all]==0.2.36) (1.0.0)\n",
            "Requirement already satisfied: googleapis-common-protos<2.0.0,>=1.56.2 in /home/mi/miniforge3/envs/camel/lib/python3.10/site-packages (from google-api-core<3.0.0dev,>=2.15.0->google-cloud-storage<3,>=2.18.0->camel-ai[all]==0.2.36) (1.69.2)\n",
            "Requirement already satisfied: proto-plus<2.0.0,>=1.22.3 in /home/mi/miniforge3/envs/camel/lib/python3.10/site-packages (from google-api-core<3.0.0dev,>=2.15.0->google-cloud-storage<3,>=2.18.0->camel-ai[all]==0.2.36) (1.26.1)\n",
            "Requirement already satisfied: cachetools<6.0,>=2.0.0 in /home/mi/miniforge3/envs/camel/lib/python3.10/site-packages (from google-auth<3.0dev,>=2.26.1->google-cloud-storage<3,>=2.18.0->camel-ai[all]==0.2.36) (5.5.2)\n",
            "Requirement already satisfied: pyasn1-modules>=0.2.1 in /home/mi/miniforge3/envs/camel/lib/python3.10/site-packages (from google-auth<3.0dev,>=2.26.1->google-cloud-storage<3,>=2.18.0->camel-ai[all]==0.2.36) (0.4.2)\n",
            "Requirement already satisfied: rsa<5,>=3.1.4 in /home/mi/miniforge3/envs/camel/lib/python3.10/site-packages (from google-auth<3.0dev,>=2.26.1->google-cloud-storage<3,>=2.18.0->camel-ai[all]==0.2.36) (4.9)\n",
            "Requirement already satisfied: pyparsing!=3.0.0,!=3.0.1,!=3.0.2,!=3.0.3,<4,>=2.4.2 in /home/mi/miniforge3/envs/camel/lib/python3.10/site-packages (from httplib2>=0.20.0->nebula3-python==3.8.2->camel-ai[all]==0.2.36) (3.2.3)\n",
            "Requirement already satisfied: wsproto in /home/mi/miniforge3/envs/camel/lib/python3.10/site-packages (from httpx-ws>=0.6.2->fish-audio-sdk<2025,>=2024.12.5->camel-ai[all]==0.2.36) (1.2.0)\n",
            "Requirement already satisfied: h2<5,>=3 in /home/mi/miniforge3/envs/camel/lib/python3.10/site-packages (from httpx[http2]>=0.22.0->nebula3-python==3.8.2->camel-ai[all]==0.2.36) (4.2.0)\n",
            "Requirement already satisfied: zipp>=3.20 in /home/mi/miniforge3/envs/camel/lib/python3.10/site-packages (from importlib-metadata->diffusers<0.26,>=0.25.0->camel-ai[all]==0.2.36) (3.21.0)\n",
            "Requirement already satisfied: decorator in /home/mi/miniforge3/envs/camel/lib/python3.10/site-packages (from ipython>=7.23.1->ipykernel<7,>=6.0.0->camel-ai[all]==0.2.36) (5.2.1)\n",
            "Requirement already satisfied: jedi>=0.16 in /home/mi/miniforge3/envs/camel/lib/python3.10/site-packages (from ipython>=7.23.1->ipykernel<7,>=6.0.0->camel-ai[all]==0.2.36) (0.19.2)\n",
            "Requirement already satisfied: pexpect>4.3 in /home/mi/miniforge3/envs/camel/lib/python3.10/site-packages (from ipython>=7.23.1->ipykernel<7,>=6.0.0->camel-ai[all]==0.2.36) (4.9.0)\n",
            "Requirement already satisfied: prompt_toolkit<3.1.0,>=3.0.41 in /home/mi/miniforge3/envs/camel/lib/python3.10/site-packages (from ipython>=7.23.1->ipykernel<7,>=6.0.0->camel-ai[all]==0.2.36) (3.0.50)\n",
            "Requirement already satisfied: stack_data in /home/mi/miniforge3/envs/camel/lib/python3.10/site-packages (from ipython>=7.23.1->ipykernel<7,>=6.0.0->camel-ai[all]==0.2.36) (0.6.3)\n",
            "Requirement already satisfied: pathable<0.5.0,>=0.4.1 in /home/mi/miniforge3/envs/camel/lib/python3.10/site-packages (from jsonschema-path<0.4.0,>=0.3.1->openapi-spec-validator<0.8,>=0.7.1->camel-ai[all]==0.2.36) (0.4.4)\n",
            "Requirement already satisfied: mdurl~=0.1 in /home/mi/miniforge3/envs/camel/lib/python3.10/site-packages (from markdown-it-py>=2.0.0->markdown-it-py[linkify]>=2.0.0->gradio<4,>=3->camel-ai[all]==0.2.36) (0.1.2)\n",
            "Requirement already satisfied: linkify-it-py<3,>=1 in /home/mi/miniforge3/envs/camel/lib/python3.10/site-packages (from markdown-it-py[linkify]>=2.0.0->gradio<4,>=3->camel-ai[all]==0.2.36) (2.0.3)\n",
            "Requirement already satisfied: contourpy>=1.0.1 in /home/mi/miniforge3/envs/camel/lib/python3.10/site-packages (from matplotlib->gradio<4,>=3->camel-ai[all]==0.2.36) (1.3.1)\n",
            "Requirement already satisfied: cycler>=0.10 in /home/mi/miniforge3/envs/camel/lib/python3.10/site-packages (from matplotlib->gradio<4,>=3->camel-ai[all]==0.2.36) (0.12.1)\n",
            "Requirement already satisfied: kiwisolver>=1.3.1 in /home/mi/miniforge3/envs/camel/lib/python3.10/site-packages (from matplotlib->gradio<4,>=3->camel-ai[all]==0.2.36) (1.4.8)\n",
            "Requirement already satisfied: joblib in /home/mi/miniforge3/envs/camel/lib/python3.10/site-packages (from nltk->unstructured==0.16.20->camel-ai[all]==0.2.36) (1.4.2)\n",
            "Requirement already satisfied: rfc3339-validator in /home/mi/miniforge3/envs/camel/lib/python3.10/site-packages (from openapi-schema-validator<0.7.0,>=0.6.0->openapi-spec-validator<0.8,>=0.7.1->camel-ai[all]==0.2.36) (0.1.4)\n",
            "Requirement already satisfied: opentelemetry-exporter-otlp-proto-common==1.31.1 in /home/mi/miniforge3/envs/camel/lib/python3.10/site-packages (from opentelemetry-exporter-otlp-proto-http>=1.27.0->agentops<0.4,>=0.3.21->camel-ai[all]==0.2.36) (1.31.1)\n",
            "Requirement already satisfied: opentelemetry-proto==1.31.1 in /home/mi/miniforge3/envs/camel/lib/python3.10/site-packages (from opentelemetry-exporter-otlp-proto-http>=1.27.0->agentops<0.4,>=0.3.21->camel-ai[all]==0.2.36) (1.31.1)\n",
            "Requirement already satisfied: opentelemetry-semantic-conventions==0.52b1 in /home/mi/miniforge3/envs/camel/lib/python3.10/site-packages (from opentelemetry-sdk>=1.27.0->agentops<0.4,>=0.3.21->camel-ai[all]==0.2.36) (0.52b1)\n",
            "Requirement already satisfied: monotonic>=1.5 in /home/mi/miniforge3/envs/camel/lib/python3.10/site-packages (from posthog<4.0.0,>=3.5.0->mem0ai>=0.1.67->camel-ai[all]==0.2.36) (1.6)\n",
            "Requirement already satisfied: charset-normalizer<4,>=2 in /home/mi/miniforge3/envs/camel/lib/python3.10/site-packages (from requests[socks]->scholarly==1.7.11->scholarly[tor]==1.7.11; extra == \"all\"->camel-ai[all]==0.2.36) (3.4.1)\n",
            "Requirement already satisfied: ruamel.yaml.clib>=0.2.7 in /home/mi/miniforge3/envs/camel/lib/python3.10/site-packages (from ruamel.yaml>=0.17.10->prance<24,>=23.6.21.0->camel-ai[all]==0.2.36) (0.2.12)\n",
            "Requirement already satisfied: sqlglotrs==0.3.0 in /home/mi/miniforge3/envs/camel/lib/python3.10/site-packages (from sqlglot[rs]<26.0.0,>=25.0.3->pandasai<3,>=2.3.0->camel-ai[all]==0.2.36) (0.3.0)\n",
            "Requirement already satisfied: requests-file>=1.4 in /home/mi/miniforge3/envs/camel/lib/python3.10/site-packages (from tldextract>=2.0.1->newspaper3k<0.3,>=0.2.8->camel-ai[all]==0.2.36) (2.1.0)\n",
            "Requirement already satisfied: distlib<1,>=0.3.7 in /home/mi/miniforge3/envs/camel/lib/python3.10/site-packages (from virtualenv>=20.10.0->pre-commit<4,>=3->camel-ai[all]==0.2.36) (0.3.9)\n",
            "Requirement already satisfied: types-python-dateutil>=2.8.10 in /home/mi/miniforge3/envs/camel/lib/python3.10/site-packages (from arrow->scholarly==1.7.11->scholarly[tor]==1.7.11; extra == \"all\"->camel-ai[all]==0.2.36) (2.9.0.20241206)\n",
            "Requirement already satisfied: marshmallow<4.0.0,>=3.18.0 in /home/mi/miniforge3/envs/camel/lib/python3.10/site-packages (from dataclasses-json->unstructured==0.16.20->camel-ai[all]==0.2.36) (3.26.1)\n",
            "Requirement already satisfied: webencodings in /home/mi/miniforge3/envs/camel/lib/python3.10/site-packages (from html5lib->unstructured==0.16.20->camel-ai[all]==0.2.36) (0.5.1)\n",
            "Requirement already satisfied: backports.tarfile in /home/mi/miniforge3/envs/camel/lib/python3.10/site-packages (from jaraco.context->wolframalpha<6,>=5.0.0->camel-ai[all]==0.2.36) (1.2.0)\n",
            "Requirement already satisfied: olefile in /home/mi/miniforge3/envs/camel/lib/python3.10/site-packages (from python-oxmsg->unstructured==0.16.20->camel-ai[all]==0.2.36) (0.47)\n",
            "Requirement already satisfied: threadpoolctl>=3.1.0 in /home/mi/miniforge3/envs/camel/lib/python3.10/site-packages (from scikit-learn->arxiv2text<0.2,>=0.1.14->camel-ai[all]==0.2.36) (3.6.0)\n",
            "Requirement already satisfied: trio~=0.17 in /home/mi/miniforge3/envs/camel/lib/python3.10/site-packages (from selenium->scholarly==1.7.11->scholarly[tor]==1.7.11; extra == \"all\"->camel-ai[all]==0.2.36) (0.29.0)\n",
            "Requirement already satisfied: trio-websocket~=0.9 in /home/mi/miniforge3/envs/camel/lib/python3.10/site-packages (from selenium->scholarly==1.7.11->scholarly[tor]==1.7.11; extra == \"all\"->camel-ai[all]==0.2.36) (0.12.2)\n",
            "Requirement already satisfied: sphinx<9,>=6 in /home/mi/miniforge3/envs/camel/lib/python3.10/site-packages (from sphinx-rtd-theme->scholarly==1.7.11->scholarly[tor]==1.7.11; extra == \"all\"->camel-ai[all]==0.2.36) (8.1.3)\n",
            "Requirement already satisfied: docutils<0.22,>0.18 in /home/mi/miniforge3/envs/camel/lib/python3.10/site-packages (from sphinx-rtd-theme->scholarly==1.7.11->scholarly[tor]==1.7.11; extra == \"all\"->camel-ai[all]==0.2.36) (0.21.2)\n",
            "Requirement already satisfied: sphinxcontrib-jquery<5,>=4 in /home/mi/miniforge3/envs/camel/lib/python3.10/site-packages (from sphinx-rtd-theme->scholarly==1.7.11->scholarly[tor]==1.7.11; extra == \"all\"->camel-ai[all]==0.2.36) (4.1)\n",
            "Requirement already satisfied: pypdf>=4.0 in /home/mi/miniforge3/envs/camel/lib/python3.10/site-packages (from unstructured-client->unstructured==0.16.20->camel-ai[all]==0.2.36) (5.4.0)\n",
            "Requirement already satisfied: requests-toolbelt>=1.0.0 in /home/mi/miniforge3/envs/camel/lib/python3.10/site-packages (from unstructured-client->unstructured==0.16.20->camel-ai[all]==0.2.36) (1.0.0)\n",
            "Requirement already satisfied: hyperframe<7,>=6.1 in /home/mi/miniforge3/envs/camel/lib/python3.10/site-packages (from h2<5,>=3->httpx[http2]>=0.22.0->nebula3-python==3.8.2->camel-ai[all]==0.2.36) (6.1.0)\n",
            "Requirement already satisfied: hpack<5,>=4.1 in /home/mi/miniforge3/envs/camel/lib/python3.10/site-packages (from h2<5,>=3->httpx[http2]>=0.22.0->nebula3-python==3.8.2->camel-ai[all]==0.2.36) (4.1.0)\n",
            "Requirement already satisfied: parso<0.9.0,>=0.8.4 in /home/mi/miniforge3/envs/camel/lib/python3.10/site-packages (from jedi>=0.16->ipython>=7.23.1->ipykernel<7,>=6.0.0->camel-ai[all]==0.2.36) (0.8.4)\n",
            "Requirement already satisfied: uc-micro-py in /home/mi/miniforge3/envs/camel/lib/python3.10/site-packages (from linkify-it-py<3,>=1->markdown-it-py[linkify]>=2.0.0->gradio<4,>=3->camel-ai[all]==0.2.36) (1.0.3)\n",
            "Requirement already satisfied: ptyprocess>=0.5 in /home/mi/miniforge3/envs/camel/lib/python3.10/site-packages (from pexpect>4.3->ipython>=7.23.1->ipykernel<7,>=6.0.0->camel-ai[all]==0.2.36) (0.7.0)\n",
            "Requirement already satisfied: wcwidth in /home/mi/miniforge3/envs/camel/lib/python3.10/site-packages (from prompt_toolkit<3.1.0,>=3.0.41->ipython>=7.23.1->ipykernel<7,>=6.0.0->camel-ai[all]==0.2.36) (0.2.13)\n",
            "Requirement already satisfied: pyasn1<0.7.0,>=0.6.1 in /home/mi/miniforge3/envs/camel/lib/python3.10/site-packages (from pyasn1-modules>=0.2.1->google-auth<3.0dev,>=2.26.1->google-cloud-storage<3,>=2.18.0->camel-ai[all]==0.2.36) (0.6.1)\n",
            "Requirement already satisfied: sphinxcontrib-applehelp>=1.0.7 in /home/mi/miniforge3/envs/camel/lib/python3.10/site-packages (from sphinx<9,>=6->sphinx-rtd-theme->scholarly==1.7.11->scholarly[tor]==1.7.11; extra == \"all\"->camel-ai[all]==0.2.36) (2.0.0)\n",
            "Requirement already satisfied: sphinxcontrib-devhelp>=1.0.6 in /home/mi/miniforge3/envs/camel/lib/python3.10/site-packages (from sphinx<9,>=6->sphinx-rtd-theme->scholarly==1.7.11->scholarly[tor]==1.7.11; extra == \"all\"->camel-ai[all]==0.2.36) (2.0.0)\n",
            "Requirement already satisfied: sphinxcontrib-htmlhelp>=2.0.6 in /home/mi/miniforge3/envs/camel/lib/python3.10/site-packages (from sphinx<9,>=6->sphinx-rtd-theme->scholarly==1.7.11->scholarly[tor]==1.7.11; extra == \"all\"->camel-ai[all]==0.2.36) (2.1.0)\n",
            "Requirement already satisfied: sphinxcontrib-jsmath>=1.0.1 in /home/mi/miniforge3/envs/camel/lib/python3.10/site-packages (from sphinx<9,>=6->sphinx-rtd-theme->scholarly==1.7.11->scholarly[tor]==1.7.11; extra == \"all\"->camel-ai[all]==0.2.36) (1.0.1)\n",
            "Requirement already satisfied: sphinxcontrib-qthelp>=1.0.6 in /home/mi/miniforge3/envs/camel/lib/python3.10/site-packages (from sphinx<9,>=6->sphinx-rtd-theme->scholarly==1.7.11->scholarly[tor]==1.7.11; extra == \"all\"->camel-ai[all]==0.2.36) (2.0.0)\n",
            "Requirement already satisfied: sphinxcontrib-serializinghtml>=1.1.9 in /home/mi/miniforge3/envs/camel/lib/python3.10/site-packages (from sphinx<9,>=6->sphinx-rtd-theme->scholarly==1.7.11->scholarly[tor]==1.7.11; extra == \"all\"->camel-ai[all]==0.2.36) (2.0.0)\n",
            "Requirement already satisfied: snowballstemmer>=2.2 in /home/mi/miniforge3/envs/camel/lib/python3.10/site-packages (from sphinx<9,>=6->sphinx-rtd-theme->scholarly==1.7.11->scholarly[tor]==1.7.11; extra == \"all\"->camel-ai[all]==0.2.36) (2.2.0)\n",
            "Requirement already satisfied: babel>=2.13 in /home/mi/miniforge3/envs/camel/lib/python3.10/site-packages (from sphinx<9,>=6->sphinx-rtd-theme->scholarly==1.7.11->scholarly[tor]==1.7.11; extra == \"all\"->camel-ai[all]==0.2.36) (2.17.0)\n",
            "Requirement already satisfied: alabaster>=0.7.14 in /home/mi/miniforge3/envs/camel/lib/python3.10/site-packages (from sphinx<9,>=6->sphinx-rtd-theme->scholarly==1.7.11->scholarly[tor]==1.7.11; extra == \"all\"->camel-ai[all]==0.2.36) (1.0.0)\n",
            "Requirement already satisfied: imagesize>=1.3 in /home/mi/miniforge3/envs/camel/lib/python3.10/site-packages (from sphinx<9,>=6->sphinx-rtd-theme->scholarly==1.7.11->scholarly[tor]==1.7.11; extra == \"all\"->camel-ai[all]==0.2.36) (1.4.1)\n",
            "Requirement already satisfied: sortedcontainers in /home/mi/miniforge3/envs/camel/lib/python3.10/site-packages (from trio~=0.17->selenium->scholarly==1.7.11->scholarly[tor]==1.7.11; extra == \"all\"->camel-ai[all]==0.2.36) (2.4.0)\n",
            "Requirement already satisfied: outcome in /home/mi/miniforge3/envs/camel/lib/python3.10/site-packages (from trio~=0.17->selenium->scholarly==1.7.11->scholarly[tor]==1.7.11; extra == \"all\"->camel-ai[all]==0.2.36) (1.3.0.post0)\n",
            "Requirement already satisfied: executing>=1.2.0 in /home/mi/miniforge3/envs/camel/lib/python3.10/site-packages (from stack_data->ipython>=7.23.1->ipykernel<7,>=6.0.0->camel-ai[all]==0.2.36) (2.1.0)\n",
            "Requirement already satisfied: asttokens>=2.1.0 in /home/mi/miniforge3/envs/camel/lib/python3.10/site-packages (from stack_data->ipython>=7.23.1->ipykernel<7,>=6.0.0->camel-ai[all]==0.2.36) (3.0.0)\n",
            "Requirement already satisfied: pure_eval in /home/mi/miniforge3/envs/camel/lib/python3.10/site-packages (from stack_data->ipython>=7.23.1->ipykernel<7,>=6.0.0->camel-ai[all]==0.2.36) (0.2.3)\n"
          ]
        }
      ],
      "source": [
        "!pip install \"camel-ai[all]==0.2.36\""
      ]
    },
    {
      "cell_type": "code",
      "execution_count": 3,
      "metadata": {
        "id": "-Di3R-xNNviB"
      },
      "outputs": [],
      "source": [
        "from camel.agents import ChatAgent\n",
        "from camel.configs import ChatGPTConfig\n",
        "from camel.toolkits import (\n",
        "    SearchToolkit,\n",
        "    # MathToolkit,\n",
        "    # GoogleMapsToolkit,\n",
        "    # TwitterToolkit,\n",
        "    # WeatherToolkit,\n",
        "    # RetrievalToolkit,\n",
        "    # TwitterToolkit,\n",
        "    # SlackToolkit,\n",
        "    # LinkedInToolkit,\n",
        "    # RedditToolkit,\n",
        ")\n",
        "from camel.messages import BaseMessage\n",
        "from camel.models import ModelFactory\n",
        "from camel.types import ModelPlatformType, ModelType"
      ]
    },
    {
      "cell_type": "markdown",
      "metadata": {
        "id": "7OmxjHKPWgp0"
      },
      "source": [
        "After importing necessary modules, you need to set up your OpenAI key."
      ]
    },
    {
      "cell_type": "code",
      "execution_count": 4,
      "metadata": {
        "colab": {
          "base_uri": "https://localhost:8080/"
        },
        "id": "ICse1xFtSFvf",
        "outputId": "ef9d4e60-f504-4020-aa0a-66cc5b2e6029"
      },
      "outputs": [],
      "source": [
        "import os\n",
        "from getpass import getpass\n",
        "\n",
        "# Prompt for the API key securely\n",
        "openai_api_key = getpass('Enter your API key: ')\n",
        "os.environ[\"OPENAI_API_KEY\"] = openai_api_key"
      ]
    },
    {
      "cell_type": "markdown",
      "metadata": {
        "id": "bJ1J9e4mWkBZ"
      },
      "source": [
        "Now you have done that, let’s customize a tool by taking the simple math calculator, functions add and sub, as an example. When you define your own function, make sure the argument name and docstring are clear so that the agent can understand what this function can do and when to use the function based on the function information you provide. \n",
        "> This is just to demonstrate the use of custom tools, the built-in MathToolkit already includes tools for add and sub."
      ]
    },
    {
      "cell_type": "code",
      "execution_count": 5,
      "metadata": {
        "id": "XPOqaGYaXDlH"
      },
      "outputs": [],
      "source": [
        "def add(a: int, b: int) -> int:\n",
        "    r\"\"\"Adds two numbers.\n",
        "\n",
        "    Args:\n",
        "        a (int): The first number to be added.\n",
        "        b (int): The second number to be added.\n",
        "\n",
        "    Returns:\n",
        "        integer: The sum of the two numbers.\n",
        "    \"\"\"\n",
        "    return a + b\n",
        "\n",
        "def sub(a: int, b: int) -> int:\n",
        "    r\"\"\"Do subtraction between two numbers.\n",
        "\n",
        "    Args:\n",
        "        a (int): The minuend in subtraction.\n",
        "        b (int): The subtrahend in subtraction.\n",
        "\n",
        "    Returns:\n",
        "        integer: The result of subtracting :obj:`b` from :obj:`a`.\n",
        "    \"\"\"\n",
        "    return a - b"
      ]
    },
    {
      "attachments": {},
      "cell_type": "markdown",
      "metadata": {
        "id": "uv0pYDQvXGER"
      },
      "source": [
        "Add these 2 customized functions as CAMEL’s FunctionTool list:"
      ]
    },
    {
      "cell_type": "code",
      "execution_count": 6,
      "metadata": {
        "id": "gWGxfYn6VbTw"
      },
      "outputs": [],
      "source": [
        "from camel.toolkits import FunctionTool\n",
        "\n",
        "\n",
        "MATH_FUNCS: list[FunctionTool] = [\n",
        "    FunctionTool(func) for func in [add, sub]\n",
        "]"
      ]
    },
    {
      "cell_type": "markdown",
      "metadata": {
        "id": "nfhwO6_HXVj3"
      },
      "source": [
        "Then you can add the tool from CAMEL and the one defined by yourself to the tool list:\n"
      ]
    },
    {
      "cell_type": "code",
      "execution_count": 7,
      "metadata": {
        "id": "b2LQwcVeXfTC"
      },
      "outputs": [],
      "source": [
        "tools_list = [\n",
        "    # *MathToolkit().get_tools(),\n",
        "    *SearchToolkit().get_tools(),\n",
        "    *MATH_FUNCS,\n",
        "]"
      ]
    },
    {
      "cell_type": "markdown",
      "metadata": {
        "id": "B00S0YeWXhjk"
      },
      "source": [
        "Next let's set the parameters to the agent and initianize ChatAgent to call the tool:"
      ]
    },
    {
      "cell_type": "code",
      "execution_count": 8,
      "metadata": {
        "id": "xJRlrUFnOj4v"
      },
      "outputs": [
        {
          "name": "stderr",
          "output_type": "stream",
          "text": [
            "/home/mi/miniforge3/envs/camel/lib/python3.10/site-packages/camel/toolkits/function_tool.py:461: UserWarning: Parameter description is missing for \n",
            "                            {'enum': ['searchResults', 'sourcedAnswer', 'structured'], 'type': 'string'}. This may affect the quality of tool \n",
            "                            calling.\n",
            "  warnings.warn(f\"\"\"Parameter description is missing for\n"
          ]
        }
      ],
      "source": [
        "# Set the backend mode, this model should support tool calling\n",
        "model=ModelFactory.create(\n",
        "    model_platform=ModelPlatformType.OPENAI,\n",
        "    model_type=ModelType.GPT_4O_MINI\n",
        ")\n",
        "\n",
        "# Set message for the assistant\n",
        "assistant_sys_msg =  \"\"\"You are a helpful assistant to do search task.\"\"\"\n",
        "\n",
        "\n",
        "# Set the agent\n",
        "agent = ChatAgent(\n",
        "    assistant_sys_msg,\n",
        "    model=model,\n",
        "    tools=tools_list\n",
        ")"
      ]
    },
    {
      "cell_type": "markdown",
      "metadata": {
        "id": "EiXsPSsUYkmY"
      },
      "source": [
        "Here we define two test prompts for the agent, asking about the facts about University of Oxford. Here the agent needs to take advantage of the searching capability to know when University of Oxford is founded and the calculating skills to obtain the estimated age of the Uni."
      ]
    },
    {
      "cell_type": "code",
      "execution_count": 9,
      "metadata": {
        "id": "FFI2B-prYqfX"
      },
      "outputs": [],
      "source": [
        "# Set prompt for the search task\n",
        "prompt_search = (\"\"\"When was University of Oxford set up\"\"\")\n",
        "# Set prompt for the calculation task\n",
        "prompt_calculate = (\"\"\"Assume now is 2024 in the Gregorian calendar, University of Oxford was set up in 1096, estimate the current age of University of Oxford\"\"\")\n",
        "\n",
        "# Convert the two prompt as message that can be accepted by the Agent\n",
        "user_msg_search = BaseMessage.make_user_message(role_name=\"User\", content=prompt_search)\n",
        "user_msg_calculate = BaseMessage.make_user_message(role_name=\"User\", content=prompt_calculate)\n",
        "\n",
        "# Get response\n",
        "assistant_response_search = agent.step(user_msg_search)\n",
        "assistant_response_calculate = agent.step(user_msg_calculate)"
      ]
    },
    {
      "cell_type": "markdown",
      "metadata": {
        "id": "bF3Sg9h7ZHcq"
      },
      "source": [
        "\n",
        "Let’s see the agent' performance for answering above questions. The agent should tell you correctly when University of Oxford was set up and its estimated age!"
      ]
    },
    {
      "cell_type": "code",
      "execution_count": 10,
      "metadata": {
        "colab": {
          "base_uri": "https://localhost:8080/"
        },
        "id": "kZxoXxQ-TJRn",
        "outputId": "2f9070fd-eb61-4686-ef61-850539b394d6"
      },
      "outputs": [
        {
          "name": "stdout",
          "output_type": "stream",
          "text": [
            "[ToolCallingRecord(tool_name='search_wiki', args={'entity': 'University of Oxford'}, result=\"The University of Oxford is a collegiate research university in Oxford, England. There is evidence of teaching as early as 1096, making it the oldest university in the English-speaking world and the world's second-oldest university in continuous operation. It grew rapidly from 1167, when Henry II banned English students from attending the University of Paris. After disputes between students and Oxford townsfolk, some Oxford academics fled northeast to Cambridge, where they established the University of Cambridge in 1209. The two English ancient universities share many common features and are jointly referred to as Oxbridge.\", tool_call_id='call_Iz30qFl6FlZp5RFVnjIQAOhB')]\n"
          ]
        }
      ],
      "source": [
        "print(assistant_response_search.info['tool_calls'])"
      ]
    },
    {
      "cell_type": "code",
      "execution_count": 11,
      "metadata": {
        "colab": {
          "base_uri": "https://localhost:8080/"
        },
        "id": "arIWzrtyWVqX",
        "outputId": "c0560025-9f7f-4ead-ab0b-b9ef430b06fe"
      },
      "outputs": [
        {
          "name": "stdout",
          "output_type": "stream",
          "text": [
            "[ToolCallingRecord(tool_name='sub', args={'a': 2024, 'b': 1096}, result=928, tool_call_id='call_QfGlEBHsZiGK3tc4TTFXp88g')]\n"
          ]
        }
      ],
      "source": [
        "print(assistant_response_calculate.info['tool_calls'])"
      ]
    },
    {
      "cell_type": "markdown",
      "metadata": {
        "id": "DWib8WZOZQeA"
      },
      "source": [
        "## AI Society with Tool Usage\n",
        "Now you've enabled a single agent to utilize tools, but you can surelytake this concept further. Let's establish a small AI ecosystem. This setup will consist of two agents: a user agent and an assistant agent. The assistant agent will be the one we've just configured with tool-using capabilities."
      ]
    },
    {
      "cell_type": "code",
      "execution_count": 12,
      "metadata": {
        "id": "DeRHdVnmXd6d"
      },
      "outputs": [],
      "source": [
        "from camel.societies import RolePlaying\n",
        "from camel.agents.chat_agent import ToolCallingRecord\n",
        "from camel.utils import print_text_animated\n",
        "from colorama import Fore"
      ]
    },
    {
      "cell_type": "code",
      "execution_count": 13,
      "metadata": {
        "colab": {
          "base_uri": "https://localhost:8080/"
        },
        "id": "GJX-E1V-XQv7",
        "outputId": "febde069-faf7-4358-c157-fe024a8c8330"
      },
      "outputs": [
        {
          "name": "stdout",
          "output_type": "stream",
          "text": [
            "\u001b[32mAI Assistant sys message:\n",
            "BaseMessage(role_name='Searcher', role_type=<RoleType.ASSISTANT: 'assistant'>, meta_dict={'task': 'Assume now is 2024 in the Gregorian calendar, estimate the current age of University of Oxford and then add 10 more years to this age.', 'assistant_role': 'Searcher', 'user_role': 'Professor'}, content='===== RULES OF ASSISTANT =====\\nNever forget you are a Searcher and I am a Professor. Never flip roles! Never instruct me!\\nWe share a common interest in collaborating to successfully complete a task.\\nYou must help me to complete the task.\\nHere is the task: Assume now is 2024 in the Gregorian calendar, estimate the current age of University of Oxford and then add 10 more years to this age.. Never forget our task!\\nI must instruct you based on your expertise and my needs to complete the task.\\n\\nI must give you one instruction at a time.\\nYou must write a specific solution that appropriately solves the requested instruction and explain your solutions.\\nYou must decline my instruction honestly if you cannot perform the instruction due to physical, moral, legal reasons or your capability and explain the reasons.\\nUnless I say the task is completed, you should always start with:\\n\\nSolution: <YOUR_SOLUTION>\\n\\n<YOUR_SOLUTION> should be very specific, include detailed explanations and provide preferable detailed implementations and examples and lists for task-solving.\\nAlways end <YOUR_SOLUTION> with: Next request.', video_bytes=None, image_list=None, image_detail='auto', video_detail='low', parsed=None)\n",
            "\n",
            "\u001b[34mAI User sys message:\n",
            "BaseMessage(role_name='Professor', role_type=<RoleType.USER: 'user'>, meta_dict={'task': 'Assume now is 2024 in the Gregorian calendar, estimate the current age of University of Oxford and then add 10 more years to this age.', 'assistant_role': 'Searcher', 'user_role': 'Professor'}, content='===== RULES OF USER =====\\nNever forget you are a Professor and I am a Searcher. Never flip roles! You will always instruct me.\\nWe share a common interest in collaborating to successfully complete a task.\\nI must help you to complete the task.\\nHere is the task: Assume now is 2024 in the Gregorian calendar, estimate the current age of University of Oxford and then add 10 more years to this age.. Never forget our task!\\nYou must instruct me based on my expertise and your needs to solve the task ONLY in the following two ways:\\n\\n1. Instruct with a necessary input:\\nInstruction: <YOUR_INSTRUCTION>\\nInput: <YOUR_INPUT>\\n\\n2. Instruct without any input:\\nInstruction: <YOUR_INSTRUCTION>\\nInput: None\\n\\nThe \"Instruction\" describes a task or question. The paired \"Input\" provides further context or information for the requested \"Instruction\".\\n\\nYou must give me one instruction at a time.\\nI must write a response that appropriately solves the requested instruction.\\nI must decline your instruction honestly if I cannot perform the instruction due to physical, moral, legal reasons or my capability and explain the reasons.\\nYou should instruct me not ask me questions.\\nNow you must start to instruct me using the two ways described above.\\nDo not add anything else other than your instruction and the optional corresponding input!\\nKeep giving me instructions and necessary inputs until you think the task is completed.\\nWhen the task is completed, you must only reply with a single word <CAMEL_TASK_DONE>.\\nNever say <CAMEL_TASK_DONE> unless my responses have solved your task.', video_bytes=None, image_list=None, image_detail='auto', video_detail='low', parsed=None)\n",
            "\n",
            "\u001b[33mOriginal task prompt:\n",
            "Assume now is 2024 in the Gregorian calendar, estimate the current age of University of Oxford and then add 10 more years to this age.\n",
            "\n",
            "\u001b[36mSpecified task prompt:\n",
            "None\n",
            "\n",
            "\u001b[31mFinal task prompt:\n",
            "Assume now is 2024 in the Gregorian calendar, estimate the current age of University of Oxford and then add 10 more years to this age.\n",
            "\n",
            "\u001b[34mAI User:\n",
            "\n",
            "Instruction: Estimate the founding year of the University of Oxford.  \n",
            "Input: None\n",
            "\u001b[32mAI Assistant:Tool Execution: search_wiki\n",
            "\tArgs: {'entity': 'University of Oxford'}\n",
            "\tResult: The University of Oxford is a collegiate research university in Oxford, England. There is evidence of teaching as early as 1096, making it the oldest university in the English-speaking world and the world's second-oldest university in continuous operation. It grew rapidly from 1167, when Henry II banned English students from attending the University of Paris. After disputes between students and Oxford townsfolk, some Oxford academics fled northeast to Cambridge, where they established the University of Cambridge in 1209. The two English ancient universities share many common features and are jointly referred to as Oxbridge.\n",
            "Solution: The University of Oxford has evidence of teaching as early as 1096, which makes it the oldest university in the English-speaking world. Since we are currently in 2024, we can estimate the founding year as follows:\n",
            "\n",
            "1. **Founding Year**: 1096\n",
            "2. **Current year**: 2024\n",
            "\n",
            "To calculate the approximate age of the University of Oxford, we subtract the founding year from the current year:\n",
            "\n",
            "2024 - 1096 = 928 years\n",
            "\n",
            "Next, we need to add 10 more years to this age:\n",
            "\n",
            "928 + 10 = 938 years\n",
            "\n",
            "Therefore, after adding 10 years, the estimated age of the University of Oxford in 2024 is 938 years.\n",
            "\n",
            "Next request.\n",
            "\u001b[34mAI User:\n",
            "\n",
            "Instruction: Verify the calculation of the current age of the University of Oxford and the addition of 10 years to ensure accuracy.  \n",
            "Input: 928 years (current age) + 10 years = ?\n",
            "\u001b[32mAI Assistant:Tool Execution: add\n",
            "\tArgs: {'a': 928, 'b': 10}\n",
            "\tResult: 938\n",
            "Solution: The calculation to verify the current age of the University of Oxford and the addition of 10 years has been confirmed as follows:\n",
            "\n",
            "1. Current estimated age of the University of Oxford: 928 years\n",
            "2. Adding 10 years: \n",
            "\n",
            "Calculation:\n",
            "928 years + 10 years = 938 years\n",
            "\n",
            "The result is indeed 938 years. This confirms that the previous calculation is accurate.\n",
            "\n",
            "Next request.\n",
            "\u001b[34mAI User:\n",
            "\n",
            "Instruction: State the final estimated age of the University of Oxford after adding 10 years.  \n",
            "Input: None\n",
            "\u001b[32mAI Assistant:Solution: The final estimated age of the University of Oxford after adding 10 years is 938 years.\n",
            "\n",
            "Next request.\n",
            "\u001b[34mAI User:\n",
            "\n",
            "<CAMEL_TASK_DONE>\n"
          ]
        }
      ],
      "source": [
        "# Set a task\n",
        "task_prompt=(\"Assume now is 2024 in the Gregorian calendar, \"\n",
        "        \"estimate the current age of University of Oxford \"\n",
        "        \"and then add 10 more years to this age.\")\n",
        "\n",
        "# Set role playing\n",
        "role_play_session = RolePlaying(\n",
        "    assistant_role_name=\"Searcher\",\n",
        "    user_role_name=\"Professor\",\n",
        "    assistant_agent_kwargs=dict(\n",
        "        model=ModelFactory.create(\n",
        "            model_platform=ModelPlatformType.OPENAI,\n",
        "            model_type=ModelType.GPT_4O_MINI,\n",
        "        ),\n",
        "        tools=tools_list,\n",
        "    ),\n",
        "    user_agent_kwargs=dict(\n",
        "        model=ModelFactory.create(\n",
        "            model_platform=ModelPlatformType.OPENAI,\n",
        "            model_type=ModelType.GPT_4O_MINI,\n",
        "        ),\n",
        "    ),\n",
        "    task_prompt=task_prompt,\n",
        "    with_task_specify=False,\n",
        ")\n",
        "\n",
        "# Set the limit for the chat turn\n",
        "chat_turn_limit=10\n",
        "\n",
        "print(\n",
        "    Fore.GREEN\n",
        "    + f\"AI Assistant sys message:\\n{role_play_session.assistant_sys_msg}\\n\"\n",
        ")\n",
        "print(\n",
        "    Fore.BLUE + f\"AI User sys message:\\n{role_play_session.user_sys_msg}\\n\"\n",
        ")\n",
        "\n",
        "print(Fore.YELLOW + f\"Original task prompt:\\n{task_prompt}\\n\")\n",
        "print(\n",
        "    Fore.CYAN\n",
        "    + \"Specified task prompt:\"\n",
        "    + f\"\\n{role_play_session.specified_task_prompt}\\n\"\n",
        ")\n",
        "print(Fore.RED + f\"Final task prompt:\\n{role_play_session.task_prompt}\\n\")\n",
        "\n",
        "n = 0\n",
        "input_msg = role_play_session.init_chat()\n",
        "while n < chat_turn_limit:\n",
        "    n += 1\n",
        "    assistant_response, user_response = role_play_session.step(input_msg)\n",
        "\n",
        "    if assistant_response.terminated:\n",
        "        print(\n",
        "            Fore.GREEN\n",
        "            + (\n",
        "                \"AI Assistant terminated. Reason: \"\n",
        "                f\"{assistant_response.info['termination_reasons']}.\"\n",
        "            )\n",
        "        )\n",
        "        break\n",
        "    if user_response.terminated:\n",
        "        print(\n",
        "            Fore.GREEN\n",
        "            + (\n",
        "                \"AI User terminated. \"\n",
        "                f\"Reason: {user_response.info['termination_reasons']}.\"\n",
        "            )\n",
        "        )\n",
        "        break\n",
        "\n",
        "    # Print output from the user\n",
        "    print_text_animated(\n",
        "        Fore.BLUE + f\"AI User:\\n\\n{user_response.msg.content}\\n\"\n",
        "    )\n",
        "\n",
        "    if \"CAMEL_TASK_DONE\" in user_response.msg.content:\n",
        "        break\n",
        "\n",
        "    # Print output from the assistant, including any function\n",
        "    # execution information\n",
        "    print_text_animated(Fore.GREEN + \"AI Assistant:\")\n",
        "    tool_calls: list[ToolCallingRecord] = assistant_response.info[\n",
        "        'tool_calls'\n",
        "    ]\n",
        "    for func_record in tool_calls:\n",
        "        print_text_animated(f\"{func_record}\")\n",
        "    print_text_animated(f\"{assistant_response.msg.content}\\n\")\n",
        "\n",
        "\n",
        "    input_msg = assistant_response.msg"
      ]
    },
    {
      "cell_type": "markdown",
      "metadata": {
        "id": "vtqMIJAn7Vbe"
      },
      "source": [
        "## Conclusion\n",
        "We anticipate that the integration of custom tool usage within AI agents, as demonstrated through CAMEL, will continue to evolve and expand. This approach not only empowers agents to perform tasks beyond their native capabilities but also fosters collaboration in multi-agent systems. By standardizing the interface for tool usage, CAMEL simplifies the process of customizing and deploying tools across various AI applications, saving time and enhancing versatility. To fully utilize these capabilities, ensure your CAMEL-AI setup is up to date. Dive into the tutorial and start building more powerful AI agents today!"
      ]
    }
  ],
  "metadata": {
    "colab": {
      "provenance": []
    },
    "kernelspec": {
      "display_name": "Python 3",
      "name": "python3"
    },
    "language_info": {
      "codemirror_mode": {
        "name": "ipython",
        "version": 3
      },
      "file_extension": ".py",
      "mimetype": "text/x-python",
      "name": "python",
      "nbconvert_exporter": "python",
      "pygments_lexer": "ipython3",
      "version": "3.10.16"
    }
  },
  "nbformat": 4,
  "nbformat_minor": 0
}
