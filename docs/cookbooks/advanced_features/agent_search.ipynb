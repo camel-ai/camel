{
  "nbformat": 4,
  "nbformat_minor": 0,
  "metadata": {
    "colab": {
      "provenance": []
    },
    "kernelspec": {
      "name": "python3",
      "display_name": "Python 3"
    },
    "language_info": {
      "name": "python"
    }
  },
  "cells": [
    {
      "cell_type": "markdown",
      "source": [
        "# 🐫 CAMEL Agentic Search Cookbook"
      ],
      "metadata": {
        "id": "ymsq1Lw0VEqT"
      }
    },
    {
      "cell_type": "markdown",
      "source": [
        "You can also check this cookbook in colab [here](https://colab.research.google.com/drive/1-qZEzCvKhuuLA8zkCci0OeL0utgKyNOs?usp=sharing)"
      ],
      "metadata": {
        "id": "7V3aV16AmY0K"
      }
    },
    {
      "cell_type": "markdown",
      "source": [
        "<div class=\"align-center\">\n",
        "  <a href=\"https://www.camel-ai.org/\"><img src=\"https://i.postimg.cc/KzQ5rfBC/button.png\"width=\"150\"></a>\n",
        "  <a href=\"https://discord.camel-ai.org\"><img src=\"https://i.postimg.cc/L4wPdG9N/join-2.png\"  width=\"150\"></a></a>\n",
        "  \n",
        "⭐ <i>Star us on [*Github*](https://github.com/camel-ai/camel), join our [*Discord*](https://discord.camel-ai.org) or follow our [*X*](https://x.com/camelaiorg)\n",
        "</div>"
      ],
      "metadata": {
        "id": "UvHRdXwflAz-"
      }
    },
    {
      "cell_type": "markdown",
      "source": [
        "This notebook demonstrates how to set up and leverage CAMEL's agent to search the answer for an input question.\n",
        "\n",
        "In this notebook, you'll explore:\n",
        "\n",
        "*   **CAMEL**: A powerful multi-agent framework that enables Retrieval-Augmented Generation and multi-agent role-playing scenarios, allowing for sophisticated AI-driven tasks.\n",
        "*   **`ChatAgent`**: The ChatAgent class.\n",
        "*   **`RolePlaying`**: A unique cooperative agent framework of CAMEL, which enables multi-agent collaboration to solve problems through role play.\n",
        "*   **`CriticAgent`**: A helper agent that helps to select proposals and provide feedbacks in a role playing session.\n",
        "*   **`SearchToolkit`**: A class representing a toolkit for web search.\n",
        "\n",
        "\n",
        "This setup not only demonstrates a practical application but also serves as a flexible framework that can be adapted for various scenarios requiring different toolkits."
      ],
      "metadata": {
        "id": "G5gE04UuPUWj"
      }
    },
    {
      "cell_type": "markdown",
      "source": [
        "## 📦 Installation"
      ],
      "metadata": {
        "id": "0J0_iW-YVcq2"
      }
    },
    {
      "cell_type": "markdown",
      "source": [
        "First, install the CAMEL package with all its dependencies:"
      ],
      "metadata": {
        "id": "7p-JjpyNVcCT"
      }
    },
    {
      "cell_type": "code",
      "execution_count": null,
      "metadata": {
        "collapsed": true,
        "id": "0GXs2pruU9Vl"
      },
      "outputs": [],
      "source": [
        "!pip install \"camel-ai[all]\" --no-deps\n",
        "!pip install colorama tiktoken duckduckgo_search"
      ]
    },
    {
      "cell_type": "markdown",
      "source": [
        "## 🔑 Setting Up API Keys"
      ],
      "metadata": {
        "id": "lfNvFbhD6o8B"
      }
    },
    {
      "cell_type": "markdown",
      "source": [
        "You'll need to set up your API keys for OpenAI. This ensures that the tools can interact with external services securely."
      ],
      "metadata": {
        "id": "jqV12oQfQTyl"
      }
    },
    {
      "cell_type": "code",
      "source": [
        "import os\n",
        "from getpass import getpass\n",
        "# Prompt for the API key securely\n",
        "openai_api_key = getpass('Enter your API key: ')\n",
        "os.environ[\"OPENAI_API_KEY\"] = openai_api_key"
      ],
      "metadata": {
        "colab": {
          "base_uri": "https://localhost:8080/"
        },
        "id": "GWyoKFO0bxMT",
        "outputId": "eeddad48-40e2-46b4-e15e-0698978967f1"
      },
      "execution_count": null,
      "outputs": [
        {
          "name": "stdout",
          "output_type": "stream",
          "text": [
            "Enter your API key: ··········\n"
          ]
        }
      ]
    },
    {
      "cell_type": "markdown",
      "source": [
        "If you need to use Google search tool, make sure to set up the Google API and Search engine"
      ],
      "metadata": {
        "id": "nY7e4pR7EI1g"
      }
    },
    {
      "cell_type": "code",
      "source": [
        "google_api_key = getpass('Enter your Google API key: ')\n",
        "os.environ[\"GOOGLE_API_KEY\"] = google_api_key\n",
        "\n",
        "search_engine_id = getpass('Enter your Google Search Engine ID: ')\n",
        "os.environ[\"SEARCH_ENGINE_ID\"] = search_engine_id"
      ],
      "metadata": {
        "id": "0kNglBzHEUwi"
      },
      "execution_count": null,
      "outputs": []
    },
    {
      "cell_type": "markdown",
      "source": [
        "## 🌐 Use Base ChatAgent with SearchToolkit to Search Answer for a Query"
      ],
      "metadata": {
        "id": "NEUciNquON9_"
      }
    },
    {
      "cell_type": "markdown",
      "source": [
        "*In this section, we'll demonstrate how to use existing `SearchToolkit` to find the answer to an input query repeatly until it finds the answer*"
      ],
      "metadata": {
        "id": "6f64VOMMP93d"
      }
    },
    {
      "cell_type": "markdown",
      "source": [
        "### Prepare your environment by initializing necessary imports from CAMEL"
      ],
      "metadata": {
        "id": "46Irp_SurLaV"
      }
    },
    {
      "cell_type": "code",
      "source": [
        "from camel.agents import ChatAgent\n",
        "from camel.toolkits import SearchToolkit, FunctionTool\n",
        "from camel.types import ModelPlatformType, ModelType\n",
        "from camel.configs import ChatGPTConfig\n",
        "from camel.models import ModelFactory\n",
        "from colorama import Fore\n",
        "import asyncio"
      ],
      "metadata": {
        "id": "gE_qBFCVveBR"
      },
      "execution_count": null,
      "outputs": []
    },
    {
      "cell_type": "markdown",
      "source": [
        "### CAMEL `ChatAgent` repeatly call search API to find the answer based on a given query. Critic agent will judge the answer and determine when to stop."
      ],
      "metadata": {
        "id": "WgmGEt2kkieQ"
      }
    },
    {
      "cell_type": "markdown",
      "source": [
        "Create a `ChatAgent`"
      ],
      "metadata": {
        "id": "C-xxDN2jvUS9"
      }
    },
    {
      "cell_type": "code",
      "source": [
        "# Initialize the model\n",
        "model = ModelFactory.create(\n",
        "    model_type=ModelType.GPT_4O_MINI,\n",
        "    model_platform=ModelPlatformType.OPENAI,\n",
        "    model_config_dict=ChatGPTConfig(temperature=0.0).as_dict(),\n",
        ")\n",
        "\n",
        "# Create chat agent\n",
        "chat_system_message = (\n",
        "    \"\"\"You are a helpful assistant that can use a search\n",
        "      engine to answer questions.\n",
        "      Provide the best possible answer for each query.\"\"\"\n",
        "      )\n",
        "\n",
        "search_agent = ChatAgent(\n",
        "    system_message=chat_system_message,\n",
        "    model=model,\n",
        "    # SearchToolkit().search_google for Google search, and it requires api keys\n",
        "    tools=[FunctionTool(SearchToolkit().search_duckduckgo)],\n",
        ")\n",
        "\n"
      ],
      "metadata": {
        "id": "cSbjJ7aMvc3I"
      },
      "execution_count": null,
      "outputs": []
    },
    {
      "cell_type": "markdown",
      "source": [
        "Create a critic agent based `ChatAgent`"
      ],
      "metadata": {
        "id": "Sm8ADGr4xBDr"
      }
    },
    {
      "cell_type": "code",
      "source": [
        "critic_system_message = (\n",
        "    \"\"\"\n",
        "    You are a highly critical evaluator. Evaluate the following answer to\n",
        "the question: '{query}'.\n",
        "Answer: {content}\n",
        "\n",
        "Consider if the answer directly and completely addresses the question.\n",
        "\n",
        "\"\"\"\n",
        ")\n",
        "critic_agent = ChatAgent(system_message=critic_system_message, model=model)"
      ],
      "metadata": {
        "id": "psPv6sz7xEai"
      },
      "execution_count": null,
      "outputs": []
    },
    {
      "cell_type": "markdown",
      "source": [
        "The following function repeatly call search API to find the answer based on a given query."
      ],
      "metadata": {
        "id": "QVB-Xra8QIU1"
      }
    },
    {
      "cell_type": "code",
      "source": [
        "async def search_with_critic(\n",
        "    agent: ChatAgent,\n",
        "    critic_agent: ChatAgent,\n",
        "    query: str,\n",
        "    max_attempts: int = 3\n",
        ") -> str:\n",
        "  r\"\"\"Repeatly call search API to find the answer based on a given query.\n",
        "\n",
        "  Args:\n",
        "    agent (ChatAgent): The ChatAgent with the search tool.\n",
        "    critic_agent (CriticAgent): The CriticAgent to critique the answers.\n",
        "    initial_query (str): The initial search query.\n",
        "    max_attempts (int): The maximum number of search attempts.\n",
        "\n",
        "  Returns:\n",
        "    The answer to the query.\n",
        "  \"\"\"\n",
        "  for attempt in range(max_attempts):\n",
        "    print(f\"Attempt {attempt + 1}: Searching for '{query}'...\")\n",
        "    response = agent.step(query)\n",
        "    content = response.msgs[0].content\n",
        "\n",
        "    print(\"Agent's Response:\", content)\n",
        "    # Critique the agent's response\n",
        "\n",
        "    critic_prompt = f\"\"\"\n",
        "      You are a highly critical evaluator. Evaluate the following answer to\n",
        "      the question: '{query}'.\n",
        "      Answer: {content}\n",
        "\n",
        "      Consider if the answer completely addresses the question.\n",
        "\n",
        "      Respond with ONLY 'YES' if the answer meets the above criteria,\n",
        "      otherwise respond with ONLY 'NO'.\n",
        "      \"\"\"\n",
        "    critic_response = critic_agent.step(input_message=critic_prompt,\n",
        "                                        response_format=None)\n",
        "    critic_content = critic_response.msgs[0].content.strip().upper()\n",
        "    print(\"Critic's Response:\", critic_content)\n",
        "\n",
        "    if \"YES\" in critic_content:\n",
        "        print(Fore.RED + \"Satisfactory answer found!\")\n",
        "        return content\n",
        "    await asyncio.sleep(1)\n",
        "  return f\"Search incomplete after {max_attempts} attempts. \\\n",
        "  Last answer: {content}\"\n",
        "\n"
      ],
      "metadata": {
        "id": "bULpgfepjaoL"
      },
      "execution_count": null,
      "outputs": []
    },
    {
      "cell_type": "code",
      "source": [
        "# Define the initial query\n",
        "query = \"What is quantum mechanics, and what are the applications\"\n",
        "\n",
        "# Perform the search with the critic agent determining the final answer\n",
        "final_answer = await search_with_critic(search_agent, critic_agent, query)\n",
        "\n",
        "# Print the final answer\n",
        "print(\"\\nFinal Answer:\", final_answer)"
      ],
      "metadata": {
        "colab": {
          "base_uri": "https://localhost:8080/"
        },
        "id": "rn2EuD_0vFwP",
        "outputId": "53ed5fab-a1b9-42e6-f8bb-9b6fa51547e3"
      },
      "execution_count": null,
      "outputs": [
        {
          "output_type": "stream",
          "name": "stdout",
          "text": [
            "Attempt 1: Searching for 'What is quantum mechanics, and what are the applications'...\n",
            "Agent's Response: ### What is Quantum Mechanics?\n",
            "\n",
            "Quantum mechanics is a fundamental theory in physics that describes the behavior of matter and light at the atomic and subatomic levels. It is essential for understanding the properties of molecules, atoms, and their constituents, such as electrons, protons, and neutrons. Quantum mechanics introduces concepts that are often counterintuitive, such as superposition (where particles can exist in multiple states at once), entanglement (where particles become interconnected in ways that the state of one can depend on the state of another, regardless of distance), and tunneling (where particles can pass through barriers that they classically shouldn't be able to).\n",
            "\n",
            "For more detailed information, you can refer to the following resources:\n",
            "- [Wikipedia on Quantum Mechanics](https://en.wikipedia.org/wiki/Quantum_mechanics)\n",
            "- [Science News Today on Quantum Mechanics](https://www.sciencenewstoday.org/what-is-quantum-mechanics-understanding-the-basics-and-its-impact-on-modern-science)\n",
            "- [Britannica on Quantum Mechanics](https://www.britannica.com/science/quantum-mechanics-physics)\n",
            "\n",
            "### Applications of Quantum Mechanics\n",
            "\n",
            "Quantum mechanics has numerous applications across various fields, including:\n",
            "\n",
            "1. **Semiconductors and Electronics**: Quantum mechanics is crucial for understanding and designing semiconductors, which are the foundation of modern electronics, including computers and smartphones.\n",
            "\n",
            "2. **Lasers**: The principles of quantum mechanics are fundamental to the operation of lasers, which are used in everything from medical devices to telecommunications.\n",
            "\n",
            "3. **Quantum Computing**: Quantum mechanics enables the development of quantum computers, which have the potential to solve complex problems much faster than classical computers.\n",
            "\n",
            "4. **Medical Imaging**: Technologies such as MRI (Magnetic Resonance Imaging) rely on quantum mechanics to produce detailed images of the inside of the human body.\n",
            "\n",
            "5. **Cryptography**: Quantum mechanics is used in quantum cryptography, which offers theoretically secure communication methods.\n",
            "\n",
            "For more information on the applications of quantum mechanics, you can check these resources:\n",
            "- [Wikipedia on Applications of Quantum Mechanics](https://en.wikipedia.org/wiki/Applications_of_quantum_mechanics)\n",
            "- [GeeksforGeeks on Real Life Applications of Quantum Mechanics](https://www.geeksforgeeks.org/real-life-applications-of-quantum-mechanics/)\n",
            "- [Britannica on Applications of Quantum Mechanics](https://www.britannica.com/science/quantum-mechanics-physics/Applications-of-quantum-mechanics)\n",
            "Critic's Response: YES\n",
            "\u001b[31mSatisfactory answer found!\n",
            "\n",
            "Final Answer: ### What is Quantum Mechanics?\n",
            "\n",
            "Quantum mechanics is a fundamental theory in physics that describes the behavior of matter and light at the atomic and subatomic levels. It is essential for understanding the properties of molecules, atoms, and their constituents, such as electrons, protons, and neutrons. Quantum mechanics introduces concepts that are often counterintuitive, such as superposition (where particles can exist in multiple states at once), entanglement (where particles become interconnected in ways that the state of one can depend on the state of another, regardless of distance), and tunneling (where particles can pass through barriers that they classically shouldn't be able to).\n",
            "\n",
            "For more detailed information, you can refer to the following resources:\n",
            "- [Wikipedia on Quantum Mechanics](https://en.wikipedia.org/wiki/Quantum_mechanics)\n",
            "- [Science News Today on Quantum Mechanics](https://www.sciencenewstoday.org/what-is-quantum-mechanics-understanding-the-basics-and-its-impact-on-modern-science)\n",
            "- [Britannica on Quantum Mechanics](https://www.britannica.com/science/quantum-mechanics-physics)\n",
            "\n",
            "### Applications of Quantum Mechanics\n",
            "\n",
            "Quantum mechanics has numerous applications across various fields, including:\n",
            "\n",
            "1. **Semiconductors and Electronics**: Quantum mechanics is crucial for understanding and designing semiconductors, which are the foundation of modern electronics, including computers and smartphones.\n",
            "\n",
            "2. **Lasers**: The principles of quantum mechanics are fundamental to the operation of lasers, which are used in everything from medical devices to telecommunications.\n",
            "\n",
            "3. **Quantum Computing**: Quantum mechanics enables the development of quantum computers, which have the potential to solve complex problems much faster than classical computers.\n",
            "\n",
            "4. **Medical Imaging**: Technologies such as MRI (Magnetic Resonance Imaging) rely on quantum mechanics to produce detailed images of the inside of the human body.\n",
            "\n",
            "5. **Cryptography**: Quantum mechanics is used in quantum cryptography, which offers theoretically secure communication methods.\n",
            "\n",
            "For more information on the applications of quantum mechanics, you can check these resources:\n",
            "- [Wikipedia on Applications of Quantum Mechanics](https://en.wikipedia.org/wiki/Applications_of_quantum_mechanics)\n",
            "- [GeeksforGeeks on Real Life Applications of Quantum Mechanics](https://www.geeksforgeeks.org/real-life-applications-of-quantum-mechanics/)\n",
            "- [Britannica on Applications of Quantum Mechanics](https://www.britannica.com/science/quantum-mechanics-physics/Applications-of-quantum-mechanics)\n"
          ]
        }
      ]
    },
    {
      "cell_type": "markdown",
      "source": [
        "## 🤖🤖🤖 Use AI Society with SearchToolkit to Seary Answer for a Query"
      ],
      "metadata": {
        "id": "70vIYmLZYzYi"
      }
    },
    {
      "cell_type": "code",
      "source": [
        "from camel.societies import RolePlaying"
      ],
      "metadata": {
        "id": "KSvlq1czZC7W"
      },
      "execution_count": null,
      "outputs": []
    },
    {
      "cell_type": "code",
      "source": [
        "# set the query\n",
        "query = \"explain quantum mechanic and its applications\""
      ],
      "metadata": {
        "id": "jUM2F3pCZHXM"
      },
      "execution_count": null,
      "outputs": []
    },
    {
      "cell_type": "code",
      "source": [
        "# role playing\n",
        "role_play = RolePlaying(\n",
        "    assistant_role_name=\"Searcher\",\n",
        "    user_role_name=\"User\",\n",
        "    critic_role_name=\"Critic\",\n",
        "    with_critic_in_the_loop=True,\n",
        "    critic_criteria=\"\"\"Say 'STOP' if the previousresponse is complete\n",
        "                    for the task, 'CONTINUE' otherwise.\"\"\",\n",
        "    model = model,\n",
        "    assistant_agent_kwargs=dict(\n",
        "        tools = [SearchToolkit().search_duckduckgo]\n",
        "    ),\n",
        "    user_agent_kwargs=dict(\n",
        "        model = model,\n",
        "    ),\n",
        "    critic_kwargs=dict(\n",
        "        model = model,\n",
        "    ),\n",
        "    task_prompt=query,\n",
        ")"
      ],
      "metadata": {
        "colab": {
          "base_uri": "https://localhost:8080/"
        },
        "id": "aUoVbx-_ZHbG",
        "outputId": "a192e0c3-6606-4dba-9a07-06260f71a1bf"
      },
      "execution_count": null,
      "outputs": [
        {
          "output_type": "stream",
          "name": "stderr",
          "text": [
            "WARNING:camel.societies.role_playing:Model provided globally is set for all agents if not already specified in agent_kwargs.\n"
          ]
        }
      ]
    },
    {
      "cell_type": "code",
      "source": [
        "# limit for the chat turn\n",
        "chat_turn_limit = 5"
      ],
      "metadata": {
        "id": "x7EmJmJbZHeK"
      },
      "execution_count": null,
      "outputs": []
    },
    {
      "cell_type": "code",
      "source": [
        "n = 0\n",
        "input_msg = role_play.init_chat()\n",
        "while n < chat_turn_limit:\n",
        "  n +=1\n",
        "  assistant_response, user_response = role_play.step(input_msg)\n",
        "  if assistant_response.terminated:\n",
        "    print(\"Assistant terminated the conversation\")\n",
        "    break\n",
        "  if user_response.terminated:\n",
        "    print(\"User terminated the conversation\")\n",
        "    break\n",
        "  # Print the assistant's response\n",
        "  print(f\"Assistant: {assistant_response.msgs[0].content}\")\n",
        "\n",
        "  # Critic evaluates the response\n",
        "  if role_play.critic is not None:\n",
        "      critic_response = role_play.critic.step(assistant_response.msgs[0])\n",
        "      critic_feedback = critic_response.msgs[0].content\n",
        "      print(f\"Critic Feedback: {critic_feedback}\")\n",
        "\n",
        "\n",
        "  if \"STOP\" in critic_response.msgs[0].content.upper():\n",
        "    print(Fore.RED + \"Satisfactory answer found!\")\n",
        "    print(assistant_response.msgs[0].content)\n",
        "    break\n",
        "  input_msg = assistant_response.msgs[0]"
      ],
      "metadata": {
        "colab": {
          "base_uri": "https://localhost:8080/"
        },
        "id": "Lf7XxeIdZHjW",
        "outputId": "2695e9a0-da8d-4f81-ac58-63da5e8efe71"
      },
      "execution_count": null,
      "outputs": [
        {
          "output_type": "stream",
          "name": "stdout",
          "text": [
            "Assistant: Solution: \n",
            "\n",
            "The principle of superposition is a fundamental concept in quantum mechanics that states that a quantum system can exist in multiple states at the same time until it is measured. This principle is a departure from classical physics, where systems are typically found in one definite state.\n",
            "\n",
            "In quantum mechanics, a particle, such as an electron, can be in a superposition of different states, represented mathematically by a wave function. For example, an electron can be in multiple positions or have different energy levels simultaneously. The wave function describes the probabilities of finding the particle in each of these states when a measurement is made.\n",
            "\n",
            "A classic illustration of superposition is the thought experiment known as Schrödinger's cat. In this scenario, a cat is placed in a sealed box with a radioactive atom, a Geiger counter, and a vial of poison. If the atom decays, the Geiger counter triggers the release of the poison, killing the cat. Until the box is opened and the cat is observed, it is considered to be in a superposition of being both alive and dead.\n",
            "\n",
            "Applications of the principle of superposition are evident in various technologies:\n",
            "\n",
            "1. **Quantum Computing**: Quantum bits, or qubits, utilize superposition to perform calculations. Unlike classical bits, which can be either 0 or 1, qubits can be in a state of 0, 1, or both simultaneously. This allows quantum computers to process vast amounts of information at once, leading to potentially exponential speedups in certain computations.\n",
            "\n",
            "2. **Quantum Cryptography**: Superposition is used in quantum key distribution (QKD) protocols, such as BB84. In QKD, information is encoded in the superposition states of photons, making it theoretically impossible for an eavesdropper to intercept the key without disturbing the system and revealing their presence.\n",
            "\n",
            "3. **Medical Imaging**: Techniques like MRI (Magnetic Resonance Imaging) leverage principles of quantum mechanics, including superposition. In MRI, the spins of hydrogen nuclei in the body are manipulated using magnetic fields and radio waves, creating superpositions that can be measured to produce detailed images of internal structures.\n",
            "\n",
            "In summary, the principle of superposition allows quantum systems to exist in multiple states simultaneously, leading to revolutionary advancements in technology and a deeper understanding of the quantum world.\n",
            "\n",
            "Next request.\n",
            "Critic Feedback: STOP\n",
            "\u001b[31mSatisfactory answer found!\n",
            "Solution: \n",
            "\n",
            "The principle of superposition is a fundamental concept in quantum mechanics that states that a quantum system can exist in multiple states at the same time until it is measured. This principle is a departure from classical physics, where systems are typically found in one definite state.\n",
            "\n",
            "In quantum mechanics, a particle, such as an electron, can be in a superposition of different states, represented mathematically by a wave function. For example, an electron can be in multiple positions or have different energy levels simultaneously. The wave function describes the probabilities of finding the particle in each of these states when a measurement is made.\n",
            "\n",
            "A classic illustration of superposition is the thought experiment known as Schrödinger's cat. In this scenario, a cat is placed in a sealed box with a radioactive atom, a Geiger counter, and a vial of poison. If the atom decays, the Geiger counter triggers the release of the poison, killing the cat. Until the box is opened and the cat is observed, it is considered to be in a superposition of being both alive and dead.\n",
            "\n",
            "Applications of the principle of superposition are evident in various technologies:\n",
            "\n",
            "1. **Quantum Computing**: Quantum bits, or qubits, utilize superposition to perform calculations. Unlike classical bits, which can be either 0 or 1, qubits can be in a state of 0, 1, or both simultaneously. This allows quantum computers to process vast amounts of information at once, leading to potentially exponential speedups in certain computations.\n",
            "\n",
            "2. **Quantum Cryptography**: Superposition is used in quantum key distribution (QKD) protocols, such as BB84. In QKD, information is encoded in the superposition states of photons, making it theoretically impossible for an eavesdropper to intercept the key without disturbing the system and revealing their presence.\n",
            "\n",
            "3. **Medical Imaging**: Techniques like MRI (Magnetic Resonance Imaging) leverage principles of quantum mechanics, including superposition. In MRI, the spins of hydrogen nuclei in the body are manipulated using magnetic fields and radio waves, creating superpositions that can be measured to produce detailed images of internal structures.\n",
            "\n",
            "In summary, the principle of superposition allows quantum systems to exist in multiple states simultaneously, leading to revolutionary advancements in technology and a deeper understanding of the quantum world.\n",
            "\n",
            "Next request.\n"
          ]
        }
      ]
    },
    {
      "cell_type": "markdown",
      "source": [
        "## 🌟 Highlights"
      ],
      "metadata": {
        "id": "flYNal6-R4yR"
      }
    },
    {
      "cell_type": "markdown",
      "source": [
        "This notebook has guided you through setting up and running agentic search using `SearchToolkit` and `ChatAgent`.\n",
        "\n",
        "Key tools utilized in this notebook include:\n",
        "\n",
        "*   **CAMEL**: A powerful multi-agent framework that enables Retrieval-Augmented Generation and multi-agent role-playing scenarios, allowing for sophisticated AI-driven tasks.\n",
        "*   **`ChatAgent`**: The ChatAgent class.\n",
        "*   **`RolePlaying`**: A unique cooperative agent framework of CAMEL, which enables multi-agent collaboration to solve problems through role play.\n",
        "*   **`CriticAgent`**: A helper agent that helps to select proposals and provide feedbacks in a role playing session.\n",
        "*   **`SearchToolkit`**: A class representing a toolkit for web search.\n",
        "\n",
        "This comprehensive setup allows you to adapt and expand the example for various scenario using other search tools.\n",
        "\n",
        "**CAMEL also provides other Toolkits, for more information please check [here](https://colab.research.google.com/drive/1f1jYwDy6pB8QB6c_UdoBvFx6wr6kA5xq?usp=sharing)**"
      ],
      "metadata": {
        "id": "SmkXhy4JR726"
      }
    },
    {
      "cell_type": "markdown",
      "source": [
        "That's everything: Got questions about 🐫 CAMEL-AI? Join us on [Discord](https://discord.camel-ai.org)! Whether you want to share feedback, explore the latest in multi-agent systems, get support, or connect with others on exciting projects, we’d love to have you in the community! 🤝\n",
        "\n",
        "Check out some of our other work:\n",
        "\n",
        "1. 🐫 Creating Your First CAMEL Agent [free Colab](https://docs.camel-ai.org/cookbooks/create_your_first_agent.html)\n",
        "\n",
        "2.  Graph RAG Cookbook [free Colab](https://colab.research.google.com/drive/1uZKQSuu0qW6ukkuSv9TukLB9bVaS1H0U?usp=sharing)\n",
        "\n",
        "3. 🧑‍⚖️ Create A Hackathon Judge Committee with Workforce [free Colab](https://colab.research.google.com/drive/18ajYUMfwDx3WyrjHow3EvUMpKQDcrLtr?usp=sharing)\n",
        "\n",
        "4. 🔥 3 ways to ingest data from websites with Firecrawl & CAMEL [free Colab](https://colab.research.google.com/drive/1lOmM3VmgR1hLwDKdeLGFve_75RFW0R9I?usp=sharing)\n",
        "\n",
        "5. 🦥 Agentic SFT Data Generation with CAMEL and Mistral Models, Fine-Tuned with Unsloth [free Colab](https://colab.research.google.com/drive/1lYgArBw7ARVPSpdwgKLYnp_NEXiNDOd-?usp=sharingg)\n",
        "\n",
        "Thanks from everyone at 🐫 CAMEL-AI\n",
        "\n",
        "\n",
        "<div class=\"align-center\">\n",
        "  <a href=\"https://www.camel-ai.org/\"><img src=\"https://i.postimg.cc/KzQ5rfBC/button.png\"width=\"150\"></a>\n",
        "  <a href=\"https://discord.camel-ai.org\"><img src=\"https://i.postimg.cc/L4wPdG9N/join-2.png\"  width=\"150\"></a></a>\n",
        "  \n",
        "⭐ <i>Star us on [*Github*](https://github.com/camel-ai/camel), join our [*Discord*](https://discord.camel-ai.org) or follow our [*X*](https://x.com/camelaiorg)\n",
        "</div>\n"
      ],
      "metadata": {
        "id": "s6Det-fcMb9A"
      }
    }
  ]
}