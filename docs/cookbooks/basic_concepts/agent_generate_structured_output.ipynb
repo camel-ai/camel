{
  "cells": [
    {
      "cell_type": "markdown",
      "metadata": {
        "id": "ymsq1Lw0VEqT"
      },
      "source": [
        "# Agent Generate Structured Output Examples\n"
      ]
    },
    {
      "cell_type": "markdown",
      "metadata": {
        "id": "7V3aV16AmY0K"
      },
      "source": [
        "You can also check this cookbook in colab [here](https://colab.research.google.com/drive/1DioOS4t0L4Lb3rPKAnIjCl-IyvkW6fOr?usp=sharing)"
      ]
    },
    {
      "cell_type": "markdown",
      "metadata": {
        "id": "UvHRdXwflAz-"
      },
      "source": [
        "<div class=\"align-center\">\n",
        "  <a href=\"https://www.camel-ai.org/\"><img src=\"https://i.postimg.cc/KzQ5rfBC/button.png\"width=\"150\"></a>\n",
        "  <a href=\"https://discord.camel-ai.org\"><img src=\"https://i.postimg.cc/L4wPdG9N/join-2.png\"  width=\"150\"></a></a>\n",
        "  \n",
        "⭐ <i>Star us on [*Github*](https://github.com/camel-ai/camel), join our [*Discord*](https://discord.camel-ai.org) or follow our [*X*](https://x.com/camelaiorg)\n",
        "</div>"
      ]
    },
    {
      "cell_type": "markdown",
      "metadata": {
        "id": "G5gE04UuPUWj"
      },
      "source": [
        "This notebook demonstrates how to use CAMEL agents to generate structured outputs from language models. You'll learn to create AI agents that produce consistent, well-formatted responses that can be directly used in your applications.\n",
        "\n",
        "\n",
        "In this notebook, you'll explore:\n",
        "\n",
        "* **CAMEL**: A powerful multi-agent framework that enables Retrieval-Augmented Generation and multi-agent role-playing scenarios, allowing for sophisticated AI-driven tasks.\n",
        "* **Structured Outputs**: How to define and enforce specific response schemas using Pydantic models, ensuring consistent and reliable model outputs.\n",
        "* **Tool Integration**: Techniques for combining structured responses with CAMEL's tool system to create powerful, interactive AI applications.\n",
        "* **Cross-Model Compatibility**: Strategies for achieving structured outputs even with models that don't natively support function calling or structured responses."
      ]
    },
    {
      "cell_type": "markdown",
      "metadata": {
        "id": "0J0_iW-YVcq2"
      },
      "source": [
        "## 📦 Installation"
      ]
    },
    {
      "cell_type": "markdown",
      "metadata": {
        "id": "7p-JjpyNVcCT"
      },
      "source": [
        "First, install the CAMEL package with all its dependencies:"
      ]
    },
    {
      "cell_type": "code",
      "execution_count": 1,
      "metadata": {
        "collapsed": true,
        "id": "0GXs2pruU9Vl"
      },
      "outputs": [
        {
          "name": "stdout",
          "output_type": "stream",
          "text": [
            "Requirement already satisfied: camel-ai==0.2.70 in /Users/bonianhu/miniconda3/lib/python3.12/site-packages (from camel-ai[all]==0.2.70) (0.2.70)\n",
            "Requirement already satisfied: colorama<0.5,>=0.4.6 in /Users/bonianhu/miniconda3/lib/python3.12/site-packages (from camel-ai==0.2.70->camel-ai[all]==0.2.70) (0.4.6)\n",
            "Requirement already satisfied: docstring-parser<0.16,>=0.15 in /Users/bonianhu/miniconda3/lib/python3.12/site-packages (from camel-ai==0.2.70->camel-ai[all]==0.2.70) (0.15)\n",
            "Requirement already satisfied: httpx<1.0.0dev,>=0.28.0 in /Users/bonianhu/miniconda3/lib/python3.12/site-packages (from camel-ai==0.2.70->camel-ai[all]==0.2.70) (0.28.1)\n",
            "Requirement already satisfied: jsonschema<5,>=4 in /Users/bonianhu/miniconda3/lib/python3.12/site-packages (from camel-ai==0.2.70->camel-ai[all]==0.2.70) (4.23.0)\n",
            "Requirement already satisfied: mcp>=1.3.0 in /Users/bonianhu/miniconda3/lib/python3.12/site-packages (from camel-ai==0.2.70->camel-ai[all]==0.2.70) (1.12.2)\n",
            "Requirement already satisfied: openai<2,>=1.68.0 in /Users/bonianhu/miniconda3/lib/python3.12/site-packages (from camel-ai==0.2.70->camel-ai[all]==0.2.70) (1.97.1)\n",
            "Requirement already satisfied: pillow<11.0.0,>=10.1.0 in /Users/bonianhu/miniconda3/lib/python3.12/site-packages (from camel-ai==0.2.70->camel-ai[all]==0.2.70) (10.4.0)\n",
            "Requirement already satisfied: psutil<6,>=5.9.8 in /Users/bonianhu/miniconda3/lib/python3.12/site-packages (from camel-ai==0.2.70->camel-ai[all]==0.2.70) (5.9.8)\n",
            "Requirement already satisfied: pydantic>=2.10.6 in /Users/bonianhu/miniconda3/lib/python3.12/site-packages (from camel-ai==0.2.70->camel-ai[all]==0.2.70) (2.11.7)\n",
            "Requirement already satisfied: tiktoken<0.8,>=0.7.0 in /Users/bonianhu/miniconda3/lib/python3.12/site-packages (from camel-ai==0.2.70->camel-ai[all]==0.2.70) (0.7.0)\n",
            "Requirement already satisfied: aci-sdk>=1.0.0b1 in /Users/bonianhu/miniconda3/lib/python3.12/site-packages (from camel-ai[all]==0.2.70) (1.0.0b3)\n",
            "Requirement already satisfied: agentops<0.4,>=0.3.21 in /Users/bonianhu/miniconda3/lib/python3.12/site-packages (from camel-ai[all]==0.2.70) (0.3.26)\n",
            "Requirement already satisfied: aiosqlite<0.21,>=0.20.0 in /Users/bonianhu/miniconda3/lib/python3.12/site-packages (from camel-ai[all]==0.2.70) (0.20.0)\n",
            "Requirement already satisfied: anthropic<0.50.0,>=0.47.0 in /Users/bonianhu/miniconda3/lib/python3.12/site-packages (from camel-ai[all]==0.2.70) (0.49.0)\n",
            "Requirement already satisfied: apify-client<2,>=1.8.1 in /Users/bonianhu/miniconda3/lib/python3.12/site-packages (from camel-ai[all]==0.2.70) (1.12.0)\n",
            "Requirement already satisfied: arxiv2text<0.2,>=0.1.14 in /Users/bonianhu/miniconda3/lib/python3.12/site-packages (from camel-ai[all]==0.2.70) (0.1.14)\n",
            "Requirement already satisfied: arxiv<3,>=2.1.3 in /Users/bonianhu/miniconda3/lib/python3.12/site-packages (from camel-ai[all]==0.2.70) (2.2.0)\n",
            "Requirement already satisfied: azure-storage-blob<13,>=12.21.0 in /Users/bonianhu/miniconda3/lib/python3.12/site-packages (from camel-ai[all]==0.2.70) (12.26.0)\n",
            "Requirement already satisfied: beautifulsoup4<5,>=4 in /Users/bonianhu/miniconda3/lib/python3.12/site-packages (from camel-ai[all]==0.2.70) (4.12.3)\n",
            "Requirement already satisfied: botocore<2,>=1.35.3 in /Users/bonianhu/miniconda3/lib/python3.12/site-packages (from camel-ai[all]==0.2.70) (1.36.11)\n",
            "Requirement already satisfied: chromadb<1.0.0,>=0.6.0 in /Users/bonianhu/miniconda3/lib/python3.12/site-packages (from camel-ai[all]==0.2.70) (0.6.3)\n",
            "Requirement already satisfied: chunkr-ai>=0.0.50 in /Users/bonianhu/miniconda3/lib/python3.12/site-packages (from camel-ai[all]==0.2.70) (0.3.1)\n",
            "Requirement already satisfied: cohere<6,>=5.11.0 in /Users/bonianhu/miniconda3/lib/python3.12/site-packages (from camel-ai[all]==0.2.70) (5.16.1)\n",
            "Requirement already satisfied: crawl4ai>=0.3.745 in /Users/bonianhu/miniconda3/lib/python3.12/site-packages (from camel-ai[all]==0.2.70) (0.4.24)\n",
            "Requirement already satisfied: dappier<0.4,>=0.3.3 in /Users/bonianhu/miniconda3/lib/python3.12/site-packages (from camel-ai[all]==0.2.70) (0.3.6)\n",
            "Requirement already satisfied: datacommons-pandas<0.0.4,>=0.0.3 in /Users/bonianhu/miniconda3/lib/python3.12/site-packages (from camel-ai[all]==0.2.70) (0.0.3)\n",
            "Requirement already satisfied: datacommons<2,>=1.4.3 in /Users/bonianhu/miniconda3/lib/python3.12/site-packages (from camel-ai[all]==0.2.70) (1.4.3)\n",
            "Requirement already satisfied: datasets<4,>=3 in /Users/bonianhu/miniconda3/lib/python3.12/site-packages (from camel-ai[all]==0.2.70) (3.6.0)\n",
            "Requirement already satisfied: daytona-sdk>=0.20.0 in /Users/bonianhu/miniconda3/lib/python3.12/site-packages (from camel-ai[all]==0.2.70) (0.24.2)\n",
            "Requirement already satisfied: diffusers<0.26,>=0.25.0 in /Users/bonianhu/miniconda3/lib/python3.12/site-packages (from camel-ai[all]==0.2.70) (0.25.1)\n",
            "Requirement already satisfied: discord-py<3,>=2.3.2 in /Users/bonianhu/miniconda3/lib/python3.12/site-packages (from camel-ai[all]==0.2.70) (2.5.2)\n",
            "Requirement already satisfied: docker<8,>=7.1.0 in /Users/bonianhu/miniconda3/lib/python3.12/site-packages (from camel-ai[all]==0.2.70) (7.1.0)\n",
            "Requirement already satisfied: docx2txt<0.9,>=0.8 in /Users/bonianhu/miniconda3/lib/python3.12/site-packages (from camel-ai[all]==0.2.70) (0.8)\n",
            "Requirement already satisfied: docx>=0.2.4 in /Users/bonianhu/miniconda3/lib/python3.12/site-packages (from camel-ai[all]==0.2.70) (0.2.4)\n",
            "Requirement already satisfied: duckduckgo-search<7,>=6.3.5 in /Users/bonianhu/miniconda3/lib/python3.12/site-packages (from camel-ai[all]==0.2.70) (6.4.2)\n",
            "Requirement already satisfied: e2b-code-interpreter<2,>=1.0.3 in /Users/bonianhu/miniconda3/lib/python3.12/site-packages (from camel-ai[all]==0.2.70) (1.2.0)\n",
            "Requirement already satisfied: exa-py<2,>=1.10.0 in /Users/bonianhu/miniconda3/lib/python3.12/site-packages (from camel-ai[all]==0.2.70) (1.14.18)\n",
            "Requirement already satisfied: faiss-cpu<2,>=1.7.2 in /Users/bonianhu/miniconda3/lib/python3.12/site-packages (from camel-ai[all]==0.2.70) (1.11.0.post1)\n",
            "Requirement already satisfied: fastapi>=0.115.11 in /Users/bonianhu/miniconda3/lib/python3.12/site-packages (from camel-ai[all]==0.2.70) (0.116.1)\n",
            "Requirement already satisfied: ffmpeg-python<0.3,>=0.2.0 in /Users/bonianhu/miniconda3/lib/python3.12/site-packages (from camel-ai[all]==0.2.70) (0.2.0)\n",
            "Requirement already satisfied: firecrawl-py<2,>=1.0.0 in /Users/bonianhu/miniconda3/lib/python3.12/site-packages (from camel-ai[all]==0.2.70) (1.6.8)\n",
            "Requirement already satisfied: fish-audio-sdk<2025,>=2024.12.5 in /Users/bonianhu/miniconda3/lib/python3.12/site-packages (from camel-ai[all]==0.2.70) (2024.12.5)\n",
            "Requirement already satisfied: flask>=2.0 in /Users/bonianhu/miniconda3/lib/python3.12/site-packages (from camel-ai[all]==0.2.70) (3.1.1)\n",
            "Requirement already satisfied: fpdf>=1.7.2 in /Users/bonianhu/miniconda3/lib/python3.12/site-packages (from camel-ai[all]==0.2.70) (1.7.2)\n",
            "Requirement already satisfied: google-api-python-client==2.166.0 in /Users/bonianhu/miniconda3/lib/python3.12/site-packages (from camel-ai[all]==0.2.70) (2.166.0)\n",
            "Requirement already satisfied: google-auth-httplib2==0.2.0 in /Users/bonianhu/miniconda3/lib/python3.12/site-packages (from camel-ai[all]==0.2.70) (0.2.0)\n",
            "Requirement already satisfied: google-auth-oauthlib==1.2.1 in /Users/bonianhu/miniconda3/lib/python3.12/site-packages (from camel-ai[all]==0.2.70) (1.2.1)\n",
            "Requirement already satisfied: google-cloud-storage<3,>=2.18.0 in /Users/bonianhu/miniconda3/lib/python3.12/site-packages (from camel-ai[all]==0.2.70) (2.19.0)\n",
            "Requirement already satisfied: google-genai>=1.13.0 in /Users/bonianhu/miniconda3/lib/python3.12/site-packages (from camel-ai[all]==0.2.70) (1.20.0)\n",
            "Requirement already satisfied: googlemaps<5,>=4.10.0 in /Users/bonianhu/miniconda3/lib/python3.12/site-packages (from camel-ai[all]==0.2.70) (4.10.0)\n",
            "Requirement already satisfied: gradio<4,>=3 in /Users/bonianhu/miniconda3/lib/python3.12/site-packages (from camel-ai[all]==0.2.70) (3.36.1)\n",
            "Requirement already satisfied: html2text>=2024.2.26 in /Users/bonianhu/miniconda3/lib/python3.12/site-packages (from camel-ai[all]==0.2.70) (2025.4.15)\n",
            "Requirement already satisfied: ibm-watsonx-ai>=1.3.11 in /Users/bonianhu/miniconda3/lib/python3.12/site-packages (from camel-ai[all]==0.2.70) (1.3.32)\n",
            "Requirement already satisfied: imageio<3,>=2.34.2 in /Users/bonianhu/miniconda3/lib/python3.12/site-packages (from imageio[pyav]<3,>=2.34.2; extra == \"all\"->camel-ai[all]==0.2.70) (2.37.0)\n",
            "Requirement already satisfied: ipykernel<7,>=6.0.0 in /Users/bonianhu/miniconda3/lib/python3.12/site-packages (from camel-ai[all]==0.2.70) (6.29.5)\n",
            "Requirement already satisfied: jupyter-client<9,>=8.6.2 in /Users/bonianhu/miniconda3/lib/python3.12/site-packages (from camel-ai[all]==0.2.70) (8.6.3)\n",
            "Requirement already satisfied: langfuse>=2.60.5 in /Users/bonianhu/miniconda3/lib/python3.12/site-packages (from camel-ai[all]==0.2.70) (3.2.1)\n",
            "Requirement already satisfied: linkup-sdk<0.3,>=0.2.1 in /Users/bonianhu/miniconda3/lib/python3.12/site-packages (from camel-ai[all]==0.2.70) (0.2.8)\n",
            "Requirement already satisfied: litellm<2,>=1.38.1 in /Users/bonianhu/miniconda3/lib/python3.12/site-packages (from camel-ai[all]==0.2.70) (1.74.8)\n",
            "Requirement already satisfied: markitdown==0.1.1 in /Users/bonianhu/miniconda3/lib/python3.12/site-packages (from camel-ai[all]==0.2.70) (0.1.1)\n",
            "Requirement already satisfied: math-verify<0.8,>=0.7.0 in /Users/bonianhu/miniconda3/lib/python3.12/site-packages (from camel-ai[all]==0.2.70) (0.7.0)\n",
            "Requirement already satisfied: mem0ai>=0.1.67 in /Users/bonianhu/miniconda3/lib/python3.12/site-packages (from camel-ai[all]==0.2.70) (0.1.115)\n",
            "Requirement already satisfied: mistralai<2,>=1.1.0 in /Users/bonianhu/miniconda3/lib/python3.12/site-packages (from camel-ai[all]==0.2.70) (1.5.2)\n",
            "Requirement already satisfied: mock<6,>=5 in /Users/bonianhu/miniconda3/lib/python3.12/site-packages (from camel-ai[all]==0.2.70) (5.2.0)\n",
            "Requirement already satisfied: mypy<2,>=1.5.1 in /Users/bonianhu/miniconda3/lib/python3.12/site-packages (from camel-ai[all]==0.2.70) (1.17.0)\n",
            "Requirement already satisfied: nebula3-python==3.8.2 in /Users/bonianhu/miniconda3/lib/python3.12/site-packages (from camel-ai[all]==0.2.70) (3.8.2)\n",
            "Requirement already satisfied: neo4j<6,>=5.18.0 in /Users/bonianhu/miniconda3/lib/python3.12/site-packages (from camel-ai[all]==0.2.70) (5.28.1)\n",
            "Requirement already satisfied: networkx<4,>=3.4.2 in /Users/bonianhu/miniconda3/lib/python3.12/site-packages (from camel-ai[all]==0.2.70) (3.4.2)\n",
            "Requirement already satisfied: newspaper3k<0.3,>=0.2.8 in /Users/bonianhu/miniconda3/lib/python3.12/site-packages (from camel-ai[all]==0.2.70) (0.2.8)\n",
            "Requirement already satisfied: notion-client<3,>=2.2.1 in /Users/bonianhu/miniconda3/lib/python3.12/site-packages (from camel-ai[all]==0.2.70) (2.4.0)\n",
            "Requirement already satisfied: numpy<=2.2,>=1.2 in /Users/bonianhu/miniconda3/lib/python3.12/site-packages (from camel-ai[all]==0.2.70) (1.26.4)\n",
            "Requirement already satisfied: openapi-spec-validator<0.8,>=0.7.1 in /Users/bonianhu/miniconda3/lib/python3.12/site-packages (from camel-ai[all]==0.2.70) (0.7.2)\n",
            "Requirement already satisfied: openpyxl>=3.1.5 in /Users/bonianhu/miniconda3/lib/python3.12/site-packages (from camel-ai[all]==0.2.70) (3.1.5)\n",
            "Requirement already satisfied: pandas<2,>=1.5.3 in /Users/bonianhu/miniconda3/lib/python3.12/site-packages (from camel-ai[all]==0.2.70) (1.5.3)\n",
            "Requirement already satisfied: pandasai<3,>=2.3.0 in /Users/bonianhu/miniconda3/lib/python3.12/site-packages (from camel-ai[all]==0.2.70) (2.3.0)\n",
            "Requirement already satisfied: pgvector<0.3,>=0.2.4 in /Users/bonianhu/miniconda3/lib/python3.12/site-packages (from camel-ai[all]==0.2.70) (0.2.5)\n",
            "Requirement already satisfied: playwright>=1.50.0 in /Users/bonianhu/miniconda3/lib/python3.12/site-packages (from camel-ai[all]==0.2.70) (1.54.0)\n",
            "Requirement already satisfied: prance<24,>=23.6.21.0 in /Users/bonianhu/miniconda3/lib/python3.12/site-packages (from camel-ai[all]==0.2.70) (23.6.21.0)\n",
            "Requirement already satisfied: praw<8,>=7.7.1 in /Users/bonianhu/miniconda3/lib/python3.12/site-packages (from camel-ai[all]==0.2.70) (7.8.1)\n",
            "Requirement already satisfied: pre-commit<4,>=3 in /Users/bonianhu/miniconda3/lib/python3.12/site-packages (from camel-ai[all]==0.2.70) (3.8.0)\n",
            "Requirement already satisfied: psycopg<4,>=3.1.18 in /Users/bonianhu/miniconda3/lib/python3.12/site-packages (from psycopg[binary]<4,>=3.1.18; extra == \"all\"->camel-ai[all]==0.2.70) (3.2.9)\n",
            "Requirement already satisfied: pyautogui<0.10,>=0.9.54 in /Users/bonianhu/miniconda3/lib/python3.12/site-packages (from camel-ai[all]==0.2.70) (0.9.54)\n",
            "Requirement already satisfied: pydub<0.26,>=0.25.1 in /Users/bonianhu/miniconda3/lib/python3.12/site-packages (from camel-ai[all]==0.2.70) (0.25.1)\n",
            "Requirement already satisfied: pygithub<3,>=2.6.0 in /Users/bonianhu/miniconda3/lib/python3.12/site-packages (from camel-ai[all]==0.2.70) (2.6.1)\n",
            "Requirement already satisfied: pylatex>=1.4.2 in /Users/bonianhu/miniconda3/lib/python3.12/site-packages (from camel-ai[all]==0.2.70) (1.4.2)\n",
            "Requirement already satisfied: pymilvus<3,>=2.4.0 in /Users/bonianhu/miniconda3/lib/python3.12/site-packages (from camel-ai[all]==0.2.70) (2.5.14)\n",
            "Requirement already satisfied: pymupdf<2,>=1.22.5 in /Users/bonianhu/miniconda3/lib/python3.12/site-packages (from camel-ai[all]==0.2.70) (1.26.3)\n",
            "Requirement already satisfied: pyobvector>=0.1.18 in /Users/bonianhu/miniconda3/lib/python3.12/site-packages (from camel-ai[all]==0.2.70) (0.1.18)\n",
            "Requirement already satisfied: pyowm<4,>=3.3.0 in /Users/bonianhu/miniconda3/lib/python3.12/site-packages (from camel-ai[all]==0.2.70) (3.3.0)\n",
            "Requirement already satisfied: pytelegrambotapi<5,>=4.18.0 in /Users/bonianhu/miniconda3/lib/python3.12/site-packages (from camel-ai[all]==0.2.70) (4.27.0)\n",
            "Requirement already satisfied: pytesseract>=0.3.13 in /Users/bonianhu/miniconda3/lib/python3.12/site-packages (from camel-ai[all]==0.2.70) (0.3.13)\n",
            "Requirement already satisfied: pytest-asyncio<0.24,>=0.23.0 in /Users/bonianhu/miniconda3/lib/python3.12/site-packages (from camel-ai[all]==0.2.70) (0.23.8)\n",
            "Requirement already satisfied: pytest-cov<5,>=4 in /Users/bonianhu/miniconda3/lib/python3.12/site-packages (from camel-ai[all]==0.2.70) (4.1.0)\n",
            "Requirement already satisfied: pytest<8,>=7 in /Users/bonianhu/miniconda3/lib/python3.12/site-packages (from camel-ai[all]==0.2.70) (7.4.4)\n",
            "Requirement already satisfied: python-pptx>=1.0.2 in /Users/bonianhu/miniconda3/lib/python3.12/site-packages (from camel-ai[all]==0.2.70) (1.0.2)\n",
            "Requirement already satisfied: pytidb-experimental==0.0.1.dev4 in /Users/bonianhu/miniconda3/lib/python3.12/site-packages (from camel-ai[all]==0.2.70) (0.0.1.dev4)\n",
            "Requirement already satisfied: qdrant-client<2,>=1.9.0 in /Users/bonianhu/miniconda3/lib/python3.12/site-packages (from camel-ai[all]==0.2.70) (1.15.0)\n",
            "Requirement already satisfied: rank-bm25<0.3,>=0.2.2 in /Users/bonianhu/miniconda3/lib/python3.12/site-packages (from camel-ai[all]==0.2.70) (0.2.2)\n",
            "Requirement already satisfied: redis<6,>=5.0.6 in /Users/bonianhu/miniconda3/lib/python3.12/site-packages (from camel-ai[all]==0.2.70) (5.3.0)\n",
            "Requirement already satisfied: reka-api<4,>=3.0.8 in /Users/bonianhu/miniconda3/lib/python3.12/site-packages (from camel-ai[all]==0.2.70) (3.2.0)\n",
            "Requirement already satisfied: requests-oauthlib<2,>=1.3.1 in /Users/bonianhu/miniconda3/lib/python3.12/site-packages (from camel-ai[all]==0.2.70) (1.3.1)\n",
            "Requirement already satisfied: rlcard<1.3.0,>=1.0.0 in /Users/bonianhu/miniconda3/lib/python3.12/site-packages (from camel-ai[all]==0.2.70) (1.2.0)\n",
            "Requirement already satisfied: rouge<2,>=1.0.1 in /Users/bonianhu/miniconda3/lib/python3.12/site-packages (from camel-ai[all]==0.2.70) (1.0.1)\n",
            "Requirement already satisfied: scenedetect>=0.6.5.2 in /Users/bonianhu/miniconda3/lib/python3.12/site-packages (from camel-ai[all]==0.2.70) (0.6.6)\n",
            "Requirement already satisfied: scholarly==1.7.11 in /Users/bonianhu/miniconda3/lib/python3.12/site-packages (from scholarly[tor]==1.7.11; extra == \"all\"->camel-ai[all]==0.2.70) (1.7.11)\n",
            "Requirement already satisfied: scrapegraph-py<2,>=1.12.0 in /Users/bonianhu/miniconda3/lib/python3.12/site-packages (from camel-ai[all]==0.2.70) (1.16.0)\n",
            "Requirement already satisfied: sentencepiece<0.3,>=0.2 in /Users/bonianhu/miniconda3/lib/python3.12/site-packages (from camel-ai[all]==0.2.70) (0.2.0)\n",
            "Requirement already satisfied: slack-bolt<2,>=1.20.1 in /Users/bonianhu/miniconda3/lib/python3.12/site-packages (from camel-ai[all]==0.2.70) (1.23.0)\n",
            "Requirement already satisfied: slack-sdk<4,>=3.27.2 in /Users/bonianhu/miniconda3/lib/python3.12/site-packages (from camel-ai[all]==0.2.70) (3.36.0)\n",
            "Requirement already satisfied: soundfile<0.14,>=0.13 in /Users/bonianhu/miniconda3/lib/python3.12/site-packages (from camel-ai[all]==0.2.70) (0.13.1)\n",
            "Requirement already satisfied: stripe<12,>=11.3.0 in /Users/bonianhu/miniconda3/lib/python3.12/site-packages (from camel-ai[all]==0.2.70) (11.6.0)\n",
            "Requirement already satisfied: sympy<2,>=1.13.3 in /Users/bonianhu/miniconda3/lib/python3.12/site-packages (from camel-ai[all]==0.2.70) (1.14.0)\n",
            "Requirement already satisfied: tabulate>=0.9.0 in /Users/bonianhu/miniconda3/lib/python3.12/site-packages (from camel-ai[all]==0.2.70) (0.9.0)\n",
            "Requirement already satisfied: tavily-python<0.6,>=0.5.0 in /Users/bonianhu/miniconda3/lib/python3.12/site-packages (from camel-ai[all]==0.2.70) (0.5.4)\n",
            "Requirement already satisfied: textblob<0.18,>=0.17.1 in /Users/bonianhu/miniconda3/lib/python3.12/site-packages (from camel-ai[all]==0.2.70) (0.17.1)\n",
            "Requirement already satisfied: transformers<5,>=4 in /Users/bonianhu/miniconda3/lib/python3.12/site-packages (from camel-ai[all]==0.2.70) (4.53.3)\n",
            "Requirement already satisfied: tree-sitter-python<0.24,>=0.23.6 in /Users/bonianhu/miniconda3/lib/python3.12/site-packages (from camel-ai[all]==0.2.70) (0.23.6)\n",
            "Requirement already satisfied: tree-sitter<0.24,>=0.23.2 in /Users/bonianhu/miniconda3/lib/python3.12/site-packages (from camel-ai[all]==0.2.70) (0.23.2)\n",
            "Requirement already satisfied: typer>=0.15.2 in /Users/bonianhu/miniconda3/lib/python3.12/site-packages (from camel-ai[all]==0.2.70) (0.16.0)\n",
            "Requirement already satisfied: types-colorama<0.5,>=0.4.15 in /Users/bonianhu/miniconda3/lib/python3.12/site-packages (from camel-ai[all]==0.2.70) (0.4.15.20240311)\n",
            "Requirement already satisfied: types-mock<6,>=5.1.0 in /Users/bonianhu/miniconda3/lib/python3.12/site-packages (from camel-ai[all]==0.2.70) (5.2.0.20250516)\n",
            "Requirement already satisfied: types-pyyaml<7,>=6.0.12 in /Users/bonianhu/miniconda3/lib/python3.12/site-packages (from camel-ai[all]==0.2.70) (6.0.12.20250516)\n",
            "Requirement already satisfied: types-requests<3,>=2.31.0 in /Users/bonianhu/miniconda3/lib/python3.12/site-packages (from camel-ai[all]==0.2.70) (2.32.4.20250611)\n",
            "Requirement already satisfied: types-setuptools<70,>=69.2.0 in /Users/bonianhu/miniconda3/lib/python3.12/site-packages (from camel-ai[all]==0.2.70) (69.5.0.20240522)\n",
            "Requirement already satisfied: types-tqdm<5,>=4.66.0 in /Users/bonianhu/miniconda3/lib/python3.12/site-packages (from camel-ai[all]==0.2.70) (4.67.0.20250516)\n",
            "Requirement already satisfied: unstructured==0.16.20 in /Users/bonianhu/miniconda3/lib/python3.12/site-packages (from camel-ai[all]==0.2.70) (0.16.20)\n",
            "Requirement already satisfied: weaviate-client>=4.15.0 in /Users/bonianhu/miniconda3/lib/python3.12/site-packages (from camel-ai[all]==0.2.70) (4.16.4)\n",
            "Requirement already satisfied: wikipedia<2,>=1 in /Users/bonianhu/miniconda3/lib/python3.12/site-packages (from camel-ai[all]==0.2.70) (1.4.0)\n",
            "Requirement already satisfied: wolframalpha<6,>=5.0.0 in /Users/bonianhu/miniconda3/lib/python3.12/site-packages (from camel-ai[all]==0.2.70) (5.1.3)\n",
            "Requirement already satisfied: xls2xlsx>=0.2.0 in /Users/bonianhu/miniconda3/lib/python3.12/site-packages (from camel-ai[all]==0.2.70) (0.2.0)\n",
            "Requirement already satisfied: yt-dlp<2025,>=2024.11.4 in /Users/bonianhu/miniconda3/lib/python3.12/site-packages (from camel-ai[all]==0.2.70) (2024.12.23)\n",
            "Requirement already satisfied: httplib2<1.0.0,>=0.19.0 in /Users/bonianhu/miniconda3/lib/python3.12/site-packages (from google-api-python-client==2.166.0->camel-ai[all]==0.2.70) (0.22.0)\n",
            "Requirement already satisfied: google-auth!=2.24.0,!=2.25.0,<3.0.0,>=1.32.0 in /Users/bonianhu/miniconda3/lib/python3.12/site-packages (from google-api-python-client==2.166.0->camel-ai[all]==0.2.70) (2.37.0)\n",
            "Requirement already satisfied: google-api-core!=2.0.*,!=2.1.*,!=2.2.*,!=2.3.0,<3.0.0,>=1.31.5 in /Users/bonianhu/miniconda3/lib/python3.12/site-packages (from google-api-python-client==2.166.0->camel-ai[all]==0.2.70) (2.24.0)\n",
            "Requirement already satisfied: uritemplate<5,>=3.0.1 in /Users/bonianhu/miniconda3/lib/python3.12/site-packages (from google-api-python-client==2.166.0->camel-ai[all]==0.2.70) (4.1.1)\n",
            "Requirement already satisfied: charset-normalizer in /Users/bonianhu/miniconda3/lib/python3.12/site-packages (from markitdown==0.1.1->camel-ai[all]==0.2.70) (3.3.2)\n",
            "Requirement already satisfied: magika~=0.6.1 in /Users/bonianhu/miniconda3/lib/python3.12/site-packages (from markitdown==0.1.1->camel-ai[all]==0.2.70) (0.6.2)\n",
            "Requirement already satisfied: markdownify in /Users/bonianhu/miniconda3/lib/python3.12/site-packages (from markitdown==0.1.1->camel-ai[all]==0.2.70) (1.1.0)\n",
            "Requirement already satisfied: requests in /Users/bonianhu/miniconda3/lib/python3.12/site-packages (from markitdown==0.1.1->camel-ai[all]==0.2.70) (2.32.4)\n",
            "Requirement already satisfied: future>=0.18.0 in /Users/bonianhu/miniconda3/lib/python3.12/site-packages (from nebula3-python==3.8.2->camel-ai[all]==0.2.70) (1.0.0)\n",
            "Requirement already satisfied: pytz>=2021.1 in /Users/bonianhu/miniconda3/lib/python3.12/site-packages (from nebula3-python==3.8.2->camel-ai[all]==0.2.70) (2024.1)\n",
            "Requirement already satisfied: six>=1.16.0 in /Users/bonianhu/miniconda3/lib/python3.12/site-packages (from nebula3-python==3.8.2->camel-ai[all]==0.2.70) (1.16.0)\n",
            "Requirement already satisfied: pymysql>=1.1.1 in /Users/bonianhu/miniconda3/lib/python3.12/site-packages (from pytidb-experimental==0.0.1.dev4->camel-ai[all]==0.2.70) (1.1.1)\n",
            "Requirement already satisfied: sqlmodel==0.0.22 in /Users/bonianhu/miniconda3/lib/python3.12/site-packages (from pytidb-experimental==0.0.1.dev4->camel-ai[all]==0.2.70) (0.0.22)\n",
            "Requirement already satisfied: tidb-vector>=0.0.14 in /Users/bonianhu/miniconda3/lib/python3.12/site-packages (from pytidb-experimental==0.0.1.dev4->camel-ai[all]==0.2.70) (0.0.15)\n",
            "Requirement already satisfied: arrow in /Users/bonianhu/miniconda3/lib/python3.12/site-packages (from scholarly==1.7.11->scholarly[tor]==1.7.11; extra == \"all\"->camel-ai[all]==0.2.70) (1.3.0)\n",
            "Requirement already satisfied: bibtexparser in /Users/bonianhu/miniconda3/lib/python3.12/site-packages (from scholarly==1.7.11->scholarly[tor]==1.7.11; extra == \"all\"->camel-ai[all]==0.2.70) (1.4.3)\n",
            "Requirement already satisfied: deprecated in /Users/bonianhu/miniconda3/lib/python3.12/site-packages (from scholarly==1.7.11->scholarly[tor]==1.7.11; extra == \"all\"->camel-ai[all]==0.2.70) (1.2.18)\n",
            "Requirement already satisfied: fake-useragent in /Users/bonianhu/miniconda3/lib/python3.12/site-packages (from scholarly==1.7.11->scholarly[tor]==1.7.11; extra == \"all\"->camel-ai[all]==0.2.70) (2.2.0)\n",
            "Requirement already satisfied: free-proxy in /Users/bonianhu/miniconda3/lib/python3.12/site-packages (from scholarly==1.7.11->scholarly[tor]==1.7.11; extra == \"all\"->camel-ai[all]==0.2.70) (1.1.3)\n",
            "Requirement already satisfied: python-dotenv in /Users/bonianhu/miniconda3/lib/python3.12/site-packages (from scholarly==1.7.11->scholarly[tor]==1.7.11; extra == \"all\"->camel-ai[all]==0.2.70) (1.1.1)\n",
            "Requirement already satisfied: selenium in /Users/bonianhu/miniconda3/lib/python3.12/site-packages (from scholarly==1.7.11->scholarly[tor]==1.7.11; extra == \"all\"->camel-ai[all]==0.2.70) (4.34.2)\n",
            "Requirement already satisfied: sphinx-rtd-theme in /Users/bonianhu/miniconda3/lib/python3.12/site-packages (from scholarly==1.7.11->scholarly[tor]==1.7.11; extra == \"all\"->camel-ai[all]==0.2.70) (3.0.2)\n",
            "Requirement already satisfied: typing-extensions in /Users/bonianhu/miniconda3/lib/python3.12/site-packages (from scholarly==1.7.11->scholarly[tor]==1.7.11; extra == \"all\"->camel-ai[all]==0.2.70) (4.14.1)\n",
            "Requirement already satisfied: stem in /Users/bonianhu/miniconda3/lib/python3.12/site-packages (from scholarly[tor]==1.7.11; extra == \"all\"->camel-ai[all]==0.2.70) (1.8.2)\n",
            "Requirement already satisfied: chardet in /Users/bonianhu/miniconda3/lib/python3.12/site-packages (from unstructured==0.16.20->camel-ai[all]==0.2.70) (5.2.0)\n",
            "Requirement already satisfied: filetype in /Users/bonianhu/miniconda3/lib/python3.12/site-packages (from unstructured==0.16.20->camel-ai[all]==0.2.70) (1.2.0)\n",
            "Requirement already satisfied: python-magic in /Users/bonianhu/miniconda3/lib/python3.12/site-packages (from unstructured==0.16.20->camel-ai[all]==0.2.70) (0.4.27)\n",
            "Requirement already satisfied: lxml in /Users/bonianhu/miniconda3/lib/python3.12/site-packages (from unstructured==0.16.20->camel-ai[all]==0.2.70) (5.3.0)\n",
            "Requirement already satisfied: nltk in /Users/bonianhu/miniconda3/lib/python3.12/site-packages (from unstructured==0.16.20->camel-ai[all]==0.2.70) (3.8.1)\n",
            "Requirement already satisfied: emoji in /Users/bonianhu/miniconda3/lib/python3.12/site-packages (from unstructured==0.16.20->camel-ai[all]==0.2.70) (2.14.1)\n",
            "Requirement already satisfied: dataclasses-json in /Users/bonianhu/miniconda3/lib/python3.12/site-packages (from unstructured==0.16.20->camel-ai[all]==0.2.70) (0.6.7)\n",
            "Requirement already satisfied: python-iso639 in /Users/bonianhu/miniconda3/lib/python3.12/site-packages (from unstructured==0.16.20->camel-ai[all]==0.2.70) (2025.2.18)\n",
            "Requirement already satisfied: langdetect in /Users/bonianhu/miniconda3/lib/python3.12/site-packages (from unstructured==0.16.20->camel-ai[all]==0.2.70) (1.0.9)\n",
            "Requirement already satisfied: rapidfuzz in /Users/bonianhu/miniconda3/lib/python3.12/site-packages (from unstructured==0.16.20->camel-ai[all]==0.2.70) (3.13.0)\n",
            "Requirement already satisfied: backoff in /Users/bonianhu/miniconda3/lib/python3.12/site-packages (from unstructured==0.16.20->camel-ai[all]==0.2.70) (2.2.1)\n",
            "Requirement already satisfied: unstructured-client in /Users/bonianhu/miniconda3/lib/python3.12/site-packages (from unstructured==0.16.20->camel-ai[all]==0.2.70) (0.41.0)\n",
            "Requirement already satisfied: wrapt in /Users/bonianhu/miniconda3/lib/python3.12/site-packages (from unstructured==0.16.20->camel-ai[all]==0.2.70) (1.14.1)\n",
            "Requirement already satisfied: tqdm in /Users/bonianhu/miniconda3/lib/python3.12/site-packages (from unstructured==0.16.20->camel-ai[all]==0.2.70) (4.66.4)\n",
            "Requirement already satisfied: python-oxmsg in /Users/bonianhu/miniconda3/lib/python3.12/site-packages (from unstructured==0.16.20->camel-ai[all]==0.2.70) (0.0.2)\n",
            "Requirement already satisfied: html5lib in /Users/bonianhu/miniconda3/lib/python3.12/site-packages (from unstructured==0.16.20->camel-ai[all]==0.2.70) (1.1)\n",
            "Requirement already satisfied: SQLAlchemy<2.1.0,>=2.0.14 in /Users/bonianhu/miniconda3/lib/python3.12/site-packages (from sqlmodel==0.0.22->pytidb-experimental==0.0.1.dev4->camel-ai[all]==0.2.70) (2.0.35)\n",
            "Requirement already satisfied: griffe>=1.7.2 in /Users/bonianhu/miniconda3/lib/python3.12/site-packages (from aci-sdk>=1.0.0b1->camel-ai[all]==0.2.70) (1.8.0)\n",
            "Requirement already satisfied: tenacity>=9.1.2 in /Users/bonianhu/miniconda3/lib/python3.12/site-packages (from aci-sdk>=1.0.0b1->camel-ai[all]==0.2.70) (9.1.2)\n",
            "Requirement already satisfied: opentelemetry-api>=1.27.0 in /Users/bonianhu/miniconda3/lib/python3.12/site-packages (from agentops<0.4,>=0.3.21->camel-ai[all]==0.2.70) (1.35.0)\n",
            "Requirement already satisfied: opentelemetry-exporter-otlp-proto-http>=1.27.0 in /Users/bonianhu/miniconda3/lib/python3.12/site-packages (from agentops<0.4,>=0.3.21->camel-ai[all]==0.2.70) (1.35.0)\n",
            "Requirement already satisfied: opentelemetry-sdk>=1.27.0 in /Users/bonianhu/miniconda3/lib/python3.12/site-packages (from agentops<0.4,>=0.3.21->camel-ai[all]==0.2.70) (1.35.0)\n",
            "Requirement already satisfied: packaging<25.0,>=21.0 in /Users/bonianhu/miniconda3/lib/python3.12/site-packages (from agentops<0.4,>=0.3.21->camel-ai[all]==0.2.70) (24.1)\n",
            "Requirement already satisfied: pyyaml<7.0,>=5.3 in /Users/bonianhu/miniconda3/lib/python3.12/site-packages (from agentops<0.4,>=0.3.21->camel-ai[all]==0.2.70) (6.0.2)\n",
            "Requirement already satisfied: termcolor<2.5.0,>=2.3.0 in /Users/bonianhu/miniconda3/lib/python3.12/site-packages (from agentops<0.4,>=0.3.21->camel-ai[all]==0.2.70) (2.4.0)\n",
            "Requirement already satisfied: anyio<5,>=3.5.0 in /Users/bonianhu/miniconda3/lib/python3.12/site-packages (from anthropic<0.50.0,>=0.47.0->camel-ai[all]==0.2.70) (4.9.0)\n",
            "Requirement already satisfied: distro<2,>=1.7.0 in /Users/bonianhu/miniconda3/lib/python3.12/site-packages (from anthropic<0.50.0,>=0.47.0->camel-ai[all]==0.2.70) (1.9.0)\n",
            "Requirement already satisfied: jiter<1,>=0.4.0 in /Users/bonianhu/miniconda3/lib/python3.12/site-packages (from anthropic<0.50.0,>=0.47.0->camel-ai[all]==0.2.70) (0.10.0)\n",
            "Requirement already satisfied: sniffio in /Users/bonianhu/miniconda3/lib/python3.12/site-packages (from anthropic<0.50.0,>=0.47.0->camel-ai[all]==0.2.70) (1.3.1)\n",
            "Requirement already satisfied: apify-shared>=1.4.1 in /Users/bonianhu/miniconda3/lib/python3.12/site-packages (from apify-client<2,>=1.8.1->camel-ai[all]==0.2.70) (1.4.1)\n",
            "Requirement already satisfied: more-itertools>=10.0.0 in /Users/bonianhu/miniconda3/lib/python3.12/site-packages (from apify-client<2,>=1.8.1->camel-ai[all]==0.2.70) (10.7.0)\n",
            "Requirement already satisfied: feedparser~=6.0.10 in /Users/bonianhu/miniconda3/lib/python3.12/site-packages (from arxiv<3,>=2.1.3->camel-ai[all]==0.2.70) (6.0.11)\n",
            "Requirement already satisfied: pdfminer-six in /Users/bonianhu/miniconda3/lib/python3.12/site-packages (from arxiv2text<0.2,>=0.1.14->camel-ai[all]==0.2.70) (20250506)\n",
            "Requirement already satisfied: scikit-learn in /Users/bonianhu/miniconda3/lib/python3.12/site-packages (from arxiv2text<0.2,>=0.1.14->camel-ai[all]==0.2.70) (1.6.0)\n",
            "Requirement already satisfied: PyPDF2 in /Users/bonianhu/miniconda3/lib/python3.12/site-packages (from arxiv2text<0.2,>=0.1.14->camel-ai[all]==0.2.70) (3.0.1)\n",
            "Requirement already satisfied: azure-core>=1.30.0 in /Users/bonianhu/miniconda3/lib/python3.12/site-packages (from azure-storage-blob<13,>=12.21.0->camel-ai[all]==0.2.70) (1.35.0)\n",
            "Requirement already satisfied: cryptography>=2.1.4 in /Users/bonianhu/miniconda3/lib/python3.12/site-packages (from azure-storage-blob<13,>=12.21.0->camel-ai[all]==0.2.70) (42.0.5)\n",
            "Requirement already satisfied: isodate>=0.6.1 in /Users/bonianhu/miniconda3/lib/python3.12/site-packages (from azure-storage-blob<13,>=12.21.0->camel-ai[all]==0.2.70) (0.7.2)\n",
            "Requirement already satisfied: soupsieve>1.2 in /Users/bonianhu/miniconda3/lib/python3.12/site-packages (from beautifulsoup4<5,>=4->camel-ai[all]==0.2.70) (2.6)\n",
            "Requirement already satisfied: jmespath<2.0.0,>=0.7.1 in /Users/bonianhu/miniconda3/lib/python3.12/site-packages (from botocore<2,>=1.35.3->camel-ai[all]==0.2.70) (1.0.1)\n",
            "Requirement already satisfied: python-dateutil<3.0.0,>=2.1 in /Users/bonianhu/miniconda3/lib/python3.12/site-packages (from botocore<2,>=1.35.3->camel-ai[all]==0.2.70) (2.9.0.post0)\n",
            "Requirement already satisfied: urllib3!=2.2.0,<3,>=1.25.4 in /Users/bonianhu/miniconda3/lib/python3.12/site-packages (from botocore<2,>=1.35.3->camel-ai[all]==0.2.70) (2.5.0)\n",
            "Requirement already satisfied: build>=1.0.3 in /Users/bonianhu/miniconda3/lib/python3.12/site-packages (from chromadb<1.0.0,>=0.6.0->camel-ai[all]==0.2.70) (1.2.2.post1)\n",
            "Requirement already satisfied: chroma-hnswlib==0.7.6 in /Users/bonianhu/miniconda3/lib/python3.12/site-packages (from chromadb<1.0.0,>=0.6.0->camel-ai[all]==0.2.70) (0.7.6)\n",
            "Requirement already satisfied: uvicorn>=0.18.3 in /Users/bonianhu/miniconda3/lib/python3.12/site-packages (from uvicorn[standard]>=0.18.3->chromadb<1.0.0,>=0.6.0->camel-ai[all]==0.2.70) (0.35.0)\n",
            "Requirement already satisfied: posthog>=2.4.0 in /Users/bonianhu/miniconda3/lib/python3.12/site-packages (from chromadb<1.0.0,>=0.6.0->camel-ai[all]==0.2.70) (6.3.1)\n",
            "Requirement already satisfied: onnxruntime>=1.14.1 in /Users/bonianhu/miniconda3/lib/python3.12/site-packages (from chromadb<1.0.0,>=0.6.0->camel-ai[all]==0.2.70) (1.22.1)\n",
            "Requirement already satisfied: opentelemetry-exporter-otlp-proto-grpc>=1.2.0 in /Users/bonianhu/miniconda3/lib/python3.12/site-packages (from chromadb<1.0.0,>=0.6.0->camel-ai[all]==0.2.70) (1.35.0)\n",
            "Requirement already satisfied: opentelemetry-instrumentation-fastapi>=0.41b0 in /Users/bonianhu/miniconda3/lib/python3.12/site-packages (from chromadb<1.0.0,>=0.6.0->camel-ai[all]==0.2.70) (0.56b0)\n",
            "Requirement already satisfied: tokenizers>=0.13.2 in /Users/bonianhu/miniconda3/lib/python3.12/site-packages (from chromadb<1.0.0,>=0.6.0->camel-ai[all]==0.2.70) (0.21.2)\n",
            "Requirement already satisfied: pypika>=0.48.9 in /Users/bonianhu/miniconda3/lib/python3.12/site-packages (from chromadb<1.0.0,>=0.6.0->camel-ai[all]==0.2.70) (0.48.9)\n",
            "Requirement already satisfied: overrides>=7.3.1 in /Users/bonianhu/miniconda3/lib/python3.12/site-packages (from chromadb<1.0.0,>=0.6.0->camel-ai[all]==0.2.70) (7.7.0)\n",
            "Requirement already satisfied: importlib-resources in /Users/bonianhu/miniconda3/lib/python3.12/site-packages (from chromadb<1.0.0,>=0.6.0->camel-ai[all]==0.2.70) (6.5.2)\n",
            "Requirement already satisfied: grpcio>=1.58.0 in /Users/bonianhu/miniconda3/lib/python3.12/site-packages (from chromadb<1.0.0,>=0.6.0->camel-ai[all]==0.2.70) (1.67.1)\n",
            "Requirement already satisfied: bcrypt>=4.0.1 in /Users/bonianhu/miniconda3/lib/python3.12/site-packages (from chromadb<1.0.0,>=0.6.0->camel-ai[all]==0.2.70) (4.3.0)\n",
            "Requirement already satisfied: kubernetes>=28.1.0 in /Users/bonianhu/miniconda3/lib/python3.12/site-packages (from chromadb<1.0.0,>=0.6.0->camel-ai[all]==0.2.70) (33.1.0)\n",
            "Requirement already satisfied: mmh3>=4.0.1 in /Users/bonianhu/miniconda3/lib/python3.12/site-packages (from chromadb<1.0.0,>=0.6.0->camel-ai[all]==0.2.70) (5.1.0)\n",
            "Requirement already satisfied: orjson>=3.9.12 in /Users/bonianhu/miniconda3/lib/python3.12/site-packages (from chromadb<1.0.0,>=0.6.0->camel-ai[all]==0.2.70) (3.11.0)\n",
            "Requirement already satisfied: rich>=10.11.0 in /Users/bonianhu/miniconda3/lib/python3.12/site-packages (from chromadb<1.0.0,>=0.6.0->camel-ai[all]==0.2.70) (13.9.4)\n",
            "Requirement already satisfied: matplotlib>=3.10.3 in /Users/bonianhu/miniconda3/lib/python3.12/site-packages (from chunkr-ai>=0.0.50->camel-ai[all]==0.2.70) (3.10.3)\n",
            "Requirement already satisfied: nest-asyncio>=1.6.0 in /Users/bonianhu/miniconda3/lib/python3.12/site-packages (from chunkr-ai>=0.0.50->camel-ai[all]==0.2.70) (1.6.0)\n",
            "Requirement already satisfied: fastavro<2.0.0,>=1.9.4 in /Users/bonianhu/miniconda3/lib/python3.12/site-packages (from cohere<6,>=5.11.0->camel-ai[all]==0.2.70) (1.11.1)\n",
            "Requirement already satisfied: httpx-sse==0.4.0 in /Users/bonianhu/miniconda3/lib/python3.12/site-packages (from cohere<6,>=5.11.0->camel-ai[all]==0.2.70) (0.4.0)\n",
            "Requirement already satisfied: pydantic-core<3.0.0,>=2.18.2 in /Users/bonianhu/miniconda3/lib/python3.12/site-packages (from cohere<6,>=5.11.0->camel-ai[all]==0.2.70) (2.33.2)\n",
            "Requirement already satisfied: tf-playwright-stealth>=1.1.0 in /Users/bonianhu/miniconda3/lib/python3.12/site-packages (from crawl4ai>=0.3.745->camel-ai[all]==0.2.70) (1.2.0)\n",
            "Requirement already satisfied: xxhash~=3.4 in /Users/bonianhu/miniconda3/lib/python3.12/site-packages (from crawl4ai>=0.3.745->camel-ai[all]==0.2.70) (3.5.0)\n",
            "Requirement already satisfied: aiofiles>=24.1.0 in /Users/bonianhu/miniconda3/lib/python3.12/site-packages (from crawl4ai>=0.3.745->camel-ai[all]==0.2.70) (24.1.0)\n",
            "Requirement already satisfied: snowballstemmer~=2.2 in /Users/bonianhu/miniconda3/lib/python3.12/site-packages (from crawl4ai>=0.3.745->camel-ai[all]==0.2.70) (2.2.0)\n",
            "Requirement already satisfied: pyOpenSSL>=24.3.0 in /Users/bonianhu/miniconda3/lib/python3.12/site-packages (from crawl4ai>=0.3.745->camel-ai[all]==0.2.70) (25.1.0)\n",
            "Requirement already satisfied: asyncio<4.0.0,>=3.4.3 in /Users/bonianhu/miniconda3/lib/python3.12/site-packages (from dappier<0.4,>=0.3.3->camel-ai[all]==0.2.70) (3.4.3)\n",
            "Requirement already satisfied: filelock in /Users/bonianhu/miniconda3/lib/python3.12/site-packages (from datasets<4,>=3->camel-ai[all]==0.2.70) (3.16.1)\n",
            "Requirement already satisfied: pyarrow>=15.0.0 in /Users/bonianhu/miniconda3/lib/python3.12/site-packages (from datasets<4,>=3->camel-ai[all]==0.2.70) (18.1.0)\n",
            "Requirement already satisfied: dill<0.3.9,>=0.3.0 in /Users/bonianhu/miniconda3/lib/python3.12/site-packages (from datasets<4,>=3->camel-ai[all]==0.2.70) (0.3.8)\n",
            "Requirement already satisfied: multiprocess<0.70.17 in /Users/bonianhu/miniconda3/lib/python3.12/site-packages (from datasets<4,>=3->camel-ai[all]==0.2.70) (0.70.16)\n",
            "Requirement already satisfied: fsspec<=2025.3.0,>=2023.1.0 in /Users/bonianhu/miniconda3/lib/python3.12/site-packages (from fsspec[http]<=2025.3.0,>=2023.1.0->datasets<4,>=3->camel-ai[all]==0.2.70) (2024.6.1)\n",
            "Requirement already satisfied: huggingface-hub>=0.24.0 in /Users/bonianhu/miniconda3/lib/python3.12/site-packages (from datasets<4,>=3->camel-ai[all]==0.2.70) (0.33.5)\n",
            "Requirement already satisfied: daytona-api-client==0.24.2 in /Users/bonianhu/miniconda3/lib/python3.12/site-packages (from daytona-sdk>=0.20.0->camel-ai[all]==0.2.70) (0.24.2)\n",
            "Requirement already satisfied: daytona-api-client-async==0.24.2 in /Users/bonianhu/miniconda3/lib/python3.12/site-packages (from daytona-sdk>=0.20.0->camel-ai[all]==0.2.70) (0.24.2)\n",
            "Requirement already satisfied: environs<15.0.0,>=10.0.0 in /Users/bonianhu/miniconda3/lib/python3.12/site-packages (from daytona-sdk>=0.20.0->camel-ai[all]==0.2.70) (14.2.0)\n",
            "Requirement already satisfied: obstore<0.8.0,>=0.7.0 in /Users/bonianhu/miniconda3/lib/python3.12/site-packages (from daytona-sdk>=0.20.0->camel-ai[all]==0.2.70) (0.7.1)\n",
            "Requirement already satisfied: toml<0.11.0,>=0.10.0 in /Users/bonianhu/miniconda3/lib/python3.12/site-packages (from daytona-sdk>=0.20.0->camel-ai[all]==0.2.70) (0.10.2)\n",
            "Requirement already satisfied: aiohttp>=3.8.4 in /Users/bonianhu/miniconda3/lib/python3.12/site-packages (from daytona-api-client-async==0.24.2->daytona-sdk>=0.20.0->camel-ai[all]==0.2.70) (3.11.11)\n",
            "Requirement already satisfied: aiohttp-retry>=2.8.3 in /Users/bonianhu/miniconda3/lib/python3.12/site-packages (from daytona-api-client-async==0.24.2->daytona-sdk>=0.20.0->camel-ai[all]==0.2.70) (2.9.1)\n",
            "Requirement already satisfied: importlib-metadata in /Users/bonianhu/miniconda3/lib/python3.12/site-packages (from diffusers<0.26,>=0.25.0->camel-ai[all]==0.2.70) (8.4.0)\n",
            "Requirement already satisfied: regex!=2019.12.17 in /Users/bonianhu/miniconda3/lib/python3.12/site-packages (from diffusers<0.26,>=0.25.0->camel-ai[all]==0.2.70) (2024.11.6)\n",
            "Requirement already satisfied: safetensors>=0.3.1 in /Users/bonianhu/miniconda3/lib/python3.12/site-packages (from diffusers<0.26,>=0.25.0->camel-ai[all]==0.2.70) (0.5.3)\n",
            "Requirement already satisfied: click>=8.1.7 in /Users/bonianhu/miniconda3/lib/python3.12/site-packages (from duckduckgo-search<7,>=6.3.5->camel-ai[all]==0.2.70) (8.1.8)\n",
            "Requirement already satisfied: primp>=0.9.1 in /Users/bonianhu/miniconda3/lib/python3.12/site-packages (from duckduckgo-search<7,>=6.3.5->camel-ai[all]==0.2.70) (0.15.0)\n",
            "Requirement already satisfied: attrs>=21.3.0 in /Users/bonianhu/miniconda3/lib/python3.12/site-packages (from e2b-code-interpreter<2,>=1.0.3->camel-ai[all]==0.2.70) (24.3.0)\n",
            "Requirement already satisfied: e2b<2.0.0,>=1.3.1 in /Users/bonianhu/miniconda3/lib/python3.12/site-packages (from e2b-code-interpreter<2,>=1.0.3->camel-ai[all]==0.2.70) (1.3.3)\n",
            "Requirement already satisfied: starlette<0.48.0,>=0.40.0 in /Users/bonianhu/miniconda3/lib/python3.12/site-packages (from fastapi>=0.115.11->camel-ai[all]==0.2.70) (0.47.2)\n",
            "Requirement already satisfied: websockets in /Users/bonianhu/miniconda3/lib/python3.12/site-packages (from firecrawl-py<2,>=1.0.0->camel-ai[all]==0.2.70) (15.0.1)\n",
            "Requirement already satisfied: ormsgpack>=1.5.0 in /Users/bonianhu/miniconda3/lib/python3.12/site-packages (from fish-audio-sdk<2025,>=2024.12.5->camel-ai[all]==0.2.70) (1.10.0)\n",
            "Requirement already satisfied: httpx-ws>=0.6.2 in /Users/bonianhu/miniconda3/lib/python3.12/site-packages (from fish-audio-sdk<2025,>=2024.12.5->camel-ai[all]==0.2.70) (0.7.2)\n",
            "Requirement already satisfied: blinker>=1.9.0 in /Users/bonianhu/miniconda3/lib/python3.12/site-packages (from flask>=2.0->camel-ai[all]==0.2.70) (1.9.0)\n",
            "Requirement already satisfied: itsdangerous>=2.2.0 in /Users/bonianhu/miniconda3/lib/python3.12/site-packages (from flask>=2.0->camel-ai[all]==0.2.70) (2.2.0)\n",
            "Requirement already satisfied: jinja2>=3.1.2 in /Users/bonianhu/miniconda3/lib/python3.12/site-packages (from flask>=2.0->camel-ai[all]==0.2.70) (3.1.4)\n",
            "Requirement already satisfied: markupsafe>=2.1.1 in /Users/bonianhu/miniconda3/lib/python3.12/site-packages (from flask>=2.0->camel-ai[all]==0.2.70) (2.1.3)\n",
            "Requirement already satisfied: werkzeug>=3.1.0 in /Users/bonianhu/miniconda3/lib/python3.12/site-packages (from flask>=2.0->camel-ai[all]==0.2.70) (3.1.3)\n",
            "Requirement already satisfied: google-cloud-core<3.0dev,>=2.3.0 in /Users/bonianhu/miniconda3/lib/python3.12/site-packages (from google-cloud-storage<3,>=2.18.0->camel-ai[all]==0.2.70) (2.4.3)\n",
            "Requirement already satisfied: google-resumable-media>=2.7.2 in /Users/bonianhu/miniconda3/lib/python3.12/site-packages (from google-cloud-storage<3,>=2.18.0->camel-ai[all]==0.2.70) (2.7.2)\n",
            "Requirement already satisfied: google-crc32c<2.0dev,>=1.0 in /Users/bonianhu/miniconda3/lib/python3.12/site-packages (from google-cloud-storage<3,>=2.18.0->camel-ai[all]==0.2.70) (1.7.1)\n",
            "Requirement already satisfied: altair>=4.2.0 in /Users/bonianhu/miniconda3/lib/python3.12/site-packages (from gradio<4,>=3->camel-ai[all]==0.2.70) (5.5.0)\n",
            "Requirement already satisfied: ffmpy in /Users/bonianhu/miniconda3/lib/python3.12/site-packages (from gradio<4,>=3->camel-ai[all]==0.2.70) (0.6.1)\n",
            "Requirement already satisfied: gradio-client>=0.2.7 in /Users/bonianhu/miniconda3/lib/python3.12/site-packages (from gradio<4,>=3->camel-ai[all]==0.2.70) (1.11.0)\n",
            "Requirement already satisfied: markdown-it-py>=2.0.0 in /Users/bonianhu/miniconda3/lib/python3.12/site-packages (from markdown-it-py[linkify]>=2.0.0->gradio<4,>=3->camel-ai[all]==0.2.70) (2.2.0)\n",
            "Requirement already satisfied: mdit-py-plugins<=0.3.3 in /Users/bonianhu/miniconda3/lib/python3.12/site-packages (from gradio<4,>=3->camel-ai[all]==0.2.70) (0.3.3)\n",
            "Requirement already satisfied: pygments>=2.12.0 in /Users/bonianhu/miniconda3/lib/python3.12/site-packages (from gradio<4,>=3->camel-ai[all]==0.2.70) (2.19.2)\n",
            "Requirement already satisfied: python-multipart in /Users/bonianhu/miniconda3/lib/python3.12/site-packages (from gradio<4,>=3->camel-ai[all]==0.2.70) (0.0.20)\n",
            "Requirement already satisfied: semantic-version in /Users/bonianhu/miniconda3/lib/python3.12/site-packages (from gradio<4,>=3->camel-ai[all]==0.2.70) (2.10.0)\n",
            "Requirement already satisfied: certifi in /Users/bonianhu/miniconda3/lib/python3.12/site-packages (from httpx<1.0.0dev,>=0.28.0->camel-ai==0.2.70->camel-ai[all]==0.2.70) (2025.7.14)\n",
            "Requirement already satisfied: httpcore==1.* in /Users/bonianhu/miniconda3/lib/python3.12/site-packages (from httpx<1.0.0dev,>=0.28.0->camel-ai==0.2.70->camel-ai[all]==0.2.70) (1.0.9)\n",
            "Requirement already satisfied: idna in /Users/bonianhu/miniconda3/lib/python3.12/site-packages (from httpx<1.0.0dev,>=0.28.0->camel-ai==0.2.70->camel-ai[all]==0.2.70) (3.7)\n",
            "Requirement already satisfied: h11>=0.16 in /Users/bonianhu/miniconda3/lib/python3.12/site-packages (from httpcore==1.*->httpx<1.0.0dev,>=0.28.0->camel-ai==0.2.70->camel-ai[all]==0.2.70) (0.16.0)\n",
            "Requirement already satisfied: lomond in /Users/bonianhu/miniconda3/lib/python3.12/site-packages (from ibm-watsonx-ai>=1.3.11->camel-ai[all]==0.2.70) (0.3.3)\n",
            "Requirement already satisfied: ibm-cos-sdk<2.15.0,>=2.12.0 in /Users/bonianhu/miniconda3/lib/python3.12/site-packages (from ibm-watsonx-ai>=1.3.11->camel-ai[all]==0.2.70) (2.14.2)\n",
            "Requirement already satisfied: cachetools in /Users/bonianhu/miniconda3/lib/python3.12/site-packages (from ibm-watsonx-ai>=1.3.11->camel-ai[all]==0.2.70) (5.5.0)\n",
            "Requirement already satisfied: av in /Users/bonianhu/miniconda3/lib/python3.12/site-packages (from imageio[pyav]<3,>=2.34.2; extra == \"all\"->camel-ai[all]==0.2.70) (15.0.0)\n",
            "Requirement already satisfied: appnope in /Users/bonianhu/miniconda3/lib/python3.12/site-packages (from ipykernel<7,>=6.0.0->camel-ai[all]==0.2.70) (0.1.4)\n",
            "Requirement already satisfied: comm>=0.1.1 in /Users/bonianhu/miniconda3/lib/python3.12/site-packages (from ipykernel<7,>=6.0.0->camel-ai[all]==0.2.70) (0.2.2)\n",
            "Requirement already satisfied: debugpy>=1.6.5 in /Users/bonianhu/miniconda3/lib/python3.12/site-packages (from ipykernel<7,>=6.0.0->camel-ai[all]==0.2.70) (1.8.11)\n",
            "Requirement already satisfied: ipython>=7.23.1 in /Users/bonianhu/miniconda3/lib/python3.12/site-packages (from ipykernel<7,>=6.0.0->camel-ai[all]==0.2.70) (8.31.0)\n",
            "Requirement already satisfied: jupyter-core!=5.0.*,>=4.12 in /Users/bonianhu/miniconda3/lib/python3.12/site-packages (from ipykernel<7,>=6.0.0->camel-ai[all]==0.2.70) (5.7.2)\n",
            "Requirement already satisfied: matplotlib-inline>=0.1 in /Users/bonianhu/miniconda3/lib/python3.12/site-packages (from ipykernel<7,>=6.0.0->camel-ai[all]==0.2.70) (0.1.7)\n",
            "Requirement already satisfied: pyzmq>=24 in /Users/bonianhu/miniconda3/lib/python3.12/site-packages (from ipykernel<7,>=6.0.0->camel-ai[all]==0.2.70) (26.2.0)\n",
            "Requirement already satisfied: tornado>=6.1 in /Users/bonianhu/miniconda3/lib/python3.12/site-packages (from ipykernel<7,>=6.0.0->camel-ai[all]==0.2.70) (6.4.2)\n",
            "Requirement already satisfied: traitlets>=5.4.0 in /Users/bonianhu/miniconda3/lib/python3.12/site-packages (from ipykernel<7,>=6.0.0->camel-ai[all]==0.2.70) (5.14.3)\n",
            "Requirement already satisfied: jsonschema-specifications>=2023.03.6 in /Users/bonianhu/miniconda3/lib/python3.12/site-packages (from jsonschema<5,>=4->camel-ai==0.2.70->camel-ai[all]==0.2.70) (2024.10.1)\n",
            "Requirement already satisfied: referencing>=0.28.4 in /Users/bonianhu/miniconda3/lib/python3.12/site-packages (from jsonschema<5,>=4->camel-ai==0.2.70->camel-ai[all]==0.2.70) (0.35.1)\n",
            "Requirement already satisfied: rpds-py>=0.7.1 in /Users/bonianhu/miniconda3/lib/python3.12/site-packages (from jsonschema<5,>=4->camel-ai==0.2.70->camel-ai[all]==0.2.70) (0.22.3)\n",
            "Requirement already satisfied: opentelemetry-exporter-otlp<2.0.0,>=1.33.1 in /Users/bonianhu/miniconda3/lib/python3.12/site-packages (from langfuse>=2.60.5->camel-ai[all]==0.2.70) (1.35.0)\n",
            "Requirement already satisfied: latex2sympy2_extended==1.10.1 in /Users/bonianhu/miniconda3/lib/python3.12/site-packages (from math-verify<0.8,>=0.7.0->camel-ai[all]==0.2.70) (1.10.1)\n",
            "Requirement already satisfied: antlr4-python3-runtime<=4.13.2,>=4.9.3 in /Users/bonianhu/miniconda3/lib/python3.12/site-packages (from latex2sympy2_extended==1.10.1->math-verify<0.8,>=0.7.0->camel-ai[all]==0.2.70) (4.9.3)\n",
            "Requirement already satisfied: pydantic-settings>=2.5.2 in /Users/bonianhu/miniconda3/lib/python3.12/site-packages (from mcp>=1.3.0->camel-ai==0.2.70->camel-ai[all]==0.2.70) (2.10.1)\n",
            "Requirement already satisfied: sse-starlette>=1.6.1 in /Users/bonianhu/miniconda3/lib/python3.12/site-packages (from mcp>=1.3.0->camel-ai==0.2.70->camel-ai[all]==0.2.70) (2.4.1)\n",
            "Requirement already satisfied: eval-type-backport>=0.2.0 in /Users/bonianhu/miniconda3/lib/python3.12/site-packages (from mistralai<2,>=1.1.0->camel-ai[all]==0.2.70) (0.2.0)\n",
            "Requirement already satisfied: jsonpath-python>=1.0.6 in /Users/bonianhu/miniconda3/lib/python3.12/site-packages (from mistralai<2,>=1.1.0->camel-ai[all]==0.2.70) (1.0.6)\n",
            "Requirement already satisfied: typing-inspect>=0.9.0 in /Users/bonianhu/miniconda3/lib/python3.12/site-packages (from mistralai<2,>=1.1.0->camel-ai[all]==0.2.70) (0.9.0)\n",
            "Requirement already satisfied: mypy_extensions>=1.0.0 in /Users/bonianhu/miniconda3/lib/python3.12/site-packages (from mypy<2,>=1.5.1->camel-ai[all]==0.2.70) (1.1.0)\n",
            "Requirement already satisfied: pathspec>=0.9.0 in /Users/bonianhu/miniconda3/lib/python3.12/site-packages (from mypy<2,>=1.5.1->camel-ai[all]==0.2.70) (0.12.1)\n",
            "Requirement already satisfied: cssselect>=0.9.2 in /Users/bonianhu/miniconda3/lib/python3.12/site-packages (from newspaper3k<0.3,>=0.2.8->camel-ai[all]==0.2.70) (1.3.0)\n",
            "Requirement already satisfied: tldextract>=2.0.1 in /Users/bonianhu/miniconda3/lib/python3.12/site-packages (from newspaper3k<0.3,>=0.2.8->camel-ai[all]==0.2.70) (5.3.0)\n",
            "Requirement already satisfied: feedfinder2>=0.0.4 in /Users/bonianhu/miniconda3/lib/python3.12/site-packages (from newspaper3k<0.3,>=0.2.8->camel-ai[all]==0.2.70) (0.0.4)\n",
            "Requirement already satisfied: jieba3k>=0.35.1 in /Users/bonianhu/miniconda3/lib/python3.12/site-packages (from newspaper3k<0.3,>=0.2.8->camel-ai[all]==0.2.70) (0.35.1)\n",
            "Requirement already satisfied: tinysegmenter==0.3 in /Users/bonianhu/miniconda3/lib/python3.12/site-packages (from newspaper3k<0.3,>=0.2.8->camel-ai[all]==0.2.70) (0.3)\n",
            "Requirement already satisfied: jsonschema-path<0.4.0,>=0.3.1 in /Users/bonianhu/miniconda3/lib/python3.12/site-packages (from openapi-spec-validator<0.8,>=0.7.1->camel-ai[all]==0.2.70) (0.3.4)\n",
            "Requirement already satisfied: lazy-object-proxy<2.0.0,>=1.7.1 in /Users/bonianhu/miniconda3/lib/python3.12/site-packages (from openapi-spec-validator<0.8,>=0.7.1->camel-ai[all]==0.2.70) (1.11.0)\n",
            "Requirement already satisfied: openapi-schema-validator<0.7.0,>=0.6.0 in /Users/bonianhu/miniconda3/lib/python3.12/site-packages (from openapi-spec-validator<0.8,>=0.7.1->camel-ai[all]==0.2.70) (0.6.3)\n",
            "Requirement already satisfied: et-xmlfile in /Users/bonianhu/miniconda3/lib/python3.12/site-packages (from openpyxl>=3.1.5->camel-ai[all]==0.2.70) (2.0.0)\n",
            "Requirement already satisfied: astor<0.9.0,>=0.8.1 in /Users/bonianhu/miniconda3/lib/python3.12/site-packages (from pandasai<3,>=2.3.0->camel-ai[all]==0.2.70) (0.8.1)\n",
            "Requirement already satisfied: duckdb<2.0.0,>=1.0.0 in /Users/bonianhu/miniconda3/lib/python3.12/site-packages (from pandasai<3,>=2.3.0->camel-ai[all]==0.2.70) (1.3.2)\n",
            "Requirement already satisfied: faker<20.0.0,>=19.12.0 in /Users/bonianhu/miniconda3/lib/python3.12/site-packages (from pandasai<3,>=2.3.0->camel-ai[all]==0.2.70) (19.13.0)\n",
            "Requirement already satisfied: scipy<2.0.0,>=1.9.0 in /Users/bonianhu/miniconda3/lib/python3.12/site-packages (from pandasai<3,>=2.3.0->camel-ai[all]==0.2.70) (1.14.1)\n",
            "Requirement already satisfied: sqlglot<26.0.0,>=25.0.3 in /Users/bonianhu/miniconda3/lib/python3.12/site-packages (from sqlglot[rs]<26.0.0,>=25.0.3->pandasai<3,>=2.3.0->camel-ai[all]==0.2.70) (25.34.1)\n",
            "Requirement already satisfied: pyee<14,>=13 in /Users/bonianhu/miniconda3/lib/python3.12/site-packages (from playwright>=1.50.0->camel-ai[all]==0.2.70) (13.0.0)\n",
            "Requirement already satisfied: greenlet<4.0.0,>=3.1.1 in /Users/bonianhu/miniconda3/lib/python3.12/site-packages (from playwright>=1.50.0->camel-ai[all]==0.2.70) (3.2.3)\n",
            "Requirement already satisfied: ruamel.yaml>=0.17.10 in /Users/bonianhu/miniconda3/lib/python3.12/site-packages (from prance<24,>=23.6.21.0->camel-ai[all]==0.2.70) (0.17.21)\n",
            "Requirement already satisfied: prawcore<3,>=2.4 in /Users/bonianhu/miniconda3/lib/python3.12/site-packages (from praw<8,>=7.7.1->camel-ai[all]==0.2.70) (2.4.0)\n",
            "Requirement already satisfied: update_checker>=0.18 in /Users/bonianhu/miniconda3/lib/python3.12/site-packages (from praw<8,>=7.7.1->camel-ai[all]==0.2.70) (0.18.0)\n",
            "Requirement already satisfied: websocket-client>=0.54.0 in /Users/bonianhu/miniconda3/lib/python3.12/site-packages (from praw<8,>=7.7.1->camel-ai[all]==0.2.70) (1.8.0)\n",
            "Requirement already satisfied: cfgv>=2.0.0 in /Users/bonianhu/miniconda3/lib/python3.12/site-packages (from pre-commit<4,>=3->camel-ai[all]==0.2.70) (3.4.0)\n",
            "Requirement already satisfied: identify>=1.0.0 in /Users/bonianhu/miniconda3/lib/python3.12/site-packages (from pre-commit<4,>=3->camel-ai[all]==0.2.70) (2.6.12)\n",
            "Requirement already satisfied: nodeenv>=0.11.1 in /Users/bonianhu/miniconda3/lib/python3.12/site-packages (from pre-commit<4,>=3->camel-ai[all]==0.2.70) (1.9.1)\n",
            "Requirement already satisfied: virtualenv>=20.10.0 in /Users/bonianhu/miniconda3/lib/python3.12/site-packages (from pre-commit<4,>=3->camel-ai[all]==0.2.70) (20.32.0)\n",
            "Requirement already satisfied: psycopg-binary==3.2.9 in /Users/bonianhu/miniconda3/lib/python3.12/site-packages (from psycopg[binary]<4,>=3.1.18; extra == \"all\"->camel-ai[all]==0.2.70) (3.2.9)\n",
            "Requirement already satisfied: pyobjc-core in /Users/bonianhu/miniconda3/lib/python3.12/site-packages (from pyautogui<0.10,>=0.9.54->camel-ai[all]==0.2.70) (11.1)\n",
            "Requirement already satisfied: pyobjc-framework-quartz in /Users/bonianhu/miniconda3/lib/python3.12/site-packages (from pyautogui<0.10,>=0.9.54->camel-ai[all]==0.2.70) (11.1)\n",
            "Requirement already satisfied: pymsgbox in /Users/bonianhu/miniconda3/lib/python3.12/site-packages (from pyautogui<0.10,>=0.9.54->camel-ai[all]==0.2.70) (1.0.9)\n",
            "Requirement already satisfied: pytweening>=1.0.4 in /Users/bonianhu/miniconda3/lib/python3.12/site-packages (from pyautogui<0.10,>=0.9.54->camel-ai[all]==0.2.70) (1.2.0)\n",
            "Requirement already satisfied: pyscreeze>=0.1.21 in /Users/bonianhu/miniconda3/lib/python3.12/site-packages (from pyautogui<0.10,>=0.9.54->camel-ai[all]==0.2.70) (1.0.1)\n",
            "Requirement already satisfied: pygetwindow>=0.0.5 in /Users/bonianhu/miniconda3/lib/python3.12/site-packages (from pyautogui<0.10,>=0.9.54->camel-ai[all]==0.2.70) (0.0.9)\n",
            "Requirement already satisfied: mouseinfo in /Users/bonianhu/miniconda3/lib/python3.12/site-packages (from pyautogui<0.10,>=0.9.54->camel-ai[all]==0.2.70) (0.1.3)\n",
            "Requirement already satisfied: annotated-types>=0.6.0 in /Users/bonianhu/miniconda3/lib/python3.12/site-packages (from pydantic>=2.10.6->camel-ai==0.2.70->camel-ai[all]==0.2.70) (0.7.0)\n",
            "Requirement already satisfied: typing-inspection>=0.4.0 in /Users/bonianhu/miniconda3/lib/python3.12/site-packages (from pydantic>=2.10.6->camel-ai==0.2.70->camel-ai[all]==0.2.70) (0.4.1)\n",
            "Requirement already satisfied: pynacl>=1.4.0 in /Users/bonianhu/miniconda3/lib/python3.12/site-packages (from pygithub<3,>=2.6.0->camel-ai[all]==0.2.70) (1.5.0)\n",
            "Requirement already satisfied: pyjwt>=2.4.0 in /Users/bonianhu/miniconda3/lib/python3.12/site-packages (from pyjwt[crypto]>=2.4.0->pygithub<3,>=2.6.0->camel-ai[all]==0.2.70) (2.9.0)\n",
            "Requirement already satisfied: ordered-set in /Users/bonianhu/miniconda3/lib/python3.12/site-packages (from pylatex>=1.4.2->camel-ai[all]==0.2.70) (4.1.0)\n",
            "Requirement already satisfied: setuptools>69 in /Users/bonianhu/miniconda3/lib/python3.12/site-packages (from pymilvus<3,>=2.4.0->camel-ai[all]==0.2.70) (72.1.0)\n",
            "Requirement already satisfied: protobuf>=3.20.0 in /Users/bonianhu/miniconda3/lib/python3.12/site-packages (from pymilvus<3,>=2.4.0->camel-ai[all]==0.2.70) (5.29.5)\n",
            "Requirement already satisfied: ujson>=2.0.0 in /Users/bonianhu/miniconda3/lib/python3.12/site-packages (from pymilvus<3,>=2.4.0->camel-ai[all]==0.2.70) (5.10.0)\n",
            "Requirement already satisfied: milvus-lite>=2.4.0 in /Users/bonianhu/miniconda3/lib/python3.12/site-packages (from pymilvus<3,>=2.4.0->camel-ai[all]==0.2.70) (2.5.1)\n",
            "Requirement already satisfied: aiomysql<0.3.0,>=0.2.0 in /Users/bonianhu/miniconda3/lib/python3.12/site-packages (from pyobvector>=0.1.18->camel-ai[all]==0.2.70) (0.2.0)\n",
            "Requirement already satisfied: geojson<3,>=2.3.0 in /Users/bonianhu/miniconda3/lib/python3.12/site-packages (from pyowm<4,>=3.3.0->camel-ai[all]==0.2.70) (2.5.0)\n",
            "Requirement already satisfied: PySocks<2,>=1.7.1 in /Users/bonianhu/miniconda3/lib/python3.12/site-packages (from pyowm<4,>=3.3.0->camel-ai[all]==0.2.70) (1.7.1)\n",
            "Requirement already satisfied: iniconfig in /Users/bonianhu/miniconda3/lib/python3.12/site-packages (from pytest<8,>=7->camel-ai[all]==0.2.70) (2.1.0)\n",
            "Requirement already satisfied: pluggy<2.0,>=0.12 in /Users/bonianhu/miniconda3/lib/python3.12/site-packages (from pytest<8,>=7->camel-ai[all]==0.2.70) (1.0.0)\n",
            "Requirement already satisfied: coverage>=5.2.1 in /Users/bonianhu/miniconda3/lib/python3.12/site-packages (from coverage[toml]>=5.2.1->pytest-cov<5,>=4->camel-ai[all]==0.2.70) (7.10.0)\n",
            "Requirement already satisfied: XlsxWriter>=0.5.7 in /Users/bonianhu/miniconda3/lib/python3.12/site-packages (from python-pptx>=1.0.2->camel-ai[all]==0.2.70) (3.2.5)\n",
            "Requirement already satisfied: portalocker<4.0,>=2.7.0 in /Users/bonianhu/miniconda3/lib/python3.12/site-packages (from qdrant-client<2,>=1.9.0->camel-ai[all]==0.2.70) (3.2.0)\n",
            "Requirement already satisfied: oauthlib>=3.0.0 in /Users/bonianhu/miniconda3/lib/python3.12/site-packages (from requests-oauthlib<2,>=1.3.1->camel-ai[all]==0.2.70) (3.2.2)\n",
            "Requirement already satisfied: platformdirs in /Users/bonianhu/miniconda3/lib/python3.12/site-packages (from scenedetect>=0.6.5.2->camel-ai[all]==0.2.70) (3.10.0)\n",
            "Requirement already satisfied: cffi>=1.0 in /Users/bonianhu/miniconda3/lib/python3.12/site-packages (from soundfile<0.14,>=0.13->camel-ai[all]==0.2.70) (1.16.0)\n",
            "Requirement already satisfied: mpmath<1.4,>=1.1.0 in /Users/bonianhu/miniconda3/lib/python3.12/site-packages (from sympy<2,>=1.13.3->camel-ai[all]==0.2.70) (1.3.0)\n",
            "Requirement already satisfied: shellingham>=1.3.0 in /Users/bonianhu/miniconda3/lib/python3.12/site-packages (from typer>=0.15.2->camel-ai[all]==0.2.70) (1.5.4)\n",
            "Requirement already satisfied: validators<1.0.0,>=0.34.0 in /Users/bonianhu/miniconda3/lib/python3.12/site-packages (from weaviate-client>=4.15.0->camel-ai[all]==0.2.70) (0.35.0)\n",
            "Requirement already satisfied: authlib<2.0.0,>=1.2.1 in /Users/bonianhu/miniconda3/lib/python3.12/site-packages (from weaviate-client>=4.15.0->camel-ai[all]==0.2.70) (1.6.1)\n",
            "Requirement already satisfied: grpcio-health-checking<1.80.0,>=1.59.5 in /Users/bonianhu/miniconda3/lib/python3.12/site-packages (from weaviate-client>=4.15.0->camel-ai[all]==0.2.70) (1.67.1)\n",
            "Requirement already satisfied: deprecation<3.0.0,>=2.1.0 in /Users/bonianhu/miniconda3/lib/python3.12/site-packages (from weaviate-client>=4.15.0->camel-ai[all]==0.2.70) (2.1.0)\n",
            "Requirement already satisfied: xmltodict in /Users/bonianhu/miniconda3/lib/python3.12/site-packages (from wolframalpha<6,>=5.0.0->camel-ai[all]==0.2.70) (0.14.2)\n",
            "Requirement already satisfied: jaraco.context in /Users/bonianhu/miniconda3/lib/python3.12/site-packages (from wolframalpha<6,>=5.0.0->camel-ai[all]==0.2.70) (6.0.1)\n",
            "Requirement already satisfied: multidict in /Users/bonianhu/miniconda3/lib/python3.12/site-packages (from wolframalpha<6,>=5.0.0->camel-ai[all]==0.2.70) (6.1.0)\n",
            "Requirement already satisfied: xlrd in /Users/bonianhu/miniconda3/lib/python3.12/site-packages (from xls2xlsx>=0.2.0->camel-ai[all]==0.2.70) (2.0.2)\n",
            "Requirement already satisfied: cssutils in /Users/bonianhu/miniconda3/lib/python3.12/site-packages (from xls2xlsx>=0.2.0->camel-ai[all]==0.2.70) (2.11.1)\n",
            "Requirement already satisfied: webcolors in /Users/bonianhu/miniconda3/lib/python3.12/site-packages (from xls2xlsx>=0.2.0->camel-ai[all]==0.2.70) (24.11.1)\n",
            "Requirement already satisfied: currency-symbols in /Users/bonianhu/miniconda3/lib/python3.12/site-packages (from xls2xlsx>=0.2.0->camel-ai[all]==0.2.70) (2.0.4)\n",
            "Requirement already satisfied: fonttools in /Users/bonianhu/miniconda3/lib/python3.12/site-packages (from xls2xlsx>=0.2.0->camel-ai[all]==0.2.70) (4.55.3)\n",
            "Requirement already satisfied: aiohappyeyeballs>=2.3.0 in /Users/bonianhu/miniconda3/lib/python3.12/site-packages (from aiohttp>=3.8.4->daytona-api-client-async==0.24.2->daytona-sdk>=0.20.0->camel-ai[all]==0.2.70) (2.4.4)\n",
            "Requirement already satisfied: aiosignal>=1.1.2 in /Users/bonianhu/miniconda3/lib/python3.12/site-packages (from aiohttp>=3.8.4->daytona-api-client-async==0.24.2->daytona-sdk>=0.20.0->camel-ai[all]==0.2.70) (1.3.2)\n",
            "Requirement already satisfied: frozenlist>=1.1.1 in /Users/bonianhu/miniconda3/lib/python3.12/site-packages (from aiohttp>=3.8.4->daytona-api-client-async==0.24.2->daytona-sdk>=0.20.0->camel-ai[all]==0.2.70) (1.5.0)\n",
            "Requirement already satisfied: propcache>=0.2.0 in /Users/bonianhu/miniconda3/lib/python3.12/site-packages (from aiohttp>=3.8.4->daytona-api-client-async==0.24.2->daytona-sdk>=0.20.0->camel-ai[all]==0.2.70) (0.2.1)\n",
            "Requirement already satisfied: yarl<2.0,>=1.17.0 in /Users/bonianhu/miniconda3/lib/python3.12/site-packages (from aiohttp>=3.8.4->daytona-api-client-async==0.24.2->daytona-sdk>=0.20.0->camel-ai[all]==0.2.70) (1.18.3)\n",
            "Requirement already satisfied: narwhals>=1.14.2 in /Users/bonianhu/miniconda3/lib/python3.12/site-packages (from altair>=4.2.0->gradio<4,>=3->camel-ai[all]==0.2.70) (1.48.1)\n",
            "Requirement already satisfied: pyproject_hooks in /Users/bonianhu/miniconda3/lib/python3.12/site-packages (from build>=1.0.3->chromadb<1.0.0,>=0.6.0->camel-ai[all]==0.2.70) (1.2.0)\n",
            "Requirement already satisfied: pycparser in /Users/bonianhu/miniconda3/lib/python3.12/site-packages (from cffi>=1.0->soundfile<0.14,>=0.13->camel-ai[all]==0.2.70) (2.21)\n",
            "Requirement already satisfied: marshmallow>=3.18.0 in /Users/bonianhu/miniconda3/lib/python3.12/site-packages (from environs<15.0.0,>=10.0.0->daytona-sdk>=0.20.0->camel-ai[all]==0.2.70) (3.26.1)\n",
            "Requirement already satisfied: sgmllib3k in /Users/bonianhu/miniconda3/lib/python3.12/site-packages (from feedparser~=6.0.10->arxiv<3,>=2.1.3->camel-ai[all]==0.2.70) (1.0.0)\n",
            "Requirement already satisfied: googleapis-common-protos<2.0.dev0,>=1.56.2 in /Users/bonianhu/miniconda3/lib/python3.12/site-packages (from google-api-core!=2.0.*,!=2.1.*,!=2.2.*,!=2.3.0,<3.0.0,>=1.31.5->google-api-python-client==2.166.0->camel-ai[all]==0.2.70) (1.66.0)\n",
            "Requirement already satisfied: proto-plus<2.0.0dev,>=1.22.3 in /Users/bonianhu/miniconda3/lib/python3.12/site-packages (from google-api-core!=2.0.*,!=2.1.*,!=2.2.*,!=2.3.0,<3.0.0,>=1.31.5->google-api-python-client==2.166.0->camel-ai[all]==0.2.70) (1.25.0)\n",
            "Requirement already satisfied: pyasn1-modules>=0.2.1 in /Users/bonianhu/miniconda3/lib/python3.12/site-packages (from google-auth!=2.24.0,!=2.25.0,<3.0.0,>=1.32.0->google-api-python-client==2.166.0->camel-ai[all]==0.2.70) (0.4.1)\n",
            "Requirement already satisfied: rsa<5,>=3.1.4 in /Users/bonianhu/miniconda3/lib/python3.12/site-packages (from google-auth!=2.24.0,!=2.25.0,<3.0.0,>=1.32.0->google-api-python-client==2.166.0->camel-ai[all]==0.2.70) (4.9)\n",
            "Requirement already satisfied: pyparsing!=3.0.0,!=3.0.1,!=3.0.2,!=3.0.3,<4,>=2.4.2 in /Users/bonianhu/miniconda3/lib/python3.12/site-packages (from httplib2<1.0.0,>=0.19.0->google-api-python-client==2.166.0->camel-ai[all]==0.2.70) (3.2.0)\n",
            "Requirement already satisfied: wsproto in /Users/bonianhu/miniconda3/lib/python3.12/site-packages (from httpx-ws>=0.6.2->fish-audio-sdk<2025,>=2024.12.5->camel-ai[all]==0.2.70) (1.2.0)\n",
            "Requirement already satisfied: h2<5,>=3 in /Users/bonianhu/miniconda3/lib/python3.12/site-packages (from httpx[http2]>=0.22.0->nebula3-python==3.8.2->camel-ai[all]==0.2.70) (4.2.0)\n",
            "Requirement already satisfied: hf-xet<2.0.0,>=1.1.2 in /Users/bonianhu/miniconda3/lib/python3.12/site-packages (from huggingface-hub>=0.24.0->datasets<4,>=3->camel-ai[all]==0.2.70) (1.1.5)\n",
            "Requirement already satisfied: ibm-cos-sdk-core==2.14.2 in /Users/bonianhu/miniconda3/lib/python3.12/site-packages (from ibm-cos-sdk<2.15.0,>=2.12.0->ibm-watsonx-ai>=1.3.11->camel-ai[all]==0.2.70) (2.14.2)\n",
            "Requirement already satisfied: ibm-cos-sdk-s3transfer==2.14.2 in /Users/bonianhu/miniconda3/lib/python3.12/site-packages (from ibm-cos-sdk<2.15.0,>=2.12.0->ibm-watsonx-ai>=1.3.11->camel-ai[all]==0.2.70) (2.14.2)\n",
            "Requirement already satisfied: zipp>=0.5 in /Users/bonianhu/miniconda3/lib/python3.12/site-packages (from importlib-metadata->diffusers<0.26,>=0.25.0->camel-ai[all]==0.2.70) (3.23.0)\n",
            "Requirement already satisfied: decorator in /Users/bonianhu/miniconda3/lib/python3.12/site-packages (from ipython>=7.23.1->ipykernel<7,>=6.0.0->camel-ai[all]==0.2.70) (5.1.1)\n",
            "Requirement already satisfied: jedi>=0.16 in /Users/bonianhu/miniconda3/lib/python3.12/site-packages (from ipython>=7.23.1->ipykernel<7,>=6.0.0->camel-ai[all]==0.2.70) (0.19.2)\n",
            "Requirement already satisfied: pexpect>4.3 in /Users/bonianhu/miniconda3/lib/python3.12/site-packages (from ipython>=7.23.1->ipykernel<7,>=6.0.0->camel-ai[all]==0.2.70) (4.9.0)\n",
            "Requirement already satisfied: prompt_toolkit<3.1.0,>=3.0.41 in /Users/bonianhu/miniconda3/lib/python3.12/site-packages (from ipython>=7.23.1->ipykernel<7,>=6.0.0->camel-ai[all]==0.2.70) (3.0.48)\n",
            "Requirement already satisfied: stack_data in /Users/bonianhu/miniconda3/lib/python3.12/site-packages (from ipython>=7.23.1->ipykernel<7,>=6.0.0->camel-ai[all]==0.2.70) (0.6.3)\n",
            "Requirement already satisfied: pathable<0.5.0,>=0.4.1 in /Users/bonianhu/miniconda3/lib/python3.12/site-packages (from jsonschema-path<0.4.0,>=0.3.1->openapi-spec-validator<0.8,>=0.7.1->camel-ai[all]==0.2.70) (0.4.4)\n",
            "Requirement already satisfied: durationpy>=0.7 in /Users/bonianhu/miniconda3/lib/python3.12/site-packages (from kubernetes>=28.1.0->chromadb<1.0.0,>=0.6.0->camel-ai[all]==0.2.70) (0.10)\n",
            "Requirement already satisfied: mdurl~=0.1 in /Users/bonianhu/miniconda3/lib/python3.12/site-packages (from markdown-it-py>=2.0.0->markdown-it-py[linkify]>=2.0.0->gradio<4,>=3->camel-ai[all]==0.2.70) (0.1.0)\n",
            "Requirement already satisfied: linkify-it-py<3,>=1 in /Users/bonianhu/miniconda3/lib/python3.12/site-packages (from markdown-it-py[linkify]>=2.0.0->gradio<4,>=3->camel-ai[all]==0.2.70) (2.0.3)\n",
            "Requirement already satisfied: contourpy>=1.0.1 in /Users/bonianhu/miniconda3/lib/python3.12/site-packages (from matplotlib>=3.10.3->chunkr-ai>=0.0.50->camel-ai[all]==0.2.70) (1.3.1)\n",
            "Requirement already satisfied: cycler>=0.10 in /Users/bonianhu/miniconda3/lib/python3.12/site-packages (from matplotlib>=3.10.3->chunkr-ai>=0.0.50->camel-ai[all]==0.2.70) (0.11.0)\n",
            "Requirement already satisfied: kiwisolver>=1.3.1 in /Users/bonianhu/miniconda3/lib/python3.12/site-packages (from matplotlib>=3.10.3->chunkr-ai>=0.0.50->camel-ai[all]==0.2.70) (1.4.8)\n",
            "Requirement already satisfied: joblib in /Users/bonianhu/miniconda3/lib/python3.12/site-packages (from nltk->unstructured==0.16.20->camel-ai[all]==0.2.70) (1.4.2)\n",
            "Requirement already satisfied: coloredlogs in /Users/bonianhu/miniconda3/lib/python3.12/site-packages (from onnxruntime>=1.14.1->chromadb<1.0.0,>=0.6.0->camel-ai[all]==0.2.70) (15.0.1)\n",
            "Requirement already satisfied: flatbuffers in /Users/bonianhu/miniconda3/lib/python3.12/site-packages (from onnxruntime>=1.14.1->chromadb<1.0.0,>=0.6.0->camel-ai[all]==0.2.70) (24.3.25)\n",
            "Requirement already satisfied: rfc3339-validator in /Users/bonianhu/miniconda3/lib/python3.12/site-packages (from openapi-schema-validator<0.7.0,>=0.6.0->openapi-spec-validator<0.8,>=0.7.1->camel-ai[all]==0.2.70) (0.1.4)\n",
            "Requirement already satisfied: opentelemetry-exporter-otlp-proto-common==1.35.0 in /Users/bonianhu/miniconda3/lib/python3.12/site-packages (from opentelemetry-exporter-otlp-proto-grpc>=1.2.0->chromadb<1.0.0,>=0.6.0->camel-ai[all]==0.2.70) (1.35.0)\n",
            "Requirement already satisfied: opentelemetry-proto==1.35.0 in /Users/bonianhu/miniconda3/lib/python3.12/site-packages (from opentelemetry-exporter-otlp-proto-grpc>=1.2.0->chromadb<1.0.0,>=0.6.0->camel-ai[all]==0.2.70) (1.35.0)\n",
            "Requirement already satisfied: opentelemetry-instrumentation-asgi==0.56b0 in /Users/bonianhu/miniconda3/lib/python3.12/site-packages (from opentelemetry-instrumentation-fastapi>=0.41b0->chromadb<1.0.0,>=0.6.0->camel-ai[all]==0.2.70) (0.56b0)\n",
            "Requirement already satisfied: opentelemetry-instrumentation==0.56b0 in /Users/bonianhu/miniconda3/lib/python3.12/site-packages (from opentelemetry-instrumentation-fastapi>=0.41b0->chromadb<1.0.0,>=0.6.0->camel-ai[all]==0.2.70) (0.56b0)\n",
            "Requirement already satisfied: opentelemetry-semantic-conventions==0.56b0 in /Users/bonianhu/miniconda3/lib/python3.12/site-packages (from opentelemetry-instrumentation-fastapi>=0.41b0->chromadb<1.0.0,>=0.6.0->camel-ai[all]==0.2.70) (0.56b0)\n",
            "Requirement already satisfied: opentelemetry-util-http==0.56b0 in /Users/bonianhu/miniconda3/lib/python3.12/site-packages (from opentelemetry-instrumentation-fastapi>=0.41b0->chromadb<1.0.0,>=0.6.0->camel-ai[all]==0.2.70) (0.56b0)\n",
            "Requirement already satisfied: asgiref~=3.0 in /Users/bonianhu/miniconda3/lib/python3.12/site-packages (from opentelemetry-instrumentation-asgi==0.56b0->opentelemetry-instrumentation-fastapi>=0.41b0->chromadb<1.0.0,>=0.6.0->camel-ai[all]==0.2.70) (3.9.1)\n",
            "Requirement already satisfied: pyrect in /Users/bonianhu/miniconda3/lib/python3.12/site-packages (from pygetwindow>=0.0.5->pyautogui<0.10,>=0.9.54->camel-ai[all]==0.2.70) (0.2.0)\n",
            "Requirement already satisfied: sqlglotrs==0.3.0 in /Users/bonianhu/miniconda3/lib/python3.12/site-packages (from sqlglot[rs]<26.0.0,>=25.0.3->pandasai<3,>=2.3.0->camel-ai[all]==0.2.70) (0.3.0)\n",
            "Requirement already satisfied: fake-http-header<0.4.0,>=0.3.5 in /Users/bonianhu/miniconda3/lib/python3.12/site-packages (from tf-playwright-stealth>=1.1.0->crawl4ai>=0.3.745->camel-ai[all]==0.2.70) (0.3.5)\n",
            "Requirement already satisfied: requests-file>=1.4 in /Users/bonianhu/miniconda3/lib/python3.12/site-packages (from tldextract>=2.0.1->newspaper3k<0.3,>=0.2.8->camel-ai[all]==0.2.70) (2.1.0)\n",
            "Requirement already satisfied: httptools>=0.6.3 in /Users/bonianhu/miniconda3/lib/python3.12/site-packages (from uvicorn[standard]>=0.18.3->chromadb<1.0.0,>=0.6.0->camel-ai[all]==0.2.70) (0.6.4)\n",
            "Requirement already satisfied: uvloop>=0.15.1 in /Users/bonianhu/miniconda3/lib/python3.12/site-packages (from uvicorn[standard]>=0.18.3->chromadb<1.0.0,>=0.6.0->camel-ai[all]==0.2.70) (0.21.0)\n",
            "Requirement already satisfied: watchfiles>=0.13 in /Users/bonianhu/miniconda3/lib/python3.12/site-packages (from uvicorn[standard]>=0.18.3->chromadb<1.0.0,>=0.6.0->camel-ai[all]==0.2.70) (1.1.0)\n",
            "Requirement already satisfied: distlib<1,>=0.3.7 in /Users/bonianhu/miniconda3/lib/python3.12/site-packages (from virtualenv>=20.10.0->pre-commit<4,>=3->camel-ai[all]==0.2.70) (0.4.0)\n",
            "Requirement already satisfied: types-python-dateutil>=2.8.10 in /Users/bonianhu/miniconda3/lib/python3.12/site-packages (from arrow->scholarly==1.7.11->scholarly[tor]==1.7.11; extra == \"all\"->camel-ai[all]==0.2.70) (2.9.0.20241206)\n",
            "Requirement already satisfied: webencodings in /Users/bonianhu/miniconda3/lib/python3.12/site-packages (from html5lib->unstructured==0.16.20->camel-ai[all]==0.2.70) (0.5.1)\n",
            "Requirement already satisfied: pyperclip in /Users/bonianhu/miniconda3/lib/python3.12/site-packages (from mouseinfo->pyautogui<0.10,>=0.9.54->camel-ai[all]==0.2.70) (1.9.0)\n",
            "Requirement already satisfied: rubicon-objc in /Users/bonianhu/miniconda3/lib/python3.12/site-packages (from mouseinfo->pyautogui<0.10,>=0.9.54->camel-ai[all]==0.2.70) (0.5.1)\n",
            "Requirement already satisfied: pyobjc-framework-Cocoa>=11.1 in /Users/bonianhu/miniconda3/lib/python3.12/site-packages (from pyobjc-framework-quartz->pyautogui<0.10,>=0.9.54->camel-ai[all]==0.2.70) (11.1)\n",
            "Requirement already satisfied: olefile in /Users/bonianhu/miniconda3/lib/python3.12/site-packages (from python-oxmsg->unstructured==0.16.20->camel-ai[all]==0.2.70) (0.47)\n",
            "Requirement already satisfied: threadpoolctl>=3.1.0 in /Users/bonianhu/miniconda3/lib/python3.12/site-packages (from scikit-learn->arxiv2text<0.2,>=0.1.14->camel-ai[all]==0.2.70) (3.5.0)\n",
            "Requirement already satisfied: trio~=0.30.0 in /Users/bonianhu/miniconda3/lib/python3.12/site-packages (from selenium->scholarly==1.7.11->scholarly[tor]==1.7.11; extra == \"all\"->camel-ai[all]==0.2.70) (0.30.0)\n",
            "Requirement already satisfied: trio-websocket~=0.12.2 in /Users/bonianhu/miniconda3/lib/python3.12/site-packages (from selenium->scholarly==1.7.11->scholarly[tor]==1.7.11; extra == \"all\"->camel-ai[all]==0.2.70) (0.12.2)\n",
            "Requirement already satisfied: sphinx<9,>=6 in /Users/bonianhu/miniconda3/lib/python3.12/site-packages (from sphinx-rtd-theme->scholarly==1.7.11->scholarly[tor]==1.7.11; extra == \"all\"->camel-ai[all]==0.2.70) (8.2.3)\n",
            "Requirement already satisfied: docutils<0.22,>0.18 in /Users/bonianhu/miniconda3/lib/python3.12/site-packages (from sphinx-rtd-theme->scholarly==1.7.11->scholarly[tor]==1.7.11; extra == \"all\"->camel-ai[all]==0.2.70) (0.21.2)\n",
            "Requirement already satisfied: sphinxcontrib-jquery<5,>=4 in /Users/bonianhu/miniconda3/lib/python3.12/site-packages (from sphinx-rtd-theme->scholarly==1.7.11->scholarly[tor]==1.7.11; extra == \"all\"->camel-ai[all]==0.2.70) (4.1)\n",
            "Requirement already satisfied: pypdf>=4.0 in /Users/bonianhu/miniconda3/lib/python3.12/site-packages (from unstructured-client->unstructured==0.16.20->camel-ai[all]==0.2.70) (5.8.0)\n",
            "Requirement already satisfied: requests-toolbelt>=1.0.0 in /Users/bonianhu/miniconda3/lib/python3.12/site-packages (from unstructured-client->unstructured==0.16.20->camel-ai[all]==0.2.70) (1.0.0)\n",
            "Requirement already satisfied: hyperframe<7,>=6.1 in /Users/bonianhu/miniconda3/lib/python3.12/site-packages (from h2<5,>=3->httpx[http2]>=0.22.0->nebula3-python==3.8.2->camel-ai[all]==0.2.70) (6.1.0)\n",
            "Requirement already satisfied: hpack<5,>=4.1 in /Users/bonianhu/miniconda3/lib/python3.12/site-packages (from h2<5,>=3->httpx[http2]>=0.22.0->nebula3-python==3.8.2->camel-ai[all]==0.2.70) (4.1.0)\n",
            "Requirement already satisfied: parso<0.9.0,>=0.8.4 in /Users/bonianhu/miniconda3/lib/python3.12/site-packages (from jedi>=0.16->ipython>=7.23.1->ipykernel<7,>=6.0.0->camel-ai[all]==0.2.70) (0.8.4)\n",
            "Requirement already satisfied: uc-micro-py in /Users/bonianhu/miniconda3/lib/python3.12/site-packages (from linkify-it-py<3,>=1->markdown-it-py[linkify]>=2.0.0->gradio<4,>=3->camel-ai[all]==0.2.70) (1.0.3)\n",
            "Requirement already satisfied: ptyprocess>=0.5 in /Users/bonianhu/miniconda3/lib/python3.12/site-packages (from pexpect>4.3->ipython>=7.23.1->ipykernel<7,>=6.0.0->camel-ai[all]==0.2.70) (0.7.0)\n",
            "Requirement already satisfied: wcwidth in /Users/bonianhu/miniconda3/lib/python3.12/site-packages (from prompt_toolkit<3.1.0,>=3.0.41->ipython>=7.23.1->ipykernel<7,>=6.0.0->camel-ai[all]==0.2.70) (0.2.13)\n",
            "Requirement already satisfied: pyasn1<0.7.0,>=0.4.6 in /Users/bonianhu/miniconda3/lib/python3.12/site-packages (from pyasn1-modules>=0.2.1->google-auth!=2.24.0,!=2.25.0,<3.0.0,>=1.32.0->google-api-python-client==2.166.0->camel-ai[all]==0.2.70) (0.6.1)\n",
            "Requirement already satisfied: sphinxcontrib-applehelp>=1.0.7 in /Users/bonianhu/miniconda3/lib/python3.12/site-packages (from sphinx<9,>=6->sphinx-rtd-theme->scholarly==1.7.11->scholarly[tor]==1.7.11; extra == \"all\"->camel-ai[all]==0.2.70) (2.0.0)\n",
            "Requirement already satisfied: sphinxcontrib-devhelp>=1.0.6 in /Users/bonianhu/miniconda3/lib/python3.12/site-packages (from sphinx<9,>=6->sphinx-rtd-theme->scholarly==1.7.11->scholarly[tor]==1.7.11; extra == \"all\"->camel-ai[all]==0.2.70) (2.0.0)\n",
            "Requirement already satisfied: sphinxcontrib-htmlhelp>=2.0.6 in /Users/bonianhu/miniconda3/lib/python3.12/site-packages (from sphinx<9,>=6->sphinx-rtd-theme->scholarly==1.7.11->scholarly[tor]==1.7.11; extra == \"all\"->camel-ai[all]==0.2.70) (2.1.0)\n",
            "Requirement already satisfied: sphinxcontrib-jsmath>=1.0.1 in /Users/bonianhu/miniconda3/lib/python3.12/site-packages (from sphinx<9,>=6->sphinx-rtd-theme->scholarly==1.7.11->scholarly[tor]==1.7.11; extra == \"all\"->camel-ai[all]==0.2.70) (1.0.1)\n",
            "Requirement already satisfied: sphinxcontrib-qthelp>=1.0.6 in /Users/bonianhu/miniconda3/lib/python3.12/site-packages (from sphinx<9,>=6->sphinx-rtd-theme->scholarly==1.7.11->scholarly[tor]==1.7.11; extra == \"all\"->camel-ai[all]==0.2.70) (2.0.0)\n",
            "Requirement already satisfied: sphinxcontrib-serializinghtml>=1.1.9 in /Users/bonianhu/miniconda3/lib/python3.12/site-packages (from sphinx<9,>=6->sphinx-rtd-theme->scholarly==1.7.11->scholarly[tor]==1.7.11; extra == \"all\"->camel-ai[all]==0.2.70) (2.0.0)\n",
            "Requirement already satisfied: babel>=2.13 in /Users/bonianhu/miniconda3/lib/python3.12/site-packages (from sphinx<9,>=6->sphinx-rtd-theme->scholarly==1.7.11->scholarly[tor]==1.7.11; extra == \"all\"->camel-ai[all]==0.2.70) (2.16.0)\n",
            "Requirement already satisfied: alabaster>=0.7.14 in /Users/bonianhu/miniconda3/lib/python3.12/site-packages (from sphinx<9,>=6->sphinx-rtd-theme->scholarly==1.7.11->scholarly[tor]==1.7.11; extra == \"all\"->camel-ai[all]==0.2.70) (1.0.0)\n",
            "Requirement already satisfied: imagesize>=1.3 in /Users/bonianhu/miniconda3/lib/python3.12/site-packages (from sphinx<9,>=6->sphinx-rtd-theme->scholarly==1.7.11->scholarly[tor]==1.7.11; extra == \"all\"->camel-ai[all]==0.2.70) (1.4.1)\n",
            "Requirement already satisfied: roman-numerals-py>=1.0.0 in /Users/bonianhu/miniconda3/lib/python3.12/site-packages (from sphinx<9,>=6->sphinx-rtd-theme->scholarly==1.7.11->scholarly[tor]==1.7.11; extra == \"all\"->camel-ai[all]==0.2.70) (3.1.0)\n",
            "Requirement already satisfied: sortedcontainers in /Users/bonianhu/miniconda3/lib/python3.12/site-packages (from trio~=0.30.0->selenium->scholarly==1.7.11->scholarly[tor]==1.7.11; extra == \"all\"->camel-ai[all]==0.2.70) (2.4.0)\n",
            "Requirement already satisfied: outcome in /Users/bonianhu/miniconda3/lib/python3.12/site-packages (from trio~=0.30.0->selenium->scholarly==1.7.11->scholarly[tor]==1.7.11; extra == \"all\"->camel-ai[all]==0.2.70) (1.3.0.post0)\n",
            "Requirement already satisfied: humanfriendly>=9.1 in /Users/bonianhu/miniconda3/lib/python3.12/site-packages (from coloredlogs->onnxruntime>=1.14.1->chromadb<1.0.0,>=0.6.0->camel-ai[all]==0.2.70) (10.0)\n",
            "Requirement already satisfied: executing>=1.2.0 in /Users/bonianhu/miniconda3/lib/python3.12/site-packages (from stack_data->ipython>=7.23.1->ipykernel<7,>=6.0.0->camel-ai[all]==0.2.70) (2.1.0)\n",
            "Requirement already satisfied: asttokens>=2.1.0 in /Users/bonianhu/miniconda3/lib/python3.12/site-packages (from stack_data->ipython>=7.23.1->ipykernel<7,>=6.0.0->camel-ai[all]==0.2.70) (3.0.0)\n",
            "Requirement already satisfied: pure-eval in /Users/bonianhu/miniconda3/lib/python3.12/site-packages (from stack_data->ipython>=7.23.1->ipykernel<7,>=6.0.0->camel-ai[all]==0.2.70) (0.2.3)\n"
          ]
        }
      ],
      "source": [
        "!pip install \"camel-ai[all]==0.2.70\""
      ]
    },
    {
      "cell_type": "markdown",
      "metadata": {
        "id": "lfNvFbhD6o8B"
      },
      "source": [
        "## 🔑 Setting Up API Keys"
      ]
    },
    {
      "cell_type": "markdown",
      "metadata": {
        "id": "jqV12oQfQTyl"
      },
      "source": [
        "You'll need to set up your API keys for OpenAI. This ensures that the tools can interact with external services securely."
      ]
    },
    {
      "cell_type": "code",
      "execution_count": 5,
      "metadata": {},
      "outputs": [],
      "source": [
        "import os\n",
        "from getpass import getpass\n",
        "\n",
        "# Prompt for the AgentOps API key securely\n",
        "openai_api_key = getpass('Enter your API key: ')\n",
        "os.environ[\"OPENAI_API_KEY\"] = openai_api_key"
      ]
    },
    {
      "cell_type": "markdown",
      "metadata": {
        "id": "___"
      },
      "source": [
        "## 1. Basic Structured Response"
      ]
    },
    {
      "cell_type": "markdown",
      "metadata": {
        "id": "6f64VOMMP93d"
      },
      "source": [
        "\n",
        "The simplest way to get structured responses is by defining a Pydantic model and using it as the `response_format` parameter. This ensures the model's output matches your expected structure。\n",
        "\n",
        "Lets create a simple agent that returns a Joke with Structured Response\n"
      ]
    },
    {
      "cell_type": "markdown",
      "metadata": {},
      "source": [
        "1. **Model Initialization**:\n",
        "   - We create a chat agent with a default model\n",
        "   - The system message sets the assistant's behavior\n"
      ]
    },
    {
      "cell_type": "code",
      "execution_count": 6,
      "metadata": {
        "id": "gE_qBFCVveBR"
      },
      "outputs": [],
      "source": [
        "from pydantic import BaseModel, Field\n",
        "from camel.agents import ChatAgent\n",
        "from camel.models import ModelFactory\n",
        "from camel.types import ModelPlatformType, ModelType\n",
        "\n",
        "# Define system message\n",
        "assistant_sys_msg = \"You are a helpful assistant.\"\n",
        "\n",
        "# Initialize model and agent\n",
        "model = ModelFactory.create(\n",
        "    model_platform=ModelPlatformType.DEFAULT,\n",
        "    model_type=ModelType.DEFAULT,\n",
        ")\n",
        "agent = ChatAgent(assistant_sys_msg, model=model)"
      ]
    },
    {
      "cell_type": "markdown",
      "metadata": {},
      "source": [
        "2. **Response Structure**:\n",
        "   - We define a [JokeResponse](camel/examples/structured_response/json_format_response.py:33:0-35:69) class using Pydantic's `BaseModel`\n",
        "   - Each field has a type hint and a description\n",
        "   - The model uses these descriptions to generate appropriate content\n"
      ]
    },
    {
      "cell_type": "code",
      "execution_count": 7,
      "metadata": {},
      "outputs": [
        {
          "name": "stdout",
          "output_type": "stream",
          "text": [
            "=== Raw Response ===\n",
            "{\"joke\":\"Why don't scientists trust atoms? Because they make up everything!\",\"funny_level\":7}\n",
            "\n",
            "=== Parsed Object ===\n",
            "joke=\"Why don't scientists trust atoms? Because they make up everything!\" funny_level=7\n",
            "\n",
            "=== Type of Parsed Object ===\n",
            "<class '__main__.JokeResponse'>\n"
          ]
        }
      ],
      "source": [
        "# Define the expected response structure using Pydantic\n",
        "class JokeResponse(BaseModel):\n",
        "    joke: str = Field(description=\"A funny joke\")\n",
        "    funny_level: int = Field(description=\"How funny the joke is, from 1 to 10\")\n",
        "\n",
        "response = agent.step(\"Tell me a joke.\", response_format=JokeResponse)\n",
        "\n",
        "\n",
        "# Display the results\n",
        "print(\"=== Raw Response ===\")\n",
        "print(response.msgs[0].content)\n",
        "\n",
        "print(\"\\n=== Parsed Object ===\")\n",
        "print(response.msgs[0].parsed)\n",
        "\n",
        "print(\"\\n=== Type of Parsed Object ===\")\n",
        "print(type(response.msgs[0].parsed))"
      ]
    },
    {
      "cell_type": "markdown",
      "metadata": {},
      "source": [
        "## 2. Structured Response with Tools <a name=\"with-tools\"></a>\n",
        "\n",
        "In this section, we'll demonstrate how to combine structured responses with CAMEL's tool system. This allows the model to perform calculations and searches while maintaining a structured output format.\n",
        "\n",
        "Let's create an example where we ask the model to perform a calculation and return the result in a structured format:\n"
      ]
    },
    {
      "cell_type": "markdown",
      "metadata": {},
      "source": [
        "1. **Import required libraries**:\n"
      ]
    },
    {
      "cell_type": "code",
      "execution_count": 8,
      "metadata": {},
      "outputs": [],
      "source": [
        "from pydantic import BaseModel, Field\n",
        "from camel.agents import ChatAgent\n",
        "from camel.configs.openai_config import ChatGPTConfig\n",
        "from camel.models import ModelFactory\n",
        "from camel.toolkits import MathToolkit, SearchToolkit\n",
        "from camel.types import ModelPlatformType, ModelType"
      ]
    },
    {
      "cell_type": "markdown",
      "metadata": {},
      "source": [
        "2. **Tool Integration**:\n",
        "   - We import and initialize `MathToolkit` and `SearchToolkit` to give the model calculation and search capabilities\n",
        "   - These tools are passed to the `ChatAgent` during initialization"
      ]
    },
    {
      "cell_type": "code",
      "execution_count": 9,
      "metadata": {},
      "outputs": [
        {
          "name": "stderr",
          "output_type": "stream",
          "text": [
            "/Users/bonianhu/miniconda3/lib/python3.12/site-packages/camel/toolkits/function_tool.py:533: UserWarning: Parameter description is missing for the function 'search_linkup'. The parameter definition is {'enum': ['searchResults', 'sourcedAnswer', 'structured'], 'type': ['string', 'null']}. This may affect the quality of tool calling.\n",
            "  warnings.warn(\n",
            "/Users/bonianhu/miniconda3/lib/python3.12/site-packages/camel/toolkits/function_tool.py:533: UserWarning: Parameter description is missing for the function 'search_alibaba_tongxiao'. The parameter definition is {'enum': ['OneDay', 'OneWeek', 'OneMonth', 'OneYear', 'NoLimit'], 'type': ['string', 'null']}. This may affect the quality of tool calling.\n",
            "  warnings.warn(\n",
            "/Users/bonianhu/miniconda3/lib/python3.12/site-packages/camel/toolkits/function_tool.py:533: UserWarning: Parameter description is missing for the function 'search_alibaba_tongxiao'. The parameter definition is {'anyOf': [{'enum': ['finance', 'law', 'medical', 'internet', 'tax', 'news_province', 'news_center'], 'type': 'string'}, {'type': 'null'}], 'type': ['null']}. This may affect the quality of tool calling.\n",
            "  warnings.warn(\n"
          ]
        }
      ],
      "source": [
        "tools_list = [\n",
        "    *MathToolkit().get_tools(),  # Adds math calculation capabilities\n",
        "    *SearchToolkit().get_tools(),  # Adds web search capabilities\n",
        "]\n",
        "\n",
        "# Configure model with specific settings\n",
        "assistant_model_config = ChatGPTConfig(\n",
        "    temperature=0.0,  # Use low temperature for more deterministic outputs\n",
        ")\n",
        "\n",
        "# Define system message\n",
        "assistant_sys_msg = \"You are a helpful assistant that's good at calculations and research.\"\n",
        "\n",
        "# Cell 3: Initialize the model\n",
        "model = ModelFactory.create(\n",
        "    model_platform=ModelPlatformType.DEFAULT,\n",
        "    model_type=ModelType.DEFAULT,\n",
        "    model_config_dict=assistant_model_config.as_dict(),\n",
        ")\n",
        "\n",
        "# Initialize agent with tools\n",
        "camel_agent = ChatAgent(\n",
        "    assistant_sys_msg,\n",
        "    model=model,\n",
        "    tools=tools_list,  # Pass the tools to the agent\n",
        ")"
      ]
    },
    {
      "cell_type": "markdown",
      "metadata": {},
      "source": [
        "3. **Structured Response**:\n",
        "   - We define a `CalculationResult` Pydantic model with three fields\n",
        "   - The model uses available tools to perform calculations while maintaining the specified output structure"
      ]
    },
    {
      "cell_type": "code",
      "execution_count": 10,
      "metadata": {},
      "outputs": [],
      "source": [
        "# Define the structured response format\n",
        "class CalculationResult(BaseModel):\n",
        "    current_age: str = Field(description=\"The current age being calculated\")\n",
        "    calculated_age: str = Field(description=\"The age after adding years\")\n",
        "    calculation_steps: str = Field(description=\"Detailed steps of the calculation\")"
      ]
    },
    {
      "cell_type": "markdown",
      "metadata": {},
      "source": [
        "4. **Execution Flow**:\n",
        "   - The model first uses search tools to find the founding year of the University of Oxford\n",
        "   - It then performs the age calculation using math tools\n",
        "   - Finally, it formats the response according to our `CalculationResult` schema\n"
      ]
    },
    {
      "cell_type": "code",
      "execution_count": 11,
      "metadata": {},
      "outputs": [
        {
          "name": "stdout",
          "output_type": "stream",
          "text": [
            "=== Raw Response ===\n",
            "{\"current_age\":\"928 years\",\"calculated_age\":\"938 years\",\"calculation_steps\":\"The University of Oxford was established around 1096. The current year is 2024. So, the current age is 2024 - 1096 = 928 years. Adding 10 more years to this age results in 928 + 10 = 938 years.\"}\n",
            "\n",
            "=== Parsed Object ===\n",
            "current_age='928 years' calculated_age='938 years' calculation_steps='The University of Oxford was established around 1096. The current year is 2024. So, the current age is 2024 - 1096 = 928 years. Adding 10 more years to this age results in 928 + 10 = 938 years.'\n",
            "\n",
            "=== Accessing Fields ===\n",
            "Current age: 928 years\n",
            "Calculated age: 938 years\n",
            "\n",
            "Calculation steps:\n",
            "The University of Oxford was established around 1096. The current year is 2024. So, the current age is 2024 - 1096 = 928 years. Adding 10 more years to this age results in 928 + 10 = 938 years.\n"
          ]
        }
      ],
      "source": [
        "# Define the user's question\n",
        "user_msg = \"\"\"Assume now is 2024 in the Gregorian calendar, \n",
        "estimate the current age of University of Oxford \n",
        "and then add 10 more years to this age.\"\"\"\n",
        "\n",
        "# Get the structured response\n",
        "response = camel_agent.step(\n",
        "    user_msg, \n",
        "    response_format=CalculationResult\n",
        ")\n",
        "\n",
        "# Display the results\n",
        "print(\"=== Raw Response ===\")\n",
        "print(response.msgs[0].content)\n",
        "\n",
        "print(\"\\n=== Parsed Object ===\")\n",
        "print(response.msgs[0].parsed)\n",
        "\n",
        "print(\"\\n=== Accessing Fields ===\")\n",
        "print(f\"Current age: {response.msgs[0].parsed.current_age}\")\n",
        "print(f\"Calculated age: {response.msgs[0].parsed.calculated_age}\")\n",
        "print(f\"\\nCalculation steps:\\n{response.msgs[0].parsed.calculation_steps}\")"
      ]
    },
    {
      "cell_type": "markdown",
      "metadata": {},
      "source": [
        "## 3. Structured Response with Non-Native Models <a name=\"non-native\"></a>\n",
        "\n",
        "Some models don't natively support structured output formats. In this section, we'll show how to achieve structured responses through prompt engineering using GPT 3.5 TURBO. This approach is particularly useful with open-source or custom models.\n",
        "\n",
        "Let's create a recipe generator that returns structured data, demonstrating how to work with models that don't support native structured output:"
      ]
    },
    {
      "cell_type": "markdown",
      "metadata": {},
      "source": [
        "1. **Import libraries**:"
      ]
    },
    {
      "cell_type": "code",
      "execution_count": 12,
      "metadata": {},
      "outputs": [],
      "source": [
        "from pydantic import BaseModel, Field\n",
        "from typing import List, Optional\n",
        "from camel.agents import ChatAgent\n",
        "from camel.models import ModelFactory\n",
        "from camel.types import ModelPlatformType, ModelType\n",
        "import json"
      ]
    },
    {
      "cell_type": "markdown",
      "metadata": {},
      "source": [
        "2. **Model-Agnostic Approach**:\n",
        "   - We define our data structure using Pydantic models"
      ]
    },
    {
      "cell_type": "code",
      "execution_count": 14,
      "metadata": {},
      "outputs": [],
      "source": [
        "# Define Pydantic models for our data structure\n",
        "# Define our data models\n",
        "class Ingredient(BaseModel):\n",
        "    name: str\n",
        "    amount: str\n",
        "    unit: str\n",
        "\n",
        "class RecipeStep(BaseModel):\n",
        "    step_number: int\n",
        "    instruction: str\n",
        "    duration: str\n",
        "\n",
        "class Recipe(BaseModel):\n",
        "    name: str\n",
        "    description: str\n",
        "    prep_time: str\n",
        "    cook_time: str\n",
        "    servings: int\n",
        "    ingredients: List[Ingredient]\n",
        "    instructions: List[RecipeStep]\n",
        "    dietary_info: List[str] = Field(description=\"List of dietary categories\")\n"
      ]
    },
    {
      "cell_type": "markdown",
      "metadata": {},
      "source": [
        "3. **Define agent and recipe generator function**\n",
        "   - The `generate_recipe` function manually constructs a prompt that asks for JSON\n",
        "   - We handle the response parsing and validation manually"
      ]
    },
    {
      "cell_type": "code",
      "execution_count": 15,
      "metadata": {},
      "outputs": [],
      "source": [
        "# Cell 2: Initialize the default model\n",
        "model = ModelFactory.create(\n",
        "    model_platform=ModelPlatformType.DEFAULT,\n",
        "    model_type=ModelType.GPT_3_5_TURBO,\n",
        "    api_key=openai_api_key,\n",
        ")\n",
        "\n",
        "agent = ChatAgent(\"You are a professional chef assistant.\")"
      ]
    },
    {
      "cell_type": "code",
      "execution_count": 16,
      "metadata": {},
      "outputs": [],
      "source": [
        "# Function to demonstrate manual parsing\n",
        "def generate_recipe(dish: str) -> Recipe:\n",
        "    # First, get a structured response\n",
        "    response = agent.step(\n",
        "        f\"Provide a detailed recipe for {dish} in JSON format with the following structure: \"\n",
        "        \"{\\\"name\\\": \\\"...\\\", \\\"description\\\": \\\"...\\\", \\\"prep_time\\\": \\\"...\\\", \"\n",
        "        \"\\\"cook_time\\\": \\\"...\\\", \\\"servings\\\": 0, \\\"ingredients\\\": [{\\\"name\\\": \\\"...\\\", \"\n",
        "        \"\\\"amount\\\": \\\"...\\\", \\\"unit\\\": \\\"...\\\"}], \\\"instructions\\\": [{\\\"step_number\\\": 1, \"\n",
        "        \"\\\"instruction\\\": \\\"...\\\", \\\"duration\\\": \\\"...\\\"}], \\\"dietary_info\\\": [\\\"...\\\"]}\\n\\n\"\n",
        "        \"Return ONLY the JSON object, without any additional text or markdown formatting.\"\n",
        "    )\n",
        "    \n",
        "    try:\n",
        "        # Extract JSON from the response\n",
        "        content = response.msgs[0].content.strip()\n",
        "        if content.startswith(\"```json\"):\n",
        "            content = content[7:-3].strip()  # Remove markdown code block if present\n",
        "        \n",
        "        # Parse and validate the response\n",
        "        recipe_data = json.loads(content)\n",
        "        return Recipe(**recipe_data)\n",
        "    except Exception as e:\n",
        "        print(f\"Error parsing response: {e}\")\n",
        "        print(\"Raw response:\", response.msgs[0].content)\n",
        "        raise"
      ]
    },
    {
      "cell_type": "markdown",
      "metadata": {},
      "source": [
        "4.1. **Generate and display a recipe**\n"
      ]
    },
    {
      "cell_type": "code",
      "execution_count": 17,
      "metadata": {},
      "outputs": [
        {
          "name": "stdout",
          "output_type": "stream",
          "text": [
            "=== VEGETABLE LASAGNA ===\n",
            "A hearty and flavorful vegetable lasagna layered with ricotta, mozzarella, tomato sauce, and a variety of fresh vegetables.\n",
            "\n",
            "Preparation: 30 minutes | Cooking: 45 minutes | Servings: 6\n",
            "\n",
            "INGREDIENTS:\n",
            "- 2 tablespoons olive oil\n",
            "- 1 medium, chopped onion\n",
            "- 3 minced garlic cloves\n",
            "- 1 medium, sliced zucchini\n",
            "- 1 medium, chopped bell pepper\n",
            "- 1 cup, sliced mushrooms\n",
            "- 2 cups, fresh spinach\n",
            "- 4 cups tomato sauce\n",
            "- 12 noodles lasagna noodles\n",
            "- 2 cups ricotta cheese\n",
            "- 2 cups, shredded mozzarella cheese\n",
            "- 1/2 cup, grated parmesan cheese\n",
            "- 1 large egg\n",
            "- 1 teaspoon salt\n",
            "- 1/2 teaspoon black pepper\n",
            "- 1 teaspoon dried oregano\n",
            "- 1 teaspoon dried basil\n",
            "\n",
            "INSTRUCTIONS:\n",
            "1. Preheat oven to 375°F (190°C). (5 minutes)\n",
            "2. In a large skillet, heat olive oil over medium heat. Add chopped onion and minced garlic; sauté until softened, about 3-4 minutes. (5 minutes)\n",
            "3. Add sliced zucchini, chopped bell pepper, and mushrooms to the skillet. Cook until vegetables are tender, about 7-8 minutes. (8 minutes)\n",
            "4. Stir in fresh spinach and cook until wilted, about 2 minutes. Remove from heat and set aside. (3 minutes)\n",
            "5. In a mixing bowl, combine ricotta cheese, egg, salt, black pepper, dried oregano, and dried basil. (3 minutes)\n",
            "6. Spread a thin layer of tomato sauce on the bottom of a 9x13 inch baking dish. (2 minutes)\n",
            "7. Place 3-4 lasagna noodles on top of the sauce layer. (2 minutes)\n",
            "8. Spread one-third of the ricotta mixture over the noodles, then half of the sautéed vegetables, followed by 1 cup of tomato sauce and 2/3 cup of shredded mozzarella. (5 minutes)\n",
            "9. Repeat the layering process (noodles, ricotta, vegetables, sauce, mozzarella) once more. (5 minutes)\n",
            "10. Add a final layer of noodles topped with the remaining tomato sauce, mozzarella, and grated parmesan cheese. (3 minutes)\n",
            "11. Cover the dish with aluminum foil and bake in the preheated oven for 30 minutes. (30 minutes)\n",
            "12. Remove foil and bake uncovered for an additional 10-15 minutes, until cheese is bubbly and golden. (15 minutes)\n",
            "13. Let lasagna rest for 10 minutes before serving. (10 minutes)\n",
            "\n",
            "DIETARY INFO: vegetarian, contains dairy, contains gluten\n"
          ]
        }
      ],
      "source": [
        "# Cell 4: Generate and display a recipe\n",
        "try:\n",
        "    recipe = generate_recipe(\"vegetable lasagna\")\n",
        "    \n",
        "    print(f\"=== {recipe.name.upper()} ===\")\n",
        "    print(recipe.description)\n",
        "    print(f\"\\nPreparation: {recipe.prep_time} | Cooking: {recipe.cook_time} | Servings: {recipe.servings}\")\n",
        "    \n",
        "    print(\"\\nINGREDIENTS:\")\n",
        "    for ing in recipe.ingredients:\n",
        "        print(f\"- {ing.amount} {ing.unit} {ing.name}\")\n",
        "    \n",
        "    print(\"\\nINSTRUCTIONS:\")\n",
        "    for step in recipe.instructions:\n",
        "        print(f\"{step.step_number}. {step.instruction} ({step.duration})\")\n",
        "    \n",
        "    print(\"\\nDIETARY INFO:\", \", \".join(recipe.dietary_info))\n",
        "\n",
        "except Exception as e:\n",
        "    print(f\"Failed to generate recipe: {e}\")"
      ]
    },
    {
      "cell_type": "markdown",
      "metadata": {},
      "source": [
        "4.2. **Alternative approach**\n",
        "- Using response_format with the default model \n",
        "- This shows how it would work with a model that supports structured output**"
      ]
    },
    {
      "cell_type": "code",
      "execution_count": 18,
      "metadata": {},
      "outputs": [
        {
          "name": "stdout",
          "output_type": "stream",
          "text": [
            "\n",
            "=== Using response_format ===\n",
            "Recipe name: Vegetable Lasagna\n",
            "First ingredient: olive oil\n"
          ]
        }
      ],
      "source": [
        "# Cell 5: Alternative approach - Using response_format with the default model\n",
        "# This shows how it would work with a model that supports structured output\n",
        "try:\n",
        "    response = agent.step(\n",
        "        \"Give me a recipe for vegetable lasagna\",\n",
        "        response_format=Recipe\n",
        "    )\n",
        "    \n",
        "    print(\"\\n=== Using response_format ===\")\n",
        "    print(\"Recipe name:\", response.msgs[0].parsed.name)\n",
        "    print(\"First ingredient:\", response.msgs[0].parsed.ingredients[0].name)\n",
        "    \n",
        "except Exception as e:\n",
        "    print(\"\\nNote: The default model might not support structured output natively.\")\n",
        "    print(\"Error:\", e)"
      ]
    },
    {
      "cell_type": "markdown",
      "metadata": {
        "id": "flYNal6-R4yR"
      },
      "source": [
        "## 🌟 Highlights"
      ]
    },
    {
      "cell_type": "markdown",
      "metadata": {
        "id": "SmkXhy4JR726"
      },
      "source": [
        "## Conclusion\n",
        "\n",
        "This notebook has guided you through the powerful capabilities of structured responses in CAMEL, from basic implementations to advanced use cases. By leveraging Pydantic models and CAMEL's flexible architecture, you can create robust, type-safe interactions with language models.\n",
        "\n",
        "### Key Highlights\n",
        "\n",
        "* **Type-Safe Outputs**: Ensure consistent data structures with Pydantic models\n",
        "* **Flexible Integration**: Works with various model types, including those without native structured output support\n",
        "* **Tool Compatibility**: Seamlessly combine structured responses with CAMEL's tool system\n",
        "\n",
        "### Key Tools Utilized\n",
        "\n",
        "* **CAMEL**: A powerful multi-agent framework that enables Retrieval-Augmented Generation and multi-agent role-playing scenarios, allowing for sophisticated AI-driven tasks.\n",
        "* **Pydantic**: Provides data validation and settings management using Python type annotations.\n",
        "* **Structured Outputs**: Enforce specific response formats for reliable data processing.\n",
        "\n",
        "### Next Steps\n",
        "\n",
        "This comprehensive setup allows you to adapt and expand the example for various scenarios, including:\n",
        "\n",
        "* Building data processing pipelines\n",
        "* Creating structured APIs with LLMs\n",
        "* Developing complex multi-agent systems\n",
        "* Implementing data validation and transformation workflows\n"
      ]
    },
    {
      "cell_type": "markdown",
      "metadata": {
        "id": "s6Det-fcMb9A"
      },
      "source": [
        "That's everything: Got questions about 🐫 CAMEL-AI? Join us on [Discord](https://discord.camel-ai.org)! Whether you want to share feedback, explore the latest in multi-agent systems, get support, or connect with others on exciting projects, we’d love to have you in the community! 🤝\n",
        "\n",
        "Check out some of our other work:\n",
        "\n",
        "1. 🐫 Creating Your First CAMEL Agent [free Colab](https://docs.camel-ai.org/cookbooks/create_your_first_agent.html)\n",
        "\n",
        "2.  Graph RAG Cookbook [free Colab](https://colab.research.google.com/drive/1uZKQSuu0qW6ukkuSv9TukLB9bVaS1H0U?usp=sharing)\n",
        "\n",
        "3. 🧑‍⚖️ Create A Hackathon Judge Committee with Workforce [free Colab](https://colab.research.google.com/drive/18ajYUMfwDx3WyrjHow3EvUMpKQDcrLtr?usp=sharing)\n",
        "\n",
        "4. 🔥 3 ways to ingest data from websites with Firecrawl & CAMEL [free Colab](https://colab.research.google.com/drive/1lOmM3VmgR1hLwDKdeLGFve_75RFW0R9I?usp=sharing)\n",
        "\n",
        "5. 🦥 Agentic SFT Data Generation with CAMEL and Mistral Models, Fine-Tuned with Unsloth [free Colab](https://colab.research.google.com/drive/1lYgArBw7ARVPSpdwgKLYnp_NEXiNDOd-?usp=sharingg)\n",
        "\n",
        "Thanks from everyone at 🐫 CAMEL-AI\n",
        "\n",
        "\n",
        "<div class=\"align-center\">\n",
        "  <a href=\"https://www.camel-ai.org/\"><img src=\"https://i.postimg.cc/KzQ5rfBC/button.png\"width=\"150\"></a>\n",
        "  <a href=\"https://discord.camel-ai.org\"><img src=\"https://i.postimg.cc/L4wPdG9N/join-2.png\"  width=\"150\"></a></a>\n",
        "  \n",
        "⭐ <i>Star us on [*Github*](https://github.com/camel-ai/camel), join our [*Discord*](https://discord.camel-ai.org) or follow our [*X*](https://x.com/camelaiorg)\n",
        "</div>\n"
      ]
    }
  ],
  "metadata": {
    "colab": {
      "provenance": []
    },
    "kernelspec": {
      "display_name": "base",
      "language": "python",
      "name": "python3"
    },
    "language_info": {
      "codemirror_mode": {
        "name": "ipython",
        "version": 3
      },
      "file_extension": ".py",
      "mimetype": "text/x-python",
      "name": "python",
      "nbconvert_exporter": "python",
      "pygments_lexer": "ipython3",
      "version": "3.12.4"
    }
  },
  "nbformat": 4,
  "nbformat_minor": 0
}
