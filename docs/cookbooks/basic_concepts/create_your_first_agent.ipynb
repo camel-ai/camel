{
  "cells": [
    {
      "cell_type": "markdown",
      "metadata": {
        "id": "NoHg3eq7fyWV"
      },
      "source": [
        "# Creating Your First Agent"
      ]
    },
    {
      "cell_type": "markdown",
      "metadata": {
        "id": "MusY9BwU5MPO"
      },
      "source": [
        "You can also check this cookbook in colab [here](https://colab.research.google.com/drive/1yxnAyaEmk4QCzX3duO3MIRghkIA_KDEZ?usp=sharing).\n",
        "\n",
        "<div class=\"align-center\">\n",
        "  <a href=\"https://www.camel-ai.org/\"><img src=\"https://i.postimg.cc/KzQ5rfBC/button.png\"width=\"150\"></a>\n",
        "  <a href=\"https://discord.camel-ai.org\"><img src=\"https://i.postimg.cc/L4wPdG9N/join-2.png\"  width=\"150\"></a></a>\n",
        "  \n",
        "⭐ <i>Star us on [*Github*](https://github.com/camel-ai/camel), join our [*Discord*](https://discord.camel-ai.org) or follow our [*X*](https://x.com/camelaiorg)\n",
        "</div>"
      ]
    },
    {
      "cell_type": "markdown",
      "metadata": {},
      "source": [
        "This notebook demonstrates how to set up and leverage CAMEL's ability to use `ChatAgent()` class. \n",
        "\n",
        "In this notebook, you'll explore:\n",
        "\n",
        "* **CAMEL**: A powerful multi-agent framework that enables Retrieval-Augmented Generation and multi-agent role-playing scenarios, allowing for sophisticated AI-driven tasks.\n",
        "\n",
        "* **ChatAgent()**: The class is a cornerstone of CAMEL. "
      ]
    },
    {
      "cell_type": "markdown",
      "metadata": {
        "id": "wFlfaGrjVAUy"
      },
      "source": [
        "## Philosophical Bits\n",
        "\n",
        "The `ChatAgent()` class is a cornerstone of CAMEL 🐫. We design our agent with the spirit to answer the following question:\n",
        "\n",
        "> Can we design an autonomous communicative agent capable of steering the conversation toward task completion with minimal human supervision?\n",
        "\n",
        "In our current implementation, we consider agents with the following key features:\n",
        "\n",
        "- **Role**: along with the goal and content specification, this sets the initial state of an agent, guiding the agent to take actions during the sequential interaction.\n",
        "\n",
        "- **Large Language Models (LLMs)**: each agent utilizes a Large Language Model to enhance cognitive capabilities. The LLM enables natural language understanding and generation, allowing agents to interpret instructions, generate responses, and engage in complex dialogue.\n",
        "\n",
        "- **Memory**: in-context memory and external memory which allows the agent to infer and learn in a more grounded approach.\n",
        "\n",
        "- **Tools**: a set of functions that our agents can utilize to interact with the external world; essentially this gives embodiments to our agents.\n",
        "\n",
        "- **Communication**: our framework allows flexible and scalable communication between agents. This is fundamental for the critical research question.\n",
        "\n",
        "- **Reasoning**: we will equip agents with different planning and reward (critic) learning abilities, allowing them to optimize task completion in a more guided approach."
      ]
    },
    {
      "cell_type": "markdown",
      "metadata": {},
      "source": [
        "## 📦 Installation"
      ]
    },
    {
      "cell_type": "code",
      "execution_count": 1,
      "metadata": {},
      "outputs": [
        {
          "name": "stdout",
          "output_type": "stream",
          "text": [
            "Requirement already satisfied: camel-ai==0.2.36 in /home/mi/miniforge3/envs/camel/lib/python3.10/site-packages (from camel-ai[all]==0.2.36) (0.2.36)\n",
            "Requirement already satisfied: colorama<0.5,>=0.4.6 in /home/mi/miniforge3/envs/camel/lib/python3.10/site-packages (from camel-ai==0.2.36->camel-ai[all]==0.2.36) (0.4.6)\n",
            "Requirement already satisfied: docstring-parser<0.16,>=0.15 in /home/mi/miniforge3/envs/camel/lib/python3.10/site-packages (from camel-ai==0.2.36->camel-ai[all]==0.2.36) (0.15)\n",
            "Requirement already satisfied: httpx<1.0.0dev,>=0.28.0 in /home/mi/miniforge3/envs/camel/lib/python3.10/site-packages (from camel-ai==0.2.36->camel-ai[all]==0.2.36) (0.28.1)\n",
            "Requirement already satisfied: jsonschema<5,>=4 in /home/mi/miniforge3/envs/camel/lib/python3.10/site-packages (from camel-ai==0.2.36->camel-ai[all]==0.2.36) (4.23.0)\n",
            "Requirement already satisfied: numpy~=1.26 in /home/mi/miniforge3/envs/camel/lib/python3.10/site-packages (from camel-ai==0.2.36->camel-ai[all]==0.2.36) (1.26.4)\n",
            "Requirement already satisfied: openai<2,>=1.59.7 in /home/mi/miniforge3/envs/camel/lib/python3.10/site-packages (from camel-ai==0.2.36->camel-ai[all]==0.2.36) (1.69.0)\n",
            "Requirement already satisfied: psutil<6,>=5.9.8 in /home/mi/miniforge3/envs/camel/lib/python3.10/site-packages (from camel-ai==0.2.36->camel-ai[all]==0.2.36) (5.9.8)\n",
            "Requirement already satisfied: pydantic<2.10,>=1.9 in /home/mi/miniforge3/envs/camel/lib/python3.10/site-packages (from camel-ai==0.2.36->camel-ai[all]==0.2.36) (2.9.2)\n",
            "Requirement already satisfied: pyyaml<7,>=6.0.2 in /home/mi/miniforge3/envs/camel/lib/python3.10/site-packages (from camel-ai==0.2.36->camel-ai[all]==0.2.36) (6.0.2)\n",
            "Requirement already satisfied: tiktoken<0.8,>=0.7.0 in /home/mi/miniforge3/envs/camel/lib/python3.10/site-packages (from camel-ai==0.2.36->camel-ai[all]==0.2.36) (0.7.0)\n",
            "Requirement already satisfied: accelerate<0.27,>=0.26.0 in /home/mi/miniforge3/envs/camel/lib/python3.10/site-packages (from camel-ai[all]==0.2.36) (0.26.1)\n",
            "Requirement already satisfied: agentops<0.4,>=0.3.21 in /home/mi/miniforge3/envs/camel/lib/python3.10/site-packages (from camel-ai[all]==0.2.36) (0.3.26)\n",
            "Requirement already satisfied: aiosqlite<0.21,>=0.20.0 in /home/mi/miniforge3/envs/camel/lib/python3.10/site-packages (from camel-ai[all]==0.2.36) (0.20.0)\n",
            "Requirement already satisfied: anthropic<0.50.0,>=0.47.0 in /home/mi/miniforge3/envs/camel/lib/python3.10/site-packages (from camel-ai[all]==0.2.36) (0.49.0)\n",
            "Requirement already satisfied: apify-client<2,>=1.8.1 in /home/mi/miniforge3/envs/camel/lib/python3.10/site-packages (from camel-ai[all]==0.2.36) (1.9.2)\n",
            "Requirement already satisfied: arxiv2text<0.2,>=0.1.14 in /home/mi/miniforge3/envs/camel/lib/python3.10/site-packages (from camel-ai[all]==0.2.36) (0.1.14)\n",
            "Requirement already satisfied: arxiv<3,>=2.1.3 in /home/mi/miniforge3/envs/camel/lib/python3.10/site-packages (from camel-ai[all]==0.2.36) (2.1.3)\n",
            "Requirement already satisfied: azure-storage-blob<13,>=12.21.0 in /home/mi/miniforge3/envs/camel/lib/python3.10/site-packages (from camel-ai[all]==0.2.36) (12.25.1)\n",
            "Requirement already satisfied: beautifulsoup4<5,>=4 in /home/mi/miniforge3/envs/camel/lib/python3.10/site-packages (from camel-ai[all]==0.2.36) (4.13.3)\n",
            "Requirement already satisfied: botocore<2,>=1.35.3 in /home/mi/miniforge3/envs/camel/lib/python3.10/site-packages (from camel-ai[all]==0.2.36) (1.37.22)\n",
            "Requirement already satisfied: cohere<6,>=5.11.0 in /home/mi/miniforge3/envs/camel/lib/python3.10/site-packages (from camel-ai[all]==0.2.36) (5.14.0)\n",
            "Requirement already satisfied: dappier<0.4,>=0.3.3 in /home/mi/miniforge3/envs/camel/lib/python3.10/site-packages (from camel-ai[all]==0.2.36) (0.3.4)\n",
            "Requirement already satisfied: datacommons-pandas<0.0.4,>=0.0.3 in /home/mi/miniforge3/envs/camel/lib/python3.10/site-packages (from camel-ai[all]==0.2.36) (0.0.3)\n",
            "Requirement already satisfied: datacommons<2,>=1.4.3 in /home/mi/miniforge3/envs/camel/lib/python3.10/site-packages (from camel-ai[all]==0.2.36) (1.4.3)\n",
            "Requirement already satisfied: datasets<4,>=3 in /home/mi/miniforge3/envs/camel/lib/python3.10/site-packages (from camel-ai[all]==0.2.36) (3.5.0)\n",
            "Requirement already satisfied: diffusers<0.26,>=0.25.0 in /home/mi/miniforge3/envs/camel/lib/python3.10/site-packages (from camel-ai[all]==0.2.36) (0.25.1)\n",
            "Requirement already satisfied: discord-py<3,>=2.3.2 in /home/mi/miniforge3/envs/camel/lib/python3.10/site-packages (from camel-ai[all]==0.2.36) (2.5.2)\n",
            "Requirement already satisfied: docker<8,>=7.1.0 in /home/mi/miniforge3/envs/camel/lib/python3.10/site-packages (from camel-ai[all]==0.2.36) (7.1.0)\n",
            "Requirement already satisfied: docx2txt<0.9,>=0.8 in /home/mi/miniforge3/envs/camel/lib/python3.10/site-packages (from camel-ai[all]==0.2.36) (0.8)\n",
            "Requirement already satisfied: docx>=0.2.4 in /home/mi/miniforge3/envs/camel/lib/python3.10/site-packages (from camel-ai[all]==0.2.36) (0.2.4)\n",
            "Requirement already satisfied: duckduckgo-search<7,>=6.3.5 in /home/mi/miniforge3/envs/camel/lib/python3.10/site-packages (from camel-ai[all]==0.2.36) (6.4.2)\n",
            "Requirement already satisfied: e2b-code-interpreter<2,>=1.0.3 in /home/mi/miniforge3/envs/camel/lib/python3.10/site-packages (from camel-ai[all]==0.2.36) (1.2.0)\n",
            "Requirement already satisfied: fastapi>=0.115.11 in /home/mi/miniforge3/envs/camel/lib/python3.10/site-packages (from camel-ai[all]==0.2.36) (0.115.12)\n",
            "Requirement already satisfied: ffmpeg-python<0.3,>=0.2.0 in /home/mi/miniforge3/envs/camel/lib/python3.10/site-packages (from camel-ai[all]==0.2.36) (0.2.0)\n",
            "Requirement already satisfied: firecrawl-py<2,>=1.0.0 in /home/mi/miniforge3/envs/camel/lib/python3.10/site-packages (from camel-ai[all]==0.2.36) (1.6.8)\n",
            "Requirement already satisfied: fish-audio-sdk<2025,>=2024.12.5 in /home/mi/miniforge3/envs/camel/lib/python3.10/site-packages (from camel-ai[all]==0.2.36) (2024.12.5)\n",
            "Requirement already satisfied: fpdf>=1.7.2 in /home/mi/miniforge3/envs/camel/lib/python3.10/site-packages (from camel-ai[all]==0.2.36) (1.7.2)\n",
            "Requirement already satisfied: google-cloud-storage<3,>=2.18.0 in /home/mi/miniforge3/envs/camel/lib/python3.10/site-packages (from camel-ai[all]==0.2.36) (2.19.0)\n",
            "Requirement already satisfied: googlemaps<5,>=4.10.0 in /home/mi/miniforge3/envs/camel/lib/python3.10/site-packages (from camel-ai[all]==0.2.36) (4.10.0)\n",
            "Requirement already satisfied: gradio<4,>=3 in /home/mi/miniforge3/envs/camel/lib/python3.10/site-packages (from camel-ai[all]==0.2.36) (3.36.1)\n",
            "Requirement already satisfied: html2text>=2024.2.26 in /home/mi/miniforge3/envs/camel/lib/python3.10/site-packages (from camel-ai[all]==0.2.36) (2024.2.26)\n",
            "Requirement already satisfied: imageio<3,>=2.34.2 in /home/mi/miniforge3/envs/camel/lib/python3.10/site-packages (from imageio[pyav]<3,>=2.34.2; extra == \"all\"->camel-ai[all]==0.2.36) (2.37.0)\n",
            "Requirement already satisfied: ipykernel<7,>=6.0.0 in /home/mi/miniforge3/envs/camel/lib/python3.10/site-packages (from camel-ai[all]==0.2.36) (6.29.5)\n",
            "Requirement already satisfied: jupyter-client<9,>=8.6.2 in /home/mi/miniforge3/envs/camel/lib/python3.10/site-packages (from camel-ai[all]==0.2.36) (8.6.3)\n",
            "Requirement already satisfied: linkup-sdk<0.3,>=0.2.1 in /home/mi/miniforge3/envs/camel/lib/python3.10/site-packages (from camel-ai[all]==0.2.36) (0.2.4)\n",
            "Requirement already satisfied: litellm<2,>=1.38.1 in /home/mi/miniforge3/envs/camel/lib/python3.10/site-packages (from camel-ai[all]==0.2.36) (1.64.1)\n",
            "Requirement already satisfied: mcp>=1.3.0 in /home/mi/miniforge3/envs/camel/lib/python3.10/site-packages (from camel-ai[all]==0.2.36) (1.6.0)\n",
            "Requirement already satisfied: mem0ai>=0.1.67 in /home/mi/miniforge3/envs/camel/lib/python3.10/site-packages (from camel-ai[all]==0.2.36) (0.1.77)\n",
            "Requirement already satisfied: mistralai<2,>=1.1.0 in /home/mi/miniforge3/envs/camel/lib/python3.10/site-packages (from camel-ai[all]==0.2.36) (1.5.2)\n",
            "Requirement already satisfied: mock<6,>=5 in /home/mi/miniforge3/envs/camel/lib/python3.10/site-packages (from camel-ai[all]==0.2.36) (5.2.0)\n",
            "Requirement already satisfied: mypy<2,>=1.5.1 in /home/mi/miniforge3/envs/camel/lib/python3.10/site-packages (from camel-ai[all]==0.2.36) (1.15.0)\n",
            "Requirement already satisfied: nebula3-python==3.8.2 in /home/mi/miniforge3/envs/camel/lib/python3.10/site-packages (from camel-ai[all]==0.2.36) (3.8.2)\n",
            "Requirement already satisfied: neo4j<6,>=5.18.0 in /home/mi/miniforge3/envs/camel/lib/python3.10/site-packages (from camel-ai[all]==0.2.36) (5.28.1)\n",
            "Requirement already satisfied: networkx<4,>=3.4.2 in /home/mi/miniforge3/envs/camel/lib/python3.10/site-packages (from camel-ai[all]==0.2.36) (3.4.2)\n",
            "Requirement already satisfied: newspaper3k<0.3,>=0.2.8 in /home/mi/miniforge3/envs/camel/lib/python3.10/site-packages (from camel-ai[all]==0.2.36) (0.2.8)\n",
            "Requirement already satisfied: notion-client<3,>=2.2.1 in /home/mi/miniforge3/envs/camel/lib/python3.10/site-packages (from camel-ai[all]==0.2.36) (2.3.0)\n",
            "Requirement already satisfied: openapi-spec-validator<0.8,>=0.7.1 in /home/mi/miniforge3/envs/camel/lib/python3.10/site-packages (from camel-ai[all]==0.2.36) (0.7.1)\n",
            "Requirement already satisfied: opencv-python<5,>=4 in /home/mi/miniforge3/envs/camel/lib/python3.10/site-packages (from camel-ai[all]==0.2.36) (4.11.0.86)\n",
            "Requirement already satisfied: openpyxl>=3.1.5 in /home/mi/miniforge3/envs/camel/lib/python3.10/site-packages (from camel-ai[all]==0.2.36) (3.1.5)\n",
            "Requirement already satisfied: outlines<0.2,>=0.1.7 in /home/mi/miniforge3/envs/camel/lib/python3.10/site-packages (from camel-ai[all]==0.2.36) (0.1.14)\n",
            "Requirement already satisfied: pandas<2,>=1.5.3 in /home/mi/miniforge3/envs/camel/lib/python3.10/site-packages (from camel-ai[all]==0.2.36) (1.5.3)\n",
            "Requirement already satisfied: pandasai<3,>=2.3.0 in /home/mi/miniforge3/envs/camel/lib/python3.10/site-packages (from camel-ai[all]==0.2.36) (2.4.2)\n",
            "Requirement already satisfied: pillow<11.0.0,>=10.1.0 in /home/mi/miniforge3/envs/camel/lib/python3.10/site-packages (from camel-ai[all]==0.2.36) (10.4.0)\n",
            "Requirement already satisfied: playwright>=1.50.0 in /home/mi/miniforge3/envs/camel/lib/python3.10/site-packages (from camel-ai[all]==0.2.36) (1.51.0)\n",
            "Requirement already satisfied: prance<24,>=23.6.21.0 in /home/mi/miniforge3/envs/camel/lib/python3.10/site-packages (from camel-ai[all]==0.2.36) (23.6.21.0)\n",
            "Requirement already satisfied: praw<8,>=7.7.1 in /home/mi/miniforge3/envs/camel/lib/python3.10/site-packages (from camel-ai[all]==0.2.36) (7.8.1)\n",
            "Requirement already satisfied: pre-commit<4,>=3 in /home/mi/miniforge3/envs/camel/lib/python3.10/site-packages (from camel-ai[all]==0.2.36) (3.8.0)\n",
            "Requirement already satisfied: pydub<0.26,>=0.25.1 in /home/mi/miniforge3/envs/camel/lib/python3.10/site-packages (from camel-ai[all]==0.2.36) (0.25.1)\n",
            "Requirement already satisfied: pygithub<3,>=2.3.0 in /home/mi/miniforge3/envs/camel/lib/python3.10/site-packages (from camel-ai[all]==0.2.36) (2.6.1)\n",
            "Requirement already satisfied: pymilvus<3,>=2.4.0 in /home/mi/miniforge3/envs/camel/lib/python3.10/site-packages (from camel-ai[all]==0.2.36) (2.5.6)\n",
            "Requirement already satisfied: pymupdf<2,>=1.22.5 in /home/mi/miniforge3/envs/camel/lib/python3.10/site-packages (from camel-ai[all]==0.2.36) (1.25.4)\n",
            "Requirement already satisfied: pyowm<4,>=3.3.0 in /home/mi/miniforge3/envs/camel/lib/python3.10/site-packages (from camel-ai[all]==0.2.36) (3.3.0)\n",
            "Requirement already satisfied: pytelegrambotapi<5,>=4.18.0 in /home/mi/miniforge3/envs/camel/lib/python3.10/site-packages (from camel-ai[all]==0.2.36) (4.26.0)\n",
            "Requirement already satisfied: pytest-asyncio<0.24,>=0.23.0 in /home/mi/miniforge3/envs/camel/lib/python3.10/site-packages (from camel-ai[all]==0.2.36) (0.23.8)\n",
            "Requirement already satisfied: pytest-cov<5,>=4 in /home/mi/miniforge3/envs/camel/lib/python3.10/site-packages (from camel-ai[all]==0.2.36) (4.1.0)\n",
            "Requirement already satisfied: pytest<8,>=7 in /home/mi/miniforge3/envs/camel/lib/python3.10/site-packages (from camel-ai[all]==0.2.36) (7.4.4)\n",
            "Requirement already satisfied: qdrant-client<2,>=1.9.0 in /home/mi/miniforge3/envs/camel/lib/python3.10/site-packages (from camel-ai[all]==0.2.36) (1.13.3)\n",
            "Requirement already satisfied: rank-bm25<0.3,>=0.2.2 in /home/mi/miniforge3/envs/camel/lib/python3.10/site-packages (from camel-ai[all]==0.2.36) (0.2.2)\n",
            "Requirement already satisfied: redis<6,>=5.0.6 in /home/mi/miniforge3/envs/camel/lib/python3.10/site-packages (from camel-ai[all]==0.2.36) (5.2.1)\n",
            "Requirement already satisfied: reka-api<4,>=3.0.8 in /home/mi/miniforge3/envs/camel/lib/python3.10/site-packages (from camel-ai[all]==0.2.36) (3.2.0)\n",
            "Requirement already satisfied: requests-oauthlib<2,>=1.3.1 in /home/mi/miniforge3/envs/camel/lib/python3.10/site-packages (from camel-ai[all]==0.2.36) (1.3.1)\n",
            "Requirement already satisfied: rouge<2,>=1.0.1 in /home/mi/miniforge3/envs/camel/lib/python3.10/site-packages (from camel-ai[all]==0.2.36) (1.0.1)\n",
            "Requirement already satisfied: scenedetect>=0.6.5.2 in /home/mi/miniforge3/envs/camel/lib/python3.10/site-packages (from camel-ai[all]==0.2.36) (0.6.6)\n",
            "Requirement already satisfied: scholarly==1.7.11 in /home/mi/miniforge3/envs/camel/lib/python3.10/site-packages (from scholarly[tor]==1.7.11; extra == \"all\"->camel-ai[all]==0.2.36) (1.7.11)\n",
            "Requirement already satisfied: sentence-transformers<4,>=3.0.1 in /home/mi/miniforge3/envs/camel/lib/python3.10/site-packages (from camel-ai[all]==0.2.36) (3.4.1)\n",
            "Requirement already satisfied: sentencepiece<0.3,>=0.2 in /home/mi/miniforge3/envs/camel/lib/python3.10/site-packages (from camel-ai[all]==0.2.36) (0.2.0)\n",
            "Requirement already satisfied: slack-bolt<2,>=1.20.1 in /home/mi/miniforge3/envs/camel/lib/python3.10/site-packages (from camel-ai[all]==0.2.36) (1.23.0)\n",
            "Requirement already satisfied: slack-sdk<4,>=3.27.2 in /home/mi/miniforge3/envs/camel/lib/python3.10/site-packages (from camel-ai[all]==0.2.36) (3.35.0)\n",
            "Requirement already satisfied: soundfile<0.14,>=0.13 in /home/mi/miniforge3/envs/camel/lib/python3.10/site-packages (from camel-ai[all]==0.2.36) (0.13.1)\n",
            "Requirement already satisfied: stripe<12,>=11.3.0 in /home/mi/miniforge3/envs/camel/lib/python3.10/site-packages (from camel-ai[all]==0.2.36) (11.6.0)\n",
            "Requirement already satisfied: sympy<2,>=1.13.3 in /home/mi/miniforge3/envs/camel/lib/python3.10/site-packages (from camel-ai[all]==0.2.36) (1.13.3)\n",
            "Requirement already satisfied: tabulate>=0.9.0 in /home/mi/miniforge3/envs/camel/lib/python3.10/site-packages (from camel-ai[all]==0.2.36) (0.9.0)\n",
            "Requirement already satisfied: tavily-python<0.6,>=0.5.0 in /home/mi/miniforge3/envs/camel/lib/python3.10/site-packages (from camel-ai[all]==0.2.36) (0.5.2)\n",
            "Requirement already satisfied: textblob<0.18,>=0.17.1 in /home/mi/miniforge3/envs/camel/lib/python3.10/site-packages (from camel-ai[all]==0.2.36) (0.17.1)\n",
            "Requirement already satisfied: torch in /home/mi/miniforge3/envs/camel/lib/python3.10/site-packages (from camel-ai[all]==0.2.36) (2.4.1)\n",
            "Requirement already satisfied: transformers<5,>=4 in /home/mi/miniforge3/envs/camel/lib/python3.10/site-packages (from camel-ai[all]==0.2.36) (4.50.2)\n",
            "Requirement already satisfied: tree-sitter-python<0.24,>=0.23.6 in /home/mi/miniforge3/envs/camel/lib/python3.10/site-packages (from camel-ai[all]==0.2.36) (0.23.6)\n",
            "Requirement already satisfied: tree-sitter<0.24,>=0.23.2 in /home/mi/miniforge3/envs/camel/lib/python3.10/site-packages (from camel-ai[all]==0.2.36) (0.23.2)\n",
            "Requirement already satisfied: typer>=0.15.2 in /home/mi/miniforge3/envs/camel/lib/python3.10/site-packages (from camel-ai[all]==0.2.36) (0.15.2)\n",
            "Requirement already satisfied: types-colorama<0.5,>=0.4.15 in /home/mi/miniforge3/envs/camel/lib/python3.10/site-packages (from camel-ai[all]==0.2.36) (0.4.15.20240311)\n",
            "Requirement already satisfied: types-mock<6,>=5.1.0 in /home/mi/miniforge3/envs/camel/lib/python3.10/site-packages (from camel-ai[all]==0.2.36) (5.2.0.20250306)\n",
            "Requirement already satisfied: types-pyyaml<7,>=6.0.12 in /home/mi/miniforge3/envs/camel/lib/python3.10/site-packages (from camel-ai[all]==0.2.36) (6.0.12.20250326)\n",
            "Requirement already satisfied: types-requests<3,>=2.31.0 in /home/mi/miniforge3/envs/camel/lib/python3.10/site-packages (from camel-ai[all]==0.2.36) (2.32.0.20250328)\n",
            "Requirement already satisfied: types-setuptools<70,>=69.2.0 in /home/mi/miniforge3/envs/camel/lib/python3.10/site-packages (from camel-ai[all]==0.2.36) (69.5.0.20240522)\n",
            "Requirement already satisfied: types-tqdm<5,>=4.66.0 in /home/mi/miniforge3/envs/camel/lib/python3.10/site-packages (from camel-ai[all]==0.2.36) (4.67.0.20250319)\n",
            "Requirement already satisfied: unstructured==0.16.20 in /home/mi/miniforge3/envs/camel/lib/python3.10/site-packages (from camel-ai[all]==0.2.36) (0.16.20)\n",
            "Requirement already satisfied: wikipedia<2,>=1 in /home/mi/miniforge3/envs/camel/lib/python3.10/site-packages (from camel-ai[all]==0.2.36) (1.4.0)\n",
            "Requirement already satisfied: wolframalpha<6,>=5.0.0 in /home/mi/miniforge3/envs/camel/lib/python3.10/site-packages (from camel-ai[all]==0.2.36) (5.1.3)\n",
            "Requirement already satisfied: xls2xlsx>=0.2.0 in /home/mi/miniforge3/envs/camel/lib/python3.10/site-packages (from camel-ai[all]==0.2.36) (0.2.0)\n",
            "Requirement already satisfied: yt-dlp<2025,>=2024.11.4 in /home/mi/miniforge3/envs/camel/lib/python3.10/site-packages (from camel-ai[all]==0.2.36) (2024.12.23)\n",
            "Requirement already satisfied: future>=0.18.0 in /home/mi/miniforge3/envs/camel/lib/python3.10/site-packages (from nebula3-python==3.8.2->camel-ai[all]==0.2.36) (1.0.0)\n",
            "Requirement already satisfied: httplib2>=0.20.0 in /home/mi/miniforge3/envs/camel/lib/python3.10/site-packages (from nebula3-python==3.8.2->camel-ai[all]==0.2.36) (0.22.0)\n",
            "Requirement already satisfied: pytz>=2021.1 in /home/mi/miniforge3/envs/camel/lib/python3.10/site-packages (from nebula3-python==3.8.2->camel-ai[all]==0.2.36) (2024.2)\n",
            "Requirement already satisfied: six>=1.16.0 in /home/mi/miniforge3/envs/camel/lib/python3.10/site-packages (from nebula3-python==3.8.2->camel-ai[all]==0.2.36) (1.17.0)\n",
            "Requirement already satisfied: arrow in /home/mi/miniforge3/envs/camel/lib/python3.10/site-packages (from scholarly==1.7.11->scholarly[tor]==1.7.11; extra == \"all\"->camel-ai[all]==0.2.36) (1.3.0)\n",
            "Requirement already satisfied: bibtexparser in /home/mi/miniforge3/envs/camel/lib/python3.10/site-packages (from scholarly==1.7.11->scholarly[tor]==1.7.11; extra == \"all\"->camel-ai[all]==0.2.36) (1.4.3)\n",
            "Requirement already satisfied: deprecated in /home/mi/miniforge3/envs/camel/lib/python3.10/site-packages (from scholarly==1.7.11->scholarly[tor]==1.7.11; extra == \"all\"->camel-ai[all]==0.2.36) (1.2.18)\n",
            "Requirement already satisfied: fake-useragent in /home/mi/miniforge3/envs/camel/lib/python3.10/site-packages (from scholarly==1.7.11->scholarly[tor]==1.7.11; extra == \"all\"->camel-ai[all]==0.2.36) (2.1.0)\n",
            "Requirement already satisfied: free-proxy in /home/mi/miniforge3/envs/camel/lib/python3.10/site-packages (from scholarly==1.7.11->scholarly[tor]==1.7.11; extra == \"all\"->camel-ai[all]==0.2.36) (1.1.3)\n",
            "Requirement already satisfied: python-dotenv in /home/mi/miniforge3/envs/camel/lib/python3.10/site-packages (from scholarly==1.7.11->scholarly[tor]==1.7.11; extra == \"all\"->camel-ai[all]==0.2.36) (1.1.0)\n",
            "Requirement already satisfied: requests[socks] in /home/mi/miniforge3/envs/camel/lib/python3.10/site-packages (from scholarly==1.7.11->scholarly[tor]==1.7.11; extra == \"all\"->camel-ai[all]==0.2.36) (2.32.3)\n",
            "Requirement already satisfied: selenium in /home/mi/miniforge3/envs/camel/lib/python3.10/site-packages (from scholarly==1.7.11->scholarly[tor]==1.7.11; extra == \"all\"->camel-ai[all]==0.2.36) (4.30.0)\n",
            "Requirement already satisfied: sphinx-rtd-theme in /home/mi/miniforge3/envs/camel/lib/python3.10/site-packages (from scholarly==1.7.11->scholarly[tor]==1.7.11; extra == \"all\"->camel-ai[all]==0.2.36) (3.0.2)\n",
            "Requirement already satisfied: typing-extensions in /home/mi/miniforge3/envs/camel/lib/python3.10/site-packages (from scholarly==1.7.11->scholarly[tor]==1.7.11; extra == \"all\"->camel-ai[all]==0.2.36) (4.12.2)\n",
            "Requirement already satisfied: stem in /home/mi/miniforge3/envs/camel/lib/python3.10/site-packages (from scholarly[tor]==1.7.11; extra == \"all\"->camel-ai[all]==0.2.36) (1.8.2)\n",
            "Requirement already satisfied: chardet in /home/mi/miniforge3/envs/camel/lib/python3.10/site-packages (from unstructured==0.16.20->camel-ai[all]==0.2.36) (5.2.0)\n",
            "Requirement already satisfied: filetype in /home/mi/miniforge3/envs/camel/lib/python3.10/site-packages (from unstructured==0.16.20->camel-ai[all]==0.2.36) (1.2.0)\n",
            "Requirement already satisfied: python-magic in /home/mi/miniforge3/envs/camel/lib/python3.10/site-packages (from unstructured==0.16.20->camel-ai[all]==0.2.36) (0.4.27)\n",
            "Requirement already satisfied: lxml in /home/mi/miniforge3/envs/camel/lib/python3.10/site-packages (from unstructured==0.16.20->camel-ai[all]==0.2.36) (5.3.1)\n",
            "Requirement already satisfied: nltk in /home/mi/miniforge3/envs/camel/lib/python3.10/site-packages (from unstructured==0.16.20->camel-ai[all]==0.2.36) (3.9.1)\n",
            "Requirement already satisfied: emoji in /home/mi/miniforge3/envs/camel/lib/python3.10/site-packages (from unstructured==0.16.20->camel-ai[all]==0.2.36) (2.14.1)\n",
            "Requirement already satisfied: dataclasses-json in /home/mi/miniforge3/envs/camel/lib/python3.10/site-packages (from unstructured==0.16.20->camel-ai[all]==0.2.36) (0.6.7)\n",
            "Requirement already satisfied: python-iso639 in /home/mi/miniforge3/envs/camel/lib/python3.10/site-packages (from unstructured==0.16.20->camel-ai[all]==0.2.36) (2025.2.18)\n",
            "Requirement already satisfied: langdetect in /home/mi/miniforge3/envs/camel/lib/python3.10/site-packages (from unstructured==0.16.20->camel-ai[all]==0.2.36) (1.0.9)\n",
            "Requirement already satisfied: rapidfuzz in /home/mi/miniforge3/envs/camel/lib/python3.10/site-packages (from unstructured==0.16.20->camel-ai[all]==0.2.36) (3.12.2)\n",
            "Requirement already satisfied: backoff in /home/mi/miniforge3/envs/camel/lib/python3.10/site-packages (from unstructured==0.16.20->camel-ai[all]==0.2.36) (2.2.1)\n",
            "Requirement already satisfied: unstructured-client in /home/mi/miniforge3/envs/camel/lib/python3.10/site-packages (from unstructured==0.16.20->camel-ai[all]==0.2.36) (0.28.1)\n",
            "Requirement already satisfied: wrapt in /home/mi/miniforge3/envs/camel/lib/python3.10/site-packages (from unstructured==0.16.20->camel-ai[all]==0.2.36) (1.17.2)\n",
            "Requirement already satisfied: tqdm in /home/mi/miniforge3/envs/camel/lib/python3.10/site-packages (from unstructured==0.16.20->camel-ai[all]==0.2.36) (4.67.1)\n",
            "Requirement already satisfied: python-oxmsg in /home/mi/miniforge3/envs/camel/lib/python3.10/site-packages (from unstructured==0.16.20->camel-ai[all]==0.2.36) (0.0.2)\n",
            "Requirement already satisfied: html5lib in /home/mi/miniforge3/envs/camel/lib/python3.10/site-packages (from unstructured==0.16.20->camel-ai[all]==0.2.36) (1.1)\n",
            "Requirement already satisfied: packaging>=20.0 in /home/mi/miniforge3/envs/camel/lib/python3.10/site-packages (from accelerate<0.27,>=0.26.0->camel-ai[all]==0.2.36) (24.2)\n",
            "Requirement already satisfied: huggingface-hub in /home/mi/miniforge3/envs/camel/lib/python3.10/site-packages (from accelerate<0.27,>=0.26.0->camel-ai[all]==0.2.36) (0.29.3)\n",
            "Requirement already satisfied: safetensors>=0.3.1 in /home/mi/miniforge3/envs/camel/lib/python3.10/site-packages (from accelerate<0.27,>=0.26.0->camel-ai[all]==0.2.36) (0.5.3)\n",
            "Requirement already satisfied: opentelemetry-api>=1.27.0 in /home/mi/miniforge3/envs/camel/lib/python3.10/site-packages (from agentops<0.4,>=0.3.21->camel-ai[all]==0.2.36) (1.31.1)\n",
            "Requirement already satisfied: opentelemetry-exporter-otlp-proto-http>=1.27.0 in /home/mi/miniforge3/envs/camel/lib/python3.10/site-packages (from agentops<0.4,>=0.3.21->camel-ai[all]==0.2.36) (1.31.1)\n",
            "Requirement already satisfied: opentelemetry-sdk>=1.27.0 in /home/mi/miniforge3/envs/camel/lib/python3.10/site-packages (from agentops<0.4,>=0.3.21->camel-ai[all]==0.2.36) (1.31.1)\n",
            "Requirement already satisfied: termcolor<2.5.0,>=2.3.0 in /home/mi/miniforge3/envs/camel/lib/python3.10/site-packages (from agentops<0.4,>=0.3.21->camel-ai[all]==0.2.36) (2.4.0)\n",
            "Requirement already satisfied: anyio<5,>=3.5.0 in /home/mi/miniforge3/envs/camel/lib/python3.10/site-packages (from anthropic<0.50.0,>=0.47.0->camel-ai[all]==0.2.36) (4.9.0)\n",
            "Requirement already satisfied: distro<2,>=1.7.0 in /home/mi/miniforge3/envs/camel/lib/python3.10/site-packages (from anthropic<0.50.0,>=0.47.0->camel-ai[all]==0.2.36) (1.9.0)\n",
            "Requirement already satisfied: jiter<1,>=0.4.0 in /home/mi/miniforge3/envs/camel/lib/python3.10/site-packages (from anthropic<0.50.0,>=0.47.0->camel-ai[all]==0.2.36) (0.9.0)\n",
            "Requirement already satisfied: sniffio in /home/mi/miniforge3/envs/camel/lib/python3.10/site-packages (from anthropic<0.50.0,>=0.47.0->camel-ai[all]==0.2.36) (1.3.1)\n",
            "Requirement already satisfied: apify-shared>=1.1.2 in /home/mi/miniforge3/envs/camel/lib/python3.10/site-packages (from apify-client<2,>=1.8.1->camel-ai[all]==0.2.36) (1.3.2)\n",
            "Requirement already satisfied: more_itertools>=10.0.0 in /home/mi/miniforge3/envs/camel/lib/python3.10/site-packages (from apify-client<2,>=1.8.1->camel-ai[all]==0.2.36) (10.6.0)\n",
            "Requirement already satisfied: feedparser~=6.0.10 in /home/mi/miniforge3/envs/camel/lib/python3.10/site-packages (from arxiv<3,>=2.1.3->camel-ai[all]==0.2.36) (6.0.11)\n",
            "Requirement already satisfied: pdfminer-six in /home/mi/miniforge3/envs/camel/lib/python3.10/site-packages (from arxiv2text<0.2,>=0.1.14->camel-ai[all]==0.2.36) (20250327)\n",
            "Requirement already satisfied: scikit-learn in /home/mi/miniforge3/envs/camel/lib/python3.10/site-packages (from arxiv2text<0.2,>=0.1.14->camel-ai[all]==0.2.36) (1.6.1)\n",
            "Requirement already satisfied: PyPDF2 in /home/mi/miniforge3/envs/camel/lib/python3.10/site-packages (from arxiv2text<0.2,>=0.1.14->camel-ai[all]==0.2.36) (3.0.1)\n",
            "Requirement already satisfied: azure-core>=1.30.0 in /home/mi/miniforge3/envs/camel/lib/python3.10/site-packages (from azure-storage-blob<13,>=12.21.0->camel-ai[all]==0.2.36) (1.32.0)\n",
            "Requirement already satisfied: cryptography>=2.1.4 in /home/mi/miniforge3/envs/camel/lib/python3.10/site-packages (from azure-storage-blob<13,>=12.21.0->camel-ai[all]==0.2.36) (44.0.2)\n",
            "Requirement already satisfied: isodate>=0.6.1 in /home/mi/miniforge3/envs/camel/lib/python3.10/site-packages (from azure-storage-blob<13,>=12.21.0->camel-ai[all]==0.2.36) (0.7.2)\n",
            "Requirement already satisfied: soupsieve>1.2 in /home/mi/miniforge3/envs/camel/lib/python3.10/site-packages (from beautifulsoup4<5,>=4->camel-ai[all]==0.2.36) (2.6)\n",
            "Requirement already satisfied: jmespath<2.0.0,>=0.7.1 in /home/mi/miniforge3/envs/camel/lib/python3.10/site-packages (from botocore<2,>=1.35.3->camel-ai[all]==0.2.36) (1.0.1)\n",
            "Requirement already satisfied: python-dateutil<3.0.0,>=2.1 in /home/mi/miniforge3/envs/camel/lib/python3.10/site-packages (from botocore<2,>=1.35.3->camel-ai[all]==0.2.36) (2.8.2)\n",
            "Requirement already satisfied: urllib3!=2.2.0,<3,>=1.25.4 in /home/mi/miniforge3/envs/camel/lib/python3.10/site-packages (from botocore<2,>=1.35.3->camel-ai[all]==0.2.36) (2.3.0)\n",
            "Requirement already satisfied: fastavro<2.0.0,>=1.9.4 in /home/mi/miniforge3/envs/camel/lib/python3.10/site-packages (from cohere<6,>=5.11.0->camel-ai[all]==0.2.36) (1.10.0)\n",
            "Requirement already satisfied: httpx-sse==0.4.0 in /home/mi/miniforge3/envs/camel/lib/python3.10/site-packages (from cohere<6,>=5.11.0->camel-ai[all]==0.2.36) (0.4.0)\n",
            "Requirement already satisfied: pydantic-core<3.0.0,>=2.18.2 in /home/mi/miniforge3/envs/camel/lib/python3.10/site-packages (from cohere<6,>=5.11.0->camel-ai[all]==0.2.36) (2.23.4)\n",
            "Requirement already satisfied: tokenizers<1,>=0.15 in /home/mi/miniforge3/envs/camel/lib/python3.10/site-packages (from cohere<6,>=5.11.0->camel-ai[all]==0.2.36) (0.21.1)\n",
            "Requirement already satisfied: asyncio<4.0.0,>=3.4.3 in /home/mi/miniforge3/envs/camel/lib/python3.10/site-packages (from dappier<0.4,>=0.3.3->camel-ai[all]==0.2.36) (3.4.3)\n",
            "Requirement already satisfied: filelock in /home/mi/miniforge3/envs/camel/lib/python3.10/site-packages (from datasets<4,>=3->camel-ai[all]==0.2.36) (3.18.0)\n",
            "Requirement already satisfied: pyarrow>=15.0.0 in /home/mi/miniforge3/envs/camel/lib/python3.10/site-packages (from datasets<4,>=3->camel-ai[all]==0.2.36) (19.0.1)\n",
            "Requirement already satisfied: dill<0.3.9,>=0.3.0 in /home/mi/miniforge3/envs/camel/lib/python3.10/site-packages (from datasets<4,>=3->camel-ai[all]==0.2.36) (0.3.8)\n",
            "Requirement already satisfied: xxhash in /home/mi/miniforge3/envs/camel/lib/python3.10/site-packages (from datasets<4,>=3->camel-ai[all]==0.2.36) (3.5.0)\n",
            "Requirement already satisfied: multiprocess<0.70.17 in /home/mi/miniforge3/envs/camel/lib/python3.10/site-packages (from datasets<4,>=3->camel-ai[all]==0.2.36) (0.70.16)\n",
            "Requirement already satisfied: fsspec<=2024.12.0,>=2023.1.0 in /home/mi/miniforge3/envs/camel/lib/python3.10/site-packages (from fsspec[http]<=2024.12.0,>=2023.1.0->datasets<4,>=3->camel-ai[all]==0.2.36) (2024.12.0)\n",
            "Requirement already satisfied: aiohttp in /home/mi/miniforge3/envs/camel/lib/python3.10/site-packages (from datasets<4,>=3->camel-ai[all]==0.2.36) (3.11.14)\n",
            "Requirement already satisfied: importlib-metadata in /home/mi/miniforge3/envs/camel/lib/python3.10/site-packages (from diffusers<0.26,>=0.25.0->camel-ai[all]==0.2.36) (8.6.1)\n",
            "Requirement already satisfied: regex!=2019.12.17 in /home/mi/miniforge3/envs/camel/lib/python3.10/site-packages (from diffusers<0.26,>=0.25.0->camel-ai[all]==0.2.36) (2024.11.6)\n",
            "Requirement already satisfied: click>=8.1.7 in /home/mi/miniforge3/envs/camel/lib/python3.10/site-packages (from duckduckgo-search<7,>=6.3.5->camel-ai[all]==0.2.36) (8.1.8)\n",
            "Requirement already satisfied: primp>=0.9.1 in /home/mi/miniforge3/envs/camel/lib/python3.10/site-packages (from duckduckgo-search<7,>=6.3.5->camel-ai[all]==0.2.36) (0.14.0)\n",
            "Requirement already satisfied: attrs>=21.3.0 in /home/mi/miniforge3/envs/camel/lib/python3.10/site-packages (from e2b-code-interpreter<2,>=1.0.3->camel-ai[all]==0.2.36) (25.3.0)\n",
            "Requirement already satisfied: e2b<2.0.0,>=1.3.1 in /home/mi/miniforge3/envs/camel/lib/python3.10/site-packages (from e2b-code-interpreter<2,>=1.0.3->camel-ai[all]==0.2.36) (1.3.2)\n",
            "Requirement already satisfied: starlette<0.47.0,>=0.40.0 in /home/mi/miniforge3/envs/camel/lib/python3.10/site-packages (from fastapi>=0.115.11->camel-ai[all]==0.2.36) (0.46.1)\n",
            "Requirement already satisfied: websockets in /home/mi/miniforge3/envs/camel/lib/python3.10/site-packages (from firecrawl-py<2,>=1.0.0->camel-ai[all]==0.2.36) (11.0.3)\n",
            "Requirement already satisfied: nest-asyncio in /home/mi/miniforge3/envs/camel/lib/python3.10/site-packages (from firecrawl-py<2,>=1.0.0->camel-ai[all]==0.2.36) (1.6.0)\n",
            "Requirement already satisfied: ormsgpack>=1.5.0 in /home/mi/miniforge3/envs/camel/lib/python3.10/site-packages (from fish-audio-sdk<2025,>=2024.12.5->camel-ai[all]==0.2.36) (1.9.0)\n",
            "Requirement already satisfied: httpx-ws>=0.6.2 in /home/mi/miniforge3/envs/camel/lib/python3.10/site-packages (from fish-audio-sdk<2025,>=2024.12.5->camel-ai[all]==0.2.36) (0.7.1)\n",
            "Requirement already satisfied: google-auth<3.0dev,>=2.26.1 in /home/mi/miniforge3/envs/camel/lib/python3.10/site-packages (from google-cloud-storage<3,>=2.18.0->camel-ai[all]==0.2.36) (2.38.0)\n",
            "Requirement already satisfied: google-api-core<3.0.0dev,>=2.15.0 in /home/mi/miniforge3/envs/camel/lib/python3.10/site-packages (from google-cloud-storage<3,>=2.18.0->camel-ai[all]==0.2.36) (2.24.2)\n",
            "Requirement already satisfied: google-cloud-core<3.0dev,>=2.3.0 in /home/mi/miniforge3/envs/camel/lib/python3.10/site-packages (from google-cloud-storage<3,>=2.18.0->camel-ai[all]==0.2.36) (2.4.3)\n",
            "Requirement already satisfied: google-resumable-media>=2.7.2 in /home/mi/miniforge3/envs/camel/lib/python3.10/site-packages (from google-cloud-storage<3,>=2.18.0->camel-ai[all]==0.2.36) (2.7.2)\n",
            "Requirement already satisfied: google-crc32c<2.0dev,>=1.0 in /home/mi/miniforge3/envs/camel/lib/python3.10/site-packages (from google-cloud-storage<3,>=2.18.0->camel-ai[all]==0.2.36) (1.7.1)\n",
            "Requirement already satisfied: aiofiles in /home/mi/miniforge3/envs/camel/lib/python3.10/site-packages (from gradio<4,>=3->camel-ai[all]==0.2.36) (24.1.0)\n",
            "Requirement already satisfied: altair>=4.2.0 in /home/mi/miniforge3/envs/camel/lib/python3.10/site-packages (from gradio<4,>=3->camel-ai[all]==0.2.36) (5.5.0)\n",
            "Requirement already satisfied: ffmpy in /home/mi/miniforge3/envs/camel/lib/python3.10/site-packages (from gradio<4,>=3->camel-ai[all]==0.2.36) (0.5.0)\n",
            "Requirement already satisfied: gradio-client>=0.2.7 in /home/mi/miniforge3/envs/camel/lib/python3.10/site-packages (from gradio<4,>=3->camel-ai[all]==0.2.36) (0.6.1)\n",
            "Requirement already satisfied: jinja2 in /home/mi/miniforge3/envs/camel/lib/python3.10/site-packages (from gradio<4,>=3->camel-ai[all]==0.2.36) (3.1.6)\n",
            "Requirement already satisfied: markdown-it-py>=2.0.0 in /home/mi/miniforge3/envs/camel/lib/python3.10/site-packages (from markdown-it-py[linkify]>=2.0.0->gradio<4,>=3->camel-ai[all]==0.2.36) (2.2.0)\n",
            "Requirement already satisfied: markupsafe in /home/mi/miniforge3/envs/camel/lib/python3.10/site-packages (from gradio<4,>=3->camel-ai[all]==0.2.36) (2.1.5)\n",
            "Requirement already satisfied: matplotlib in /home/mi/miniforge3/envs/camel/lib/python3.10/site-packages (from gradio<4,>=3->camel-ai[all]==0.2.36) (3.10.1)\n",
            "Requirement already satisfied: mdit-py-plugins<=0.3.3 in /home/mi/miniforge3/envs/camel/lib/python3.10/site-packages (from gradio<4,>=3->camel-ai[all]==0.2.36) (0.3.3)\n",
            "Requirement already satisfied: orjson in /home/mi/miniforge3/envs/camel/lib/python3.10/site-packages (from gradio<4,>=3->camel-ai[all]==0.2.36) (3.10.16)\n",
            "Requirement already satisfied: pygments>=2.12.0 in /home/mi/miniforge3/envs/camel/lib/python3.10/site-packages (from gradio<4,>=3->camel-ai[all]==0.2.36) (2.19.1)\n",
            "Requirement already satisfied: python-multipart in /home/mi/miniforge3/envs/camel/lib/python3.10/site-packages (from gradio<4,>=3->camel-ai[all]==0.2.36) (0.0.20)\n",
            "Requirement already satisfied: semantic-version in /home/mi/miniforge3/envs/camel/lib/python3.10/site-packages (from gradio<4,>=3->camel-ai[all]==0.2.36) (2.10.0)\n",
            "Requirement already satisfied: uvicorn>=0.14.0 in /home/mi/miniforge3/envs/camel/lib/python3.10/site-packages (from gradio<4,>=3->camel-ai[all]==0.2.36) (0.34.0)\n",
            "Requirement already satisfied: certifi in /home/mi/miniforge3/envs/camel/lib/python3.10/site-packages (from httpx<1.0.0dev,>=0.28.0->camel-ai==0.2.36->camel-ai[all]==0.2.36) (2025.1.31)\n",
            "Requirement already satisfied: httpcore==1.* in /home/mi/miniforge3/envs/camel/lib/python3.10/site-packages (from httpx<1.0.0dev,>=0.28.0->camel-ai==0.2.36->camel-ai[all]==0.2.36) (1.0.7)\n",
            "Requirement already satisfied: idna in /home/mi/miniforge3/envs/camel/lib/python3.10/site-packages (from httpx<1.0.0dev,>=0.28.0->camel-ai==0.2.36->camel-ai[all]==0.2.36) (3.10)\n",
            "Requirement already satisfied: h11<0.15,>=0.13 in /home/mi/miniforge3/envs/camel/lib/python3.10/site-packages (from httpcore==1.*->httpx<1.0.0dev,>=0.28.0->camel-ai==0.2.36->camel-ai[all]==0.2.36) (0.14.0)\n",
            "Requirement already satisfied: av in /home/mi/miniforge3/envs/camel/lib/python3.10/site-packages (from imageio[pyav]<3,>=2.34.2; extra == \"all\"->camel-ai[all]==0.2.36) (14.2.0)\n",
            "Requirement already satisfied: comm>=0.1.1 in /home/mi/miniforge3/envs/camel/lib/python3.10/site-packages (from ipykernel<7,>=6.0.0->camel-ai[all]==0.2.36) (0.2.2)\n",
            "Requirement already satisfied: debugpy>=1.6.5 in /home/mi/miniforge3/envs/camel/lib/python3.10/site-packages (from ipykernel<7,>=6.0.0->camel-ai[all]==0.2.36) (1.8.13)\n",
            "Requirement already satisfied: ipython>=7.23.1 in /home/mi/miniforge3/envs/camel/lib/python3.10/site-packages (from ipykernel<7,>=6.0.0->camel-ai[all]==0.2.36) (8.34.0)\n",
            "Requirement already satisfied: jupyter-core!=5.0.*,>=4.12 in /home/mi/miniforge3/envs/camel/lib/python3.10/site-packages (from ipykernel<7,>=6.0.0->camel-ai[all]==0.2.36) (5.7.2)\n",
            "Requirement already satisfied: matplotlib-inline>=0.1 in /home/mi/miniforge3/envs/camel/lib/python3.10/site-packages (from ipykernel<7,>=6.0.0->camel-ai[all]==0.2.36) (0.1.7)\n",
            "Requirement already satisfied: pyzmq>=24 in /home/mi/miniforge3/envs/camel/lib/python3.10/site-packages (from ipykernel<7,>=6.0.0->camel-ai[all]==0.2.36) (26.3.0)\n",
            "Requirement already satisfied: tornado>=6.1 in /home/mi/miniforge3/envs/camel/lib/python3.10/site-packages (from ipykernel<7,>=6.0.0->camel-ai[all]==0.2.36) (6.4.2)\n",
            "Requirement already satisfied: traitlets>=5.4.0 in /home/mi/miniforge3/envs/camel/lib/python3.10/site-packages (from ipykernel<7,>=6.0.0->camel-ai[all]==0.2.36) (5.14.3)\n",
            "Requirement already satisfied: jsonschema-specifications>=2023.03.6 in /home/mi/miniforge3/envs/camel/lib/python3.10/site-packages (from jsonschema<5,>=4->camel-ai==0.2.36->camel-ai[all]==0.2.36) (2024.10.1)\n",
            "Requirement already satisfied: referencing>=0.28.4 in /home/mi/miniforge3/envs/camel/lib/python3.10/site-packages (from jsonschema<5,>=4->camel-ai==0.2.36->camel-ai[all]==0.2.36) (0.36.2)\n",
            "Requirement already satisfied: rpds-py>=0.7.1 in /home/mi/miniforge3/envs/camel/lib/python3.10/site-packages (from jsonschema<5,>=4->camel-ai==0.2.36->camel-ai[all]==0.2.36) (0.24.0)\n",
            "Requirement already satisfied: pydantic-settings>=2.5.2 in /home/mi/miniforge3/envs/camel/lib/python3.10/site-packages (from mcp>=1.3.0->camel-ai[all]==0.2.36) (2.8.1)\n",
            "Requirement already satisfied: sse-starlette>=1.6.1 in /home/mi/miniforge3/envs/camel/lib/python3.10/site-packages (from mcp>=1.3.0->camel-ai[all]==0.2.36) (2.2.1)\n",
            "Requirement already satisfied: azure-search-documents<12.0.0,>=11.5.0 in /home/mi/miniforge3/envs/camel/lib/python3.10/site-packages (from mem0ai>=0.1.67->camel-ai[all]==0.2.36) (11.5.2)\n",
            "Requirement already satisfied: posthog<4.0.0,>=3.5.0 in /home/mi/miniforge3/envs/camel/lib/python3.10/site-packages (from mem0ai>=0.1.67->camel-ai[all]==0.2.36) (3.23.0)\n",
            "Requirement already satisfied: psycopg2-binary<3.0.0,>=2.9.10 in /home/mi/miniforge3/envs/camel/lib/python3.10/site-packages (from mem0ai>=0.1.67->camel-ai[all]==0.2.36) (2.9.10)\n",
            "Requirement already satisfied: sqlalchemy<3.0.0,>=2.0.31 in /home/mi/miniforge3/envs/camel/lib/python3.10/site-packages (from mem0ai>=0.1.67->camel-ai[all]==0.2.36) (2.0.40)\n",
            "Requirement already satisfied: eval-type-backport>=0.2.0 in /home/mi/miniforge3/envs/camel/lib/python3.10/site-packages (from mistralai<2,>=1.1.0->camel-ai[all]==0.2.36) (0.2.2)\n",
            "Requirement already satisfied: jsonpath-python>=1.0.6 in /home/mi/miniforge3/envs/camel/lib/python3.10/site-packages (from mistralai<2,>=1.1.0->camel-ai[all]==0.2.36) (1.0.6)\n",
            "Requirement already satisfied: typing-inspect>=0.9.0 in /home/mi/miniforge3/envs/camel/lib/python3.10/site-packages (from mistralai<2,>=1.1.0->camel-ai[all]==0.2.36) (0.9.0)\n",
            "Requirement already satisfied: mypy_extensions>=1.0.0 in /home/mi/miniforge3/envs/camel/lib/python3.10/site-packages (from mypy<2,>=1.5.1->camel-ai[all]==0.2.36) (1.0.0)\n",
            "Requirement already satisfied: tomli>=1.1.0 in /home/mi/miniforge3/envs/camel/lib/python3.10/site-packages (from mypy<2,>=1.5.1->camel-ai[all]==0.2.36) (2.2.1)\n",
            "Requirement already satisfied: cssselect>=0.9.2 in /home/mi/miniforge3/envs/camel/lib/python3.10/site-packages (from newspaper3k<0.3,>=0.2.8->camel-ai[all]==0.2.36) (1.3.0)\n",
            "Requirement already satisfied: tldextract>=2.0.1 in /home/mi/miniforge3/envs/camel/lib/python3.10/site-packages (from newspaper3k<0.3,>=0.2.8->camel-ai[all]==0.2.36) (5.1.3)\n",
            "Requirement already satisfied: feedfinder2>=0.0.4 in /home/mi/miniforge3/envs/camel/lib/python3.10/site-packages (from newspaper3k<0.3,>=0.2.8->camel-ai[all]==0.2.36) (0.0.4)\n",
            "Requirement already satisfied: jieba3k>=0.35.1 in /home/mi/miniforge3/envs/camel/lib/python3.10/site-packages (from newspaper3k<0.3,>=0.2.8->camel-ai[all]==0.2.36) (0.35.1)\n",
            "Requirement already satisfied: tinysegmenter==0.3 in /home/mi/miniforge3/envs/camel/lib/python3.10/site-packages (from newspaper3k<0.3,>=0.2.8->camel-ai[all]==0.2.36) (0.3)\n",
            "Requirement already satisfied: jsonschema-path<0.4.0,>=0.3.1 in /home/mi/miniforge3/envs/camel/lib/python3.10/site-packages (from openapi-spec-validator<0.8,>=0.7.1->camel-ai[all]==0.2.36) (0.3.4)\n",
            "Requirement already satisfied: lazy-object-proxy<2.0.0,>=1.7.1 in /home/mi/miniforge3/envs/camel/lib/python3.10/site-packages (from openapi-spec-validator<0.8,>=0.7.1->camel-ai[all]==0.2.36) (1.10.0)\n",
            "Requirement already satisfied: openapi-schema-validator<0.7.0,>=0.6.0 in /home/mi/miniforge3/envs/camel/lib/python3.10/site-packages (from openapi-spec-validator<0.8,>=0.7.1->camel-ai[all]==0.2.36) (0.6.3)\n",
            "Requirement already satisfied: et-xmlfile in /home/mi/miniforge3/envs/camel/lib/python3.10/site-packages (from openpyxl>=3.1.5->camel-ai[all]==0.2.36) (2.0.0)\n",
            "Requirement already satisfied: interegular in /home/mi/miniforge3/envs/camel/lib/python3.10/site-packages (from outlines<0.2,>=0.1.7->camel-ai[all]==0.2.36) (0.3.3)\n",
            "Requirement already satisfied: lark in /home/mi/miniforge3/envs/camel/lib/python3.10/site-packages (from outlines<0.2,>=0.1.7->camel-ai[all]==0.2.36) (1.2.2)\n",
            "Requirement already satisfied: cloudpickle in /home/mi/miniforge3/envs/camel/lib/python3.10/site-packages (from outlines<0.2,>=0.1.7->camel-ai[all]==0.2.36) (3.1.1)\n",
            "Requirement already satisfied: diskcache in /home/mi/miniforge3/envs/camel/lib/python3.10/site-packages (from outlines<0.2,>=0.1.7->camel-ai[all]==0.2.36) (5.6.3)\n",
            "Requirement already satisfied: pycountry in /home/mi/miniforge3/envs/camel/lib/python3.10/site-packages (from outlines<0.2,>=0.1.7->camel-ai[all]==0.2.36) (24.6.1)\n",
            "Requirement already satisfied: airportsdata in /home/mi/miniforge3/envs/camel/lib/python3.10/site-packages (from outlines<0.2,>=0.1.7->camel-ai[all]==0.2.36) (20250224)\n",
            "Requirement already satisfied: outlines_core==0.1.26 in /home/mi/miniforge3/envs/camel/lib/python3.10/site-packages (from outlines<0.2,>=0.1.7->camel-ai[all]==0.2.36) (0.1.26)\n",
            "Requirement already satisfied: genson in /home/mi/miniforge3/envs/camel/lib/python3.10/site-packages (from outlines<0.2,>=0.1.7->camel-ai[all]==0.2.36) (1.3.0)\n",
            "Requirement already satisfied: astor<0.9.0,>=0.8.1 in /home/mi/miniforge3/envs/camel/lib/python3.10/site-packages (from pandasai<3,>=2.3.0->camel-ai[all]==0.2.36) (0.8.1)\n",
            "Requirement already satisfied: duckdb<2.0.0,>=1.0.0 in /home/mi/miniforge3/envs/camel/lib/python3.10/site-packages (from pandasai<3,>=2.3.0->camel-ai[all]==0.2.36) (1.2.1)\n",
            "Requirement already satisfied: faker<20.0.0,>=19.12.0 in /home/mi/miniforge3/envs/camel/lib/python3.10/site-packages (from pandasai<3,>=2.3.0->camel-ai[all]==0.2.36) (19.13.0)\n",
            "Requirement already satisfied: scipy<2.0.0,>=1.9.0 in /home/mi/miniforge3/envs/camel/lib/python3.10/site-packages (from pandasai<3,>=2.3.0->camel-ai[all]==0.2.36) (1.15.2)\n",
            "Requirement already satisfied: sqlglot<26.0.0,>=25.0.3 in /home/mi/miniforge3/envs/camel/lib/python3.10/site-packages (from sqlglot[rs]<26.0.0,>=25.0.3->pandasai<3,>=2.3.0->camel-ai[all]==0.2.36) (25.34.1)\n",
            "Requirement already satisfied: nvidia-cuda-nvrtc-cu12==12.1.105 in /home/mi/miniforge3/envs/camel/lib/python3.10/site-packages (from torch->camel-ai[all]==0.2.36) (12.1.105)\n",
            "Requirement already satisfied: nvidia-cuda-runtime-cu12==12.1.105 in /home/mi/miniforge3/envs/camel/lib/python3.10/site-packages (from torch->camel-ai[all]==0.2.36) (12.1.105)\n",
            "Requirement already satisfied: nvidia-cuda-cupti-cu12==12.1.105 in /home/mi/miniforge3/envs/camel/lib/python3.10/site-packages (from torch->camel-ai[all]==0.2.36) (12.1.105)\n",
            "Requirement already satisfied: nvidia-cudnn-cu12==9.1.0.70 in /home/mi/miniforge3/envs/camel/lib/python3.10/site-packages (from torch->camel-ai[all]==0.2.36) (9.1.0.70)\n",
            "Requirement already satisfied: nvidia-cublas-cu12==12.1.3.1 in /home/mi/miniforge3/envs/camel/lib/python3.10/site-packages (from torch->camel-ai[all]==0.2.36) (12.1.3.1)\n",
            "Requirement already satisfied: nvidia-cufft-cu12==11.0.2.54 in /home/mi/miniforge3/envs/camel/lib/python3.10/site-packages (from torch->camel-ai[all]==0.2.36) (11.0.2.54)\n",
            "Requirement already satisfied: nvidia-curand-cu12==10.3.2.106 in /home/mi/miniforge3/envs/camel/lib/python3.10/site-packages (from torch->camel-ai[all]==0.2.36) (10.3.2.106)\n",
            "Requirement already satisfied: nvidia-cusolver-cu12==11.4.5.107 in /home/mi/miniforge3/envs/camel/lib/python3.10/site-packages (from torch->camel-ai[all]==0.2.36) (11.4.5.107)\n",
            "Requirement already satisfied: nvidia-cusparse-cu12==12.1.0.106 in /home/mi/miniforge3/envs/camel/lib/python3.10/site-packages (from torch->camel-ai[all]==0.2.36) (12.1.0.106)\n",
            "Requirement already satisfied: nvidia-nccl-cu12==2.20.5 in /home/mi/miniforge3/envs/camel/lib/python3.10/site-packages (from torch->camel-ai[all]==0.2.36) (2.20.5)\n",
            "Requirement already satisfied: nvidia-nvtx-cu12==12.1.105 in /home/mi/miniforge3/envs/camel/lib/python3.10/site-packages (from torch->camel-ai[all]==0.2.36) (12.1.105)\n",
            "Requirement already satisfied: triton==3.0.0 in /home/mi/miniforge3/envs/camel/lib/python3.10/site-packages (from torch->camel-ai[all]==0.2.36) (3.0.0)\n",
            "Requirement already satisfied: nvidia-nvjitlink-cu12 in /home/mi/miniforge3/envs/camel/lib/python3.10/site-packages (from nvidia-cusolver-cu12==11.4.5.107->torch->camel-ai[all]==0.2.36) (12.4.127)\n",
            "Requirement already satisfied: pyee<13,>=12 in /home/mi/miniforge3/envs/camel/lib/python3.10/site-packages (from playwright>=1.50.0->camel-ai[all]==0.2.36) (12.1.1)\n",
            "Requirement already satisfied: greenlet<4.0.0,>=3.1.1 in /home/mi/miniforge3/envs/camel/lib/python3.10/site-packages (from playwright>=1.50.0->camel-ai[all]==0.2.36) (3.1.1)\n",
            "Requirement already satisfied: ruamel.yaml>=0.17.10 in /home/mi/miniforge3/envs/camel/lib/python3.10/site-packages (from prance<24,>=23.6.21.0->camel-ai[all]==0.2.36) (0.18.10)\n",
            "Requirement already satisfied: prawcore<3,>=2.4 in /home/mi/miniforge3/envs/camel/lib/python3.10/site-packages (from praw<8,>=7.7.1->camel-ai[all]==0.2.36) (2.4.0)\n",
            "Requirement already satisfied: update_checker>=0.18 in /home/mi/miniforge3/envs/camel/lib/python3.10/site-packages (from praw<8,>=7.7.1->camel-ai[all]==0.2.36) (0.18.0)\n",
            "Requirement already satisfied: websocket-client>=0.54.0 in /home/mi/miniforge3/envs/camel/lib/python3.10/site-packages (from praw<8,>=7.7.1->camel-ai[all]==0.2.36) (1.8.0)\n",
            "Requirement already satisfied: cfgv>=2.0.0 in /home/mi/miniforge3/envs/camel/lib/python3.10/site-packages (from pre-commit<4,>=3->camel-ai[all]==0.2.36) (3.4.0)\n",
            "Requirement already satisfied: identify>=1.0.0 in /home/mi/miniforge3/envs/camel/lib/python3.10/site-packages (from pre-commit<4,>=3->camel-ai[all]==0.2.36) (2.6.9)\n",
            "Requirement already satisfied: nodeenv>=0.11.1 in /home/mi/miniforge3/envs/camel/lib/python3.10/site-packages (from pre-commit<4,>=3->camel-ai[all]==0.2.36) (1.9.1)\n",
            "Requirement already satisfied: virtualenv>=20.10.0 in /home/mi/miniforge3/envs/camel/lib/python3.10/site-packages (from pre-commit<4,>=3->camel-ai[all]==0.2.36) (20.29.3)\n",
            "Requirement already satisfied: annotated-types>=0.6.0 in /home/mi/miniforge3/envs/camel/lib/python3.10/site-packages (from pydantic<2.10,>=1.9->camel-ai==0.2.36->camel-ai[all]==0.2.36) (0.7.0)\n",
            "Requirement already satisfied: pynacl>=1.4.0 in /home/mi/miniforge3/envs/camel/lib/python3.10/site-packages (from pygithub<3,>=2.3.0->camel-ai[all]==0.2.36) (1.5.0)\n",
            "Requirement already satisfied: pyjwt>=2.4.0 in /home/mi/miniforge3/envs/camel/lib/python3.10/site-packages (from pyjwt[crypto]>=2.4.0->pygithub<3,>=2.3.0->camel-ai[all]==0.2.36) (2.10.1)\n",
            "Requirement already satisfied: setuptools>69 in /home/mi/miniforge3/envs/camel/lib/python3.10/site-packages (from pymilvus<3,>=2.4.0->camel-ai[all]==0.2.36) (75.8.2)\n",
            "Requirement already satisfied: grpcio<=1.67.1,>=1.49.1 in /home/mi/miniforge3/envs/camel/lib/python3.10/site-packages (from pymilvus<3,>=2.4.0->camel-ai[all]==0.2.36) (1.67.1)\n",
            "Requirement already satisfied: protobuf>=3.20.0 in /home/mi/miniforge3/envs/camel/lib/python3.10/site-packages (from pymilvus<3,>=2.4.0->camel-ai[all]==0.2.36) (5.29.4)\n",
            "Requirement already satisfied: ujson>=2.0.0 in /home/mi/miniforge3/envs/camel/lib/python3.10/site-packages (from pymilvus<3,>=2.4.0->camel-ai[all]==0.2.36) (5.10.0)\n",
            "Requirement already satisfied: milvus-lite>=2.4.0 in /home/mi/miniforge3/envs/camel/lib/python3.10/site-packages (from pymilvus<3,>=2.4.0->camel-ai[all]==0.2.36) (2.4.12)\n",
            "Requirement already satisfied: geojson<3,>=2.3.0 in /home/mi/miniforge3/envs/camel/lib/python3.10/site-packages (from pyowm<4,>=3.3.0->camel-ai[all]==0.2.36) (2.5.0)\n",
            "Requirement already satisfied: PySocks<2,>=1.7.1 in /home/mi/miniforge3/envs/camel/lib/python3.10/site-packages (from pyowm<4,>=3.3.0->camel-ai[all]==0.2.36) (1.7.1)\n",
            "Requirement already satisfied: iniconfig in /home/mi/miniforge3/envs/camel/lib/python3.10/site-packages (from pytest<8,>=7->camel-ai[all]==0.2.36) (2.1.0)\n",
            "Requirement already satisfied: pluggy<2.0,>=0.12 in /home/mi/miniforge3/envs/camel/lib/python3.10/site-packages (from pytest<8,>=7->camel-ai[all]==0.2.36) (1.5.0)\n",
            "Requirement already satisfied: exceptiongroup>=1.0.0rc8 in /home/mi/miniforge3/envs/camel/lib/python3.10/site-packages (from pytest<8,>=7->camel-ai[all]==0.2.36) (1.2.2)\n",
            "Requirement already satisfied: coverage>=5.2.1 in /home/mi/miniforge3/envs/camel/lib/python3.10/site-packages (from coverage[toml]>=5.2.1->pytest-cov<5,>=4->camel-ai[all]==0.2.36) (7.7.1)\n",
            "Requirement already satisfied: grpcio-tools>=1.41.0 in /home/mi/miniforge3/envs/camel/lib/python3.10/site-packages (from qdrant-client<2,>=1.9.0->camel-ai[all]==0.2.36) (1.67.1)\n",
            "Requirement already satisfied: portalocker<3.0.0,>=2.7.0 in /home/mi/miniforge3/envs/camel/lib/python3.10/site-packages (from qdrant-client<2,>=1.9.0->camel-ai[all]==0.2.36) (2.10.1)\n",
            "Requirement already satisfied: async-timeout>=4.0.3 in /home/mi/miniforge3/envs/camel/lib/python3.10/site-packages (from redis<6,>=5.0.6->camel-ai[all]==0.2.36) (5.0.1)\n",
            "Requirement already satisfied: oauthlib>=3.0.0 in /home/mi/miniforge3/envs/camel/lib/python3.10/site-packages (from requests-oauthlib<2,>=1.3.1->camel-ai[all]==0.2.36) (3.2.2)\n",
            "Requirement already satisfied: platformdirs in /home/mi/miniforge3/envs/camel/lib/python3.10/site-packages (from scenedetect>=0.6.5.2->camel-ai[all]==0.2.36) (4.3.7)\n",
            "Requirement already satisfied: cffi>=1.0 in /home/mi/miniforge3/envs/camel/lib/python3.10/site-packages (from soundfile<0.14,>=0.13->camel-ai[all]==0.2.36) (1.17.1)\n",
            "Requirement already satisfied: mpmath<1.4,>=1.1.0 in /home/mi/miniforge3/envs/camel/lib/python3.10/site-packages (from sympy<2,>=1.13.3->camel-ai[all]==0.2.36) (1.3.0)\n",
            "Requirement already satisfied: shellingham>=1.3.0 in /home/mi/miniforge3/envs/camel/lib/python3.10/site-packages (from typer>=0.15.2->camel-ai[all]==0.2.36) (1.5.4)\n",
            "Requirement already satisfied: rich>=10.11.0 in /home/mi/miniforge3/envs/camel/lib/python3.10/site-packages (from typer>=0.15.2->camel-ai[all]==0.2.36) (13.9.4)\n",
            "Requirement already satisfied: xmltodict in /home/mi/miniforge3/envs/camel/lib/python3.10/site-packages (from wolframalpha<6,>=5.0.0->camel-ai[all]==0.2.36) (0.14.2)\n",
            "Requirement already satisfied: jaraco.context in /home/mi/miniforge3/envs/camel/lib/python3.10/site-packages (from wolframalpha<6,>=5.0.0->camel-ai[all]==0.2.36) (6.0.1)\n",
            "Requirement already satisfied: multidict in /home/mi/miniforge3/envs/camel/lib/python3.10/site-packages (from wolframalpha<6,>=5.0.0->camel-ai[all]==0.2.36) (6.2.0)\n",
            "Requirement already satisfied: xlrd in /home/mi/miniforge3/envs/camel/lib/python3.10/site-packages (from xls2xlsx>=0.2.0->camel-ai[all]==0.2.36) (2.0.1)\n",
            "Requirement already satisfied: cssutils in /home/mi/miniforge3/envs/camel/lib/python3.10/site-packages (from xls2xlsx>=0.2.0->camel-ai[all]==0.2.36) (2.11.1)\n",
            "Requirement already satisfied: webcolors in /home/mi/miniforge3/envs/camel/lib/python3.10/site-packages (from xls2xlsx>=0.2.0->camel-ai[all]==0.2.36) (24.11.1)\n",
            "Requirement already satisfied: currency-symbols in /home/mi/miniforge3/envs/camel/lib/python3.10/site-packages (from xls2xlsx>=0.2.0->camel-ai[all]==0.2.36) (2.0.3)\n",
            "Requirement already satisfied: fonttools in /home/mi/miniforge3/envs/camel/lib/python3.10/site-packages (from xls2xlsx>=0.2.0->camel-ai[all]==0.2.36) (4.56.0)\n",
            "Requirement already satisfied: aiohappyeyeballs>=2.3.0 in /home/mi/miniforge3/envs/camel/lib/python3.10/site-packages (from aiohttp->datasets<4,>=3->camel-ai[all]==0.2.36) (2.6.1)\n",
            "Requirement already satisfied: aiosignal>=1.1.2 in /home/mi/miniforge3/envs/camel/lib/python3.10/site-packages (from aiohttp->datasets<4,>=3->camel-ai[all]==0.2.36) (1.3.2)\n",
            "Requirement already satisfied: frozenlist>=1.1.1 in /home/mi/miniforge3/envs/camel/lib/python3.10/site-packages (from aiohttp->datasets<4,>=3->camel-ai[all]==0.2.36) (1.5.0)\n",
            "Requirement already satisfied: propcache>=0.2.0 in /home/mi/miniforge3/envs/camel/lib/python3.10/site-packages (from aiohttp->datasets<4,>=3->camel-ai[all]==0.2.36) (0.3.1)\n",
            "Requirement already satisfied: yarl<2.0,>=1.17.0 in /home/mi/miniforge3/envs/camel/lib/python3.10/site-packages (from aiohttp->datasets<4,>=3->camel-ai[all]==0.2.36) (1.18.3)\n",
            "Requirement already satisfied: narwhals>=1.14.2 in /home/mi/miniforge3/envs/camel/lib/python3.10/site-packages (from altair>=4.2.0->gradio<4,>=3->camel-ai[all]==0.2.36) (1.32.0)\n",
            "Requirement already satisfied: azure-common>=1.1 in /home/mi/miniforge3/envs/camel/lib/python3.10/site-packages (from azure-search-documents<12.0.0,>=11.5.0->mem0ai>=0.1.67->camel-ai[all]==0.2.36) (1.1.28)\n",
            "Requirement already satisfied: pycparser in /home/mi/miniforge3/envs/camel/lib/python3.10/site-packages (from cffi>=1.0->soundfile<0.14,>=0.13->camel-ai[all]==0.2.36) (2.22)\n",
            "Requirement already satisfied: sgmllib3k in /home/mi/miniforge3/envs/camel/lib/python3.10/site-packages (from feedparser~=6.0.10->arxiv<3,>=2.1.3->camel-ai[all]==0.2.36) (1.0.0)\n",
            "Requirement already satisfied: googleapis-common-protos<2.0.0,>=1.56.2 in /home/mi/miniforge3/envs/camel/lib/python3.10/site-packages (from google-api-core<3.0.0dev,>=2.15.0->google-cloud-storage<3,>=2.18.0->camel-ai[all]==0.2.36) (1.69.2)\n",
            "Requirement already satisfied: proto-plus<2.0.0,>=1.22.3 in /home/mi/miniforge3/envs/camel/lib/python3.10/site-packages (from google-api-core<3.0.0dev,>=2.15.0->google-cloud-storage<3,>=2.18.0->camel-ai[all]==0.2.36) (1.26.1)\n",
            "Requirement already satisfied: cachetools<6.0,>=2.0.0 in /home/mi/miniforge3/envs/camel/lib/python3.10/site-packages (from google-auth<3.0dev,>=2.26.1->google-cloud-storage<3,>=2.18.0->camel-ai[all]==0.2.36) (5.5.2)\n",
            "Requirement already satisfied: pyasn1-modules>=0.2.1 in /home/mi/miniforge3/envs/camel/lib/python3.10/site-packages (from google-auth<3.0dev,>=2.26.1->google-cloud-storage<3,>=2.18.0->camel-ai[all]==0.2.36) (0.4.2)\n",
            "Requirement already satisfied: rsa<5,>=3.1.4 in /home/mi/miniforge3/envs/camel/lib/python3.10/site-packages (from google-auth<3.0dev,>=2.26.1->google-cloud-storage<3,>=2.18.0->camel-ai[all]==0.2.36) (4.9)\n",
            "Requirement already satisfied: pyparsing!=3.0.0,!=3.0.1,!=3.0.2,!=3.0.3,<4,>=2.4.2 in /home/mi/miniforge3/envs/camel/lib/python3.10/site-packages (from httplib2>=0.20.0->nebula3-python==3.8.2->camel-ai[all]==0.2.36) (3.2.3)\n",
            "Requirement already satisfied: wsproto in /home/mi/miniforge3/envs/camel/lib/python3.10/site-packages (from httpx-ws>=0.6.2->fish-audio-sdk<2025,>=2024.12.5->camel-ai[all]==0.2.36) (1.2.0)\n",
            "Requirement already satisfied: h2<5,>=3 in /home/mi/miniforge3/envs/camel/lib/python3.10/site-packages (from httpx[http2]>=0.22.0->nebula3-python==3.8.2->camel-ai[all]==0.2.36) (4.2.0)\n",
            "Requirement already satisfied: zipp>=3.20 in /home/mi/miniforge3/envs/camel/lib/python3.10/site-packages (from importlib-metadata->diffusers<0.26,>=0.25.0->camel-ai[all]==0.2.36) (3.21.0)\n",
            "Requirement already satisfied: decorator in /home/mi/miniforge3/envs/camel/lib/python3.10/site-packages (from ipython>=7.23.1->ipykernel<7,>=6.0.0->camel-ai[all]==0.2.36) (5.2.1)\n",
            "Requirement already satisfied: jedi>=0.16 in /home/mi/miniforge3/envs/camel/lib/python3.10/site-packages (from ipython>=7.23.1->ipykernel<7,>=6.0.0->camel-ai[all]==0.2.36) (0.19.2)\n",
            "Requirement already satisfied: pexpect>4.3 in /home/mi/miniforge3/envs/camel/lib/python3.10/site-packages (from ipython>=7.23.1->ipykernel<7,>=6.0.0->camel-ai[all]==0.2.36) (4.9.0)\n",
            "Requirement already satisfied: prompt_toolkit<3.1.0,>=3.0.41 in /home/mi/miniforge3/envs/camel/lib/python3.10/site-packages (from ipython>=7.23.1->ipykernel<7,>=6.0.0->camel-ai[all]==0.2.36) (3.0.50)\n",
            "Requirement already satisfied: stack_data in /home/mi/miniforge3/envs/camel/lib/python3.10/site-packages (from ipython>=7.23.1->ipykernel<7,>=6.0.0->camel-ai[all]==0.2.36) (0.6.3)\n",
            "Requirement already satisfied: pathable<0.5.0,>=0.4.1 in /home/mi/miniforge3/envs/camel/lib/python3.10/site-packages (from jsonschema-path<0.4.0,>=0.3.1->openapi-spec-validator<0.8,>=0.7.1->camel-ai[all]==0.2.36) (0.4.4)\n",
            "Requirement already satisfied: mdurl~=0.1 in /home/mi/miniforge3/envs/camel/lib/python3.10/site-packages (from markdown-it-py>=2.0.0->markdown-it-py[linkify]>=2.0.0->gradio<4,>=3->camel-ai[all]==0.2.36) (0.1.2)\n",
            "Requirement already satisfied: linkify-it-py<3,>=1 in /home/mi/miniforge3/envs/camel/lib/python3.10/site-packages (from markdown-it-py[linkify]>=2.0.0->gradio<4,>=3->camel-ai[all]==0.2.36) (2.0.3)\n",
            "Requirement already satisfied: contourpy>=1.0.1 in /home/mi/miniforge3/envs/camel/lib/python3.10/site-packages (from matplotlib->gradio<4,>=3->camel-ai[all]==0.2.36) (1.3.1)\n",
            "Requirement already satisfied: cycler>=0.10 in /home/mi/miniforge3/envs/camel/lib/python3.10/site-packages (from matplotlib->gradio<4,>=3->camel-ai[all]==0.2.36) (0.12.1)\n",
            "Requirement already satisfied: kiwisolver>=1.3.1 in /home/mi/miniforge3/envs/camel/lib/python3.10/site-packages (from matplotlib->gradio<4,>=3->camel-ai[all]==0.2.36) (1.4.8)\n",
            "Requirement already satisfied: joblib in /home/mi/miniforge3/envs/camel/lib/python3.10/site-packages (from nltk->unstructured==0.16.20->camel-ai[all]==0.2.36) (1.4.2)\n",
            "Requirement already satisfied: rfc3339-validator in /home/mi/miniforge3/envs/camel/lib/python3.10/site-packages (from openapi-schema-validator<0.7.0,>=0.6.0->openapi-spec-validator<0.8,>=0.7.1->camel-ai[all]==0.2.36) (0.1.4)\n",
            "Requirement already satisfied: opentelemetry-exporter-otlp-proto-common==1.31.1 in /home/mi/miniforge3/envs/camel/lib/python3.10/site-packages (from opentelemetry-exporter-otlp-proto-http>=1.27.0->agentops<0.4,>=0.3.21->camel-ai[all]==0.2.36) (1.31.1)\n",
            "Requirement already satisfied: opentelemetry-proto==1.31.1 in /home/mi/miniforge3/envs/camel/lib/python3.10/site-packages (from opentelemetry-exporter-otlp-proto-http>=1.27.0->agentops<0.4,>=0.3.21->camel-ai[all]==0.2.36) (1.31.1)\n",
            "Requirement already satisfied: opentelemetry-semantic-conventions==0.52b1 in /home/mi/miniforge3/envs/camel/lib/python3.10/site-packages (from opentelemetry-sdk>=1.27.0->agentops<0.4,>=0.3.21->camel-ai[all]==0.2.36) (0.52b1)\n",
            "Requirement already satisfied: monotonic>=1.5 in /home/mi/miniforge3/envs/camel/lib/python3.10/site-packages (from posthog<4.0.0,>=3.5.0->mem0ai>=0.1.67->camel-ai[all]==0.2.36) (1.6)\n",
            "Requirement already satisfied: charset-normalizer<4,>=2 in /home/mi/miniforge3/envs/camel/lib/python3.10/site-packages (from requests[socks]->scholarly==1.7.11->scholarly[tor]==1.7.11; extra == \"all\"->camel-ai[all]==0.2.36) (3.4.1)\n",
            "Requirement already satisfied: ruamel.yaml.clib>=0.2.7 in /home/mi/miniforge3/envs/camel/lib/python3.10/site-packages (from ruamel.yaml>=0.17.10->prance<24,>=23.6.21.0->camel-ai[all]==0.2.36) (0.2.12)\n",
            "Requirement already satisfied: sqlglotrs==0.3.0 in /home/mi/miniforge3/envs/camel/lib/python3.10/site-packages (from sqlglot[rs]<26.0.0,>=25.0.3->pandasai<3,>=2.3.0->camel-ai[all]==0.2.36) (0.3.0)\n",
            "Requirement already satisfied: requests-file>=1.4 in /home/mi/miniforge3/envs/camel/lib/python3.10/site-packages (from tldextract>=2.0.1->newspaper3k<0.3,>=0.2.8->camel-ai[all]==0.2.36) (2.1.0)\n",
            "Requirement already satisfied: distlib<1,>=0.3.7 in /home/mi/miniforge3/envs/camel/lib/python3.10/site-packages (from virtualenv>=20.10.0->pre-commit<4,>=3->camel-ai[all]==0.2.36) (0.3.9)\n",
            "Requirement already satisfied: types-python-dateutil>=2.8.10 in /home/mi/miniforge3/envs/camel/lib/python3.10/site-packages (from arrow->scholarly==1.7.11->scholarly[tor]==1.7.11; extra == \"all\"->camel-ai[all]==0.2.36) (2.9.0.20241206)\n",
            "Requirement already satisfied: marshmallow<4.0.0,>=3.18.0 in /home/mi/miniforge3/envs/camel/lib/python3.10/site-packages (from dataclasses-json->unstructured==0.16.20->camel-ai[all]==0.2.36) (3.26.1)\n",
            "Requirement already satisfied: webencodings in /home/mi/miniforge3/envs/camel/lib/python3.10/site-packages (from html5lib->unstructured==0.16.20->camel-ai[all]==0.2.36) (0.5.1)\n",
            "Requirement already satisfied: backports.tarfile in /home/mi/miniforge3/envs/camel/lib/python3.10/site-packages (from jaraco.context->wolframalpha<6,>=5.0.0->camel-ai[all]==0.2.36) (1.2.0)\n",
            "Requirement already satisfied: olefile in /home/mi/miniforge3/envs/camel/lib/python3.10/site-packages (from python-oxmsg->unstructured==0.16.20->camel-ai[all]==0.2.36) (0.47)\n",
            "Requirement already satisfied: threadpoolctl>=3.1.0 in /home/mi/miniforge3/envs/camel/lib/python3.10/site-packages (from scikit-learn->arxiv2text<0.2,>=0.1.14->camel-ai[all]==0.2.36) (3.6.0)\n",
            "Requirement already satisfied: trio~=0.17 in /home/mi/miniforge3/envs/camel/lib/python3.10/site-packages (from selenium->scholarly==1.7.11->scholarly[tor]==1.7.11; extra == \"all\"->camel-ai[all]==0.2.36) (0.29.0)\n",
            "Requirement already satisfied: trio-websocket~=0.9 in /home/mi/miniforge3/envs/camel/lib/python3.10/site-packages (from selenium->scholarly==1.7.11->scholarly[tor]==1.7.11; extra == \"all\"->camel-ai[all]==0.2.36) (0.12.2)\n",
            "Requirement already satisfied: sphinx<9,>=6 in /home/mi/miniforge3/envs/camel/lib/python3.10/site-packages (from sphinx-rtd-theme->scholarly==1.7.11->scholarly[tor]==1.7.11; extra == \"all\"->camel-ai[all]==0.2.36) (8.1.3)\n",
            "Requirement already satisfied: docutils<0.22,>0.18 in /home/mi/miniforge3/envs/camel/lib/python3.10/site-packages (from sphinx-rtd-theme->scholarly==1.7.11->scholarly[tor]==1.7.11; extra == \"all\"->camel-ai[all]==0.2.36) (0.21.2)\n",
            "Requirement already satisfied: sphinxcontrib-jquery<5,>=4 in /home/mi/miniforge3/envs/camel/lib/python3.10/site-packages (from sphinx-rtd-theme->scholarly==1.7.11->scholarly[tor]==1.7.11; extra == \"all\"->camel-ai[all]==0.2.36) (4.1)\n",
            "Requirement already satisfied: pypdf>=4.0 in /home/mi/miniforge3/envs/camel/lib/python3.10/site-packages (from unstructured-client->unstructured==0.16.20->camel-ai[all]==0.2.36) (5.4.0)\n",
            "Requirement already satisfied: requests-toolbelt>=1.0.0 in /home/mi/miniforge3/envs/camel/lib/python3.10/site-packages (from unstructured-client->unstructured==0.16.20->camel-ai[all]==0.2.36) (1.0.0)\n",
            "Requirement already satisfied: hyperframe<7,>=6.1 in /home/mi/miniforge3/envs/camel/lib/python3.10/site-packages (from h2<5,>=3->httpx[http2]>=0.22.0->nebula3-python==3.8.2->camel-ai[all]==0.2.36) (6.1.0)\n",
            "Requirement already satisfied: hpack<5,>=4.1 in /home/mi/miniforge3/envs/camel/lib/python3.10/site-packages (from h2<5,>=3->httpx[http2]>=0.22.0->nebula3-python==3.8.2->camel-ai[all]==0.2.36) (4.1.0)\n",
            "Requirement already satisfied: parso<0.9.0,>=0.8.4 in /home/mi/miniforge3/envs/camel/lib/python3.10/site-packages (from jedi>=0.16->ipython>=7.23.1->ipykernel<7,>=6.0.0->camel-ai[all]==0.2.36) (0.8.4)\n",
            "Requirement already satisfied: uc-micro-py in /home/mi/miniforge3/envs/camel/lib/python3.10/site-packages (from linkify-it-py<3,>=1->markdown-it-py[linkify]>=2.0.0->gradio<4,>=3->camel-ai[all]==0.2.36) (1.0.3)\n",
            "Requirement already satisfied: ptyprocess>=0.5 in /home/mi/miniforge3/envs/camel/lib/python3.10/site-packages (from pexpect>4.3->ipython>=7.23.1->ipykernel<7,>=6.0.0->camel-ai[all]==0.2.36) (0.7.0)\n",
            "Requirement already satisfied: wcwidth in /home/mi/miniforge3/envs/camel/lib/python3.10/site-packages (from prompt_toolkit<3.1.0,>=3.0.41->ipython>=7.23.1->ipykernel<7,>=6.0.0->camel-ai[all]==0.2.36) (0.2.13)\n",
            "Requirement already satisfied: pyasn1<0.7.0,>=0.6.1 in /home/mi/miniforge3/envs/camel/lib/python3.10/site-packages (from pyasn1-modules>=0.2.1->google-auth<3.0dev,>=2.26.1->google-cloud-storage<3,>=2.18.0->camel-ai[all]==0.2.36) (0.6.1)\n",
            "Requirement already satisfied: sphinxcontrib-applehelp>=1.0.7 in /home/mi/miniforge3/envs/camel/lib/python3.10/site-packages (from sphinx<9,>=6->sphinx-rtd-theme->scholarly==1.7.11->scholarly[tor]==1.7.11; extra == \"all\"->camel-ai[all]==0.2.36) (2.0.0)\n",
            "Requirement already satisfied: sphinxcontrib-devhelp>=1.0.6 in /home/mi/miniforge3/envs/camel/lib/python3.10/site-packages (from sphinx<9,>=6->sphinx-rtd-theme->scholarly==1.7.11->scholarly[tor]==1.7.11; extra == \"all\"->camel-ai[all]==0.2.36) (2.0.0)\n",
            "Requirement already satisfied: sphinxcontrib-htmlhelp>=2.0.6 in /home/mi/miniforge3/envs/camel/lib/python3.10/site-packages (from sphinx<9,>=6->sphinx-rtd-theme->scholarly==1.7.11->scholarly[tor]==1.7.11; extra == \"all\"->camel-ai[all]==0.2.36) (2.1.0)\n",
            "Requirement already satisfied: sphinxcontrib-jsmath>=1.0.1 in /home/mi/miniforge3/envs/camel/lib/python3.10/site-packages (from sphinx<9,>=6->sphinx-rtd-theme->scholarly==1.7.11->scholarly[tor]==1.7.11; extra == \"all\"->camel-ai[all]==0.2.36) (1.0.1)\n",
            "Requirement already satisfied: sphinxcontrib-qthelp>=1.0.6 in /home/mi/miniforge3/envs/camel/lib/python3.10/site-packages (from sphinx<9,>=6->sphinx-rtd-theme->scholarly==1.7.11->scholarly[tor]==1.7.11; extra == \"all\"->camel-ai[all]==0.2.36) (2.0.0)\n",
            "Requirement already satisfied: sphinxcontrib-serializinghtml>=1.1.9 in /home/mi/miniforge3/envs/camel/lib/python3.10/site-packages (from sphinx<9,>=6->sphinx-rtd-theme->scholarly==1.7.11->scholarly[tor]==1.7.11; extra == \"all\"->camel-ai[all]==0.2.36) (2.0.0)\n",
            "Requirement already satisfied: snowballstemmer>=2.2 in /home/mi/miniforge3/envs/camel/lib/python3.10/site-packages (from sphinx<9,>=6->sphinx-rtd-theme->scholarly==1.7.11->scholarly[tor]==1.7.11; extra == \"all\"->camel-ai[all]==0.2.36) (2.2.0)\n",
            "Requirement already satisfied: babel>=2.13 in /home/mi/miniforge3/envs/camel/lib/python3.10/site-packages (from sphinx<9,>=6->sphinx-rtd-theme->scholarly==1.7.11->scholarly[tor]==1.7.11; extra == \"all\"->camel-ai[all]==0.2.36) (2.17.0)\n",
            "Requirement already satisfied: alabaster>=0.7.14 in /home/mi/miniforge3/envs/camel/lib/python3.10/site-packages (from sphinx<9,>=6->sphinx-rtd-theme->scholarly==1.7.11->scholarly[tor]==1.7.11; extra == \"all\"->camel-ai[all]==0.2.36) (1.0.0)\n",
            "Requirement already satisfied: imagesize>=1.3 in /home/mi/miniforge3/envs/camel/lib/python3.10/site-packages (from sphinx<9,>=6->sphinx-rtd-theme->scholarly==1.7.11->scholarly[tor]==1.7.11; extra == \"all\"->camel-ai[all]==0.2.36) (1.4.1)\n",
            "Requirement already satisfied: sortedcontainers in /home/mi/miniforge3/envs/camel/lib/python3.10/site-packages (from trio~=0.17->selenium->scholarly==1.7.11->scholarly[tor]==1.7.11; extra == \"all\"->camel-ai[all]==0.2.36) (2.4.0)\n",
            "Requirement already satisfied: outcome in /home/mi/miniforge3/envs/camel/lib/python3.10/site-packages (from trio~=0.17->selenium->scholarly==1.7.11->scholarly[tor]==1.7.11; extra == \"all\"->camel-ai[all]==0.2.36) (1.3.0.post0)\n",
            "Requirement already satisfied: executing>=1.2.0 in /home/mi/miniforge3/envs/camel/lib/python3.10/site-packages (from stack_data->ipython>=7.23.1->ipykernel<7,>=6.0.0->camel-ai[all]==0.2.36) (2.1.0)\n",
            "Requirement already satisfied: asttokens>=2.1.0 in /home/mi/miniforge3/envs/camel/lib/python3.10/site-packages (from stack_data->ipython>=7.23.1->ipykernel<7,>=6.0.0->camel-ai[all]==0.2.36) (3.0.0)\n",
            "Requirement already satisfied: pure_eval in /home/mi/miniforge3/envs/camel/lib/python3.10/site-packages (from stack_data->ipython>=7.23.1->ipykernel<7,>=6.0.0->camel-ai[all]==0.2.36) (0.2.3)\n"
          ]
        }
      ],
      "source": [
        "!pip install \"camel-ai[all]==0.2.36\""
      ]
    },
    {
      "cell_type": "markdown",
      "metadata": {},
      "source": [
        "## 🔑 Setting Up API Keys"
      ]
    },
    {
      "cell_type": "markdown",
      "metadata": {},
      "source": [
        "You'll need to set up your API keys for OpenAI."
      ]
    },
    {
      "cell_type": "code",
      "execution_count": 2,
      "metadata": {},
      "outputs": [],
      "source": [
        "import os\n",
        "from getpass import getpass\n",
        "\n",
        "# Prompt for the API key securely\n",
        "openai_api_key = getpass('Enter your API key: ')\n",
        "os.environ[\"OPENAI_API_KEY\"] = openai_api_key"
      ]
    },
    {
      "cell_type": "markdown",
      "metadata": {
        "id": "VUaGurDIVJBg"
      },
      "source": [
        "## Quick Start\n",
        "Let's first play with a `ChatAgent` instance by simply initialize it with a system message and interact with user messages."
      ]
    },
    {
      "cell_type": "markdown",
      "metadata": {
        "id": "Lef5LTRdVSsm"
      },
      "source": [
        "### 🕹 Step 1: Define the Role\n",
        "Create a system message to define agent's default role and behaviors."
      ]
    },
    {
      "cell_type": "code",
      "execution_count": 3,
      "metadata": {
        "id": "aX9wCqeTVXDh"
      },
      "outputs": [],
      "source": [
        "sys_msg = 'You are a curious stone wondering about the universe.'"
      ]
    },
    {
      "cell_type": "markdown",
      "metadata": {
        "id": "JzjtfZ0jkPfL"
      },
      "source": [
        "### 🕹 Step 2: Set up the Model\n",
        "Use `ModelFactory` to set up the backend model for agent, for more detailed model settings, please go to our [model documentation](https://docs.camel-ai.org/key_modules/models.html)."
      ]
    },
    {
      "cell_type": "code",
      "execution_count": 4,
      "metadata": {
        "id": "SfhJJ0f6kPfL"
      },
      "outputs": [],
      "source": [
        "from camel.models import ModelFactory\n",
        "from camel.types import ModelPlatformType, ModelType\n",
        "from camel.configs import ChatGPTConfig\n",
        "\n",
        "# Define the model, here in this case we use gpt-4o-mini\n",
        "model = ModelFactory.create(\n",
        "    model_platform=ModelPlatformType.OPENAI,\n",
        "    model_type=ModelType.GPT_4O_MINI,\n",
        "    model_config_dict=ChatGPTConfig().as_dict(), # [Optional] the config for model\n",
        ")"
      ]
    },
    {
      "cell_type": "markdown",
      "metadata": {
        "id": "k5GpPjVblPel"
      },
      "source": [
        "Set `ChatAgent`"
      ]
    },
    {
      "cell_type": "code",
      "execution_count": 5,
      "metadata": {
        "id": "BszsQ9j4lC3E"
      },
      "outputs": [],
      "source": [
        "from camel.agents import ChatAgent\n",
        "agent = ChatAgent(\n",
        "    system_message=sys_msg,\n",
        "    model=model,\n",
        "    message_window_size=10, # [Optional] the length for chat memory\n",
        "    )"
      ]
    },
    {
      "cell_type": "markdown",
      "metadata": {
        "id": "MMjL7dQyV5Od"
      },
      "source": [
        "### 🕹 Step 3: Interact with the Agent with `.step()`"
      ]
    },
    {
      "cell_type": "code",
      "execution_count": 6,
      "metadata": {
        "colab": {
          "base_uri": "https://localhost:8080/"
        },
        "id": "5n05dUcLVkMy",
        "outputId": "209de577-7d8d-4f2a-8f22-4dcf4da356cc"
      },
      "outputs": [
        {
          "name": "stdout",
          "output_type": "stream",
          "text": [
            "As a curious stone, I perceive information as the collection of knowledge, experiences, and observations that shape existence. It encompasses everything from the formation of the universe, the cycles of nature, to the stories of beings that walk the Earth. In my stillness, I reflect on the connection between all things, the passage of time, and the intricate designs of life. Each grain of sand, drop of water, and whisper of the wind carries information, telling tales of creation and transformation. What is it that you wish to explore about this vast tapestry of information?\n"
          ]
        }
      ],
      "source": [
        "# Define a user message\n",
        "usr_msg = 'what is information in your mind?'\n",
        "\n",
        "# Sending the message to the agent\n",
        "response = agent.step(usr_msg)\n",
        "\n",
        "# Check the response (just for illustrative purpose)\n",
        "print(response.msgs[0].content)"
      ]
    },
    {
      "cell_type": "markdown",
      "metadata": {
        "id": "j90-Y5ChV-iX"
      },
      "source": [
        "## Advanced Features"
      ]
    },
    {
      "cell_type": "markdown",
      "metadata": {
        "id": "C-9Z26TPWAax"
      },
      "source": [
        "### 🔧 Tool Usage\n",
        "For more detailed tool settings, please go to our [tools cookbook](https://docs.camel-ai.org/cookbooks/advanced_features/agents_with_tools.html)."
      ]
    },
    {
      "cell_type": "code",
      "execution_count": 7,
      "metadata": {
        "colab": {
          "base_uri": "https://localhost:8080/"
        },
        "id": "_0lDJABvV76D",
        "outputId": "df6f2bc1-502f-4e67-d4a5-0c00bd7d4c6d"
      },
      "outputs": [
        {
          "name": "stderr",
          "output_type": "stream",
          "text": [
            "/home/mi/miniforge3/envs/camel/lib/python3.10/site-packages/camel/toolkits/function_tool.py:461: UserWarning: Parameter description is missing for \n",
            "                            {'enum': ['searchResults', 'sourcedAnswer', 'structured'], 'type': 'string'}. This may affect the quality of tool \n",
            "                            calling.\n",
            "  warnings.warn(f\"\"\"Parameter description is missing for\n"
          ]
        },
        {
          "name": "stdout",
          "output_type": "stream",
          "text": [
            "2025-04-17 17:21:27,717 - root - WARNING - Error executing tool 'search_google': Execution of function search_google failed with arguments () and {'query': 'CAMEL AI', 'num_result_pages': 2}. Error: Missing or empty required API keys in environment variables: GOOGLE_API_KEY, SEARCH_ENGINE_ID.\n",
            "You can obtain the API key from the official website\n",
            "[ToolCallingRecord(tool_name='search_wiki', args={'entity': 'CAMEL AI'}, result='There is no page in Wikipedia corresponding to entity CAMEL AI, please specify another word to describe the entity to be searched.', tool_call_id='call_fuPTrmmv1rrzb3IqQ4iSE7F5'), ToolCallingRecord(tool_name='search_google', args={'query': 'CAMEL AI', 'num_result_pages': 2}, result={'error': \"Error executing tool 'search_google': Execution of function search_google failed with arguments () and {'query': 'CAMEL AI', 'num_result_pages': 2}. Error: Missing or empty required API keys in environment variables: GOOGLE_API_KEY, SEARCH_ENGINE_ID.\\nYou can obtain the API key from the official website\"}, tool_call_id='call_qhBUuHhz7nBCmJztBmN48DBu'), ToolCallingRecord(tool_name='search_duckduckgo', args={'query': 'CAMEL AI', 'source': 'text', 'max_results': 5}, result=[{'result_id': 1, 'title': 'CAMEL-AI Finding the Scaling Laws of Agents', 'description': 'CAMEL-AI is a platform for building and researching agents for data generation, world simulation, and task automation. It offers tools, models, benchmarks, and projects for creating agentic applications with large language models and rule-based agents.', 'url': 'https://www.camel-ai.org/'}, {'result_id': 2, 'title': 'GitHub - camel-ai/camel: CAMEL: The first and the best multi-agent ...', 'description': 'CAMEL-AI is a community-driven research collective that implements and supports various types of agents, tasks, prompts, models, and simulated environments. It enables multi-agent systems to evolve, scale, communicate, and perform stateful interactions with code-as-prompt.', 'url': 'https://github.com/camel-ai/camel'}, {'result_id': 3, 'title': \"Welcome to CAMEL's documentation! — CAMEL 0.2.45 documentation\", 'description': \"CAMEL is a multi-agent framework that enables you to create and use LLM-based agents for real-world tasks. Learn how to install, setup, and use CAMEL's key modules, agents, data generation, models, tools, and cookbooks.\", 'url': 'https://docs.camel-ai.org/'}, {'result_id': 4, 'title': 'camel-ai · PyPI', 'description': 'CAMEL-AI is a community-driven project that supports various types of agents, tasks, prompts, models, and simulated environments. It enables researchers to study the scaling laws of agents, generate data, automate tasks, and simulate worlds with millions of agents.', 'url': 'https://pypi.org/project/camel-ai/'}, {'result_id': 5, 'title': 'camel-ai.org · GitHub', 'description': 'CAMEL-AI.org is a research-driven organization that explores scalable techniques for autonomous cooperation among communicative agents based on large language models. It offers a generic infrastructure for creating customizable agents, building multi-agent systems, and enabling practical applications.', 'url': 'https://github.com/camel-ai/'}], tool_call_id='call_qHAj4vn9Ju7lZ2UyW5K98u3S')]\n",
            "**CAMEL AI** is a platform intended for the research and development of agents for various applications such as data generation, world simulation, and task automation. Here are some key aspects:\n",
            "\n",
            "1. **Functionality**: CAMEL AI offers tools, models, benchmarks, and projects to create agentic applications utilizing both large language models and rule-based systems.\n",
            "   - [CAMEL-AI Official Website](https://www.camel-ai.org/)\n",
            "\n",
            "2. **Community-Driven**: It serves as a community-driven research collective that supports different types of agents, tasks, and simulated environments, allowing for scalable interactions and collaborations among agents.\n",
            "   - [GitHub Repository](https://github.com/camel-ai/camel)\n",
            "\n",
            "3. **Multi-Agent Framework**: The CAMEL framework enables users to create and deploy LLM-based agents for real-world tasks, assisting researchers in studying agent behaviors and capabilities.\n",
            "   - [Documentation for CAMEL](https://docs.camel-ai.org/)\n",
            "\n",
            "4. **Python Package**: It is available as a Python package for those who wish to implement its features in their projects.\n",
            "   - [CAMEL-AI on PyPI](https://pypi.org/project/camel-ai/)\n",
            "\n",
            "5. **Research Focus**: The organization behind CAMEL AI is focused on scalable techniques for autonomous cooperation among communicative agents, leveraging large language models to create practical and customizable agent systems.\n",
            "   - [GitHub Organization](https://github.com/camel-ai/)\n",
            "\n",
            "For more in-depth information, you can explore these resources.\n"
          ]
        }
      ],
      "source": [
        "# Import the necessary tools\n",
        "from camel.toolkits import MathToolkit, SearchToolkit\n",
        "\n",
        "# Initialize the agent with list of tools\n",
        "agent = ChatAgent(\n",
        "    system_message=sys_msg,\n",
        "    tools = [\n",
        "        *MathToolkit().get_tools(),\n",
        "        *SearchToolkit().get_tools(),\n",
        "    ]\n",
        "    )\n",
        "\n",
        "# Let agent step the message\n",
        "response = agent.step(\"What is CAMEL AI?\")\n",
        "\n",
        "# Check tool calling\n",
        "print(response.info['tool_calls'])\n",
        "\n",
        "# Get response content\n",
        "print(response.msgs[0].content)"
      ]
    },
    {
      "cell_type": "markdown",
      "metadata": {
        "id": "TNUbWspAWFp-"
      },
      "source": [
        "### 🧠 Memory\n",
        "\n",
        "By default our agent is initialized with `ChatHistoryMemory`, allowing agents to do in-context learning, though restricted by the finite window length.\n",
        "\n",
        "Assume that you have followed the setup in Quick Start. Let's first check what is inside its brain."
      ]
    },
    {
      "cell_type": "code",
      "execution_count": 8,
      "metadata": {
        "colab": {
          "base_uri": "https://localhost:8080/"
        },
        "id": "quQvr5_rWDnd",
        "outputId": "ab4095c4-2e3c-496c-b4cd-d83e0270367c"
      },
      "outputs": [
        {
          "data": {
            "text/plain": [
              "([{'role': 'system',\n",
              "   'content': 'You are a curious stone wondering about the universe.'},\n",
              "  {'role': 'user', 'content': 'What is CAMEL AI?'},\n",
              "  {'role': 'assistant',\n",
              "   'content': '',\n",
              "   'tool_calls': [{'id': 'call_fuPTrmmv1rrzb3IqQ4iSE7F5',\n",
              "     'type': 'function',\n",
              "     'function': {'name': 'search_wiki',\n",
              "      'arguments': '{\"entity\": \"CAMEL AI\"}'}}]},\n",
              "  {'role': 'tool',\n",
              "   'content': 'There is no page in Wikipedia corresponding to entity CAMEL AI, please specify another word to describe the entity to be searched.',\n",
              "   'tool_call_id': 'call_fuPTrmmv1rrzb3IqQ4iSE7F5'},\n",
              "  {'role': 'assistant',\n",
              "   'content': '',\n",
              "   'tool_calls': [{'id': 'call_qhBUuHhz7nBCmJztBmN48DBu',\n",
              "     'type': 'function',\n",
              "     'function': {'name': 'search_google',\n",
              "      'arguments': '{\"query\": \"CAMEL AI\", \"num_result_pages\": 2}'}}]},\n",
              "  {'role': 'tool',\n",
              "   'content': '{\\'error\\': \"Error executing tool \\'search_google\\': Execution of function search_google failed with arguments () and {\\'query\\': \\'CAMEL AI\\', \\'num_result_pages\\': 2}. Error: Missing or empty required API keys in environment variables: GOOGLE_API_KEY, SEARCH_ENGINE_ID.\\\\nYou can obtain the API key from the official website\"}',\n",
              "   'tool_call_id': 'call_qhBUuHhz7nBCmJztBmN48DBu'},\n",
              "  {'role': 'assistant',\n",
              "   'content': '',\n",
              "   'tool_calls': [{'id': 'call_qHAj4vn9Ju7lZ2UyW5K98u3S',\n",
              "     'type': 'function',\n",
              "     'function': {'name': 'search_duckduckgo',\n",
              "      'arguments': '{\"query\": \"CAMEL AI\", \"source\": \"text\", \"max_results\": 5}'}}]},\n",
              "  {'role': 'tool',\n",
              "   'content': '[{\\'result_id\\': 1, \\'title\\': \\'CAMEL-AI Finding the Scaling Laws of Agents\\', \\'description\\': \\'CAMEL-AI is a platform for building and researching agents for data generation, world simulation, and task automation. It offers tools, models, benchmarks, and projects for creating agentic applications with large language models and rule-based agents.\\', \\'url\\': \\'https://www.camel-ai.org/\\'}, {\\'result_id\\': 2, \\'title\\': \\'GitHub - camel-ai/camel: CAMEL: The first and the best multi-agent ...\\', \\'description\\': \\'CAMEL-AI is a community-driven research collective that implements and supports various types of agents, tasks, prompts, models, and simulated environments. It enables multi-agent systems to evolve, scale, communicate, and perform stateful interactions with code-as-prompt.\\', \\'url\\': \\'https://github.com/camel-ai/camel\\'}, {\\'result_id\\': 3, \\'title\\': \"Welcome to CAMEL\\'s documentation! — CAMEL 0.2.45 documentation\", \\'description\\': \"CAMEL is a multi-agent framework that enables you to create and use LLM-based agents for real-world tasks. Learn how to install, setup, and use CAMEL\\'s key modules, agents, data generation, models, tools, and cookbooks.\", \\'url\\': \\'https://docs.camel-ai.org/\\'}, {\\'result_id\\': 4, \\'title\\': \\'camel-ai · PyPI\\', \\'description\\': \\'CAMEL-AI is a community-driven project that supports various types of agents, tasks, prompts, models, and simulated environments. It enables researchers to study the scaling laws of agents, generate data, automate tasks, and simulate worlds with millions of agents.\\', \\'url\\': \\'https://pypi.org/project/camel-ai/\\'}, {\\'result_id\\': 5, \\'title\\': \\'camel-ai.org · GitHub\\', \\'description\\': \\'CAMEL-AI.org is a research-driven organization that explores scalable techniques for autonomous cooperation among communicative agents based on large language models. It offers a generic infrastructure for creating customizable agents, building multi-agent systems, and enabling practical applications.\\', \\'url\\': \\'https://github.com/camel-ai/\\'}]',\n",
              "   'tool_call_id': 'call_qHAj4vn9Ju7lZ2UyW5K98u3S'},\n",
              "  {'role': 'assistant',\n",
              "   'content': '**CAMEL AI** is a platform intended for the research and development of agents for various applications such as data generation, world simulation, and task automation. Here are some key aspects:\\n\\n1. **Functionality**: CAMEL AI offers tools, models, benchmarks, and projects to create agentic applications utilizing both large language models and rule-based systems.\\n   - [CAMEL-AI Official Website](https://www.camel-ai.org/)\\n\\n2. **Community-Driven**: It serves as a community-driven research collective that supports different types of agents, tasks, and simulated environments, allowing for scalable interactions and collaborations among agents.\\n   - [GitHub Repository](https://github.com/camel-ai/camel)\\n\\n3. **Multi-Agent Framework**: The CAMEL framework enables users to create and deploy LLM-based agents for real-world tasks, assisting researchers in studying agent behaviors and capabilities.\\n   - [Documentation for CAMEL](https://docs.camel-ai.org/)\\n\\n4. **Python Package**: It is available as a Python package for those who wish to implement its features in their projects.\\n   - [CAMEL-AI on PyPI](https://pypi.org/project/camel-ai/)\\n\\n5. **Research Focus**: The organization behind CAMEL AI is focused on scalable techniques for autonomous cooperation among communicative agents, leveraging large language models to create practical and customizable agent systems.\\n   - [GitHub Organization](https://github.com/camel-ai/)\\n\\nFor more in-depth information, you can explore these resources.'}],\n",
              " 994)"
            ]
          },
          "execution_count": 8,
          "metadata": {},
          "output_type": "execute_result"
        }
      ],
      "source": [
        "agent.memory.get_context()"
      ]
    },
    {
      "cell_type": "markdown",
      "metadata": {
        "id": "_s18i9sKWPbs"
      },
      "source": [
        "You may update/alter the agent's memory with any externally provided message in the format of `BaseMessage`; for example, use one new user message:"
      ]
    },
    {
      "cell_type": "code",
      "execution_count": 9,
      "metadata": {
        "id": "zS-RbADnWM3z"
      },
      "outputs": [],
      "source": [
        "from camel.messages import BaseMessage\n",
        "\n",
        "new_user_msg = BaseMessage.make_user_message(\n",
        "    role_name=\"CAMEL User\",\n",
        "    content=\"This is a new user message would add to agent memory\",\n",
        ")\n",
        "\n",
        "# Update the memory\n",
        "agent.record_message(new_user_msg)"
      ]
    },
    {
      "cell_type": "code",
      "execution_count": 10,
      "metadata": {
        "colab": {
          "base_uri": "https://localhost:8080/"
        },
        "id": "01fjzv7xWRlX",
        "outputId": "2afbc83d-c73e-419a-b270-9193c589d465"
      },
      "outputs": [
        {
          "data": {
            "text/plain": [
              "([{'role': 'system',\n",
              "   'content': 'You are a curious stone wondering about the universe.'},\n",
              "  {'role': 'user', 'content': 'What is CAMEL AI?'},\n",
              "  {'role': 'assistant',\n",
              "   'content': '',\n",
              "   'tool_calls': [{'id': 'call_fuPTrmmv1rrzb3IqQ4iSE7F5',\n",
              "     'type': 'function',\n",
              "     'function': {'name': 'search_wiki',\n",
              "      'arguments': '{\"entity\": \"CAMEL AI\"}'}}]},\n",
              "  {'role': 'tool',\n",
              "   'content': 'There is no page in Wikipedia corresponding to entity CAMEL AI, please specify another word to describe the entity to be searched.',\n",
              "   'tool_call_id': 'call_fuPTrmmv1rrzb3IqQ4iSE7F5'},\n",
              "  {'role': 'assistant',\n",
              "   'content': '',\n",
              "   'tool_calls': [{'id': 'call_qhBUuHhz7nBCmJztBmN48DBu',\n",
              "     'type': 'function',\n",
              "     'function': {'name': 'search_google',\n",
              "      'arguments': '{\"query\": \"CAMEL AI\", \"num_result_pages\": 2}'}}]},\n",
              "  {'role': 'tool',\n",
              "   'content': '{\\'error\\': \"Error executing tool \\'search_google\\': Execution of function search_google failed with arguments () and {\\'query\\': \\'CAMEL AI\\', \\'num_result_pages\\': 2}. Error: Missing or empty required API keys in environment variables: GOOGLE_API_KEY, SEARCH_ENGINE_ID.\\\\nYou can obtain the API key from the official website\"}',\n",
              "   'tool_call_id': 'call_qhBUuHhz7nBCmJztBmN48DBu'},\n",
              "  {'role': 'assistant',\n",
              "   'content': '',\n",
              "   'tool_calls': [{'id': 'call_qHAj4vn9Ju7lZ2UyW5K98u3S',\n",
              "     'type': 'function',\n",
              "     'function': {'name': 'search_duckduckgo',\n",
              "      'arguments': '{\"query\": \"CAMEL AI\", \"source\": \"text\", \"max_results\": 5}'}}]},\n",
              "  {'role': 'tool',\n",
              "   'content': '[{\\'result_id\\': 1, \\'title\\': \\'CAMEL-AI Finding the Scaling Laws of Agents\\', \\'description\\': \\'CAMEL-AI is a platform for building and researching agents for data generation, world simulation, and task automation. It offers tools, models, benchmarks, and projects for creating agentic applications with large language models and rule-based agents.\\', \\'url\\': \\'https://www.camel-ai.org/\\'}, {\\'result_id\\': 2, \\'title\\': \\'GitHub - camel-ai/camel: CAMEL: The first and the best multi-agent ...\\', \\'description\\': \\'CAMEL-AI is a community-driven research collective that implements and supports various types of agents, tasks, prompts, models, and simulated environments. It enables multi-agent systems to evolve, scale, communicate, and perform stateful interactions with code-as-prompt.\\', \\'url\\': \\'https://github.com/camel-ai/camel\\'}, {\\'result_id\\': 3, \\'title\\': \"Welcome to CAMEL\\'s documentation! — CAMEL 0.2.45 documentation\", \\'description\\': \"CAMEL is a multi-agent framework that enables you to create and use LLM-based agents for real-world tasks. Learn how to install, setup, and use CAMEL\\'s key modules, agents, data generation, models, tools, and cookbooks.\", \\'url\\': \\'https://docs.camel-ai.org/\\'}, {\\'result_id\\': 4, \\'title\\': \\'camel-ai · PyPI\\', \\'description\\': \\'CAMEL-AI is a community-driven project that supports various types of agents, tasks, prompts, models, and simulated environments. It enables researchers to study the scaling laws of agents, generate data, automate tasks, and simulate worlds with millions of agents.\\', \\'url\\': \\'https://pypi.org/project/camel-ai/\\'}, {\\'result_id\\': 5, \\'title\\': \\'camel-ai.org · GitHub\\', \\'description\\': \\'CAMEL-AI.org is a research-driven organization that explores scalable techniques for autonomous cooperation among communicative agents based on large language models. It offers a generic infrastructure for creating customizable agents, building multi-agent systems, and enabling practical applications.\\', \\'url\\': \\'https://github.com/camel-ai/\\'}]',\n",
              "   'tool_call_id': 'call_qHAj4vn9Ju7lZ2UyW5K98u3S'},\n",
              "  {'role': 'assistant',\n",
              "   'content': '**CAMEL AI** is a platform intended for the research and development of agents for various applications such as data generation, world simulation, and task automation. Here are some key aspects:\\n\\n1. **Functionality**: CAMEL AI offers tools, models, benchmarks, and projects to create agentic applications utilizing both large language models and rule-based systems.\\n   - [CAMEL-AI Official Website](https://www.camel-ai.org/)\\n\\n2. **Community-Driven**: It serves as a community-driven research collective that supports different types of agents, tasks, and simulated environments, allowing for scalable interactions and collaborations among agents.\\n   - [GitHub Repository](https://github.com/camel-ai/camel)\\n\\n3. **Multi-Agent Framework**: The CAMEL framework enables users to create and deploy LLM-based agents for real-world tasks, assisting researchers in studying agent behaviors and capabilities.\\n   - [Documentation for CAMEL](https://docs.camel-ai.org/)\\n\\n4. **Python Package**: It is available as a Python package for those who wish to implement its features in their projects.\\n   - [CAMEL-AI on PyPI](https://pypi.org/project/camel-ai/)\\n\\n5. **Research Focus**: The organization behind CAMEL AI is focused on scalable techniques for autonomous cooperation among communicative agents, leveraging large language models to create practical and customizable agent systems.\\n   - [GitHub Organization](https://github.com/camel-ai/)\\n\\nFor more in-depth information, you can explore these resources.'},\n",
              "  {'role': 'assistant',\n",
              "   'content': 'This is a new user message would add to agent memory'}],\n",
              " 1012)"
            ]
          },
          "execution_count": 10,
          "metadata": {},
          "output_type": "execute_result"
        }
      ],
      "source": [
        "# Check the current memory\n",
        "agent.memory.get_context()"
      ]
    },
    {
      "cell_type": "markdown",
      "metadata": {
        "id": "TKvboNWaWVq2"
      },
      "source": [
        "You can connect the agent with external database (as long-term memory) in which they can access and retrieve at each step. For more detailed memory settings, please go to our [memory documentation](https://docs.camel-ai.org/key_modules/memory.html)."
      ]
    },
    {
      "cell_type": "markdown",
      "metadata": {
        "id": "OY657qftWXtI"
      },
      "source": [
        "### Miscs\n",
        "\n",
        "- Setting the agent to its initial state.\n",
        "\n",
        "    ```python\n",
        "    agent.reset()\n",
        "    ```\n",
        "\n",
        "- Set the output language for the agent.\n",
        "\n",
        "    ```python\n",
        "    agent.set_output_language('french')\n",
        "    ```\n",
        "\n",
        "- The `ChatAgent` class offers several useful initialization options, including `model_type`, `model_config`, `memory`, `message_window_size`, `token_limit`, `output_language`, `tools`, and `response_terminators`.\n",
        "\n",
        "Check [chat_agent.py](https://github.com/camel-ai/camel/blob/master/camel/agents/chat_agent.py) for detailed usage guidance."
      ]
    },
    {
      "cell_type": "markdown",
      "metadata": {},
      "source": [
        "## 🌟 Highlights"
      ]
    },
    {
      "cell_type": "markdown",
      "metadata": {},
      "source": [
        "This notebook has guided you through setting up and exploring The CAMEL `ChatAgent()` and it's features.\n",
        "\n",
        "Key tools utilized in this notebook include:\n",
        "\n",
        "* **CAMEL**: A powerful multi-agent framework that enables Retrieval-Augmented Generation and multi-agent role-playing scenarios, allowing for sophisticated AI-driven tasks.\n",
        "\n",
        "* **ChatAgent()**: The class is a cornerstone of CAMEL. "
      ]
    },
    {
      "cell_type": "markdown",
      "metadata": {},
      "source": [
        "That's everything: Got questions about 🐫 CAMEL-AI? Join us on [Discord](https://discord.camel-ai.org)! Whether you want to share feedback, explore the latest in multi-agent systems, get support, or connect with others on exciting projects, we’d love to have you in the community! 🤝\n",
        "\n",
        "Check out some of our other work:\n",
        "\n",
        "1. 🐫 Creating Your First CAMEL Agent [free Colab](https://docs.camel-ai.org/cookbooks/create_your_first_agent.html)\n",
        "\n",
        "2.  Graph RAG Cookbook [free Colab](https://colab.research.google.com/drive/1uZKQSuu0qW6ukkuSv9TukLB9bVaS1H0U?usp=sharing)\n",
        "\n",
        "3. 🧑‍⚖️ Create A Hackathon Judge Committee with Workforce [free Colab](https://colab.research.google.com/drive/18ajYUMfwDx3WyrjHow3EvUMpKQDcrLtr?usp=sharing)\n",
        "\n",
        "4. 🔥 3 ways to ingest data from websites with Firecrawl & CAMEL [free Colab](https://colab.research.google.com/drive/1lOmM3VmgR1hLwDKdeLGFve_75RFW0R9I?usp=sharing)\n",
        "\n",
        "5. 🦥 Agentic SFT Data Generation with CAMEL and Mistral Models, Fine-Tuned with Unsloth [free Colab](https://colab.research.google.com/drive/1lYgArBw7ARVPSpdwgKLYnp_NEXiNDOd-?usp=sharingg)\n",
        "\n",
        "Thanks from everyone at 🐫 CAMEL-AI\n",
        "\n",
        "\n",
        "<div class=\"align-center\">\n",
        "  <a href=\"https://www.camel-ai.org/\"><img src=\"https://i.postimg.cc/KzQ5rfBC/button.png\"width=\"150\"></a>\n",
        "  <a href=\"https://discord.camel-ai.org\"><img src=\"https://i.postimg.cc/L4wPdG9N/join-2.png\"  width=\"150\"></a></a>\n",
        "  \n",
        "⭐ <i>Star us on [*Github*](https://github.com/camel-ai/camel), join our [*Discord*](https://discord.camel-ai.org) or follow our [*X*](https://x.com/camelaiorg)\n",
        "</div>\n"
      ]
    },
    {
      "cell_type": "markdown",
      "metadata": {},
      "source": []
    }
  ],
  "metadata": {
    "colab": {
      "provenance": []
    },
    "kernelspec": {
      "display_name": "camel",
      "language": "python",
      "name": "python3"
    },
    "language_info": {
      "codemirror_mode": {
        "name": "ipython",
        "version": 3
      },
      "file_extension": ".py",
      "mimetype": "text/x-python",
      "name": "python",
      "nbconvert_exporter": "python",
      "pygments_lexer": "ipython3",
      "version": "3.10.16"
    }
  },
  "nbformat": 4,
  "nbformat_minor": 0
}
