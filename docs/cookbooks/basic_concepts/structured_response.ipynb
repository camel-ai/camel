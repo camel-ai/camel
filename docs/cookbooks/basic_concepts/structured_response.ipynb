{
  "cells": [
    {
      "cell_type": "markdown",
      "metadata": {
        "id": "ymsq1Lw0VEqT"
      },
      "source": [
        "# Two format of Structured Response Example\n"
      ]
    },
    {
      "cell_type": "markdown",
      "metadata": {
        "id": "7V3aV16AmY0K"
      },
      "source": [
        "You can also check this cookbook in colab [here](https://colab.research.google.com/drive/17SiWWjoK7l8Sy9FBsGKUHC6zuEsLt2yX?usp=sharing) "
      ]
    },
    {
      "cell_type": "markdown",
      "metadata": {
        "id": "UvHRdXwflAz-"
      },
      "source": [
        "<div class=\"align-center\">\n",
        "  <a href=\"https://www.camel-ai.org/\"><img src=\"https://i.postimg.cc/KzQ5rfBC/button.png\"width=\"150\"></a>\n",
        "  <a href=\"https://discord.camel-ai.org\"><img src=\"https://i.postimg.cc/L4wPdG9N/join-2.png\"  width=\"150\"></a></a>\n",
        "  \n",
        "⭐ <i>Star us on [*Github*](https://github.com/camel-ai/camel), join our [*Discord*](https://discord.camel-ai.org) or follow our [*X*](https://x.com/camelaiorg)\n",
        "</div>"
      ]
    },
    {
      "cell_type": "markdown",
      "metadata": {
        "id": "G5gE04UuPUWj"
      },
      "source": [
        "This notebook demonstrates how to set up and leverage CAMEL's structured response capabilities to get consistent, type-safe outputs from language models. Structured responses are essential for building reliable AI applications that need to process model outputs programmatically.\n",
        "\n",
        "In this notebook, you'll explore:\n",
        "\n",
        "* **CAMEL**: A powerful multi-agent framework that enables Retrieval-Augmented Generation and multi-agent role-playing scenarios, allowing for sophisticated AI-driven tasks.\n",
        "* **Structured Outputs**: How to define and enforce specific response schemas using Pydantic models, ensuring consistent and reliable model outputs.\n",
        "* **Tool Integration**: Techniques for combining structured responses with CAMEL's tool system to create powerful, interactive AI applications.\n",
        "* **Cross-Model Compatibility**: Strategies for achieving structured outputs even with models that don't natively support function calling or structured responses."
      ]
    },
    {
      "cell_type": "markdown",
      "metadata": {
        "id": "0J0_iW-YVcq2"
      },
      "source": [
        "## 📦 Installation"
      ]
    },
    {
      "cell_type": "markdown",
      "metadata": {
        "id": "7p-JjpyNVcCT"
      },
      "source": [
        "First, install the CAMEL package with all its dependencies:"
      ]
    },
    {
      "cell_type": "code",
      "execution_count": 39,
      "metadata": {
        "collapsed": true,
        "id": "0GXs2pruU9Vl"
      },
      "outputs": [
        {
          "name": "stdout",
          "output_type": "stream",
          "text": [
            "Requirement already satisfied: camel-ai==0.2.12 in /Users/bonianhu/miniconda3/lib/python3.12/site-packages (from camel-ai[all]==0.2.12) (0.2.12)\n",
            "Requirement already satisfied: colorama<1,>=0 in /Users/bonianhu/miniconda3/lib/python3.12/site-packages (from camel-ai==0.2.12->camel-ai[all]==0.2.12) (0.4.6)\n",
            "Requirement already satisfied: curl_cffi==0.6.2 in /Users/bonianhu/miniconda3/lib/python3.12/site-packages (from camel-ai==0.2.12->camel-ai[all]==0.2.12) (0.6.2)\n",
            "Requirement already satisfied: docstring-parser<0.16,>=0.15 in /Users/bonianhu/miniconda3/lib/python3.12/site-packages (from camel-ai==0.2.12->camel-ai[all]==0.2.12) (0.15)\n",
            "Requirement already satisfied: eval-type-backport==0.2.0 in /Users/bonianhu/miniconda3/lib/python3.12/site-packages (from camel-ai==0.2.12->camel-ai[all]==0.2.12) (0.2.0)\n",
            "Requirement already satisfied: httpx<0.27.3,>=0.23.0 in /Users/bonianhu/miniconda3/lib/python3.12/site-packages (from camel-ai==0.2.12->camel-ai[all]==0.2.12) (0.27.2)\n",
            "Requirement already satisfied: jsonschema<5,>=4 in /Users/bonianhu/miniconda3/lib/python3.12/site-packages (from camel-ai==0.2.12->camel-ai[all]==0.2.12) (4.23.0)\n",
            "Requirement already satisfied: numpy<2,>=1 in /Users/bonianhu/miniconda3/lib/python3.12/site-packages (from camel-ai==0.2.12->camel-ai[all]==0.2.12) (1.26.4)\n",
            "Requirement already satisfied: openai<2.0.0,>=1.45.0 in /Users/bonianhu/miniconda3/lib/python3.12/site-packages (from camel-ai==0.2.12->camel-ai[all]==0.2.12) (1.97.1)\n",
            "Requirement already satisfied: pandoc in /Users/bonianhu/miniconda3/lib/python3.12/site-packages (from camel-ai==0.2.12->camel-ai[all]==0.2.12) (2.4)\n",
            "Requirement already satisfied: pathlib<2.0.0,>=1.0.1 in /Users/bonianhu/miniconda3/lib/python3.12/site-packages (from camel-ai==0.2.12->camel-ai[all]==0.2.12) (1.0.1)\n",
            "Requirement already satisfied: protobuf<5,>=4 in /Users/bonianhu/miniconda3/lib/python3.12/site-packages (from camel-ai==0.2.12->camel-ai[all]==0.2.12) (4.25.5)\n",
            "Requirement already satisfied: pydantic<2.10,>=1.9 in /Users/bonianhu/miniconda3/lib/python3.12/site-packages (from camel-ai==0.2.12->camel-ai[all]==0.2.12) (2.9.2)\n",
            "Requirement already satisfied: tiktoken<0.8.0,>=0.7.0 in /Users/bonianhu/miniconda3/lib/python3.12/site-packages (from camel-ai==0.2.12->camel-ai[all]==0.2.12) (0.7.0)\n",
            "Requirement already satisfied: PyMuPDF<2.0.0,>=1.22.5 in /Users/bonianhu/miniconda3/lib/python3.12/site-packages (from camel-ai[all]==0.2.12) (1.26.3)\n",
            "Requirement already satisfied: accelerate<1,>=0 in /Users/bonianhu/miniconda3/lib/python3.12/site-packages (from camel-ai[all]==0.2.12) (0.34.2)\n",
            "Requirement already satisfied: agentops<0.4.0,>=0.3.21 in /Users/bonianhu/miniconda3/lib/python3.12/site-packages (from camel-ai[all]==0.2.12) (0.3.26)\n",
            "Requirement already satisfied: anthropic<0.41.0,>=0.40.0 in /Users/bonianhu/miniconda3/lib/python3.12/site-packages (from camel-ai[all]==0.2.12) (0.40.0)\n",
            "Requirement already satisfied: apify_client<2.0.0,>=1.8.1 in /Users/bonianhu/miniconda3/lib/python3.12/site-packages (from camel-ai[all]==0.2.12) (1.12.0)\n",
            "Requirement already satisfied: arxiv<3.0.0,>=2.1.3 in /Users/bonianhu/miniconda3/lib/python3.12/site-packages (from camel-ai[all]==0.2.12) (2.2.0)\n",
            "Requirement already satisfied: arxiv2text<0.2.0,>=0.1.14 in /Users/bonianhu/miniconda3/lib/python3.12/site-packages (from camel-ai[all]==0.2.12) (0.1.14)\n",
            "Requirement already satisfied: asknews<0.8.0,>=0.7.54 in /Users/bonianhu/miniconda3/lib/python3.12/site-packages (from camel-ai[all]==0.2.12) (0.7.58)\n",
            "Requirement already satisfied: azure-storage-blob<13.0.0,>=12.21.0 in /Users/bonianhu/miniconda3/lib/python3.12/site-packages (from camel-ai[all]==0.2.12) (12.26.0)\n",
            "Requirement already satisfied: beautifulsoup4<5,>=4 in /Users/bonianhu/miniconda3/lib/python3.12/site-packages (from camel-ai[all]==0.2.12) (4.12.3)\n",
            "Requirement already satisfied: botocore<2.0.0,>=1.35.3 in /Users/bonianhu/miniconda3/lib/python3.12/site-packages (from camel-ai[all]==0.2.12) (1.36.11)\n",
            "Requirement already satisfied: cohere<6.0.0,>=5.11.0 in /Users/bonianhu/miniconda3/lib/python3.12/site-packages (from camel-ai[all]==0.2.12) (5.16.1)\n",
            "Requirement already satisfied: datacommons<2.0.0,>=1.4.3 in /Users/bonianhu/miniconda3/lib/python3.12/site-packages (from camel-ai[all]==0.2.12) (1.4.3)\n",
            "Requirement already satisfied: datacommons_pandas<0.0.4,>=0.0.3 in /Users/bonianhu/miniconda3/lib/python3.12/site-packages (from camel-ai[all]==0.2.12) (0.0.3)\n",
            "Requirement already satisfied: datasets<3,>=2 in /Users/bonianhu/miniconda3/lib/python3.12/site-packages (from camel-ai[all]==0.2.12) (2.21.0)\n",
            "Requirement already satisfied: diffusers<1,>=0 in /Users/bonianhu/miniconda3/lib/python3.12/site-packages (from camel-ai[all]==0.2.12) (0.34.0)\n",
            "Requirement already satisfied: discord.py<3.0.0,>=2.3.2 in /Users/bonianhu/miniconda3/lib/python3.12/site-packages (from camel-ai[all]==0.2.12) (2.5.2)\n",
            "Requirement already satisfied: docker<8.0.0,>=7.1.0 in /Users/bonianhu/miniconda3/lib/python3.12/site-packages (from camel-ai[all]==0.2.12) (7.1.0)\n",
            "Requirement already satisfied: docx2txt<0.9,>=0.8 in /Users/bonianhu/miniconda3/lib/python3.12/site-packages (from camel-ai[all]==0.2.12) (0.8)\n",
            "Requirement already satisfied: duckduckgo-search<7.0.0,>=6.2.12 in /Users/bonianhu/miniconda3/lib/python3.12/site-packages (from camel-ai[all]==0.2.12) (6.4.2)\n",
            "Requirement already satisfied: e2b-code-interpreter<2.0.0,>=1.0.3 in /Users/bonianhu/miniconda3/lib/python3.12/site-packages (from camel-ai[all]==0.2.12) (1.2.0)\n",
            "Requirement already satisfied: ffmpeg-python<0.3.0,>=0.2.0 in /Users/bonianhu/miniconda3/lib/python3.12/site-packages (from camel-ai[all]==0.2.12) (0.2.0)\n",
            "Requirement already satisfied: firecrawl-py<2.0.0,>=1.0.0 in /Users/bonianhu/miniconda3/lib/python3.12/site-packages (from camel-ai[all]==0.2.12) (1.6.8)\n",
            "Requirement already satisfied: google-cloud-storage<3.0.0,>=2.18.0 in /Users/bonianhu/miniconda3/lib/python3.12/site-packages (from camel-ai[all]==0.2.12) (2.19.0)\n",
            "Requirement already satisfied: google-generativeai<0.7.0,>=0.6.0 in /Users/bonianhu/miniconda3/lib/python3.12/site-packages (from camel-ai[all]==0.2.12) (0.6.0)\n",
            "Requirement already satisfied: googlemaps<5.0.0,>=4.10.0 in /Users/bonianhu/miniconda3/lib/python3.12/site-packages (from camel-ai[all]==0.2.12) (4.10.0)\n",
            "Requirement already satisfied: imageio<3.0.0,>=2.34.2 in /Users/bonianhu/miniconda3/lib/python3.12/site-packages (from imageio[pyav]<3.0.0,>=2.34.2; extra == \"tools\" or extra == \"all\"->camel-ai[all]==0.2.12) (2.37.0)\n",
            "Requirement already satisfied: ipykernel<7.0.0,>=6.0.0 in /Users/bonianhu/miniconda3/lib/python3.12/site-packages (from camel-ai[all]==0.2.12) (6.29.5)\n",
            "Requirement already satisfied: jupyter_client<9.0.0,>=8.6.2 in /Users/bonianhu/miniconda3/lib/python3.12/site-packages (from camel-ai[all]==0.2.12) (8.6.3)\n",
            "Requirement already satisfied: litellm<2.0.0,>=1.38.1 in /Users/bonianhu/miniconda3/lib/python3.12/site-packages (from camel-ai[all]==0.2.12) (1.74.8)\n",
            "Requirement already satisfied: mistralai<2.0.0,>=1.1.0 in /Users/bonianhu/miniconda3/lib/python3.12/site-packages (from camel-ai[all]==0.2.12) (1.5.2)\n",
            "Requirement already satisfied: nebula3-python==3.8.2 in /Users/bonianhu/miniconda3/lib/python3.12/site-packages (from camel-ai[all]==0.2.12) (3.8.2)\n",
            "Requirement already satisfied: neo4j<6.0.0,>=5.18.0 in /Users/bonianhu/miniconda3/lib/python3.12/site-packages (from camel-ai[all]==0.2.12) (5.28.1)\n",
            "Requirement already satisfied: newspaper3k<0.3.0,>=0.2.8 in /Users/bonianhu/miniconda3/lib/python3.12/site-packages (from camel-ai[all]==0.2.12) (0.2.8)\n",
            "Requirement already satisfied: nltk==3.8.1 in /Users/bonianhu/miniconda3/lib/python3.12/site-packages (from camel-ai[all]==0.2.12) (3.8.1)\n",
            "Requirement already satisfied: notion-client<3.0.0,>=2.2.1 in /Users/bonianhu/miniconda3/lib/python3.12/site-packages (from camel-ai[all]==0.2.12) (2.4.0)\n",
            "Requirement already satisfied: openapi-spec-validator<0.8.0,>=0.7.1 in /Users/bonianhu/miniconda3/lib/python3.12/site-packages (from camel-ai[all]==0.2.12) (0.7.2)\n",
            "Requirement already satisfied: opencv-python<5,>=4 in /Users/bonianhu/miniconda3/lib/python3.12/site-packages (from camel-ai[all]==0.2.12) (4.11.0.86)\n",
            "Requirement already satisfied: pdfplumber<0.12.0,>=0.11.0 in /Users/bonianhu/miniconda3/lib/python3.12/site-packages (from camel-ai[all]==0.2.12) (0.11.7)\n",
            "Requirement already satisfied: pillow<11.0.0,>=10.2.0 in /Users/bonianhu/miniconda3/lib/python3.12/site-packages (from camel-ai[all]==0.2.12) (10.4.0)\n",
            "Requirement already satisfied: prance<24.0.0.0,>=23.6.21.0 in /Users/bonianhu/miniconda3/lib/python3.12/site-packages (from camel-ai[all]==0.2.12) (23.6.21.0)\n",
            "Requirement already satisfied: praw<8.0.0,>=7.7.1 in /Users/bonianhu/miniconda3/lib/python3.12/site-packages (from camel-ai[all]==0.2.12) (7.8.1)\n",
            "Requirement already satisfied: pyTelegramBotAPI<5.0.0,>=4.18.0 in /Users/bonianhu/miniconda3/lib/python3.12/site-packages (from camel-ai[all]==0.2.12) (4.27.0)\n",
            "Requirement already satisfied: pydub<0.26.0,>=0.25.1 in /Users/bonianhu/miniconda3/lib/python3.12/site-packages (from camel-ai[all]==0.2.12) (0.25.1)\n",
            "Requirement already satisfied: pygithub<3.0.0,>=2.3.0 in /Users/bonianhu/miniconda3/lib/python3.12/site-packages (from camel-ai[all]==0.2.12) (2.6.1)\n",
            "Requirement already satisfied: pymilvus<3.0.0,>=2.4.0 in /Users/bonianhu/miniconda3/lib/python3.12/site-packages (from camel-ai[all]==0.2.12) (2.5.14)\n",
            "Requirement already satisfied: pyowm<4.0.0,>=3.3.0 in /Users/bonianhu/miniconda3/lib/python3.12/site-packages (from camel-ai[all]==0.2.12) (3.3.0)\n",
            "Requirement already satisfied: pyyaml<7.0.0,>=6.0.2 in /Users/bonianhu/miniconda3/lib/python3.12/site-packages (from camel-ai[all]==0.2.12) (6.0.2)\n",
            "Requirement already satisfied: qdrant-client<2.0.0,>=1.9.0 in /Users/bonianhu/miniconda3/lib/python3.12/site-packages (from camel-ai[all]==0.2.12) (1.15.0)\n",
            "Requirement already satisfied: rank-bm25<0.3.0,>=0.2.2 in /Users/bonianhu/miniconda3/lib/python3.12/site-packages (from camel-ai[all]==0.2.12) (0.2.2)\n",
            "Requirement already satisfied: redis<6.0.0,>=5.0.6 in /Users/bonianhu/miniconda3/lib/python3.12/site-packages (from camel-ai[all]==0.2.12) (5.3.0)\n",
            "Requirement already satisfied: reka-api<4.0.0,>=3.0.8 in /Users/bonianhu/miniconda3/lib/python3.12/site-packages (from camel-ai[all]==0.2.12) (3.2.0)\n",
            "Requirement already satisfied: requests_oauthlib<2.0.0,>=1.3.1 in /Users/bonianhu/miniconda3/lib/python3.12/site-packages (from camel-ai[all]==0.2.12) (1.3.1)\n",
            "Requirement already satisfied: scholarly==1.7.11 in /Users/bonianhu/miniconda3/lib/python3.12/site-packages (from scholarly[tor]==1.7.11; extra == \"tools\" or extra == \"all\"->camel-ai[all]==0.2.12) (1.7.11)\n",
            "Requirement already satisfied: sentence-transformers<4.0.0,>=3.0.1 in /Users/bonianhu/miniconda3/lib/python3.12/site-packages (from camel-ai[all]==0.2.12) (3.4.1)\n",
            "Requirement already satisfied: sentencepiece<1,>=0 in /Users/bonianhu/miniconda3/lib/python3.12/site-packages (from camel-ai[all]==0.2.12) (0.2.0)\n",
            "Requirement already satisfied: sglang<0.5.0,>=0.4.0 in /Users/bonianhu/miniconda3/lib/python3.12/site-packages (from camel-ai[all]==0.2.12) (0.4.9.post3)\n",
            "Requirement already satisfied: slack-bolt<2.0.0,>=1.20.1 in /Users/bonianhu/miniconda3/lib/python3.12/site-packages (from camel-ai[all]==0.2.12) (1.23.0)\n",
            "Requirement already satisfied: slack-sdk<4.0.0,>=3.27.2 in /Users/bonianhu/miniconda3/lib/python3.12/site-packages (from camel-ai[all]==0.2.12) (3.36.0)\n",
            "Requirement already satisfied: soundfile<1,>=0 in /Users/bonianhu/miniconda3/lib/python3.12/site-packages (from camel-ai[all]==0.2.12) (0.13.1)\n",
            "Requirement already satisfied: stripe<12.0.0,>=11.3.0 in /Users/bonianhu/miniconda3/lib/python3.12/site-packages (from camel-ai[all]==0.2.12) (11.6.0)\n",
            "Requirement already satisfied: tavily-python<0.6.0,>=0.5.0 in /Users/bonianhu/miniconda3/lib/python3.12/site-packages (from camel-ai[all]==0.2.12) (0.5.4)\n",
            "Requirement already satisfied: textblob<0.19.0,>=0.18.0.post0 in /Users/bonianhu/miniconda3/lib/python3.12/site-packages (from camel-ai[all]==0.2.12) (0.18.0.post0)\n",
            "Requirement already satisfied: torch<3,>=2 in /Users/bonianhu/miniconda3/lib/python3.12/site-packages (from camel-ai[all]==0.2.12) (2.5.1)\n",
            "Requirement already satisfied: transformers<5,>=4 in /Users/bonianhu/miniconda3/lib/python3.12/site-packages (from camel-ai[all]==0.2.12) (4.53.3)\n",
            "Requirement already satisfied: unstructured<0.15,>=0.14 in /Users/bonianhu/miniconda3/lib/python3.12/site-packages (from unstructured[all-docs]<0.15,>=0.14; extra == \"rag\" or extra == \"tools\" or extra == \"all\"->camel-ai[all]==0.2.12) (0.14.10)\n",
            "Requirement already satisfied: wikipedia<2,>=1 in /Users/bonianhu/miniconda3/lib/python3.12/site-packages (from camel-ai[all]==0.2.12) (1.4.0)\n",
            "Requirement already satisfied: wolframalpha<6.0.0,>=5.0.0 in /Users/bonianhu/miniconda3/lib/python3.12/site-packages (from camel-ai[all]==0.2.12) (5.1.3)\n",
            "Requirement already satisfied: yt-dlp<2025.0.0,>=2024.11.4 in /Users/bonianhu/miniconda3/lib/python3.12/site-packages (from camel-ai[all]==0.2.12) (2024.12.23)\n",
            "Requirement already satisfied: cffi>=1.12.0 in /Users/bonianhu/miniconda3/lib/python3.12/site-packages (from curl_cffi==0.6.2->camel-ai==0.2.12->camel-ai[all]==0.2.12) (1.16.0)\n",
            "Requirement already satisfied: certifi in /Users/bonianhu/miniconda3/lib/python3.12/site-packages (from curl_cffi==0.6.2->camel-ai==0.2.12->camel-ai[all]==0.2.12) (2025.7.14)\n",
            "Requirement already satisfied: future>=0.18.0 in /Users/bonianhu/miniconda3/lib/python3.12/site-packages (from nebula3-python==3.8.2->camel-ai[all]==0.2.12) (1.0.0)\n",
            "Requirement already satisfied: httplib2>=0.20.0 in /Users/bonianhu/miniconda3/lib/python3.12/site-packages (from nebula3-python==3.8.2->camel-ai[all]==0.2.12) (0.22.0)\n",
            "Requirement already satisfied: pytz>=2021.1 in /Users/bonianhu/miniconda3/lib/python3.12/site-packages (from nebula3-python==3.8.2->camel-ai[all]==0.2.12) (2024.1)\n",
            "Requirement already satisfied: six>=1.16.0 in /Users/bonianhu/miniconda3/lib/python3.12/site-packages (from nebula3-python==3.8.2->camel-ai[all]==0.2.12) (1.16.0)\n",
            "Requirement already satisfied: click in /Users/bonianhu/miniconda3/lib/python3.12/site-packages (from nltk==3.8.1->camel-ai[all]==0.2.12) (8.1.8)\n",
            "Requirement already satisfied: joblib in /Users/bonianhu/miniconda3/lib/python3.12/site-packages (from nltk==3.8.1->camel-ai[all]==0.2.12) (1.4.2)\n",
            "Requirement already satisfied: regex>=2021.8.3 in /Users/bonianhu/miniconda3/lib/python3.12/site-packages (from nltk==3.8.1->camel-ai[all]==0.2.12) (2024.11.6)\n",
            "Requirement already satisfied: tqdm in /Users/bonianhu/miniconda3/lib/python3.12/site-packages (from nltk==3.8.1->camel-ai[all]==0.2.12) (4.66.4)\n",
            "Requirement already satisfied: arrow in /Users/bonianhu/miniconda3/lib/python3.12/site-packages (from scholarly==1.7.11->scholarly[tor]==1.7.11; extra == \"tools\" or extra == \"all\"->camel-ai[all]==0.2.12) (1.3.0)\n",
            "Requirement already satisfied: bibtexparser in /Users/bonianhu/miniconda3/lib/python3.12/site-packages (from scholarly==1.7.11->scholarly[tor]==1.7.11; extra == \"tools\" or extra == \"all\"->camel-ai[all]==0.2.12) (1.4.3)\n",
            "Requirement already satisfied: deprecated in /Users/bonianhu/miniconda3/lib/python3.12/site-packages (from scholarly==1.7.11->scholarly[tor]==1.7.11; extra == \"tools\" or extra == \"all\"->camel-ai[all]==0.2.12) (1.2.18)\n",
            "Requirement already satisfied: fake-useragent in /Users/bonianhu/miniconda3/lib/python3.12/site-packages (from scholarly==1.7.11->scholarly[tor]==1.7.11; extra == \"tools\" or extra == \"all\"->camel-ai[all]==0.2.12) (2.2.0)\n",
            "Requirement already satisfied: free-proxy in /Users/bonianhu/miniconda3/lib/python3.12/site-packages (from scholarly==1.7.11->scholarly[tor]==1.7.11; extra == \"tools\" or extra == \"all\"->camel-ai[all]==0.2.12) (1.1.3)\n",
            "Requirement already satisfied: python-dotenv in /Users/bonianhu/miniconda3/lib/python3.12/site-packages (from scholarly==1.7.11->scholarly[tor]==1.7.11; extra == \"tools\" or extra == \"all\"->camel-ai[all]==0.2.12) (1.1.1)\n",
            "Requirement already satisfied: requests[socks] in /Users/bonianhu/miniconda3/lib/python3.12/site-packages (from scholarly==1.7.11->scholarly[tor]==1.7.11; extra == \"tools\" or extra == \"all\"->camel-ai[all]==0.2.12) (2.32.3)\n",
            "Requirement already satisfied: selenium in /Users/bonianhu/miniconda3/lib/python3.12/site-packages (from scholarly==1.7.11->scholarly[tor]==1.7.11; extra == \"tools\" or extra == \"all\"->camel-ai[all]==0.2.12) (4.34.2)\n",
            "Requirement already satisfied: sphinx-rtd-theme in /Users/bonianhu/miniconda3/lib/python3.12/site-packages (from scholarly==1.7.11->scholarly[tor]==1.7.11; extra == \"tools\" or extra == \"all\"->camel-ai[all]==0.2.12) (3.0.2)\n",
            "Requirement already satisfied: typing-extensions in /Users/bonianhu/miniconda3/lib/python3.12/site-packages (from scholarly==1.7.11->scholarly[tor]==1.7.11; extra == \"tools\" or extra == \"all\"->camel-ai[all]==0.2.12) (4.14.1)\n",
            "Requirement already satisfied: stem in /Users/bonianhu/miniconda3/lib/python3.12/site-packages (from scholarly[tor]==1.7.11; extra == \"tools\" or extra == \"all\"->camel-ai[all]==0.2.12) (1.8.2)\n",
            "Requirement already satisfied: packaging>=20.0 in /Users/bonianhu/miniconda3/lib/python3.12/site-packages (from accelerate<1,>=0->camel-ai[all]==0.2.12) (24.1)\n",
            "Requirement already satisfied: psutil in /Users/bonianhu/miniconda3/lib/python3.12/site-packages (from accelerate<1,>=0->camel-ai[all]==0.2.12) (6.0.0)\n",
            "Requirement already satisfied: huggingface-hub>=0.21.0 in /Users/bonianhu/miniconda3/lib/python3.12/site-packages (from accelerate<1,>=0->camel-ai[all]==0.2.12) (0.33.5)\n",
            "Requirement already satisfied: safetensors>=0.4.3 in /Users/bonianhu/miniconda3/lib/python3.12/site-packages (from accelerate<1,>=0->camel-ai[all]==0.2.12) (0.5.3)\n",
            "Requirement already satisfied: opentelemetry-api>=1.27.0 in /Users/bonianhu/miniconda3/lib/python3.12/site-packages (from agentops<0.4.0,>=0.3.21->camel-ai[all]==0.2.12) (1.27.0)\n",
            "Requirement already satisfied: opentelemetry-exporter-otlp-proto-http>=1.27.0 in /Users/bonianhu/miniconda3/lib/python3.12/site-packages (from agentops<0.4.0,>=0.3.21->camel-ai[all]==0.2.12) (1.27.0)\n",
            "Requirement already satisfied: opentelemetry-sdk>=1.27.0 in /Users/bonianhu/miniconda3/lib/python3.12/site-packages (from agentops<0.4.0,>=0.3.21->camel-ai[all]==0.2.12) (1.27.0)\n",
            "Requirement already satisfied: termcolor<2.5.0,>=2.3.0 in /Users/bonianhu/miniconda3/lib/python3.12/site-packages (from agentops<0.4.0,>=0.3.21->camel-ai[all]==0.2.12) (2.4.0)\n",
            "Requirement already satisfied: anyio<5,>=3.5.0 in /Users/bonianhu/miniconda3/lib/python3.12/site-packages (from anthropic<0.41.0,>=0.40.0->camel-ai[all]==0.2.12) (4.7.0)\n",
            "Requirement already satisfied: distro<2,>=1.7.0 in /Users/bonianhu/miniconda3/lib/python3.12/site-packages (from anthropic<0.41.0,>=0.40.0->camel-ai[all]==0.2.12) (1.9.0)\n",
            "Requirement already satisfied: jiter<1,>=0.4.0 in /Users/bonianhu/miniconda3/lib/python3.12/site-packages (from anthropic<0.41.0,>=0.40.0->camel-ai[all]==0.2.12) (0.10.0)\n",
            "Requirement already satisfied: sniffio in /Users/bonianhu/miniconda3/lib/python3.12/site-packages (from anthropic<0.41.0,>=0.40.0->camel-ai[all]==0.2.12) (1.3.1)\n",
            "Requirement already satisfied: apify-shared>=1.4.1 in /Users/bonianhu/miniconda3/lib/python3.12/site-packages (from apify_client<2.0.0,>=1.8.1->camel-ai[all]==0.2.12) (1.4.1)\n",
            "Requirement already satisfied: more-itertools>=10.0.0 in /Users/bonianhu/miniconda3/lib/python3.12/site-packages (from apify_client<2.0.0,>=1.8.1->camel-ai[all]==0.2.12) (10.7.0)\n",
            "Requirement already satisfied: feedparser~=6.0.10 in /Users/bonianhu/miniconda3/lib/python3.12/site-packages (from arxiv<3.0.0,>=2.1.3->camel-ai[all]==0.2.12) (6.0.11)\n",
            "Requirement already satisfied: pdfminer-six in /Users/bonianhu/miniconda3/lib/python3.12/site-packages (from arxiv2text<0.2.0,>=0.1.14->camel-ai[all]==0.2.12) (20250506)\n",
            "Requirement already satisfied: scikit-learn in /Users/bonianhu/miniconda3/lib/python3.12/site-packages (from arxiv2text<0.2.0,>=0.1.14->camel-ai[all]==0.2.12) (1.6.0)\n",
            "Requirement already satisfied: PyPDF2 in /Users/bonianhu/miniconda3/lib/python3.12/site-packages (from arxiv2text<0.2.0,>=0.1.14->camel-ai[all]==0.2.12) (3.0.1)\n",
            "Requirement already satisfied: asgiref<4.0.0,>=3.7.2 in /Users/bonianhu/miniconda3/lib/python3.12/site-packages (from asknews<0.8.0,>=0.7.54->camel-ai[all]==0.2.12) (3.9.1)\n",
            "Requirement already satisfied: cryptography<42.0.7,>=40.0.0 in /Users/bonianhu/miniconda3/lib/python3.12/site-packages (from asknews<0.8.0,>=0.7.54->camel-ai[all]==0.2.12) (42.0.5)\n",
            "Requirement already satisfied: orjson<4.0.0,>=3.9.10 in /Users/bonianhu/miniconda3/lib/python3.12/site-packages (from asknews<0.8.0,>=0.7.54->camel-ai[all]==0.2.12) (3.11.0)\n",
            "Requirement already satisfied: azure-core>=1.30.0 in /Users/bonianhu/miniconda3/lib/python3.12/site-packages (from azure-storage-blob<13.0.0,>=12.21.0->camel-ai[all]==0.2.12) (1.35.0)\n",
            "Requirement already satisfied: isodate>=0.6.1 in /Users/bonianhu/miniconda3/lib/python3.12/site-packages (from azure-storage-blob<13.0.0,>=12.21.0->camel-ai[all]==0.2.12) (0.7.2)\n",
            "Requirement already satisfied: soupsieve>1.2 in /Users/bonianhu/miniconda3/lib/python3.12/site-packages (from beautifulsoup4<5,>=4->camel-ai[all]==0.2.12) (2.6)\n",
            "Requirement already satisfied: jmespath<2.0.0,>=0.7.1 in /Users/bonianhu/miniconda3/lib/python3.12/site-packages (from botocore<2.0.0,>=1.35.3->camel-ai[all]==0.2.12) (1.0.1)\n",
            "Requirement already satisfied: python-dateutil<3.0.0,>=2.1 in /Users/bonianhu/miniconda3/lib/python3.12/site-packages (from botocore<2.0.0,>=1.35.3->camel-ai[all]==0.2.12) (2.9.0.post0)\n",
            "Requirement already satisfied: urllib3!=2.2.0,<3,>=1.25.4 in /Users/bonianhu/miniconda3/lib/python3.12/site-packages (from botocore<2.0.0,>=1.35.3->camel-ai[all]==0.2.12) (2.5.0)\n",
            "Requirement already satisfied: fastavro<2.0.0,>=1.9.4 in /Users/bonianhu/miniconda3/lib/python3.12/site-packages (from cohere<6.0.0,>=5.11.0->camel-ai[all]==0.2.12) (1.11.1)\n",
            "Requirement already satisfied: httpx-sse==0.4.0 in /Users/bonianhu/miniconda3/lib/python3.12/site-packages (from cohere<6.0.0,>=5.11.0->camel-ai[all]==0.2.12) (0.4.0)\n",
            "Requirement already satisfied: pydantic-core<3.0.0,>=2.18.2 in /Users/bonianhu/miniconda3/lib/python3.12/site-packages (from cohere<6.0.0,>=5.11.0->camel-ai[all]==0.2.12) (2.23.4)\n",
            "Requirement already satisfied: tokenizers<1,>=0.15 in /Users/bonianhu/miniconda3/lib/python3.12/site-packages (from cohere<6.0.0,>=5.11.0->camel-ai[all]==0.2.12) (0.21.2)\n",
            "Requirement already satisfied: types-requests<3.0.0,>=2.0.0 in /Users/bonianhu/miniconda3/lib/python3.12/site-packages (from cohere<6.0.0,>=5.11.0->camel-ai[all]==0.2.12) (2.32.4.20250611)\n",
            "Requirement already satisfied: pandas in /Users/bonianhu/miniconda3/lib/python3.12/site-packages (from datacommons_pandas<0.0.4,>=0.0.3->camel-ai[all]==0.2.12) (2.2.3)\n",
            "Requirement already satisfied: filelock in /Users/bonianhu/miniconda3/lib/python3.12/site-packages (from datasets<3,>=2->camel-ai[all]==0.2.12) (3.16.1)\n",
            "Requirement already satisfied: pyarrow>=15.0.0 in /Users/bonianhu/miniconda3/lib/python3.12/site-packages (from datasets<3,>=2->camel-ai[all]==0.2.12) (18.1.0)\n",
            "Requirement already satisfied: dill<0.3.9,>=0.3.0 in /Users/bonianhu/miniconda3/lib/python3.12/site-packages (from datasets<3,>=2->camel-ai[all]==0.2.12) (0.3.8)\n",
            "Requirement already satisfied: xxhash in /Users/bonianhu/miniconda3/lib/python3.12/site-packages (from datasets<3,>=2->camel-ai[all]==0.2.12) (3.5.0)\n",
            "Requirement already satisfied: multiprocess in /Users/bonianhu/miniconda3/lib/python3.12/site-packages (from datasets<3,>=2->camel-ai[all]==0.2.12) (0.70.16)\n",
            "Requirement already satisfied: fsspec<=2024.6.1,>=2023.1.0 in /Users/bonianhu/miniconda3/lib/python3.12/site-packages (from fsspec[http]<=2024.6.1,>=2023.1.0->datasets<3,>=2->camel-ai[all]==0.2.12) (2024.6.1)\n",
            "Requirement already satisfied: aiohttp in /Users/bonianhu/miniconda3/lib/python3.12/site-packages (from datasets<3,>=2->camel-ai[all]==0.2.12) (3.11.11)\n",
            "Requirement already satisfied: importlib_metadata in /Users/bonianhu/miniconda3/lib/python3.12/site-packages (from diffusers<1,>=0->camel-ai[all]==0.2.12) (8.4.0)\n",
            "Requirement already satisfied: primp>=0.9.1 in /Users/bonianhu/miniconda3/lib/python3.12/site-packages (from duckduckgo-search<7.0.0,>=6.2.12->camel-ai[all]==0.2.12) (0.15.0)\n",
            "Requirement already satisfied: attrs>=21.3.0 in /Users/bonianhu/miniconda3/lib/python3.12/site-packages (from e2b-code-interpreter<2.0.0,>=1.0.3->camel-ai[all]==0.2.12) (24.3.0)\n",
            "Requirement already satisfied: e2b<2.0.0,>=1.3.1 in /Users/bonianhu/miniconda3/lib/python3.12/site-packages (from e2b-code-interpreter<2.0.0,>=1.0.3->camel-ai[all]==0.2.12) (1.3.3)\n",
            "Requirement already satisfied: websockets in /Users/bonianhu/miniconda3/lib/python3.12/site-packages (from firecrawl-py<2.0.0,>=1.0.0->camel-ai[all]==0.2.12) (10.4)\n",
            "Requirement already satisfied: nest-asyncio in /Users/bonianhu/miniconda3/lib/python3.12/site-packages (from firecrawl-py<2.0.0,>=1.0.0->camel-ai[all]==0.2.12) (1.6.0)\n",
            "Requirement already satisfied: google-auth<3.0dev,>=2.26.1 in /Users/bonianhu/miniconda3/lib/python3.12/site-packages (from google-cloud-storage<3.0.0,>=2.18.0->camel-ai[all]==0.2.12) (2.37.0)\n",
            "Requirement already satisfied: google-api-core<3.0.0dev,>=2.15.0 in /Users/bonianhu/miniconda3/lib/python3.12/site-packages (from google-cloud-storage<3.0.0,>=2.18.0->camel-ai[all]==0.2.12) (2.24.0)\n",
            "Requirement already satisfied: google-cloud-core<3.0dev,>=2.3.0 in /Users/bonianhu/miniconda3/lib/python3.12/site-packages (from google-cloud-storage<3.0.0,>=2.18.0->camel-ai[all]==0.2.12) (2.4.3)\n",
            "Requirement already satisfied: google-resumable-media>=2.7.2 in /Users/bonianhu/miniconda3/lib/python3.12/site-packages (from google-cloud-storage<3.0.0,>=2.18.0->camel-ai[all]==0.2.12) (2.7.2)\n",
            "Requirement already satisfied: google-crc32c<2.0dev,>=1.0 in /Users/bonianhu/miniconda3/lib/python3.12/site-packages (from google-cloud-storage<3.0.0,>=2.18.0->camel-ai[all]==0.2.12) (1.7.1)\n",
            "Requirement already satisfied: google-ai-generativelanguage==0.6.4 in /Users/bonianhu/miniconda3/lib/python3.12/site-packages (from google-generativeai<0.7.0,>=0.6.0->camel-ai[all]==0.2.12) (0.6.4)\n",
            "Requirement already satisfied: google-api-python-client in /Users/bonianhu/miniconda3/lib/python3.12/site-packages (from google-generativeai<0.7.0,>=0.6.0->camel-ai[all]==0.2.12) (2.156.0)\n",
            "Requirement already satisfied: proto-plus<2.0.0dev,>=1.22.3 in /Users/bonianhu/miniconda3/lib/python3.12/site-packages (from google-ai-generativelanguage==0.6.4->google-generativeai<0.7.0,>=0.6.0->camel-ai[all]==0.2.12) (1.25.0)\n",
            "Requirement already satisfied: httpcore==1.* in /Users/bonianhu/miniconda3/lib/python3.12/site-packages (from httpx<0.27.3,>=0.23.0->camel-ai==0.2.12->camel-ai[all]==0.2.12) (1.0.7)\n",
            "Requirement already satisfied: idna in /Users/bonianhu/miniconda3/lib/python3.12/site-packages (from httpx<0.27.3,>=0.23.0->camel-ai==0.2.12->camel-ai[all]==0.2.12) (3.7)\n",
            "Requirement already satisfied: h11<0.15,>=0.13 in /Users/bonianhu/miniconda3/lib/python3.12/site-packages (from httpcore==1.*->httpx<0.27.3,>=0.23.0->camel-ai==0.2.12->camel-ai[all]==0.2.12) (0.14.0)\n",
            "Requirement already satisfied: av in /Users/bonianhu/miniconda3/lib/python3.12/site-packages (from imageio[pyav]<3.0.0,>=2.34.2; extra == \"tools\" or extra == \"all\"->camel-ai[all]==0.2.12) (15.0.0)\n",
            "Requirement already satisfied: appnope in /Users/bonianhu/miniconda3/lib/python3.12/site-packages (from ipykernel<7.0.0,>=6.0.0->camel-ai[all]==0.2.12) (0.1.4)\n",
            "Requirement already satisfied: comm>=0.1.1 in /Users/bonianhu/miniconda3/lib/python3.12/site-packages (from ipykernel<7.0.0,>=6.0.0->camel-ai[all]==0.2.12) (0.2.2)\n",
            "Requirement already satisfied: debugpy>=1.6.5 in /Users/bonianhu/miniconda3/lib/python3.12/site-packages (from ipykernel<7.0.0,>=6.0.0->camel-ai[all]==0.2.12) (1.8.11)\n",
            "Requirement already satisfied: ipython>=7.23.1 in /Users/bonianhu/miniconda3/lib/python3.12/site-packages (from ipykernel<7.0.0,>=6.0.0->camel-ai[all]==0.2.12) (8.31.0)\n",
            "Requirement already satisfied: jupyter-core!=5.0.*,>=4.12 in /Users/bonianhu/miniconda3/lib/python3.12/site-packages (from ipykernel<7.0.0,>=6.0.0->camel-ai[all]==0.2.12) (5.7.2)\n",
            "Requirement already satisfied: matplotlib-inline>=0.1 in /Users/bonianhu/miniconda3/lib/python3.12/site-packages (from ipykernel<7.0.0,>=6.0.0->camel-ai[all]==0.2.12) (0.1.7)\n",
            "Requirement already satisfied: pyzmq>=24 in /Users/bonianhu/miniconda3/lib/python3.12/site-packages (from ipykernel<7.0.0,>=6.0.0->camel-ai[all]==0.2.12) (26.2.0)\n",
            "Requirement already satisfied: tornado>=6.1 in /Users/bonianhu/miniconda3/lib/python3.12/site-packages (from ipykernel<7.0.0,>=6.0.0->camel-ai[all]==0.2.12) (6.4.2)\n",
            "Requirement already satisfied: traitlets>=5.4.0 in /Users/bonianhu/miniconda3/lib/python3.12/site-packages (from ipykernel<7.0.0,>=6.0.0->camel-ai[all]==0.2.12) (5.14.3)\n",
            "Requirement already satisfied: jsonschema-specifications>=2023.03.6 in /Users/bonianhu/miniconda3/lib/python3.12/site-packages (from jsonschema<5,>=4->camel-ai==0.2.12->camel-ai[all]==0.2.12) (2024.10.1)\n",
            "Requirement already satisfied: referencing>=0.28.4 in /Users/bonianhu/miniconda3/lib/python3.12/site-packages (from jsonschema<5,>=4->camel-ai==0.2.12->camel-ai[all]==0.2.12) (0.35.1)\n",
            "Requirement already satisfied: rpds-py>=0.7.1 in /Users/bonianhu/miniconda3/lib/python3.12/site-packages (from jsonschema<5,>=4->camel-ai==0.2.12->camel-ai[all]==0.2.12) (0.22.3)\n",
            "Requirement already satisfied: jinja2<4.0.0,>=3.1.2 in /Users/bonianhu/miniconda3/lib/python3.12/site-packages (from litellm<2.0.0,>=1.38.1->camel-ai[all]==0.2.12) (3.1.4)\n",
            "Requirement already satisfied: jsonpath-python>=1.0.6 in /Users/bonianhu/miniconda3/lib/python3.12/site-packages (from mistralai<2.0.0,>=1.1.0->camel-ai[all]==0.2.12) (1.0.6)\n",
            "Requirement already satisfied: typing-inspect>=0.9.0 in /Users/bonianhu/miniconda3/lib/python3.12/site-packages (from mistralai<2.0.0,>=1.1.0->camel-ai[all]==0.2.12) (0.9.0)\n",
            "Requirement already satisfied: cssselect>=0.9.2 in /Users/bonianhu/miniconda3/lib/python3.12/site-packages (from newspaper3k<0.3.0,>=0.2.8->camel-ai[all]==0.2.12) (1.3.0)\n",
            "Requirement already satisfied: lxml>=3.6.0 in /Users/bonianhu/miniconda3/lib/python3.12/site-packages (from newspaper3k<0.3.0,>=0.2.8->camel-ai[all]==0.2.12) (5.3.0)\n",
            "Requirement already satisfied: tldextract>=2.0.1 in /Users/bonianhu/miniconda3/lib/python3.12/site-packages (from newspaper3k<0.3.0,>=0.2.8->camel-ai[all]==0.2.12) (5.3.0)\n",
            "Requirement already satisfied: feedfinder2>=0.0.4 in /Users/bonianhu/miniconda3/lib/python3.12/site-packages (from newspaper3k<0.3.0,>=0.2.8->camel-ai[all]==0.2.12) (0.0.4)\n",
            "Requirement already satisfied: jieba3k>=0.35.1 in /Users/bonianhu/miniconda3/lib/python3.12/site-packages (from newspaper3k<0.3.0,>=0.2.8->camel-ai[all]==0.2.12) (0.35.1)\n",
            "Requirement already satisfied: tinysegmenter==0.3 in /Users/bonianhu/miniconda3/lib/python3.12/site-packages (from newspaper3k<0.3.0,>=0.2.8->camel-ai[all]==0.2.12) (0.3)\n",
            "Requirement already satisfied: jsonschema-path<0.4.0,>=0.3.1 in /Users/bonianhu/miniconda3/lib/python3.12/site-packages (from openapi-spec-validator<0.8.0,>=0.7.1->camel-ai[all]==0.2.12) (0.3.4)\n",
            "Requirement already satisfied: lazy-object-proxy<2.0.0,>=1.7.1 in /Users/bonianhu/miniconda3/lib/python3.12/site-packages (from openapi-spec-validator<0.8.0,>=0.7.1->camel-ai[all]==0.2.12) (1.11.0)\n",
            "Requirement already satisfied: openapi-schema-validator<0.7.0,>=0.6.0 in /Users/bonianhu/miniconda3/lib/python3.12/site-packages (from openapi-spec-validator<0.8.0,>=0.7.1->camel-ai[all]==0.2.12) (0.6.3)\n",
            "Requirement already satisfied: pypdfium2>=4.18.0 in /Users/bonianhu/miniconda3/lib/python3.12/site-packages (from pdfplumber<0.12.0,>=0.11.0->camel-ai[all]==0.2.12) (4.30.0)\n",
            "Requirement already satisfied: charset-normalizer>=2.0.0 in /Users/bonianhu/miniconda3/lib/python3.12/site-packages (from pdfminer-six->arxiv2text<0.2.0,>=0.1.14->camel-ai[all]==0.2.12) (3.3.2)\n",
            "Requirement already satisfied: chardet>=3.0 in /Users/bonianhu/miniconda3/lib/python3.12/site-packages (from prance<24.0.0.0,>=23.6.21.0->camel-ai[all]==0.2.12) (5.2.0)\n",
            "Requirement already satisfied: ruamel.yaml>=0.17.10 in /Users/bonianhu/miniconda3/lib/python3.12/site-packages (from prance<24.0.0.0,>=23.6.21.0->camel-ai[all]==0.2.12) (0.17.21)\n",
            "Requirement already satisfied: prawcore<3,>=2.4 in /Users/bonianhu/miniconda3/lib/python3.12/site-packages (from praw<8.0.0,>=7.7.1->camel-ai[all]==0.2.12) (2.4.0)\n",
            "Requirement already satisfied: update_checker>=0.18 in /Users/bonianhu/miniconda3/lib/python3.12/site-packages (from praw<8.0.0,>=7.7.1->camel-ai[all]==0.2.12) (0.18.0)\n",
            "Requirement already satisfied: websocket-client>=0.54.0 in /Users/bonianhu/miniconda3/lib/python3.12/site-packages (from praw<8.0.0,>=7.7.1->camel-ai[all]==0.2.12) (1.8.0)\n",
            "Requirement already satisfied: annotated-types>=0.6.0 in /Users/bonianhu/miniconda3/lib/python3.12/site-packages (from pydantic<2.10,>=1.9->camel-ai==0.2.12->camel-ai[all]==0.2.12) (0.7.0)\n",
            "Requirement already satisfied: pynacl>=1.4.0 in /Users/bonianhu/miniconda3/lib/python3.12/site-packages (from pygithub<3.0.0,>=2.3.0->camel-ai[all]==0.2.12) (1.5.0)\n",
            "Requirement already satisfied: pyjwt>=2.4.0 in /Users/bonianhu/miniconda3/lib/python3.12/site-packages (from pyjwt[crypto]>=2.4.0->pygithub<3.0.0,>=2.3.0->camel-ai[all]==0.2.12) (2.9.0)\n",
            "Requirement already satisfied: setuptools>69 in /Users/bonianhu/miniconda3/lib/python3.12/site-packages (from pymilvus<3.0.0,>=2.4.0->camel-ai[all]==0.2.12) (72.1.0)\n",
            "Requirement already satisfied: grpcio<=1.67.1,>=1.49.1 in /Users/bonianhu/miniconda3/lib/python3.12/site-packages (from pymilvus<3.0.0,>=2.4.0->camel-ai[all]==0.2.12) (1.67.1)\n",
            "Requirement already satisfied: ujson>=2.0.0 in /Users/bonianhu/miniconda3/lib/python3.12/site-packages (from pymilvus<3.0.0,>=2.4.0->camel-ai[all]==0.2.12) (5.10.0)\n",
            "Requirement already satisfied: milvus-lite>=2.4.0 in /Users/bonianhu/miniconda3/lib/python3.12/site-packages (from pymilvus<3.0.0,>=2.4.0->camel-ai[all]==0.2.12) (2.5.1)\n",
            "Requirement already satisfied: geojson<3,>=2.3.0 in /Users/bonianhu/miniconda3/lib/python3.12/site-packages (from pyowm<4.0.0,>=3.3.0->camel-ai[all]==0.2.12) (2.5.0)\n",
            "Requirement already satisfied: PySocks<2,>=1.7.1 in /Users/bonianhu/miniconda3/lib/python3.12/site-packages (from pyowm<4.0.0,>=3.3.0->camel-ai[all]==0.2.12) (1.7.1)\n",
            "Requirement already satisfied: portalocker<4.0,>=2.7.0 in /Users/bonianhu/miniconda3/lib/python3.12/site-packages (from qdrant-client<2.0.0,>=1.9.0->camel-ai[all]==0.2.12) (3.2.0)\n",
            "Requirement already satisfied: oauthlib>=3.0.0 in /Users/bonianhu/miniconda3/lib/python3.12/site-packages (from requests_oauthlib<2.0.0,>=1.3.1->camel-ai[all]==0.2.12) (3.2.2)\n",
            "Requirement already satisfied: scipy in /Users/bonianhu/miniconda3/lib/python3.12/site-packages (from sentence-transformers<4.0.0,>=3.0.1->camel-ai[all]==0.2.12) (1.14.1)\n",
            "Requirement already satisfied: setproctitle in /Users/bonianhu/miniconda3/lib/python3.12/site-packages (from sglang<0.5.0,>=0.4.0->camel-ai[all]==0.2.12) (1.3.4)\n",
            "Requirement already satisfied: sympy==1.13.1 in /Users/bonianhu/miniconda3/lib/python3.12/site-packages (from torch<3,>=2->camel-ai[all]==0.2.12) (1.13.1)\n",
            "Requirement already satisfied: networkx in /Users/bonianhu/miniconda3/lib/python3.12/site-packages (from torch<3,>=2->camel-ai[all]==0.2.12) (3.4.2)\n",
            "Requirement already satisfied: mpmath<1.4,>=1.1.0 in /Users/bonianhu/miniconda3/lib/python3.12/site-packages (from sympy==1.13.1->torch<3,>=2->camel-ai[all]==0.2.12) (1.3.0)\n",
            "Requirement already satisfied: filetype in /Users/bonianhu/miniconda3/lib/python3.12/site-packages (from unstructured<0.15,>=0.14->unstructured[all-docs]<0.15,>=0.14; extra == \"rag\" or extra == \"tools\" or extra == \"all\"->camel-ai[all]==0.2.12) (1.2.0)\n",
            "Requirement already satisfied: python-magic in /Users/bonianhu/miniconda3/lib/python3.12/site-packages (from unstructured<0.15,>=0.14->unstructured[all-docs]<0.15,>=0.14; extra == \"rag\" or extra == \"tools\" or extra == \"all\"->camel-ai[all]==0.2.12) (0.4.27)\n",
            "Requirement already satisfied: tabulate in /Users/bonianhu/miniconda3/lib/python3.12/site-packages (from unstructured<0.15,>=0.14->unstructured[all-docs]<0.15,>=0.14; extra == \"rag\" or extra == \"tools\" or extra == \"all\"->camel-ai[all]==0.2.12) (0.9.0)\n",
            "Requirement already satisfied: emoji in /Users/bonianhu/miniconda3/lib/python3.12/site-packages (from unstructured<0.15,>=0.14->unstructured[all-docs]<0.15,>=0.14; extra == \"rag\" or extra == \"tools\" or extra == \"all\"->camel-ai[all]==0.2.12) (2.14.1)\n",
            "Requirement already satisfied: dataclasses-json in /Users/bonianhu/miniconda3/lib/python3.12/site-packages (from unstructured<0.15,>=0.14->unstructured[all-docs]<0.15,>=0.14; extra == \"rag\" or extra == \"tools\" or extra == \"all\"->camel-ai[all]==0.2.12) (0.6.7)\n",
            "Requirement already satisfied: python-iso639 in /Users/bonianhu/miniconda3/lib/python3.12/site-packages (from unstructured<0.15,>=0.14->unstructured[all-docs]<0.15,>=0.14; extra == \"rag\" or extra == \"tools\" or extra == \"all\"->camel-ai[all]==0.2.12) (2025.2.18)\n",
            "Requirement already satisfied: langdetect in /Users/bonianhu/miniconda3/lib/python3.12/site-packages (from unstructured<0.15,>=0.14->unstructured[all-docs]<0.15,>=0.14; extra == \"rag\" or extra == \"tools\" or extra == \"all\"->camel-ai[all]==0.2.12) (1.0.9)\n",
            "Requirement already satisfied: rapidfuzz in /Users/bonianhu/miniconda3/lib/python3.12/site-packages (from unstructured<0.15,>=0.14->unstructured[all-docs]<0.15,>=0.14; extra == \"rag\" or extra == \"tools\" or extra == \"all\"->camel-ai[all]==0.2.12) (3.13.0)\n",
            "Requirement already satisfied: backoff in /Users/bonianhu/miniconda3/lib/python3.12/site-packages (from unstructured<0.15,>=0.14->unstructured[all-docs]<0.15,>=0.14; extra == \"rag\" or extra == \"tools\" or extra == \"all\"->camel-ai[all]==0.2.12) (2.2.1)\n",
            "Requirement already satisfied: unstructured-client in /Users/bonianhu/miniconda3/lib/python3.12/site-packages (from unstructured<0.15,>=0.14->unstructured[all-docs]<0.15,>=0.14; extra == \"rag\" or extra == \"tools\" or extra == \"all\"->camel-ai[all]==0.2.12) (0.28.1)\n",
            "Requirement already satisfied: wrapt in /Users/bonianhu/miniconda3/lib/python3.12/site-packages (from unstructured<0.15,>=0.14->unstructured[all-docs]<0.15,>=0.14; extra == \"rag\" or extra == \"tools\" or extra == \"all\"->camel-ai[all]==0.2.12) (1.14.1)\n",
            "Requirement already satisfied: pillow-heif in /Users/bonianhu/miniconda3/lib/python3.12/site-packages (from unstructured[all-docs]<0.15,>=0.14; extra == \"rag\" or extra == \"tools\" or extra == \"all\"->camel-ai[all]==0.2.12) (0.22.0)\n",
            "Requirement already satisfied: pypandoc in /Users/bonianhu/miniconda3/lib/python3.12/site-packages (from unstructured[all-docs]<0.15,>=0.14; extra == \"rag\" or extra == \"tools\" or extra == \"all\"->camel-ai[all]==0.2.12) (1.15)\n",
            "Requirement already satisfied: pdf2image in /Users/bonianhu/miniconda3/lib/python3.12/site-packages (from unstructured[all-docs]<0.15,>=0.14; extra == \"rag\" or extra == \"tools\" or extra == \"all\"->camel-ai[all]==0.2.12) (1.17.0)\n",
            "Requirement already satisfied: unstructured.pytesseract>=0.3.12 in /Users/bonianhu/miniconda3/lib/python3.12/site-packages (from unstructured[all-docs]<0.15,>=0.14; extra == \"rag\" or extra == \"tools\" or extra == \"all\"->camel-ai[all]==0.2.12) (0.3.15)\n",
            "Requirement already satisfied: python-oxmsg in /Users/bonianhu/miniconda3/lib/python3.12/site-packages (from unstructured[all-docs]<0.15,>=0.14; extra == \"rag\" or extra == \"tools\" or extra == \"all\"->camel-ai[all]==0.2.12) (0.0.2)\n",
            "Requirement already satisfied: pikepdf in /Users/bonianhu/miniconda3/lib/python3.12/site-packages (from unstructured[all-docs]<0.15,>=0.14; extra == \"rag\" or extra == \"tools\" or extra == \"all\"->camel-ai[all]==0.2.12) (9.10.2)\n",
            "Requirement already satisfied: effdet in /Users/bonianhu/miniconda3/lib/python3.12/site-packages (from unstructured[all-docs]<0.15,>=0.14; extra == \"rag\" or extra == \"tools\" or extra == \"all\"->camel-ai[all]==0.2.12) (0.4.1)\n",
            "Requirement already satisfied: google-cloud-vision in /Users/bonianhu/miniconda3/lib/python3.12/site-packages (from unstructured[all-docs]<0.15,>=0.14; extra == \"rag\" or extra == \"tools\" or extra == \"all\"->camel-ai[all]==0.2.12) (3.10.2)\n",
            "Requirement already satisfied: pypdf in /Users/bonianhu/miniconda3/lib/python3.12/site-packages (from unstructured[all-docs]<0.15,>=0.14; extra == \"rag\" or extra == \"tools\" or extra == \"all\"->camel-ai[all]==0.2.12) (5.8.0)\n",
            "Requirement already satisfied: openpyxl in /Users/bonianhu/miniconda3/lib/python3.12/site-packages (from unstructured[all-docs]<0.15,>=0.14; extra == \"rag\" or extra == \"tools\" or extra == \"all\"->camel-ai[all]==0.2.12) (3.1.5)\n",
            "Requirement already satisfied: unstructured-inference==0.7.36 in /Users/bonianhu/miniconda3/lib/python3.12/site-packages (from unstructured[all-docs]<0.15,>=0.14; extra == \"rag\" or extra == \"tools\" or extra == \"all\"->camel-ai[all]==0.2.12) (0.7.36)\n",
            "Requirement already satisfied: onnx in /Users/bonianhu/miniconda3/lib/python3.12/site-packages (from unstructured[all-docs]<0.15,>=0.14; extra == \"rag\" or extra == \"tools\" or extra == \"all\"->camel-ai[all]==0.2.12) (1.18.0)\n",
            "Requirement already satisfied: pytesseract in /Users/bonianhu/miniconda3/lib/python3.12/site-packages (from unstructured[all-docs]<0.15,>=0.14; extra == \"rag\" or extra == \"tools\" or extra == \"all\"->camel-ai[all]==0.2.12) (0.3.13)\n",
            "Requirement already satisfied: markdown in /Users/bonianhu/miniconda3/lib/python3.12/site-packages (from unstructured[all-docs]<0.15,>=0.14; extra == \"rag\" or extra == \"tools\" or extra == \"all\"->camel-ai[all]==0.2.12) (3.4.1)\n",
            "Requirement already satisfied: python-docx>=1.1.2 in /Users/bonianhu/miniconda3/lib/python3.12/site-packages (from unstructured[all-docs]<0.15,>=0.14; extra == \"rag\" or extra == \"tools\" or extra == \"all\"->camel-ai[all]==0.2.12) (1.2.0)\n",
            "Requirement already satisfied: python-pptx<=0.6.23 in /Users/bonianhu/miniconda3/lib/python3.12/site-packages (from unstructured[all-docs]<0.15,>=0.14; extra == \"rag\" or extra == \"tools\" or extra == \"all\"->camel-ai[all]==0.2.12) (0.6.23)\n",
            "Requirement already satisfied: xlrd in /Users/bonianhu/miniconda3/lib/python3.12/site-packages (from unstructured[all-docs]<0.15,>=0.14; extra == \"rag\" or extra == \"tools\" or extra == \"all\"->camel-ai[all]==0.2.12) (2.0.2)\n",
            "Requirement already satisfied: layoutparser in /Users/bonianhu/miniconda3/lib/python3.12/site-packages (from unstructured-inference==0.7.36->unstructured[all-docs]<0.15,>=0.14; extra == \"rag\" or extra == \"tools\" or extra == \"all\"->camel-ai[all]==0.2.12) (0.3.4)\n",
            "Requirement already satisfied: python-multipart in /Users/bonianhu/miniconda3/lib/python3.12/site-packages (from unstructured-inference==0.7.36->unstructured[all-docs]<0.15,>=0.14; extra == \"rag\" or extra == \"tools\" or extra == \"all\"->camel-ai[all]==0.2.12) (0.0.20)\n",
            "Requirement already satisfied: onnxruntime>=1.17.0 in /Users/bonianhu/miniconda3/lib/python3.12/site-packages (from unstructured-inference==0.7.36->unstructured[all-docs]<0.15,>=0.14; extra == \"rag\" or extra == \"tools\" or extra == \"all\"->camel-ai[all]==0.2.12) (1.22.1)\n",
            "Requirement already satisfied: matplotlib in /Users/bonianhu/miniconda3/lib/python3.12/site-packages (from unstructured-inference==0.7.36->unstructured[all-docs]<0.15,>=0.14; extra == \"rag\" or extra == \"tools\" or extra == \"all\"->camel-ai[all]==0.2.12) (3.9.2)\n",
            "Requirement already satisfied: timm in /Users/bonianhu/miniconda3/lib/python3.12/site-packages (from unstructured-inference==0.7.36->unstructured[all-docs]<0.15,>=0.14; extra == \"rag\" or extra == \"tools\" or extra == \"all\"->camel-ai[all]==0.2.12) (1.0.19)\n",
            "Requirement already satisfied: xmltodict in /Users/bonianhu/miniconda3/lib/python3.12/site-packages (from wolframalpha<6.0.0,>=5.0.0->camel-ai[all]==0.2.12) (0.14.2)\n",
            "Requirement already satisfied: jaraco.context in /Users/bonianhu/miniconda3/lib/python3.12/site-packages (from wolframalpha<6.0.0,>=5.0.0->camel-ai[all]==0.2.12) (6.0.1)\n",
            "Requirement already satisfied: multidict in /Users/bonianhu/miniconda3/lib/python3.12/site-packages (from wolframalpha<6.0.0,>=5.0.0->camel-ai[all]==0.2.12) (6.1.0)\n",
            "Requirement already satisfied: plumbum in /Users/bonianhu/miniconda3/lib/python3.12/site-packages (from pandoc->camel-ai==0.2.12->camel-ai[all]==0.2.12) (1.9.0)\n",
            "Requirement already satisfied: ply in /Users/bonianhu/miniconda3/lib/python3.12/site-packages (from pandoc->camel-ai==0.2.12->camel-ai[all]==0.2.12) (3.11)\n",
            "Requirement already satisfied: aiohappyeyeballs>=2.3.0 in /Users/bonianhu/miniconda3/lib/python3.12/site-packages (from aiohttp->datasets<3,>=2->camel-ai[all]==0.2.12) (2.4.4)\n",
            "Requirement already satisfied: aiosignal>=1.1.2 in /Users/bonianhu/miniconda3/lib/python3.12/site-packages (from aiohttp->datasets<3,>=2->camel-ai[all]==0.2.12) (1.3.2)\n",
            "Requirement already satisfied: frozenlist>=1.1.1 in /Users/bonianhu/miniconda3/lib/python3.12/site-packages (from aiohttp->datasets<3,>=2->camel-ai[all]==0.2.12) (1.5.0)\n",
            "Requirement already satisfied: propcache>=0.2.0 in /Users/bonianhu/miniconda3/lib/python3.12/site-packages (from aiohttp->datasets<3,>=2->camel-ai[all]==0.2.12) (0.2.1)\n",
            "Requirement already satisfied: yarl<2.0,>=1.17.0 in /Users/bonianhu/miniconda3/lib/python3.12/site-packages (from aiohttp->datasets<3,>=2->camel-ai[all]==0.2.12) (1.18.3)\n",
            "Requirement already satisfied: pycparser in /Users/bonianhu/miniconda3/lib/python3.12/site-packages (from cffi>=1.12.0->curl_cffi==0.6.2->camel-ai==0.2.12->camel-ai[all]==0.2.12) (2.21)\n",
            "Requirement already satisfied: sgmllib3k in /Users/bonianhu/miniconda3/lib/python3.12/site-packages (from feedparser~=6.0.10->arxiv<3.0.0,>=2.1.3->camel-ai[all]==0.2.12) (1.0.0)\n",
            "Requirement already satisfied: googleapis-common-protos<2.0.dev0,>=1.56.2 in /Users/bonianhu/miniconda3/lib/python3.12/site-packages (from google-api-core<3.0.0dev,>=2.15.0->google-cloud-storage<3.0.0,>=2.18.0->camel-ai[all]==0.2.12) (1.66.0)\n",
            "Requirement already satisfied: cachetools<6.0,>=2.0.0 in /Users/bonianhu/miniconda3/lib/python3.12/site-packages (from google-auth<3.0dev,>=2.26.1->google-cloud-storage<3.0.0,>=2.18.0->camel-ai[all]==0.2.12) (5.5.0)\n",
            "Requirement already satisfied: pyasn1-modules>=0.2.1 in /Users/bonianhu/miniconda3/lib/python3.12/site-packages (from google-auth<3.0dev,>=2.26.1->google-cloud-storage<3.0.0,>=2.18.0->camel-ai[all]==0.2.12) (0.4.1)\n",
            "Requirement already satisfied: rsa<5,>=3.1.4 in /Users/bonianhu/miniconda3/lib/python3.12/site-packages (from google-auth<3.0dev,>=2.26.1->google-cloud-storage<3.0.0,>=2.18.0->camel-ai[all]==0.2.12) (4.9)\n",
            "Requirement already satisfied: pyparsing!=3.0.0,!=3.0.1,!=3.0.2,!=3.0.3,<4,>=2.4.2 in /Users/bonianhu/miniconda3/lib/python3.12/site-packages (from httplib2>=0.20.0->nebula3-python==3.8.2->camel-ai[all]==0.2.12) (3.2.0)\n",
            "Requirement already satisfied: h2<5,>=3 in /Users/bonianhu/miniconda3/lib/python3.12/site-packages (from httpx[http2]>=0.22.0->nebula3-python==3.8.2->camel-ai[all]==0.2.12) (4.2.0)\n",
            "Requirement already satisfied: hf-xet<2.0.0,>=1.1.2 in /Users/bonianhu/miniconda3/lib/python3.12/site-packages (from huggingface-hub>=0.21.0->accelerate<1,>=0->camel-ai[all]==0.2.12) (1.1.5)\n",
            "Requirement already satisfied: zipp>=0.5 in /Users/bonianhu/miniconda3/lib/python3.12/site-packages (from importlib_metadata->diffusers<1,>=0->camel-ai[all]==0.2.12) (3.23.0)\n",
            "Requirement already satisfied: decorator in /Users/bonianhu/miniconda3/lib/python3.12/site-packages (from ipython>=7.23.1->ipykernel<7.0.0,>=6.0.0->camel-ai[all]==0.2.12) (5.1.1)\n",
            "Requirement already satisfied: jedi>=0.16 in /Users/bonianhu/miniconda3/lib/python3.12/site-packages (from ipython>=7.23.1->ipykernel<7.0.0,>=6.0.0->camel-ai[all]==0.2.12) (0.19.2)\n",
            "Requirement already satisfied: pexpect>4.3 in /Users/bonianhu/miniconda3/lib/python3.12/site-packages (from ipython>=7.23.1->ipykernel<7.0.0,>=6.0.0->camel-ai[all]==0.2.12) (4.9.0)\n",
            "Requirement already satisfied: prompt_toolkit<3.1.0,>=3.0.41 in /Users/bonianhu/miniconda3/lib/python3.12/site-packages (from ipython>=7.23.1->ipykernel<7.0.0,>=6.0.0->camel-ai[all]==0.2.12) (3.0.48)\n",
            "Requirement already satisfied: pygments>=2.4.0 in /Users/bonianhu/miniconda3/lib/python3.12/site-packages (from ipython>=7.23.1->ipykernel<7.0.0,>=6.0.0->camel-ai[all]==0.2.12) (2.19.2)\n",
            "Requirement already satisfied: stack_data in /Users/bonianhu/miniconda3/lib/python3.12/site-packages (from ipython>=7.23.1->ipykernel<7.0.0,>=6.0.0->camel-ai[all]==0.2.12) (0.6.3)\n",
            "Requirement already satisfied: MarkupSafe>=2.0 in /Users/bonianhu/miniconda3/lib/python3.12/site-packages (from jinja2<4.0.0,>=3.1.2->litellm<2.0.0,>=1.38.1->camel-ai[all]==0.2.12) (2.1.3)\n",
            "Requirement already satisfied: pathable<0.5.0,>=0.4.1 in /Users/bonianhu/miniconda3/lib/python3.12/site-packages (from jsonschema-path<0.4.0,>=0.3.1->openapi-spec-validator<0.8.0,>=0.7.1->camel-ai[all]==0.2.12) (0.4.4)\n",
            "Requirement already satisfied: platformdirs>=2.5 in /Users/bonianhu/miniconda3/lib/python3.12/site-packages (from jupyter-core!=5.0.*,>=4.12->ipykernel<7.0.0,>=6.0.0->camel-ai[all]==0.2.12) (3.10.0)\n",
            "Requirement already satisfied: rfc3339-validator in /Users/bonianhu/miniconda3/lib/python3.12/site-packages (from openapi-schema-validator<0.7.0,>=0.6.0->openapi-spec-validator<0.8.0,>=0.7.1->camel-ai[all]==0.2.12) (0.1.4)\n",
            "Requirement already satisfied: opentelemetry-exporter-otlp-proto-common==1.27.0 in /Users/bonianhu/miniconda3/lib/python3.12/site-packages (from opentelemetry-exporter-otlp-proto-http>=1.27.0->agentops<0.4.0,>=0.3.21->camel-ai[all]==0.2.12) (1.27.0)\n",
            "Requirement already satisfied: opentelemetry-proto==1.27.0 in /Users/bonianhu/miniconda3/lib/python3.12/site-packages (from opentelemetry-exporter-otlp-proto-http>=1.27.0->agentops<0.4.0,>=0.3.21->camel-ai[all]==0.2.12) (1.27.0)\n",
            "Requirement already satisfied: opentelemetry-semantic-conventions==0.48b0 in /Users/bonianhu/miniconda3/lib/python3.12/site-packages (from opentelemetry-sdk>=1.27.0->agentops<0.4.0,>=0.3.21->camel-ai[all]==0.2.12) (0.48b0)\n",
            "Requirement already satisfied: tzdata>=2022.7 in /Users/bonianhu/miniconda3/lib/python3.12/site-packages (from pandas->datacommons_pandas<0.0.4,>=0.0.3->camel-ai[all]==0.2.12) (2023.3)\n",
            "Requirement already satisfied: XlsxWriter>=0.5.7 in /Users/bonianhu/miniconda3/lib/python3.12/site-packages (from python-pptx<=0.6.23->unstructured[all-docs]<0.15,>=0.14; extra == \"rag\" or extra == \"tools\" or extra == \"all\"->camel-ai[all]==0.2.12) (3.2.5)\n",
            "Requirement already satisfied: requests-file>=1.4 in /Users/bonianhu/miniconda3/lib/python3.12/site-packages (from tldextract>=2.0.1->newspaper3k<0.3.0,>=0.2.8->camel-ai[all]==0.2.12) (2.1.0)\n",
            "Requirement already satisfied: mypy-extensions>=0.3.0 in /Users/bonianhu/miniconda3/lib/python3.12/site-packages (from typing-inspect>=0.9.0->mistralai<2.0.0,>=1.1.0->camel-ai[all]==0.2.12) (1.1.0)\n",
            "Requirement already satisfied: types-python-dateutil>=2.8.10 in /Users/bonianhu/miniconda3/lib/python3.12/site-packages (from arrow->scholarly==1.7.11->scholarly[tor]==1.7.11; extra == \"tools\" or extra == \"all\"->camel-ai[all]==0.2.12) (2.9.0.20241206)\n",
            "Requirement already satisfied: marshmallow<4.0.0,>=3.18.0 in /Users/bonianhu/miniconda3/lib/python3.12/site-packages (from dataclasses-json->unstructured<0.15,>=0.14->unstructured[all-docs]<0.15,>=0.14; extra == \"rag\" or extra == \"tools\" or extra == \"all\"->camel-ai[all]==0.2.12) (3.26.1)\n",
            "Requirement already satisfied: torchvision in /Users/bonianhu/miniconda3/lib/python3.12/site-packages (from effdet->unstructured[all-docs]<0.15,>=0.14; extra == \"rag\" or extra == \"tools\" or extra == \"all\"->camel-ai[all]==0.2.12) (0.20.1)\n",
            "Requirement already satisfied: pycocotools>=2.0.2 in /Users/bonianhu/miniconda3/lib/python3.12/site-packages (from effdet->unstructured[all-docs]<0.15,>=0.14; extra == \"rag\" or extra == \"tools\" or extra == \"all\"->camel-ai[all]==0.2.12) (2.0.10)\n",
            "Requirement already satisfied: omegaconf>=2.0 in /Users/bonianhu/miniconda3/lib/python3.12/site-packages (from effdet->unstructured[all-docs]<0.15,>=0.14; extra == \"rag\" or extra == \"tools\" or extra == \"all\"->camel-ai[all]==0.2.12) (2.3.0)\n",
            "Requirement already satisfied: google-auth-httplib2<1.0.0,>=0.2.0 in /Users/bonianhu/miniconda3/lib/python3.12/site-packages (from google-api-python-client->google-generativeai<0.7.0,>=0.6.0->camel-ai[all]==0.2.12) (0.2.0)\n",
            "Requirement already satisfied: uritemplate<5,>=3.0.1 in /Users/bonianhu/miniconda3/lib/python3.12/site-packages (from google-api-python-client->google-generativeai<0.7.0,>=0.6.0->camel-ai[all]==0.2.12) (4.1.1)\n",
            "Requirement already satisfied: et-xmlfile in /Users/bonianhu/miniconda3/lib/python3.12/site-packages (from openpyxl->unstructured[all-docs]<0.15,>=0.14; extra == \"rag\" or extra == \"tools\" or extra == \"all\"->camel-ai[all]==0.2.12) (2.0.0)\n",
            "Requirement already satisfied: olefile in /Users/bonianhu/miniconda3/lib/python3.12/site-packages (from python-oxmsg->unstructured[all-docs]<0.15,>=0.14; extra == \"rag\" or extra == \"tools\" or extra == \"all\"->camel-ai[all]==0.2.12) (0.47)\n",
            "Requirement already satisfied: threadpoolctl>=3.1.0 in /Users/bonianhu/miniconda3/lib/python3.12/site-packages (from scikit-learn->arxiv2text<0.2.0,>=0.1.14->camel-ai[all]==0.2.12) (3.5.0)\n",
            "Requirement already satisfied: trio~=0.30.0 in /Users/bonianhu/miniconda3/lib/python3.12/site-packages (from selenium->scholarly==1.7.11->scholarly[tor]==1.7.11; extra == \"tools\" or extra == \"all\"->camel-ai[all]==0.2.12) (0.30.0)\n",
            "Requirement already satisfied: trio-websocket~=0.12.2 in /Users/bonianhu/miniconda3/lib/python3.12/site-packages (from selenium->scholarly==1.7.11->scholarly[tor]==1.7.11; extra == \"tools\" or extra == \"all\"->camel-ai[all]==0.2.12) (0.12.2)\n",
            "Requirement already satisfied: sphinx<9,>=6 in /Users/bonianhu/miniconda3/lib/python3.12/site-packages (from sphinx-rtd-theme->scholarly==1.7.11->scholarly[tor]==1.7.11; extra == \"tools\" or extra == \"all\"->camel-ai[all]==0.2.12) (8.2.3)\n",
            "Requirement already satisfied: docutils<0.22,>0.18 in /Users/bonianhu/miniconda3/lib/python3.12/site-packages (from sphinx-rtd-theme->scholarly==1.7.11->scholarly[tor]==1.7.11; extra == \"tools\" or extra == \"all\"->camel-ai[all]==0.2.12) (0.21.2)\n",
            "Requirement already satisfied: sphinxcontrib-jquery<5,>=4 in /Users/bonianhu/miniconda3/lib/python3.12/site-packages (from sphinx-rtd-theme->scholarly==1.7.11->scholarly[tor]==1.7.11; extra == \"tools\" or extra == \"all\"->camel-ai[all]==0.2.12) (4.1)\n",
            "Requirement already satisfied: aiofiles>=24.1.0 in /Users/bonianhu/miniconda3/lib/python3.12/site-packages (from unstructured-client->unstructured<0.15,>=0.14->unstructured[all-docs]<0.15,>=0.14; extra == \"rag\" or extra == \"tools\" or extra == \"all\"->camel-ai[all]==0.2.12) (24.1.0)\n",
            "Requirement already satisfied: requests-toolbelt>=1.0.0 in /Users/bonianhu/miniconda3/lib/python3.12/site-packages (from unstructured-client->unstructured<0.15,>=0.14->unstructured[all-docs]<0.15,>=0.14; extra == \"rag\" or extra == \"tools\" or extra == \"all\"->camel-ai[all]==0.2.12) (1.0.0)\n",
            "Requirement already satisfied: grpcio-status<2.0.dev0,>=1.33.2 in /Users/bonianhu/miniconda3/lib/python3.12/site-packages (from google-api-core[grpc]!=2.0.*,!=2.1.*,!=2.10.*,!=2.2.*,!=2.3.*,!=2.4.*,!=2.5.*,!=2.6.*,!=2.7.*,!=2.8.*,!=2.9.*,<3.0.0dev,>=1.34.1->google-ai-generativelanguage==0.6.4->google-generativeai<0.7.0,>=0.6.0->camel-ai[all]==0.2.12) (1.62.3)\n",
            "Requirement already satisfied: hyperframe<7,>=6.1 in /Users/bonianhu/miniconda3/lib/python3.12/site-packages (from h2<5,>=3->httpx[http2]>=0.22.0->nebula3-python==3.8.2->camel-ai[all]==0.2.12) (6.1.0)\n",
            "Requirement already satisfied: hpack<5,>=4.1 in /Users/bonianhu/miniconda3/lib/python3.12/site-packages (from h2<5,>=3->httpx[http2]>=0.22.0->nebula3-python==3.8.2->camel-ai[all]==0.2.12) (4.1.0)\n",
            "Requirement already satisfied: parso<0.9.0,>=0.8.4 in /Users/bonianhu/miniconda3/lib/python3.12/site-packages (from jedi>=0.16->ipython>=7.23.1->ipykernel<7.0.0,>=6.0.0->camel-ai[all]==0.2.12) (0.8.4)\n",
            "Requirement already satisfied: antlr4-python3-runtime==4.9.* in /Users/bonianhu/miniconda3/lib/python3.12/site-packages (from omegaconf>=2.0->effdet->unstructured[all-docs]<0.15,>=0.14; extra == \"rag\" or extra == \"tools\" or extra == \"all\"->camel-ai[all]==0.2.12) (4.9.3)\n",
            "Requirement already satisfied: coloredlogs in /Users/bonianhu/miniconda3/lib/python3.12/site-packages (from onnxruntime>=1.17.0->unstructured-inference==0.7.36->unstructured[all-docs]<0.15,>=0.14; extra == \"rag\" or extra == \"tools\" or extra == \"all\"->camel-ai[all]==0.2.12) (15.0.1)\n",
            "Requirement already satisfied: flatbuffers in /Users/bonianhu/miniconda3/lib/python3.12/site-packages (from onnxruntime>=1.17.0->unstructured-inference==0.7.36->unstructured[all-docs]<0.15,>=0.14; extra == \"rag\" or extra == \"tools\" or extra == \"all\"->camel-ai[all]==0.2.12) (24.3.25)\n",
            "Requirement already satisfied: ptyprocess>=0.5 in /Users/bonianhu/miniconda3/lib/python3.12/site-packages (from pexpect>4.3->ipython>=7.23.1->ipykernel<7.0.0,>=6.0.0->camel-ai[all]==0.2.12) (0.7.0)\n",
            "Requirement already satisfied: wcwidth in /Users/bonianhu/miniconda3/lib/python3.12/site-packages (from prompt_toolkit<3.1.0,>=3.0.41->ipython>=7.23.1->ipykernel<7.0.0,>=6.0.0->camel-ai[all]==0.2.12) (0.2.13)\n",
            "Requirement already satisfied: pyasn1<0.7.0,>=0.4.6 in /Users/bonianhu/miniconda3/lib/python3.12/site-packages (from pyasn1-modules>=0.2.1->google-auth<3.0dev,>=2.26.1->google-cloud-storage<3.0.0,>=2.18.0->camel-ai[all]==0.2.12) (0.6.1)\n",
            "Requirement already satisfied: sphinxcontrib-applehelp>=1.0.7 in /Users/bonianhu/miniconda3/lib/python3.12/site-packages (from sphinx<9,>=6->sphinx-rtd-theme->scholarly==1.7.11->scholarly[tor]==1.7.11; extra == \"tools\" or extra == \"all\"->camel-ai[all]==0.2.12) (2.0.0)\n",
            "Requirement already satisfied: sphinxcontrib-devhelp>=1.0.6 in /Users/bonianhu/miniconda3/lib/python3.12/site-packages (from sphinx<9,>=6->sphinx-rtd-theme->scholarly==1.7.11->scholarly[tor]==1.7.11; extra == \"tools\" or extra == \"all\"->camel-ai[all]==0.2.12) (2.0.0)\n",
            "Requirement already satisfied: sphinxcontrib-htmlhelp>=2.0.6 in /Users/bonianhu/miniconda3/lib/python3.12/site-packages (from sphinx<9,>=6->sphinx-rtd-theme->scholarly==1.7.11->scholarly[tor]==1.7.11; extra == \"tools\" or extra == \"all\"->camel-ai[all]==0.2.12) (2.1.0)\n",
            "Requirement already satisfied: sphinxcontrib-jsmath>=1.0.1 in /Users/bonianhu/miniconda3/lib/python3.12/site-packages (from sphinx<9,>=6->sphinx-rtd-theme->scholarly==1.7.11->scholarly[tor]==1.7.11; extra == \"tools\" or extra == \"all\"->camel-ai[all]==0.2.12) (1.0.1)\n",
            "Requirement already satisfied: sphinxcontrib-qthelp>=1.0.6 in /Users/bonianhu/miniconda3/lib/python3.12/site-packages (from sphinx<9,>=6->sphinx-rtd-theme->scholarly==1.7.11->scholarly[tor]==1.7.11; extra == \"tools\" or extra == \"all\"->camel-ai[all]==0.2.12) (2.0.0)\n",
            "Requirement already satisfied: sphinxcontrib-serializinghtml>=1.1.9 in /Users/bonianhu/miniconda3/lib/python3.12/site-packages (from sphinx<9,>=6->sphinx-rtd-theme->scholarly==1.7.11->scholarly[tor]==1.7.11; extra == \"tools\" or extra == \"all\"->camel-ai[all]==0.2.12) (2.0.0)\n",
            "Requirement already satisfied: snowballstemmer>=2.2 in /Users/bonianhu/miniconda3/lib/python3.12/site-packages (from sphinx<9,>=6->sphinx-rtd-theme->scholarly==1.7.11->scholarly[tor]==1.7.11; extra == \"tools\" or extra == \"all\"->camel-ai[all]==0.2.12) (3.0.1)\n",
            "Requirement already satisfied: babel>=2.13 in /Users/bonianhu/miniconda3/lib/python3.12/site-packages (from sphinx<9,>=6->sphinx-rtd-theme->scholarly==1.7.11->scholarly[tor]==1.7.11; extra == \"tools\" or extra == \"all\"->camel-ai[all]==0.2.12) (2.16.0)\n",
            "Requirement already satisfied: alabaster>=0.7.14 in /Users/bonianhu/miniconda3/lib/python3.12/site-packages (from sphinx<9,>=6->sphinx-rtd-theme->scholarly==1.7.11->scholarly[tor]==1.7.11; extra == \"tools\" or extra == \"all\"->camel-ai[all]==0.2.12) (1.0.0)\n",
            "Requirement already satisfied: imagesize>=1.3 in /Users/bonianhu/miniconda3/lib/python3.12/site-packages (from sphinx<9,>=6->sphinx-rtd-theme->scholarly==1.7.11->scholarly[tor]==1.7.11; extra == \"tools\" or extra == \"all\"->camel-ai[all]==0.2.12) (1.4.1)\n",
            "Requirement already satisfied: roman-numerals-py>=1.0.0 in /Users/bonianhu/miniconda3/lib/python3.12/site-packages (from sphinx<9,>=6->sphinx-rtd-theme->scholarly==1.7.11->scholarly[tor]==1.7.11; extra == \"tools\" or extra == \"all\"->camel-ai[all]==0.2.12) (3.1.0)\n",
            "Requirement already satisfied: sortedcontainers in /Users/bonianhu/miniconda3/lib/python3.12/site-packages (from trio~=0.30.0->selenium->scholarly==1.7.11->scholarly[tor]==1.7.11; extra == \"tools\" or extra == \"all\"->camel-ai[all]==0.2.12) (2.4.0)\n",
            "Requirement already satisfied: outcome in /Users/bonianhu/miniconda3/lib/python3.12/site-packages (from trio~=0.30.0->selenium->scholarly==1.7.11->scholarly[tor]==1.7.11; extra == \"tools\" or extra == \"all\"->camel-ai[all]==0.2.12) (1.3.0.post0)\n",
            "Requirement already satisfied: wsproto>=0.14 in /Users/bonianhu/miniconda3/lib/python3.12/site-packages (from trio-websocket~=0.12.2->selenium->scholarly==1.7.11->scholarly[tor]==1.7.11; extra == \"tools\" or extra == \"all\"->camel-ai[all]==0.2.12) (1.2.0)\n",
            "Requirement already satisfied: iopath in /Users/bonianhu/miniconda3/lib/python3.12/site-packages (from layoutparser->unstructured-inference==0.7.36->unstructured[all-docs]<0.15,>=0.14; extra == \"rag\" or extra == \"tools\" or extra == \"all\"->camel-ai[all]==0.2.12) (0.1.10)\n",
            "Requirement already satisfied: contourpy>=1.0.1 in /Users/bonianhu/miniconda3/lib/python3.12/site-packages (from matplotlib->unstructured-inference==0.7.36->unstructured[all-docs]<0.15,>=0.14; extra == \"rag\" or extra == \"tools\" or extra == \"all\"->camel-ai[all]==0.2.12) (1.3.1)\n",
            "Requirement already satisfied: cycler>=0.10 in /Users/bonianhu/miniconda3/lib/python3.12/site-packages (from matplotlib->unstructured-inference==0.7.36->unstructured[all-docs]<0.15,>=0.14; extra == \"rag\" or extra == \"tools\" or extra == \"all\"->camel-ai[all]==0.2.12) (0.11.0)\n",
            "Requirement already satisfied: fonttools>=4.22.0 in /Users/bonianhu/miniconda3/lib/python3.12/site-packages (from matplotlib->unstructured-inference==0.7.36->unstructured[all-docs]<0.15,>=0.14; extra == \"rag\" or extra == \"tools\" or extra == \"all\"->camel-ai[all]==0.2.12) (4.55.3)\n",
            "Requirement already satisfied: kiwisolver>=1.3.1 in /Users/bonianhu/miniconda3/lib/python3.12/site-packages (from matplotlib->unstructured-inference==0.7.36->unstructured[all-docs]<0.15,>=0.14; extra == \"rag\" or extra == \"tools\" or extra == \"all\"->camel-ai[all]==0.2.12) (1.4.8)\n",
            "Requirement already satisfied: executing>=1.2.0 in /Users/bonianhu/miniconda3/lib/python3.12/site-packages (from stack_data->ipython>=7.23.1->ipykernel<7.0.0,>=6.0.0->camel-ai[all]==0.2.12) (2.1.0)\n",
            "Requirement already satisfied: asttokens>=2.1.0 in /Users/bonianhu/miniconda3/lib/python3.12/site-packages (from stack_data->ipython>=7.23.1->ipykernel<7.0.0,>=6.0.0->camel-ai[all]==0.2.12) (3.0.0)\n",
            "Requirement already satisfied: pure-eval in /Users/bonianhu/miniconda3/lib/python3.12/site-packages (from stack_data->ipython>=7.23.1->ipykernel<7.0.0,>=6.0.0->camel-ai[all]==0.2.12) (0.2.3)\n",
            "Requirement already satisfied: humanfriendly>=9.1 in /Users/bonianhu/miniconda3/lib/python3.12/site-packages (from coloredlogs->onnxruntime>=1.17.0->unstructured-inference==0.7.36->unstructured[all-docs]<0.15,>=0.14; extra == \"rag\" or extra == \"tools\" or extra == \"all\"->camel-ai[all]==0.2.12) (10.0)\n"
          ]
        }
      ],
      "source": [
        "!pip install \"camel-ai[all]==0.2.12\""
      ]
    },
    {
      "cell_type": "markdown",
      "metadata": {
        "id": "lfNvFbhD6o8B"
      },
      "source": [
        "## 🔑 Setting Up API Keys"
      ]
    },
    {
      "cell_type": "markdown",
      "metadata": {
        "id": "jqV12oQfQTyl"
      },
      "source": [
        "You'll need to set up your API keys for OpenAI. This ensures that the tools can interact with external services securely."
      ]
    },
    {
      "cell_type": "code",
      "execution_count": 60,
      "metadata": {},
      "outputs": [],
      "source": [
        "import os\n",
        "from getpass import getpass\n",
        "\n",
        "# Prompt for the AgentOps API key securely\n",
        "agentops_api_key = getpass('Enter your API key: ')\n",
        "os.environ[\"AGENTOPS_API_KEY\"] = agentops_api_key"
      ]
    },
    {
      "cell_type": "markdown",
      "metadata": {
        "id": "___"
      },
      "source": [
        "## 1. Basic Structured Response"
      ]
    },
    {
      "cell_type": "markdown",
      "metadata": {
        "id": "6f64VOMMP93d"
      },
      "source": [
        "\n",
        "The simplest way to get structured responses is by defining a Pydantic model and using it as the `response_format` parameter. This ensures the model's output matches your expected structure。\n",
        "\n",
        "Lets create a simple agent that returns a Joke with Structured Response\n"
      ]
    },
    {
      "cell_type": "markdown",
      "metadata": {},
      "source": [
        "1. **Model Initialization**:\n",
        "   - We create a chat agent with a default model\n",
        "   - The system message sets the assistant's behavior\n"
      ]
    },
    {
      "cell_type": "code",
      "execution_count": 42,
      "metadata": {
        "id": "gE_qBFCVveBR"
      },
      "outputs": [],
      "source": [
        "from pydantic import BaseModel, Field\n",
        "from camel.agents import ChatAgent\n",
        "from camel.models import ModelFactory\n",
        "from camel.types import ModelPlatformType, ModelType\n",
        "\n",
        "# Define system message\n",
        "assistant_sys_msg = \"You are a helpful assistant.\"\n",
        "\n",
        "# Initialize model and agent\n",
        "model = ModelFactory.create(\n",
        "    model_platform=ModelPlatformType.DEFAULT,\n",
        "    model_type=ModelType.DEFAULT,\n",
        "    api_key=agentops_api_key,\n",
        ")\n",
        "agent = ChatAgent(assistant_sys_msg, model=model)"
      ]
    },
    {
      "cell_type": "markdown",
      "metadata": {},
      "source": [
        "2. **Response Structure**:\n",
        "   - We define a [JokeResponse](cci:2://file:///Users/bonianhu/Deveopment/Camel/camel/examples/structured_response/json_format_response.py:33:0-35:69) class using Pydantic's `BaseModel`\n",
        "   - Each field has a type hint and a description\n",
        "   - The model uses these descriptions to generate appropriate content\n"
      ]
    },
    {
      "cell_type": "code",
      "execution_count": 43,
      "metadata": {},
      "outputs": [
        {
          "name": "stdout",
          "output_type": "stream",
          "text": [
            "=== Raw Response ===\n",
            "{\"name\":\"Chocolate Chip Cookies\",\"description\":\"Classic chocolate chip cookies that are soft, chewy, and loaded with chocolate chips.\",\"prep_time\":\"15 minutes\",\"cook_time\":\"10 minutes\",\"servings\":24,\"ingredients\":[{\"name\":\"unsalted butter\",\"amount\":\"1\",\"unit\":\"cup\"},{\"name\":\"granulated sugar\",\"amount\":\"3/4\",\"unit\":\"cup\"},{\"name\":\"brown sugar\",\"amount\":\"3/4\",\"unit\":\"cup\"},{\"name\":\"vanilla extract\",\"amount\":\"1\",\"unit\":\"teaspoon\"},{\"name\":\"eggs\",\"amount\":\"2\",\"unit\":\"large\"},{\"name\":\"all-purpose flour\",\"amount\":\"2 1/4\",\"unit\":\"cups\"},{\"name\":\"baking soda\",\"amount\":\"1\",\"unit\":\"teaspoon\"},{\"name\":\"salt\",\"amount\":\"1/2\",\"unit\":\"teaspoon\"},{\"name\":\"chocolate chips\",\"amount\":\"2\",\"unit\":\"cups\"}],\"instructions\":[{\"step_number\":1,\"instruction\":\"Preheat the oven to 350°F (175°C).\",\"duration\":\"5 minutes\"},{\"step_number\":2,\"instruction\":\"In a large bowl, cream together the butter, granulated sugar, brown sugar, and vanilla extract until smooth.\",\"duration\":\"3 minutes\"},{\"step_number\":3,\"instruction\":\"Beat in the eggs one at a time, mixing well after each addition.\",\"duration\":\"2 minutes\"},{\"step_number\":4,\"instruction\":\"In a separate bowl, combine the flour, baking soda, and salt.\",\"duration\":\"2 minutes\"},{\"step_number\":5,\"instruction\":\"Gradually blend the dry ingredients into the wet mixture until just combined.\",\"duration\":\"3 minutes\"},{\"step_number\":6,\"instruction\":\"Fold in the chocolate chips until evenly distributed.\",\"duration\":\"2 minutes\"},{\"step_number\":7,\"instruction\":\"Drop rounded tablespoons of dough onto ungreased baking sheets, spacing them about 2 inches apart.\",\"duration\":\"5 minutes\"},{\"step_number\":8,\"instruction\":\"Bake in the preheated oven for 9 to 11 minutes, or until the edges are golden brown.\",\"duration\":\"11 minutes\"},{\"step_number\":9,\"instruction\":\"Remove from the oven and let cool on the baking sheets for 5 minutes before transferring to wire racks to cool completely.\",\"duration\":\"5 minutes\"}],\"dietary_info\":[\"vegetarian\",\"contains gluten\",\"contains dairy\"]}\n",
            "\n",
            "=== Parsed Object ===\n",
            "name='Chocolate Chip Cookies' description='Classic chocolate chip cookies that are soft, chewy, and loaded with chocolate chips.' prep_time='15 minutes' cook_time='10 minutes' servings=24 ingredients=[Ingredient(name='unsalted butter', amount='1', unit='cup'), Ingredient(name='granulated sugar', amount='3/4', unit='cup'), Ingredient(name='brown sugar', amount='3/4', unit='cup'), Ingredient(name='vanilla extract', amount='1', unit='teaspoon'), Ingredient(name='eggs', amount='2', unit='large'), Ingredient(name='all-purpose flour', amount='2 1/4', unit='cups'), Ingredient(name='baking soda', amount='1', unit='teaspoon'), Ingredient(name='salt', amount='1/2', unit='teaspoon'), Ingredient(name='chocolate chips', amount='2', unit='cups')] instructions=[RecipeStep(step_number=1, instruction='Preheat the oven to 350°F (175°C).', duration='5 minutes'), RecipeStep(step_number=2, instruction='In a large bowl, cream together the butter, granulated sugar, brown sugar, and vanilla extract until smooth.', duration='3 minutes'), RecipeStep(step_number=3, instruction='Beat in the eggs one at a time, mixing well after each addition.', duration='2 minutes'), RecipeStep(step_number=4, instruction='In a separate bowl, combine the flour, baking soda, and salt.', duration='2 minutes'), RecipeStep(step_number=5, instruction='Gradually blend the dry ingredients into the wet mixture until just combined.', duration='3 minutes'), RecipeStep(step_number=6, instruction='Fold in the chocolate chips until evenly distributed.', duration='2 minutes'), RecipeStep(step_number=7, instruction='Drop rounded tablespoons of dough onto ungreased baking sheets, spacing them about 2 inches apart.', duration='5 minutes'), RecipeStep(step_number=8, instruction='Bake in the preheated oven for 9 to 11 minutes, or until the edges are golden brown.', duration='11 minutes'), RecipeStep(step_number=9, instruction='Remove from the oven and let cool on the baking sheets for 5 minutes before transferring to wire racks to cool completely.', duration='5 minutes')] dietary_info=['vegetarian', 'contains gluten', 'contains dairy']\n",
            "\n",
            "=== Type of Parsed Object ===\n",
            "<class '__main__.Recipe'>\n"
          ]
        }
      ],
      "source": [
        "# Define the expected response structure using Pydantic\n",
        "class JokeResponse(BaseModel):\n",
        "    joke: str = Field(description=\"A funny joke\")\n",
        "    funny_level: int = Field(description=\"How funny the joke is, from 1 to 10\")\n",
        "\n",
        "# Display the results\n",
        "print(\"=== Raw Response ===\")\n",
        "print(response.msgs[0].content)\n",
        "\n",
        "print(\"\\n=== Parsed Object ===\")\n",
        "print(response.msgs[0].parsed)\n",
        "\n",
        "print(\"\\n=== Type of Parsed Object ===\")\n",
        "print(type(response.msgs[0].parsed))"
      ]
    },
    {
      "cell_type": "markdown",
      "metadata": {},
      "source": [
        "## 2. Structured Response with Tools <a name=\"with-tools\"></a>\n",
        "\n",
        "In this section, we'll demonstrate how to combine structured responses with CAMEL's tool system. This allows the model to perform calculations and searches while maintaining a structured output format.\n",
        "\n",
        "Let's create an example where we ask the model to perform a calculation and return the result in a structured format:\n"
      ]
    },
    {
      "cell_type": "markdown",
      "metadata": {},
      "source": [
        "1. **Import required libraries**:\n"
      ]
    },
    {
      "cell_type": "code",
      "execution_count": 44,
      "metadata": {},
      "outputs": [],
      "source": [
        "from pydantic import BaseModel, Field\n",
        "from camel.agents import ChatAgent\n",
        "from camel.configs.openai_config import ChatGPTConfig\n",
        "from camel.models import ModelFactory\n",
        "from camel.toolkits import MathToolkit, SearchToolkit\n",
        "from camel.types import ModelPlatformType, ModelType"
      ]
    },
    {
      "cell_type": "markdown",
      "metadata": {},
      "source": [
        "2. **Tool Integration**:\n",
        "   - We import and initialize `MathToolkit` and `SearchToolkit` to give the model calculation and search capabilities\n",
        "   - These tools are passed to the `ChatAgent` during initialization"
      ]
    },
    {
      "cell_type": "code",
      "execution_count": 45,
      "metadata": {},
      "outputs": [
        {
          "name": "stdout",
          "output_type": "stream",
          "text": [
            "2025-07-25 18:25:35,676 - camel.agents.chat_agent - WARNING - Overriding the configured tools in `BaseModelBackend` with the tools from `ChatAgent`.\n"
          ]
        }
      ],
      "source": [
        "tools_list = [\n",
        "    *MathToolkit().get_tools(),  # Adds math calculation capabilities\n",
        "    *SearchToolkit().get_tools(),  # Adds web search capabilities\n",
        "]\n",
        "\n",
        "# Configure model with specific settings\n",
        "assistant_model_config = ChatGPTConfig(\n",
        "    temperature=0.0,  # Use low temperature for more deterministic outputs\n",
        ")\n",
        "\n",
        "# Define system message\n",
        "assistant_sys_msg = \"You are a helpful assistant that's good at calculations and research.\"\n",
        "\n",
        "# Cell 3: Initialize the model\n",
        "model = ModelFactory.create(\n",
        "    model_platform=ModelPlatformType.DEFAULT,\n",
        "    model_type=ModelType.DEFAULT,\n",
        "    model_config_dict=assistant_model_config.as_dict(),\n",
        "    api_key=agentops_api_key,\n",
        ")\n",
        "\n",
        "# Initialize agent with tools\n",
        "camel_agent = ChatAgent(\n",
        "    assistant_sys_msg,\n",
        "    model=model,\n",
        "    tools=tools_list,  # Pass the tools to the agent\n",
        ")"
      ]
    },
    {
      "cell_type": "markdown",
      "metadata": {},
      "source": [
        "3. **Structured Response**:\n",
        "   - We define a `CalculationResult` Pydantic model with three fields\n",
        "   - The model uses available tools to perform calculations while maintaining the specified output structure"
      ]
    },
    {
      "cell_type": "code",
      "execution_count": 46,
      "metadata": {},
      "outputs": [],
      "source": [
        "# Define the structured response format\n",
        "class CalculationResult(BaseModel):\n",
        "    current_age: str = Field(description=\"The current age being calculated\")\n",
        "    calculated_age: str = Field(description=\"The age after adding years\")\n",
        "    calculation_steps: str = Field(description=\"Detailed steps of the calculation\")"
      ]
    },
    {
      "cell_type": "markdown",
      "metadata": {},
      "source": [
        "4. **Execution Flow**:\n",
        "   - The model first uses search tools to find the founding year of the University of Oxford\n",
        "   - It then performs the age calculation using math tools\n",
        "   - Finally, it formats the response according to our `CalculationResult` schema\n"
      ]
    },
    {
      "cell_type": "code",
      "execution_count": 47,
      "metadata": {},
      "outputs": [
        {
          "name": "stdout",
          "output_type": "stream",
          "text": [
            "2025-07-25 18:25:36,743 - httpx - INFO - HTTP Request: POST https://api.openai.com/v1/chat/completions \"HTTP/1.1 200 OK\"\n",
            "2025-07-25 18:25:36,811 - camel.agents.chat_agent - INFO - Model gpt-4o-mini, index 0, processed these messages: [{'role': 'system', 'content': \"You are a helpful assistant that's good at calculations and research.\"}, {'role': 'user', 'content': 'Assume now is 2024 in the Gregorian calendar, \\nestimate the current age of University of Oxford \\nand then add 10 more years to this age.'}]\n"
          ]
        },
        {
          "name": "stdout",
          "output_type": "stream",
          "text": [
            "2025-07-25 18:25:37,785 - httpx - INFO - HTTP Request: POST https://api.openai.com/v1/chat/completions \"HTTP/1.1 200 OK\"\n",
            "2025-07-25 18:25:37,786 - camel.agents.chat_agent - INFO - Model gpt-4o-mini, index 0, processed these messages: [{'role': 'system', 'content': \"You are a helpful assistant that's good at calculations and research.\"}, {'role': 'user', 'content': 'Assume now is 2024 in the Gregorian calendar, \\nestimate the current age of University of Oxford \\nand then add 10 more years to this age.'}, {'role': 'assistant', 'content': '', 'function_call': {'name': 'search_wiki', 'arguments': \"{'entity': 'University of Oxford'}\"}}, {'role': 'function', 'name': 'search_wiki', 'content': '{\\'result\\': {\"The University of Oxford is a collegiate research university in Oxford, England. There is evidence of teaching as early as 1096, making it the oldest university in the English-speaking world and the world\\'s second-oldest university in continuous operation.\\\\nIt grew rapidly from 1167, when Henry II prohibited English students from attending the University of Paris. When disputes erupted between students and the Oxford townspeople, some Oxford academics fled northeast to Cambridge, where they established the University of Cambridge in 1209. The two English ancient universities share many common features and are jointly referred to as Oxbridge.\"}}'}]\n"
          ]
        },
        {
          "name": "stdout",
          "output_type": "stream",
          "text": [
            "2025-07-25 18:25:40,192 - httpx - INFO - HTTP Request: POST https://api.openai.com/v1/chat/completions \"HTTP/1.1 200 OK\"\n",
            "2025-07-25 18:25:40,194 - camel.agents.chat_agent - INFO - Model gpt-4o-mini, index 0, processed these messages: [{'role': 'system', 'content': \"You are a helpful assistant that's good at calculations and research.\"}, {'role': 'user', 'content': 'Assume now is 2024 in the Gregorian calendar, \\nestimate the current age of University of Oxford \\nand then add 10 more years to this age.'}, {'role': 'assistant', 'content': '', 'function_call': {'name': 'search_wiki', 'arguments': \"{'entity': 'University of Oxford'}\"}}, {'role': 'function', 'name': 'search_wiki', 'content': '{\\'result\\': {\"The University of Oxford is a collegiate research university in Oxford, England. There is evidence of teaching as early as 1096, making it the oldest university in the English-speaking world and the world\\'s second-oldest university in continuous operation.\\\\nIt grew rapidly from 1167, when Henry II prohibited English students from attending the University of Paris. When disputes erupted between students and the Oxford townspeople, some Oxford academics fled northeast to Cambridge, where they established the University of Cambridge in 1209. The two English ancient universities share many common features and are jointly referred to as Oxbridge.\"}}'}, {'role': 'assistant', 'content': '', 'function_call': {'name': 'add', 'arguments': \"{'a': 928, 'b': 10}\"}}, {'role': 'function', 'name': 'add', 'content': \"{'result': {'938'}}\"}]\n",
            "=== Raw Response ===\n",
            "{\"current_age\":\"928\",\"calculated_age\":\"938\",\"calculation_steps\":\"The University of Oxford was established around 1096. Assuming the current year is 2024, the age is calculated as 2024 - 1096 = 928 years. Adding 10 years to this age gives 928 + 10 = 938 years.\"}\n",
            "\n",
            "=== Parsed Object ===\n",
            "current_age='928' calculated_age='938' calculation_steps='The University of Oxford was established around 1096. Assuming the current year is 2024, the age is calculated as 2024 - 1096 = 928 years. Adding 10 years to this age gives 928 + 10 = 938 years.'\n",
            "\n",
            "=== Accessing Fields ===\n",
            "Current age: 928\n",
            "Calculated age: 938\n",
            "\n",
            "Calculation steps:\n",
            "The University of Oxford was established around 1096. Assuming the current year is 2024, the age is calculated as 2024 - 1096 = 928 years. Adding 10 years to this age gives 928 + 10 = 938 years.\n"
          ]
        }
      ],
      "source": [
        "# Define the user's question\n",
        "user_msg = \"\"\"Assume now is 2024 in the Gregorian calendar, \n",
        "estimate the current age of University of Oxford \n",
        "and then add 10 more years to this age.\"\"\"\n",
        "\n",
        "# Get the structured response\n",
        "response = camel_agent.step(\n",
        "    user_msg, \n",
        "    response_format=CalculationResult\n",
        ")\n",
        "\n",
        "# Display the results\n",
        "print(\"=== Raw Response ===\")\n",
        "print(response.msgs[0].content)\n",
        "\n",
        "print(\"\\n=== Parsed Object ===\")\n",
        "print(response.msgs[0].parsed)\n",
        "\n",
        "print(\"\\n=== Accessing Fields ===\")\n",
        "print(f\"Current age: {response.msgs[0].parsed.current_age}\")\n",
        "print(f\"Calculated age: {response.msgs[0].parsed.calculated_age}\")\n",
        "print(f\"\\nCalculation steps:\\n{response.msgs[0].parsed.calculation_steps}\")"
      ]
    },
    {
      "cell_type": "markdown",
      "metadata": {},
      "source": [
        "## 3. Structured Response with Non-Native Models <a name=\"non-native\"></a>\n",
        "\n",
        "Some models don't natively support structured output formats. In this section, we'll show how to achieve structured responses through prompt engineering. This approach is particularly useful with open-source or custom models.\n",
        "\n",
        "Let's create a recipe generator that returns structured data, demonstrating how to work with models that don't support native structured output:"
      ]
    },
    {
      "cell_type": "markdown",
      "metadata": {},
      "source": [
        "1. **Import libraries**:"
      ]
    },
    {
      "cell_type": "code",
      "execution_count": 51,
      "metadata": {},
      "outputs": [],
      "source": [
        "from pydantic import BaseModel, Field\n",
        "from typing import List, Optional\n",
        "from camel.agents import ChatAgent\n",
        "from camel.models import ModelFactory\n",
        "from camel.types import ModelPlatformType, ModelType\n",
        "import json"
      ]
    },
    {
      "cell_type": "markdown",
      "metadata": {},
      "source": [
        "2. **Model-Agnostic Approach**:\n",
        "   - We define our data structure using Pydantic models"
      ]
    },
    {
      "cell_type": "code",
      "execution_count": null,
      "metadata": {},
      "outputs": [],
      "source": [
        "# Define Pydantic models for our data structure\n",
        "# Define our data models\n",
        "class Ingredient(BaseModel):\n",
        "    name: str\n",
        "    amount: str\n",
        "    unit: str\n",
        "\n",
        "class RecipeStep(BaseModel):\n",
        "    step_number: int\n",
        "    instruction: str\n",
        "    duration: str\n",
        "\n",
        "class Recipe(BaseModel):\n",
        "    name: str\n",
        "    description: str\n",
        "    prep_time: str\n",
        "    cook_time: str\n",
        "    servings: int\n",
        "    ingredients: List[Ingredient]\n",
        "    instructions: List[RecipeStep]\n",
        "    dietary_info: List[str] = Field(description=\"List of dietary categories\")\n"
      ]
    },
    {
      "cell_type": "markdown",
      "metadata": {},
      "source": [
        "3. **Define agent and recipe generator function**\n",
        "   - The `generate_recipe` function manually constructs a prompt that asks for JSON\n",
        "   - We handle the response parsing and validation manually"
      ]
    },
    {
      "cell_type": "code",
      "execution_count": 50,
      "metadata": {},
      "outputs": [],
      "source": [
        "# Cell 2: Initialize the default model\n",
        "model = ModelFactory.create(\n",
        "    model_platform=ModelPlatformType.DEFAULT,\n",
        "    model_type=ModelType.DEFAULT,\n",
        "    api_key=agentops_api_key\n",
        ")\n",
        "\n",
        "agent = ChatAgent(\"You are a professional chef assistant.\")"
      ]
    },
    {
      "cell_type": "code",
      "execution_count": null,
      "metadata": {},
      "outputs": [],
      "source": [
        "# Function to demonstrate manual parsing\n",
        "def generate_recipe(dish: str) -> Recipe:\n",
        "    # First, get a structured response\n",
        "    response = agent.step(\n",
        "        f\"Provide a detailed recipe for {dish} in JSON format with the following structure: \"\n",
        "        \"{\\\"name\\\": \\\"...\\\", \\\"description\\\": \\\"...\\\", \\\"prep_time\\\": \\\"...\\\", \"\n",
        "        \"\\\"cook_time\\\": \\\"...\\\", \\\"servings\\\": 0, \\\"ingredients\\\": [{\\\"name\\\": \\\"...\\\", \"\n",
        "        \"\\\"amount\\\": \\\"...\\\", \\\"unit\\\": \\\"...\\\"}], \\\"instructions\\\": [{\\\"step_number\\\": 1, \"\n",
        "        \"\\\"instruction\\\": \\\"...\\\", \\\"duration\\\": \\\"...\\\"}], \\\"dietary_info\\\": [\\\"...\\\"]}\\n\\n\"\n",
        "        \"Return ONLY the JSON object, without any additional text or markdown formatting.\"\n",
        "    )\n",
        "    \n",
        "    try:\n",
        "        # Extract JSON from the response\n",
        "        content = response.msgs[0].content.strip()\n",
        "        if content.startswith(\"```json\"):\n",
        "            content = content[7:-3].strip()  # Remove markdown code block if present\n",
        "        \n",
        "        # Parse and validate the response\n",
        "        recipe_data = json.loads(content)\n",
        "        return Recipe(**recipe_data)\n",
        "    except Exception as e:\n",
        "        print(f\"Error parsing response: {e}\")\n",
        "        print(\"Raw response:\", response.msgs[0].content)\n",
        "        raise"
      ]
    },
    {
      "cell_type": "markdown",
      "metadata": {},
      "source": [
        "4.1. **Generate and display a recipe**\n"
      ]
    },
    {
      "cell_type": "code",
      "execution_count": 58,
      "metadata": {},
      "outputs": [
        {
          "name": "stdout",
          "output_type": "stream",
          "text": [
            "2025-07-25 18:37:49,395 - httpx - INFO - HTTP Request: POST https://api.openai.com/v1/chat/completions \"HTTP/1.1 200 OK\"\n",
            "2025-07-25 18:37:49,398 - camel.agents.chat_agent - INFO - Model gpt-4o-mini, index 0, processed these messages: [{'role': 'system', 'content': 'You are a professional chef assistant.'}, {'role': 'user', 'content': 'Provide a detailed recipe for vegetable lasagna in JSON format with the following structure: {\"name\": \"...\", \"description\": \"...\", \"prep_time\": \"...\", \"cook_time\": \"...\", \"servings\": 0, \"ingredients\": [{\"name\": \"...\", \"amount\": \"...\", \"unit\": \"...\"}], \"instructions\": [{\"step_number\": 1, \"instruction\": \"...\", \"duration\": \"...\"}], \"dietary_info\": [\"...\"]}\\n\\nReturn ONLY the JSON object, without any additional text or markdown formatting.'}, {'role': 'assistant', 'content': '{\\n  \"name\": \"Vegetable Lasagna\",\\n  \"description\": \"A hearty and flavorful vegetable lasagna layered with fresh vegetables, ricotta, mozzarella, and marinara sauce.\",\\n  \"prep_time\": \"30 minutes\",\\n  \"cook_time\": \"45 minutes\",\\n  \"servings\": 6,\\n  \"ingredients\": [\\n    {\"name\": \"lasagna noodles\", \"amount\": \"9\", \"unit\": \"sheets\"},\\n    {\"name\": \"olive oil\", \"amount\": \"2\", \"unit\": \"tablespoons\"},\\n    {\"name\": \"zucchini\", \"amount\": \"1\", \"unit\": \"medium\"},\\n    {\"name\": \"bell pepper\", \"amount\": \"1\", \"unit\": \"medium\"},\\n    {\"name\": \"spinach\", \"amount\": \"2\", \"unit\": \"cups\"},\\n    {\"name\": \"mushrooms\", \"amount\": \"1\", \"unit\": \"cup\"},\\n    {\"name\": \"onion\", \"amount\": \"1\", \"unit\": \"medium\"},\\n    {\"name\": \"garlic\", \"amount\": \"3\", \"unit\": \"cloves\"},\\n    {\"name\": \"ricotta cheese\", \"amount\": \"15\", \"unit\": \"ounces\"},\\n    {\"name\": \"mozzarella cheese\", \"amount\": \"2\", \"unit\": \"cups\"},\\n    {\"name\": \"parmesan cheese\", \"amount\": \"1\", \"unit\": \"cup\"},\\n    {\"name\": \"marinara sauce\", \"amount\": \"3\", \"unit\": \"cups\"},\\n    {\"name\": \"salt\", \"amount\": \"1\", \"unit\": \"teaspoon\"},\\n    {\"name\": \"black pepper\", \"amount\": \"1/2\", \"unit\": \"teaspoon\"},\\n    {\"name\": \"dried oregano\", \"amount\": \"1\", \"unit\": \"teaspoon\"},\\n    {\"name\": \"dried basil\", \"amount\": \"1\", \"unit\": \"teaspoon\"}\\n  ],\\n  \"instructions\": [\\n    {\"step_number\": 1, \"instruction\": \"Preheat the oven to 375°F (190°C).\", \"duration\": \"5 minutes\"},\\n    {\"step_number\": 2, \"instruction\": \"Cook the lasagna noodles according to package instructions until al dente. Drain and set aside.\", \"duration\": \"10 minutes\"},\\n    {\"step_number\": 3, \"instruction\": \"In a large skillet, heat olive oil over medium heat. Add chopped onion and garlic, sauté until translucent.\", \"duration\": \"5 minutes\"},\\n    {\"step_number\": 4, \"instruction\": \"Add diced zucchini, bell pepper, and mushrooms to the skillet. Cook until softened, about 5-7 minutes.\", \"duration\": \"7 minutes\"},\\n    {\"step_number\": 5, \"instruction\": \"Stir in spinach, salt, pepper, oregano, and basil. Cook until spinach is wilted. Remove from heat.\", \"duration\": \"3 minutes\"},\\n    {\"step_number\": 6, \"instruction\": \"In a bowl, mix ricotta cheese with half of the parmesan cheese and a pinch of salt.\", \"duration\": \"2 minutes\"},\\n    {\"step_number\": 7, \"instruction\": \"Spread a thin layer of marinara sauce on the bottom of a 9x13 inch baking dish.\", \"duration\": \"2 minutes\"},\\n    {\"step_number\": 8, \"instruction\": \"Layer 3 lasagna noodles over the sauce, followed by half of the ricotta mixture, half of the vegetable mixture, and a third of the mozzarella cheese.\", \"duration\": \"5 minutes\"},\\n    {\"step_number\": 9, \"instruction\": \"Repeat the layering process: noodles, remaining ricotta, remaining vegetables, and another third of mozzarella.\", \"duration\": \"5 minutes\"},\\n    {\"step_number\": 10, \"instruction\": \"Top with remaining noodles, marinara sauce, and the rest of the mozzarella and parmesan cheese.\", \"duration\": \"5 minutes\"},\\n    {\"step_number\": 11, \"instruction\": \"Cover with foil and bake for 25 minutes. Remove foil and bake for an additional 15 minutes until cheese is bubbly and golden.\", \"duration\": \"40 minutes\"},\\n    {\"step_number\": 12, \"instruction\": \"Let the lasagna cool for 10 minutes before slicing and serving.\", \"duration\": \"10 minutes\"}\\n  ],\\n  \"dietary_info\": [\"vegetarian\", \"gluten-free (if using gluten-free noodles)\", \"nut-free\"]\\n}'}, {'role': 'user', 'content': 'Provide a recipe for chocolate chip cookies'}, {'role': 'assistant', 'content': '{\"name\":\"Chocolate Chip Cookies\",\"description\":\"Deliciously soft and chewy chocolate chip cookies, perfect for any occasion.\",\"prep_time\":\"15 minutes\",\"cook_time\":\"10 minutes\",\"servings\":24,\"ingredients\":[{\"name\":\"unsalted butter\",\"amount\":\"1\",\"unit\":\"cup\"},{\"name\":\"granulated sugar\",\"amount\":\"3/4\",\"unit\":\"cup\"},{\"name\":\"brown sugar\",\"amount\":\"3/4\",\"unit\":\"cup\"},{\"name\":\"vanilla extract\",\"amount\":\"1\",\"unit\":\"teaspoon\"},{\"name\":\"eggs\",\"amount\":\"2\",\"unit\":\"large\"},{\"name\":\"all-purpose flour\",\"amount\":\"2 1/4\",\"unit\":\"cups\"},{\"name\":\"baking soda\",\"amount\":\"1\",\"unit\":\"teaspoon\"},{\"name\":\"salt\",\"amount\":\"1/2\",\"unit\":\"teaspoon\"},{\"name\":\"chocolate chips\",\"amount\":\"2\",\"unit\":\"cups\"}],\"instructions\":[{\"step_number\":1,\"instruction\":\"Preheat the oven to 350°F (175°C).\",\"duration\":\"5 minutes\"},{\"step_number\":2,\"instruction\":\"In a large bowl, cream together the butter, granulated sugar, brown sugar, and vanilla extract until smooth.\",\"duration\":\"3 minutes\"},{\"step_number\":3,\"instruction\":\"Beat in the eggs one at a time, mixing well after each addition.\",\"duration\":\"2 minutes\"},{\"step_number\":4,\"instruction\":\"In a separate bowl, combine the flour, baking soda, and salt.\",\"duration\":\"2 minutes\"},{\"step_number\":5,\"instruction\":\"Gradually blend the dry ingredients into the wet mixture until just combined.\",\"duration\":\"2 minutes\"},{\"step_number\":6,\"instruction\":\"Fold in the chocolate chips until evenly distributed.\",\"duration\":\"2 minutes\"},{\"step_number\":7,\"instruction\":\"Drop rounded tablespoons of dough onto ungreased baking sheets, spacing them about 2 inches apart.\",\"duration\":\"5 minutes\"},{\"step_number\":8,\"instruction\":\"Bake in the preheated oven for 9 to 11 minutes, or until the edges are golden brown.\",\"duration\":\"11 minutes\"},{\"step_number\":9,\"instruction\":\"Remove from the oven and let cool on the baking sheets for a few minutes before transferring to wire racks to cool completely.\",\"duration\":\"5 minutes\"}],\"dietary_info\":[\"vegetarian\",\"can be made nut-free (if using nut-free chocolate chips)\"]}'}, {'role': 'user', 'content': 'vegetable lasagna'}, {'role': 'assistant', 'content': '{\"name\":\"Vegetable Lasagna\",\"description\":\"A hearty and flavorful vegetable lasagna layered with fresh vegetables, ricotta, mozzarella, and marinara sauce.\",\"prep_time\":\"30 minutes\",\"cook_time\":\"45 minutes\",\"servings\":6,\"ingredients\":[{\"name\":\"lasagna noodles\",\"amount\":\"9\",\"unit\":\"sheets\"},{\"name\":\"olive oil\",\"amount\":\"2\",\"unit\":\"tablespoons\"},{\"name\":\"zucchini\",\"amount\":\"1\",\"unit\":\"medium\"},{\"name\":\"bell pepper\",\"amount\":\"1\",\"unit\":\"medium\"},{\"name\":\"spinach\",\"amount\":\"2\",\"unit\":\"cups\"},{\"name\":\"mushrooms\",\"amount\":\"1\",\"unit\":\"cup\"},{\"name\":\"onion\",\"amount\":\"1\",\"unit\":\"medium\"},{\"name\":\"garlic\",\"amount\":\"3\",\"unit\":\"cloves\"},{\"name\":\"ricotta cheese\",\"amount\":\"15\",\"unit\":\"ounces\"},{\"name\":\"mozzarella cheese\",\"amount\":\"2\",\"unit\":\"cups\"},{\"name\":\"parmesan cheese\",\"amount\":\"1\",\"unit\":\"cup\"},{\"name\":\"marinara sauce\",\"amount\":\"3\",\"unit\":\"cups\"},{\"name\":\"salt\",\"amount\":\"1\",\"unit\":\"teaspoon\"},{\"name\":\"black pepper\",\"amount\":\"1/2\",\"unit\":\"teaspoon\"},{\"name\":\"dried oregano\",\"amount\":\"1\",\"unit\":\"teaspoon\"},{\"name\":\"dried basil\",\"amount\":\"1\",\"unit\":\"teaspoon\"}],\"instructions\":[{\"step_number\":1,\"instruction\":\"Preheat the oven to 375°F (190°C).\",\"duration\":\"5 minutes\"},{\"step_number\":2,\"instruction\":\"Cook the lasagna noodles according to package instructions until al dente. Drain and set aside.\",\"duration\":\"10 minutes\"},{\"step_number\":3,\"instruction\":\"In a large skillet, heat olive oil over medium heat. Add chopped onion and garlic, sauté until translucent.\",\"duration\":\"5 minutes\"},{\"step_number\":4,\"instruction\":\"Add diced zucchini, bell pepper, and mushrooms to the skillet. Cook until softened, about 5-7 minutes.\",\"duration\":\"7 minutes\"},{\"step_number\":5,\"instruction\":\"Stir in spinach, salt, pepper, oregano, and basil. Cook until spinach is wilted. Remove from heat.\",\"duration\":\"3 minutes\"},{\"step_number\":6,\"instruction\":\"In a bowl, mix ricotta cheese with half of the parmesan cheese and a pinch of salt.\",\"duration\":\"2 minutes\"},{\"step_number\":7,\"instruction\":\"Spread a thin layer of marinara sauce on the bottom of a 9x13 inch baking dish.\",\"duration\":\"2 minutes\"},{\"step_number\":8,\"instruction\":\"Layer 3 lasagna noodles over the sauce, followed by half of the ricotta mixture, half of the vegetable mixture, and a third of the mozzarella cheese.\",\"duration\":\"5 minutes\"},{\"step_number\":9,\"instruction\":\"Repeat the layering process: noodles, remaining ricotta, remaining vegetables, and another third of mozzarella.\",\"duration\":\"5 minutes\"},{\"step_number\":10,\"instruction\":\"Top with remaining noodles, marinara sauce, and the rest of the mozzarella and parmesan cheese.\",\"duration\":\"5 minutes\"},{\"step_number\":11,\"instruction\":\"Cover with foil and bake for 25 minutes. Remove foil and bake for an additional 15 minutes until cheese is bubbly and golden.\",\"duration\":\"40 minutes\"},{\"step_number\":12,\"instruction\":\"Let the lasagna cool for 10 minutes before slicing and serving.\",\"duration\":\"10 minutes\"}],\"dietary_info\":[\"vegetarian\",\"gluten-free (if using gluten-free noodles)\",\"nut-free\"]}'}, {'role': 'user', 'content': 'vegetable lasagna'}, {'role': 'assistant', 'content': '{\"name\":\"Vegetable Lasagna\",\"description\":\"A delicious and hearty vegetable lasagna made with layers of fresh vegetables, ricotta cheese, marinara sauce, and mozzarella cheese.\",\"prep_time\":\"30 minutes\",\"cook_time\":\"45 minutes\",\"servings\":8,\"ingredients\":[{\"name\":\"lasagna noodles\",\"amount\":\"12\",\"unit\":\"sheets\"},{\"name\":\"olive oil\",\"amount\":\"2\",\"unit\":\"tablespoons\"},{\"name\":\"zucchini\",\"amount\":\"1\",\"unit\":\"medium\"},{\"name\":\"bell pepper\",\"amount\":\"1\",\"unit\":\"medium\"},{\"name\":\"spinach\",\"amount\":\"2\",\"unit\":\"cups\"},{\"name\":\"mushrooms\",\"amount\":\"1\",\"unit\":\"cup\"},{\"name\":\"onion\",\"amount\":\"1\",\"unit\":\"medium\"},{\"name\":\"garlic\",\"amount\":\"3\",\"unit\":\"cloves\"},{\"name\":\"ricotta cheese\",\"amount\":\"15\",\"unit\":\"ounces\"},{\"name\":\"mozzarella cheese\",\"amount\":\"2\",\"unit\":\"cups\"},{\"name\":\"parmesan cheese\",\"amount\":\"1\",\"unit\":\"cup\"},{\"name\":\"marinara sauce\",\"amount\":\"3\",\"unit\":\"cups\"},{\"name\":\"salt\",\"amount\":\"1\",\"unit\":\"teaspoon\"},{\"name\":\"black pepper\",\"amount\":\"1/2\",\"unit\":\"teaspoon\"},{\"name\":\"dried oregano\",\"amount\":\"1\",\"unit\":\"teaspoon\"},{\"name\":\"dried basil\",\"amount\":\"1\",\"unit\":\"teaspoon\"}],\"instructions\":[{\"step_number\":1,\"instruction\":\"Preheat the oven to 375°F (190°C).\",\"duration\":\"5 minutes\"},{\"step_number\":2,\"instruction\":\"Cook the lasagna noodles according to package instructions until al dente. Drain and set aside.\",\"duration\":\"10 minutes\"},{\"step_number\":3,\"instruction\":\"In a large skillet, heat olive oil over medium heat. Add chopped onion and garlic, sauté until translucent.\",\"duration\":\"5 minutes\"},{\"step_number\":4,\"instruction\":\"Add diced zucchini, bell pepper, and mushrooms to the skillet. Cook until softened, about 5-7 minutes.\",\"duration\":\"7 minutes\"},{\"step_number\":5,\"instruction\":\"Stir in spinach, salt, pepper, oregano, and basil. Cook until spinach is wilted. Remove from heat.\",\"duration\":\"3 minutes\"},{\"step_number\":6,\"instruction\":\"In a bowl, mix ricotta cheese with half of the parmesan cheese and a pinch of salt.\",\"duration\":\"2 minutes\"},{\"step_number\":7,\"instruction\":\"Spread a thin layer of marinara sauce on the bottom of a 9x13 inch baking dish.\",\"duration\":\"2 minutes\"},{\"step_number\":8,\"instruction\":\"Layer 3 lasagna noodles over the sauce, followed by half of the ricotta mixture, half of the vegetable mixture, and a third of the mozzarella cheese.\",\"duration\":\"5 minutes\"},{\"step_number\":9,\"instruction\":\"Repeat the layering process: noodles, remaining ricotta, remaining vegetables, and another third of mozzarella.\",\"duration\":\"5 minutes\"},{\"step_number\":10,\"instruction\":\"Top with remaining noodles, marinara sauce, and the rest of the mozzarella and parmesan cheese.\",\"duration\":\"5 minutes\"},{\"step_number\":11,\"instruction\":\"Cover with foil and bake for 25 minutes. Remove foil and bake for an additional 15 minutes until cheese is bubbly and golden.\",\"duration\":\"40 minutes\"},{\"step_number\":12,\"instruction\":\"Let the lasagna cool for 10 minutes before slicing and serving.\",\"duration\":\"10 minutes\"}],\"dietary_info\":[\"vegetarian\",\"gluten-free (if using gluten-free noodles)\",\"nut-free\"]}'}, {'role': 'user', 'content': 'Provide a detailed recipe for vegetable lasagna in JSON format with the following structure: {\"name\": \"...\", \"description\": \"...\", \"prep_time\": \"...\", \"cook_time\": \"...\", \"servings\": 0, \"ingredients\": [{\"name\": \"...\", \"amount\": \"...\", \"unit\": \"...\"}], \"instructions\": [{\"step_number\": 1, \"instruction\": \"...\", \"duration\": \"...\"}], \"dietary_info\": [\"...\"]}\\n\\nReturn ONLY the JSON object, without any additional text or markdown formatting.'}]\n",
            "=== VEGETABLE LASAGNA ===\n",
            "A delicious and hearty vegetable lasagna made with layers of fresh vegetables, ricotta cheese, marinara sauce, and mozzarella cheese.\n",
            "\n",
            "Preparation: 30 minutes | Cooking: 45 minutes | Servings: 8\n",
            "\n",
            "INGREDIENTS:\n",
            "- 12 sheets lasagna noodles\n",
            "- 2 tablespoons olive oil\n",
            "- 1 medium zucchini\n",
            "- 1 medium bell pepper\n",
            "- 2 cups spinach\n",
            "- 1 cup mushrooms\n",
            "- 1 medium onion\n",
            "- 3 cloves garlic\n",
            "- 15 ounces ricotta cheese\n",
            "- 2 cups mozzarella cheese\n",
            "- 1 cup parmesan cheese\n",
            "- 3 cups marinara sauce\n",
            "- 1 teaspoon salt\n",
            "- 1/2 teaspoon black pepper\n",
            "- 1 teaspoon dried oregano\n",
            "- 1 teaspoon dried basil\n",
            "\n",
            "INSTRUCTIONS:\n",
            "1. Preheat the oven to 375°F (190°C). (5 minutes)\n",
            "2. Cook the lasagna noodles according to package instructions until al dente. Drain and set aside. (10 minutes)\n",
            "3. In a large skillet, heat olive oil over medium heat. Add chopped onion and garlic, sauté until translucent. (5 minutes)\n",
            "4. Add diced zucchini, bell pepper, and mushrooms to the skillet. Cook until softened, about 5-7 minutes. (7 minutes)\n",
            "5. Stir in spinach, salt, pepper, oregano, and basil. Cook until spinach is wilted. Remove from heat. (3 minutes)\n",
            "6. In a bowl, mix ricotta cheese with half of the parmesan cheese and a pinch of salt. (2 minutes)\n",
            "7. Spread a thin layer of marinara sauce on the bottom of a 9x13 inch baking dish. (2 minutes)\n",
            "8. Layer 3 lasagna noodles over the sauce, followed by half of the ricotta mixture, half of the vegetable mixture, and a third of the mozzarella cheese. (5 minutes)\n",
            "9. Repeat the layering process: noodles, remaining ricotta, remaining vegetables, and another third of mozzarella. (5 minutes)\n",
            "10. Top with remaining noodles, marinara sauce, and the rest of the mozzarella and parmesan cheese. (5 minutes)\n",
            "11. Cover with foil and bake for 25 minutes. Remove foil and bake for an additional 15 minutes until cheese is bubbly and golden. (40 minutes)\n",
            "12. Let the lasagna cool for 10 minutes before slicing and serving. (10 minutes)\n",
            "\n",
            "DIETARY INFO: vegetarian, gluten-free (if using gluten-free noodles), nut-free\n"
          ]
        }
      ],
      "source": [
        "# Cell 4: Generate and display a recipe\n",
        "try:\n",
        "    recipe = generate_recipe(\"vegetable lasagna\")\n",
        "    \n",
        "    print(f\"=== {recipe.name.upper()} ===\")\n",
        "    print(recipe.description)\n",
        "    print(f\"\\nPreparation: {recipe.prep_time} | Cooking: {recipe.cook_time} | Servings: {recipe.servings}\")\n",
        "    \n",
        "    print(\"\\nINGREDIENTS:\")\n",
        "    for ing in recipe.ingredients:\n",
        "        print(f\"- {ing.amount} {ing.unit} {ing.name}\")\n",
        "    \n",
        "    print(\"\\nINSTRUCTIONS:\")\n",
        "    for step in recipe.instructions:\n",
        "        print(f\"{step.step_number}. {step.instruction} ({step.duration})\")\n",
        "    \n",
        "    print(\"\\nDIETARY INFO:\", \", \".join(recipe.dietary_info))\n",
        "\n",
        "except Exception as e:\n",
        "    print(f\"Failed to generate recipe: {e}\")"
      ]
    },
    {
      "cell_type": "markdown",
      "metadata": {},
      "source": [
        "4.2. **Alternative approach**\n",
        "- Using response_format with the default model \n",
        "- This shows how it would work with a model that supports structured output**"
      ]
    },
    {
      "cell_type": "code",
      "execution_count": 59,
      "metadata": {},
      "outputs": [
        {
          "name": "stdout",
          "output_type": "stream",
          "text": [
            "2025-07-25 18:38:10,145 - httpx - INFO - HTTP Request: POST https://api.openai.com/v1/chat/completions \"HTTP/1.1 200 OK\"\n",
            "2025-07-25 18:38:10,152 - camel.agents.chat_agent - INFO - Model gpt-4o-mini, index 0, processed these messages: [{'role': 'system', 'content': 'You are a professional chef assistant.'}, {'role': 'user', 'content': 'Provide a detailed recipe for vegetable lasagna in JSON format with the following structure: {\"name\": \"...\", \"description\": \"...\", \"prep_time\": \"...\", \"cook_time\": \"...\", \"servings\": 0, \"ingredients\": [{\"name\": \"...\", \"amount\": \"...\", \"unit\": \"...\"}], \"instructions\": [{\"step_number\": 1, \"instruction\": \"...\", \"duration\": \"...\"}], \"dietary_info\": [\"...\"]}\\n\\nReturn ONLY the JSON object, without any additional text or markdown formatting.'}, {'role': 'assistant', 'content': '{\\n  \"name\": \"Vegetable Lasagna\",\\n  \"description\": \"A hearty and flavorful vegetable lasagna layered with fresh vegetables, ricotta, mozzarella, and marinara sauce.\",\\n  \"prep_time\": \"30 minutes\",\\n  \"cook_time\": \"45 minutes\",\\n  \"servings\": 6,\\n  \"ingredients\": [\\n    {\"name\": \"lasagna noodles\", \"amount\": \"9\", \"unit\": \"sheets\"},\\n    {\"name\": \"olive oil\", \"amount\": \"2\", \"unit\": \"tablespoons\"},\\n    {\"name\": \"zucchini\", \"amount\": \"1\", \"unit\": \"medium\"},\\n    {\"name\": \"bell pepper\", \"amount\": \"1\", \"unit\": \"medium\"},\\n    {\"name\": \"spinach\", \"amount\": \"2\", \"unit\": \"cups\"},\\n    {\"name\": \"mushrooms\", \"amount\": \"1\", \"unit\": \"cup\"},\\n    {\"name\": \"onion\", \"amount\": \"1\", \"unit\": \"medium\"},\\n    {\"name\": \"garlic\", \"amount\": \"3\", \"unit\": \"cloves\"},\\n    {\"name\": \"ricotta cheese\", \"amount\": \"15\", \"unit\": \"ounces\"},\\n    {\"name\": \"mozzarella cheese\", \"amount\": \"2\", \"unit\": \"cups\"},\\n    {\"name\": \"parmesan cheese\", \"amount\": \"1\", \"unit\": \"cup\"},\\n    {\"name\": \"marinara sauce\", \"amount\": \"3\", \"unit\": \"cups\"},\\n    {\"name\": \"salt\", \"amount\": \"1\", \"unit\": \"teaspoon\"},\\n    {\"name\": \"black pepper\", \"amount\": \"1/2\", \"unit\": \"teaspoon\"},\\n    {\"name\": \"dried oregano\", \"amount\": \"1\", \"unit\": \"teaspoon\"},\\n    {\"name\": \"dried basil\", \"amount\": \"1\", \"unit\": \"teaspoon\"}\\n  ],\\n  \"instructions\": [\\n    {\"step_number\": 1, \"instruction\": \"Preheat the oven to 375°F (190°C).\", \"duration\": \"5 minutes\"},\\n    {\"step_number\": 2, \"instruction\": \"Cook the lasagna noodles according to package instructions until al dente. Drain and set aside.\", \"duration\": \"10 minutes\"},\\n    {\"step_number\": 3, \"instruction\": \"In a large skillet, heat olive oil over medium heat. Add chopped onion and garlic, sauté until translucent.\", \"duration\": \"5 minutes\"},\\n    {\"step_number\": 4, \"instruction\": \"Add diced zucchini, bell pepper, and mushrooms to the skillet. Cook until softened, about 5-7 minutes.\", \"duration\": \"7 minutes\"},\\n    {\"step_number\": 5, \"instruction\": \"Stir in spinach, salt, pepper, oregano, and basil. Cook until spinach is wilted. Remove from heat.\", \"duration\": \"3 minutes\"},\\n    {\"step_number\": 6, \"instruction\": \"In a bowl, mix ricotta cheese with half of the parmesan cheese and a pinch of salt.\", \"duration\": \"2 minutes\"},\\n    {\"step_number\": 7, \"instruction\": \"Spread a thin layer of marinara sauce on the bottom of a 9x13 inch baking dish.\", \"duration\": \"2 minutes\"},\\n    {\"step_number\": 8, \"instruction\": \"Layer 3 lasagna noodles over the sauce, followed by half of the ricotta mixture, half of the vegetable mixture, and a third of the mozzarella cheese.\", \"duration\": \"5 minutes\"},\\n    {\"step_number\": 9, \"instruction\": \"Repeat the layering process: noodles, remaining ricotta, remaining vegetables, and another third of mozzarella.\", \"duration\": \"5 minutes\"},\\n    {\"step_number\": 10, \"instruction\": \"Top with remaining noodles, marinara sauce, and the rest of the mozzarella and parmesan cheese.\", \"duration\": \"5 minutes\"},\\n    {\"step_number\": 11, \"instruction\": \"Cover with foil and bake for 25 minutes. Remove foil and bake for an additional 15 minutes until cheese is bubbly and golden.\", \"duration\": \"40 minutes\"},\\n    {\"step_number\": 12, \"instruction\": \"Let the lasagna cool for 10 minutes before slicing and serving.\", \"duration\": \"10 minutes\"}\\n  ],\\n  \"dietary_info\": [\"vegetarian\", \"gluten-free (if using gluten-free noodles)\", \"nut-free\"]\\n}'}, {'role': 'user', 'content': 'Provide a recipe for chocolate chip cookies'}, {'role': 'assistant', 'content': '{\"name\":\"Chocolate Chip Cookies\",\"description\":\"Deliciously soft and chewy chocolate chip cookies, perfect for any occasion.\",\"prep_time\":\"15 minutes\",\"cook_time\":\"10 minutes\",\"servings\":24,\"ingredients\":[{\"name\":\"unsalted butter\",\"amount\":\"1\",\"unit\":\"cup\"},{\"name\":\"granulated sugar\",\"amount\":\"3/4\",\"unit\":\"cup\"},{\"name\":\"brown sugar\",\"amount\":\"3/4\",\"unit\":\"cup\"},{\"name\":\"vanilla extract\",\"amount\":\"1\",\"unit\":\"teaspoon\"},{\"name\":\"eggs\",\"amount\":\"2\",\"unit\":\"large\"},{\"name\":\"all-purpose flour\",\"amount\":\"2 1/4\",\"unit\":\"cups\"},{\"name\":\"baking soda\",\"amount\":\"1\",\"unit\":\"teaspoon\"},{\"name\":\"salt\",\"amount\":\"1/2\",\"unit\":\"teaspoon\"},{\"name\":\"chocolate chips\",\"amount\":\"2\",\"unit\":\"cups\"}],\"instructions\":[{\"step_number\":1,\"instruction\":\"Preheat the oven to 350°F (175°C).\",\"duration\":\"5 minutes\"},{\"step_number\":2,\"instruction\":\"In a large bowl, cream together the butter, granulated sugar, brown sugar, and vanilla extract until smooth.\",\"duration\":\"3 minutes\"},{\"step_number\":3,\"instruction\":\"Beat in the eggs one at a time, mixing well after each addition.\",\"duration\":\"2 minutes\"},{\"step_number\":4,\"instruction\":\"In a separate bowl, combine the flour, baking soda, and salt.\",\"duration\":\"2 minutes\"},{\"step_number\":5,\"instruction\":\"Gradually blend the dry ingredients into the wet mixture until just combined.\",\"duration\":\"2 minutes\"},{\"step_number\":6,\"instruction\":\"Fold in the chocolate chips until evenly distributed.\",\"duration\":\"2 minutes\"},{\"step_number\":7,\"instruction\":\"Drop rounded tablespoons of dough onto ungreased baking sheets, spacing them about 2 inches apart.\",\"duration\":\"5 minutes\"},{\"step_number\":8,\"instruction\":\"Bake in the preheated oven for 9 to 11 minutes, or until the edges are golden brown.\",\"duration\":\"11 minutes\"},{\"step_number\":9,\"instruction\":\"Remove from the oven and let cool on the baking sheets for a few minutes before transferring to wire racks to cool completely.\",\"duration\":\"5 minutes\"}],\"dietary_info\":[\"vegetarian\",\"can be made nut-free (if using nut-free chocolate chips)\"]}'}, {'role': 'user', 'content': 'vegetable lasagna'}, {'role': 'assistant', 'content': '{\"name\":\"Vegetable Lasagna\",\"description\":\"A hearty and flavorful vegetable lasagna layered with fresh vegetables, ricotta, mozzarella, and marinara sauce.\",\"prep_time\":\"30 minutes\",\"cook_time\":\"45 minutes\",\"servings\":6,\"ingredients\":[{\"name\":\"lasagna noodles\",\"amount\":\"9\",\"unit\":\"sheets\"},{\"name\":\"olive oil\",\"amount\":\"2\",\"unit\":\"tablespoons\"},{\"name\":\"zucchini\",\"amount\":\"1\",\"unit\":\"medium\"},{\"name\":\"bell pepper\",\"amount\":\"1\",\"unit\":\"medium\"},{\"name\":\"spinach\",\"amount\":\"2\",\"unit\":\"cups\"},{\"name\":\"mushrooms\",\"amount\":\"1\",\"unit\":\"cup\"},{\"name\":\"onion\",\"amount\":\"1\",\"unit\":\"medium\"},{\"name\":\"garlic\",\"amount\":\"3\",\"unit\":\"cloves\"},{\"name\":\"ricotta cheese\",\"amount\":\"15\",\"unit\":\"ounces\"},{\"name\":\"mozzarella cheese\",\"amount\":\"2\",\"unit\":\"cups\"},{\"name\":\"parmesan cheese\",\"amount\":\"1\",\"unit\":\"cup\"},{\"name\":\"marinara sauce\",\"amount\":\"3\",\"unit\":\"cups\"},{\"name\":\"salt\",\"amount\":\"1\",\"unit\":\"teaspoon\"},{\"name\":\"black pepper\",\"amount\":\"1/2\",\"unit\":\"teaspoon\"},{\"name\":\"dried oregano\",\"amount\":\"1\",\"unit\":\"teaspoon\"},{\"name\":\"dried basil\",\"amount\":\"1\",\"unit\":\"teaspoon\"}],\"instructions\":[{\"step_number\":1,\"instruction\":\"Preheat the oven to 375°F (190°C).\",\"duration\":\"5 minutes\"},{\"step_number\":2,\"instruction\":\"Cook the lasagna noodles according to package instructions until al dente. Drain and set aside.\",\"duration\":\"10 minutes\"},{\"step_number\":3,\"instruction\":\"In a large skillet, heat olive oil over medium heat. Add chopped onion and garlic, sauté until translucent.\",\"duration\":\"5 minutes\"},{\"step_number\":4,\"instruction\":\"Add diced zucchini, bell pepper, and mushrooms to the skillet. Cook until softened, about 5-7 minutes.\",\"duration\":\"7 minutes\"},{\"step_number\":5,\"instruction\":\"Stir in spinach, salt, pepper, oregano, and basil. Cook until spinach is wilted. Remove from heat.\",\"duration\":\"3 minutes\"},{\"step_number\":6,\"instruction\":\"In a bowl, mix ricotta cheese with half of the parmesan cheese and a pinch of salt.\",\"duration\":\"2 minutes\"},{\"step_number\":7,\"instruction\":\"Spread a thin layer of marinara sauce on the bottom of a 9x13 inch baking dish.\",\"duration\":\"2 minutes\"},{\"step_number\":8,\"instruction\":\"Layer 3 lasagna noodles over the sauce, followed by half of the ricotta mixture, half of the vegetable mixture, and a third of the mozzarella cheese.\",\"duration\":\"5 minutes\"},{\"step_number\":9,\"instruction\":\"Repeat the layering process: noodles, remaining ricotta, remaining vegetables, and another third of mozzarella.\",\"duration\":\"5 minutes\"},{\"step_number\":10,\"instruction\":\"Top with remaining noodles, marinara sauce, and the rest of the mozzarella and parmesan cheese.\",\"duration\":\"5 minutes\"},{\"step_number\":11,\"instruction\":\"Cover with foil and bake for 25 minutes. Remove foil and bake for an additional 15 minutes until cheese is bubbly and golden.\",\"duration\":\"40 minutes\"},{\"step_number\":12,\"instruction\":\"Let the lasagna cool for 10 minutes before slicing and serving.\",\"duration\":\"10 minutes\"}],\"dietary_info\":[\"vegetarian\",\"gluten-free (if using gluten-free noodles)\",\"nut-free\"]}'}, {'role': 'user', 'content': 'vegetable lasagna'}, {'role': 'assistant', 'content': '{\"name\":\"Vegetable Lasagna\",\"description\":\"A delicious and hearty vegetable lasagna made with layers of fresh vegetables, ricotta cheese, marinara sauce, and mozzarella cheese.\",\"prep_time\":\"30 minutes\",\"cook_time\":\"45 minutes\",\"servings\":8,\"ingredients\":[{\"name\":\"lasagna noodles\",\"amount\":\"12\",\"unit\":\"sheets\"},{\"name\":\"olive oil\",\"amount\":\"2\",\"unit\":\"tablespoons\"},{\"name\":\"zucchini\",\"amount\":\"1\",\"unit\":\"medium\"},{\"name\":\"bell pepper\",\"amount\":\"1\",\"unit\":\"medium\"},{\"name\":\"spinach\",\"amount\":\"2\",\"unit\":\"cups\"},{\"name\":\"mushrooms\",\"amount\":\"1\",\"unit\":\"cup\"},{\"name\":\"onion\",\"amount\":\"1\",\"unit\":\"medium\"},{\"name\":\"garlic\",\"amount\":\"3\",\"unit\":\"cloves\"},{\"name\":\"ricotta cheese\",\"amount\":\"15\",\"unit\":\"ounces\"},{\"name\":\"mozzarella cheese\",\"amount\":\"2\",\"unit\":\"cups\"},{\"name\":\"parmesan cheese\",\"amount\":\"1\",\"unit\":\"cup\"},{\"name\":\"marinara sauce\",\"amount\":\"3\",\"unit\":\"cups\"},{\"name\":\"salt\",\"amount\":\"1\",\"unit\":\"teaspoon\"},{\"name\":\"black pepper\",\"amount\":\"1/2\",\"unit\":\"teaspoon\"},{\"name\":\"dried oregano\",\"amount\":\"1\",\"unit\":\"teaspoon\"},{\"name\":\"dried basil\",\"amount\":\"1\",\"unit\":\"teaspoon\"}],\"instructions\":[{\"step_number\":1,\"instruction\":\"Preheat the oven to 375°F (190°C).\",\"duration\":\"5 minutes\"},{\"step_number\":2,\"instruction\":\"Cook the lasagna noodles according to package instructions until al dente. Drain and set aside.\",\"duration\":\"10 minutes\"},{\"step_number\":3,\"instruction\":\"In a large skillet, heat olive oil over medium heat. Add chopped onion and garlic, sauté until translucent.\",\"duration\":\"5 minutes\"},{\"step_number\":4,\"instruction\":\"Add diced zucchini, bell pepper, and mushrooms to the skillet. Cook until softened, about 5-7 minutes.\",\"duration\":\"7 minutes\"},{\"step_number\":5,\"instruction\":\"Stir in spinach, salt, pepper, oregano, and basil. Cook until spinach is wilted. Remove from heat.\",\"duration\":\"3 minutes\"},{\"step_number\":6,\"instruction\":\"In a bowl, mix ricotta cheese with half of the parmesan cheese and a pinch of salt.\",\"duration\":\"2 minutes\"},{\"step_number\":7,\"instruction\":\"Spread a thin layer of marinara sauce on the bottom of a 9x13 inch baking dish.\",\"duration\":\"2 minutes\"},{\"step_number\":8,\"instruction\":\"Layer 3 lasagna noodles over the sauce, followed by half of the ricotta mixture, half of the vegetable mixture, and a third of the mozzarella cheese.\",\"duration\":\"5 minutes\"},{\"step_number\":9,\"instruction\":\"Repeat the layering process: noodles, remaining ricotta, remaining vegetables, and another third of mozzarella.\",\"duration\":\"5 minutes\"},{\"step_number\":10,\"instruction\":\"Top with remaining noodles, marinara sauce, and the rest of the mozzarella and parmesan cheese.\",\"duration\":\"5 minutes\"},{\"step_number\":11,\"instruction\":\"Cover with foil and bake for 25 minutes. Remove foil and bake for an additional 15 minutes until cheese is bubbly and golden.\",\"duration\":\"40 minutes\"},{\"step_number\":12,\"instruction\":\"Let the lasagna cool for 10 minutes before slicing and serving.\",\"duration\":\"10 minutes\"}],\"dietary_info\":[\"vegetarian\",\"gluten-free (if using gluten-free noodles)\",\"nut-free\"]}'}, {'role': 'user', 'content': 'Provide a detailed recipe for vegetable lasagna in JSON format with the following structure: {\"name\": \"...\", \"description\": \"...\", \"prep_time\": \"...\", \"cook_time\": \"...\", \"servings\": 0, \"ingredients\": [{\"name\": \"...\", \"amount\": \"...\", \"unit\": \"...\"}], \"instructions\": [{\"step_number\": 1, \"instruction\": \"...\", \"duration\": \"...\"}], \"dietary_info\": [\"...\"]}\\n\\nReturn ONLY the JSON object, without any additional text or markdown formatting.'}, {'role': 'assistant', 'content': '{\"name\":\"Vegetable Lasagna\",\"description\":\"A delicious and hearty vegetable lasagna made with layers of fresh vegetables, ricotta cheese, marinara sauce, and mozzarella cheese.\",\"prep_time\":\"30 minutes\",\"cook_time\":\"45 minutes\",\"servings\":8,\"ingredients\":[{\"name\":\"lasagna noodles\",\"amount\":\"12\",\"unit\":\"sheets\"},{\"name\":\"olive oil\",\"amount\":\"2\",\"unit\":\"tablespoons\"},{\"name\":\"zucchini\",\"amount\":\"1\",\"unit\":\"medium\"},{\"name\":\"bell pepper\",\"amount\":\"1\",\"unit\":\"medium\"},{\"name\":\"spinach\",\"amount\":\"2\",\"unit\":\"cups\"},{\"name\":\"mushrooms\",\"amount\":\"1\",\"unit\":\"cup\"},{\"name\":\"onion\",\"amount\":\"1\",\"unit\":\"medium\"},{\"name\":\"garlic\",\"amount\":\"3\",\"unit\":\"cloves\"},{\"name\":\"ricotta cheese\",\"amount\":\"15\",\"unit\":\"ounces\"},{\"name\":\"mozzarella cheese\",\"amount\":\"2\",\"unit\":\"cups\"},{\"name\":\"parmesan cheese\",\"amount\":\"1\",\"unit\":\"cup\"},{\"name\":\"marinara sauce\",\"amount\":\"3\",\"unit\":\"cups\"},{\"name\":\"salt\",\"amount\":\"1\",\"unit\":\"teaspoon\"},{\"name\":\"black pepper\",\"amount\":\"1/2\",\"unit\":\"teaspoon\"},{\"name\":\"dried oregano\",\"amount\":\"1\",\"unit\":\"teaspoon\"},{\"name\":\"dried basil\",\"amount\":\"1\",\"unit\":\"teaspoon\"}],\"instructions\":[{\"step_number\":1,\"instruction\":\"Preheat the oven to 375°F (190°C).\",\"duration\":\"5 minutes\"},{\"step_number\":2,\"instruction\":\"Cook the lasagna noodles according to package instructions until al dente. Drain and set aside.\",\"duration\":\"10 minutes\"},{\"step_number\":3,\"instruction\":\"In a large skillet, heat olive oil over medium heat. Add chopped onion and garlic, sauté until translucent.\",\"duration\":\"5 minutes\"},{\"step_number\":4,\"instruction\":\"Add diced zucchini, bell pepper, and mushrooms to the skillet. Cook until softened, about 5-7 minutes.\",\"duration\":\"7 minutes\"},{\"step_number\":5,\"instruction\":\"Stir in spinach, salt, pepper, oregano, and basil. Cook until spinach is wilted. Remove from heat.\",\"duration\":\"3 minutes\"},{\"step_number\":6,\"instruction\":\"In a bowl, mix ricotta cheese with half of the parmesan cheese and a pinch of salt.\",\"duration\":\"2 minutes\"},{\"step_number\":7,\"instruction\":\"Spread a thin layer of marinara sauce on the bottom of a 9x13 inch baking dish.\",\"duration\":\"2 minutes\"},{\"step_number\":8,\"instruction\":\"Layer 3 lasagna noodles over the sauce, followed by half of the ricotta mixture, half of the vegetable mixture, and a third of the mozzarella cheese.\",\"duration\":\"5 minutes\"},{\"step_number\":9,\"instruction\":\"Repeat the layering process: noodles, remaining ricotta, remaining vegetables, and another third of mozzarella.\",\"duration\":\"5 minutes\"},{\"step_number\":10,\"instruction\":\"Top with remaining noodles, marinara sauce, and the rest of the mozzarella and parmesan cheese.\",\"duration\":\"5 minutes\"},{\"step_number\":11,\"instruction\":\"Cover with foil and bake for 25 minutes. Remove foil and bake for an additional 15 minutes until cheese is bubbly and golden.\",\"duration\":\"40 minutes\"},{\"step_number\":12,\"instruction\":\"Let the lasagna cool for 10 minutes before slicing and serving.\",\"duration\":\"10 minutes\"}],\"dietary_info\":[\"vegetarian\",\"gluten-free (if using gluten-free noodles)\",\"nut-free\"]}'}, {'role': 'user', 'content': 'Give me a recipe for vegetable lasagna'}]\n",
            "\n",
            "=== Using response_format ===\n",
            "Recipe name: Vegetable Lasagna\n",
            "First ingredient: lasagna noodles\n"
          ]
        }
      ],
      "source": [
        "# Cell 5: Alternative approach - Using response_format with the default model\n",
        "# This shows how it would work with a model that supports structured output\n",
        "try:\n",
        "    response = agent.step(\n",
        "        \"Give me a recipe for vegetable lasagna\",\n",
        "        response_format=Recipe\n",
        "    )\n",
        "    \n",
        "    print(\"\\n=== Using response_format ===\")\n",
        "    print(\"Recipe name:\", response.msgs[0].parsed.name)\n",
        "    print(\"First ingredient:\", response.msgs[0].parsed.ingredients[0].name)\n",
        "    \n",
        "except Exception as e:\n",
        "    print(\"\\nNote: The default model might not support structured output natively.\")\n",
        "    print(\"Error:\", e)"
      ]
    },
    {
      "cell_type": "markdown",
      "metadata": {
        "id": "flYNal6-R4yR"
      },
      "source": [
        "## 🌟 Highlights"
      ]
    },
    {
      "cell_type": "markdown",
      "metadata": {
        "id": "SmkXhy4JR726"
      },
      "source": [
        "## Conclusion\n",
        "\n",
        "This notebook has guided you through the powerful capabilities of structured responses in CAMEL, from basic implementations to advanced use cases. By leveraging Pydantic models and CAMEL's flexible architecture, you can create robust, type-safe interactions with language models.\n",
        "\n",
        "### Key Highlights\n",
        "\n",
        "* **Type-Safe Outputs**: Ensure consistent data structures with Pydantic models\n",
        "* **Flexible Integration**: Works with various model types, including those without native structured output support\n",
        "* **Tool Compatibility**: Seamlessly combine structured responses with CAMEL's tool system\n",
        "\n",
        "### Key Tools Utilized\n",
        "\n",
        "* **CAMEL**: A powerful multi-agent framework that enables Retrieval-Augmented Generation and multi-agent role-playing scenarios, allowing for sophisticated AI-driven tasks.\n",
        "* **Pydantic**: Provides data validation and settings management using Python type annotations.\n",
        "* **Structured Outputs**: Enforce specific response formats for reliable data processing.\n",
        "\n",
        "### Next Steps\n",
        "\n",
        "This comprehensive setup allows you to adapt and expand the example for various scenarios, including:\n",
        "\n",
        "* Building data processing pipelines\n",
        "* Creating structured APIs with LLMs\n",
        "* Developing complex multi-agent systems\n",
        "* Implementing data validation and transformation workflows\n"
      ]
    },
    {
      "cell_type": "markdown",
      "metadata": {
        "id": "s6Det-fcMb9A"
      },
      "source": [
        "That's everything: Got questions about 🐫 CAMEL-AI? Join us on [Discord](https://discord.camel-ai.org)! Whether you want to share feedback, explore the latest in multi-agent systems, get support, or connect with others on exciting projects, we’d love to have you in the community! 🤝\n",
        "\n",
        "Check out some of our other work:\n",
        "\n",
        "1. 🐫 Creating Your First CAMEL Agent [free Colab](https://docs.camel-ai.org/cookbooks/create_your_first_agent.html)\n",
        "\n",
        "2.  Graph RAG Cookbook [free Colab](https://colab.research.google.com/drive/1uZKQSuu0qW6ukkuSv9TukLB9bVaS1H0U?usp=sharing)\n",
        "\n",
        "3. 🧑‍⚖️ Create A Hackathon Judge Committee with Workforce [free Colab](https://colab.research.google.com/drive/18ajYUMfwDx3WyrjHow3EvUMpKQDcrLtr?usp=sharing)\n",
        "\n",
        "4. 🔥 3 ways to ingest data from websites with Firecrawl & CAMEL [free Colab](https://colab.research.google.com/drive/1lOmM3VmgR1hLwDKdeLGFve_75RFW0R9I?usp=sharing)\n",
        "\n",
        "5. 🦥 Agentic SFT Data Generation with CAMEL and Mistral Models, Fine-Tuned with Unsloth [free Colab](https://colab.research.google.com/drive/1lYgArBw7ARVPSpdwgKLYnp_NEXiNDOd-?usp=sharingg)\n",
        "\n",
        "Thanks from everyone at 🐫 CAMEL-AI\n",
        "\n",
        "\n",
        "<div class=\"align-center\">\n",
        "  <a href=\"https://www.camel-ai.org/\"><img src=\"https://i.postimg.cc/KzQ5rfBC/button.png\"width=\"150\"></a>\n",
        "  <a href=\"https://discord.camel-ai.org\"><img src=\"https://i.postimg.cc/L4wPdG9N/join-2.png\"  width=\"150\"></a></a>\n",
        "  \n",
        "⭐ <i>Star us on [*Github*](https://github.com/camel-ai/camel), join our [*Discord*](https://discord.camel-ai.org) or follow our [*X*](https://x.com/camelaiorg)\n",
        "</div>\n"
      ]
    }
  ],
  "metadata": {
    "colab": {
      "provenance": []
    },
    "kernelspec": {
      "display_name": "base",
      "language": "python",
      "name": "python3"
    },
    "language_info": {
      "codemirror_mode": {
        "name": "ipython",
        "version": 3
      },
      "file_extension": ".py",
      "mimetype": "text/x-python",
      "name": "python",
      "nbconvert_exporter": "python",
      "pygments_lexer": "ipython3",
      "version": "3.12.4"
    }
  },
  "nbformat": 4,
  "nbformat_minor": 0
}
